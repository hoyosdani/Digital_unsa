{
 "cells": [
  {
   "cell_type": "markdown",
   "id": "05cabe96",
   "metadata": {},
   "source": [
    "# <center>HTML </center>"
   ]
  },
  {
   "cell_type": "markdown",
   "id": "30b64d8c",
   "metadata": {},
   "source": [
    "## Conceptos basicos.\n",
    "Toda página web viene definida con la siguiente estructura básica (recuerda que la primera línea es una etiqueta relativa a la versión/variante de HTML que declaramos usar y que esta primera etiqueta no es estrictamente necesaria. Sirve únicamente para indicar qué estándar de HTML es el que declaramos usar.  \n",
    "\n",
    "La etiqueta <html> define que se trata de código HTML.\n",
    "\n"
   ]
  },
  {
   "cell_type": "markdown",
   "id": "55873fa9",
   "metadata": {},
   "source": [
    "```\n",
    "<!DOCTYPE html>  \n",
    "<html>  \n",
    "<head>  \n",
    "<title>Título de la página web</title>  \n",
    "...\n",
    "</head>\n",
    "<body>\n",
    "Cuerpo de la página web\n",
    "</body>\n",
    "</html>\n",
    "```"
   ]
  },
  {
   "cell_type": "markdown",
   "id": "66e27965",
   "metadata": {},
   "source": [
    "## Cabecera del documento(HEAD)\n",
    "La cabecera del documento es la sección comprendida entre <head> y </head>. En ella se debe encontrar, obligatoriamente, el título (entre las etiquetas <title> y </title>).El título de la página debe describir su contenido por ejemplo: <title>Manuales y tutoriales sobre programación – aprenderaprogramar.com</title>"
   ]
  },
  {
   "cell_type": "markdown",
   "id": "d3298248",
   "metadata": {},
   "source": [
    "Resumen de elementos que pueden ir dentro de la etiqueta head.  \n",
    "\n",
    "| Etiqueta en cabecera | Función                       | ¿Es obligatoria?|\n",
    "|---                   |---                            |---              |\n",
    "|title                 |Da un título al documento HTML |Sí |\n",
    "| base                 |Define ruta de acceso          |No | \n",
    "| link                 |Define archivos vinculados     |No |\n",
    "| meta                 |Define metadatos como descripción y palabras clave|No|\n",
    "|script                |Delimita scripts incluídos     |No |\n",
    "|style                 |Delimita definición de estilos |No |\n",
    " "
   ]
  },
  {
   "cell_type": "markdown",
   "id": "1b01b7be",
   "metadata": {},
   "source": [
    "### Etiquetas\n",
    "#### base\n",
    "Sirve para indicar la URL base en caso de especificarse URLs relativas dentro de la página web. Por ejemplo <base href=\"http://www.aprenderaprogramar.com/images/\" target=\"_blank\"> haría que si escribimos como ruta de una imagen \"logo.png\" dicha ruta sea en realidad \"http://www.aprenderaprogramar.com/images/logo.png\"\n",
    " \n",
    "#### link\n",
    "Sirven para indicar que el documento html está relacionado con otro archivo o recurso externo. Por ejemplo <link rel=\"stylesheet\" type=\"text/css\" href=\"estilos.css\"> sirve para indicar que el documento HTML está vinculado al archivo estilos.css\n",
    " \n",
    "#### style\n",
    "Sirve para incluir estilos CSS que permiten dotar de colores, bordes, imágenes de fondo, etc. a los elementos de la página web.\n",
    " \n",
    "#### meta\n",
    "Sirven para incluir información que no se muestra como parte de la página web pero sirve para informar de características de la página web, como su descripción breve y sus palabras clave.\n",
    "Ejemplo:\n",
    "<meta name=\"description\" content=\"Didáctica y divulgación de la programación aprenderaprogramar.com\">\n",
    "<meta name=\"keywords\" content=\"didáctica, divulgación, programación, aprender\">\n",
    "En este caso las etiquetas le indican a los buscadores el contenido de nuestras páginas (description) y algunas palabras clave (keywords) para su localización. Esto es muy útil para que nuestra página aparezca en los buscadores (google, bing, yahoo, etc.).\n",
    " \n",
    "#### script\n",
    "Sirven para incluir código en lenguajes de script.\n",
    "Dentro de la cabecera en muchas páginas se incluye código en JavaScript, que es un lenguaje de programación que los navegadores son capaces de reconocer e interpretar. El código JavaScript se reconoce porque va comprendido entre las etiquetas\n",
    "<script type=\"text/javascript\">\n",
    "// Aquí iría el código\n",
    "</script>"
   ]
  },
  {
   "cell_type": "markdown",
   "id": "5c59a165",
   "metadata": {},
   "source": [
    "## Cuerpo del documento html(BODY) \n",
    "|El cuerpo (body) del documento html es normalmente lo más importante. Es aquí donde debemos colocar el contenido de nuestra página: texto, fotos, etc.\n",
    "El cuerpo está delimitado por las etiquetas <body> y </body>.\n",
    "\n"
   ]
  },
  {
   "cell_type": "markdown",
   "id": "63ce6138",
   "metadata": {},
   "source": [
    "### Formatos de texto en HTML\n",
    "\n",
    "Etiquetas y atributos básicos para la creación de páginas webs.  \n",
    "\n",
    "|ETIQUETA              | USO                     | OBSERVACIONES                |\n",
    "|---                   |---                      |---                           |\n",
    "|´<b>hola</b>          |Poner texto en negrita   |Puede ser sustituido por CSS. |\n",
    "|<strong>hola</strong> |Poner texto en negrita   |Puede ser sustituido por CSS. |\n",
    "|<i>hola</i>           |Poner texto en cursiva   |Puede ser sustituido por CSS. |\n",
    "|<em>hola</em>         |Poner texto en cursiva   |Puede ser sustituido por CSS. |\n",
    "|<u>hola</u>           | Poner texto subrayado   |Deprecated. Sustituir por CSS.|\n",
    "|<small>hola</small>   |Poner texto más pequeño  |Puede ser sustituido por CSS. |\n",
    "|<big>hola</big>       |Poner texto más grande   |Puede ser sustituido por CSS. |\n",
    "|h<sub>hola</sub>      |Poner texto subíndice    |Puede ser sustituido por CSS. |\n",
    "|h<sup>hola</sup>      |Poner texto superíndice  |Puede ser sustituido por CSS. |\n",
    "|<strike>hola</strike> |Poner texto como tachado |Deprecated. Sustituir por CSS.|\n",
    "|<s>hola</s>           |Poner texto como tachado |Deprecated. Sustituir por CSS.|\n",
    "|<del>hola</del>       |Poner texto para borrar  |Puede ser sustituido por CSS. |"
   ]
  },
  {
   "cell_type": "markdown",
   "id": "d2abe946",
   "metadata": {},
   "source": [
    "## FORMAS DE ENVÍO DE LOS DATOS DE UN FORMULARIO\n",
    "\n",
    "Cuando un usuario rellena un formulario en una página web los datos hay que enviarlos de alguna manera. Vamos a considerar las dos formas de envío de datos posibles: usando el método POST o usando el método GET.  \n",
    "#### GET\n",
    "GET lleva los datos de forma \"visible\" al cliente (navegador web). El medio de envío es la URL. Los datos los puede ver cualquiera. \n",
    "\n",
    "#### POST\n",
    "\n",
    "POST consiste en datos \"ocultos\" (porque el cliente no los ve) enviados por un formulario cuyo método de envío es post. Es adecuado para formularios. Los datos no son visibles. \n"
   ]
  },
  {
   "cell_type": "markdown",
   "id": "356d7895",
   "metadata": {},
   "source": [
    "## FORMULARIOS HTML\n",
    "\n",
    "#### FORM\n",
    "\n",
    "Un formulario permite que el visitante al sitio cargue datos y sean enviados al servidor. Es el medio ideal para registrar comentarios del visitante sobre el sitio, solicitar productos, sacar turnos etc.\n"
   ]
  },
  {
   "cell_type": "markdown",
   "id": "bd962c78",
   "metadata": {},
   "source": [
    "Index.html\n",
    "```\n",
    "<html>\n",
    "<head>\n",
    "<title>Prueba de formulario</title>\n",
    "</head>\n",
    "<body>\n",
    "<form method=\"post\" action=\"/entrada\">\n",
    "Ingrese su nombre:\n",
    "<input type=\"text\" name=\"nombre\" size=\"20\">\n",
    "<br>\n",
    "<input type=\"submit\" value=\"enviar\">\n",
    "</form>\n",
    "</body>\n",
    "</html>\n",
    "```"
   ]
  },
  {
   "cell_type": "markdown",
   "id": "c49d7b89",
   "metadata": {},
   "source": [
    "En el programa en arduino se debe modificar en server.hpp la funcion:\n",
    "- Iniciar_server:\n",
    "```\n",
    "server.on(\"/entrada\", HTTP_POST, ControlEntrada);\n",
    "```\n",
    "- Crear la funcion ControlEntrada\n",
    "```\n",
    "void ControlEntrada(AsyncWebServerRequest *request)\n",
    "{  \n",
    "   String MiTexto = request->arg(\"miTexto\");\n",
    " \n",
    " Serial.print(\"MiTexto:\\t\");    \n",
    " Serial.println(MiTexto);  \n",
    " // redirección directa  \n",
    " request->redirect(\"/\");  \n",
    "\n",
    "  }\n",
    "  ```"
   ]
  },
  {
   "cell_type": "code",
   "execution_count": null,
   "id": "e8fad650",
   "metadata": {},
   "outputs": [],
   "source": []
  },
  {
   "cell_type": "markdown",
   "id": "ad5a6f51",
   "metadata": {},
   "source": [
    "#### INPUT\n",
    "Este elemento define cuadros de texto, botónes para subir los datos al servidor,cuadros para el ingreso de una clave y botones para borrar el contenido de todos los controles del formulario.\n"
   ]
  },
  {
   "cell_type": "markdown",
   "id": "ceb63131",
   "metadata": {},
   "source": [
    "```\n",
    "<html>\n",
    "<head>\n",
    "<title>Prueba de formulario</title>\n",
    "</head>\n",
    "<body>\n",
    "<form method=\"post\" action=\"/entrada\">\n",
    "Ingrese su nombre: \n",
    "<input type=\"text\" name=\"nombre\" size=\"20\">\n",
    "<br>\n",
    "Ingrese su clave: \n",
    "<input type=\"password\" name=\"clave\" size=\"12\">\n",
    "<br>\n",
    "<input type=\"submit\" value=\"enviar\">\n",
    "<input type=\"reset\" value=\"borrar\">\n",
    "</form>\n",
    "</body>\n",
    "</html>\n",
    "```"
   ]
  },
  {
   "cell_type": "code",
   "execution_count": null,
   "id": "ad0081c2",
   "metadata": {},
   "outputs": [],
   "source": []
  },
  {
   "cell_type": "markdown",
   "id": "0d43e57e",
   "metadata": {},
   "source": [
    "#### CHECKBOX\n",
    "\n",
    "El elemento checkbox es un control que se puede insertar en un formulario. Un checkbox es una casilla de selección que puede tomar dos valores (seleccionado/no seleccionado) \n"
   ]
  },
  {
   "cell_type": "markdown",
   "id": "69828feb",
   "metadata": {},
   "source": [
    "```\n",
    "<html>\n",
    "<head>\n",
    "<title>Prueba de formulario</title>\n",
    "</head>\n",
    "<body>\n",
    "<form method=\"post\" action=\"/check\">\n",
    "Ingrese su nombre:\n",
    "<input type=\"text\" name=\"nombre\" size=\"30\"><br>\n",
    "Seleccione las opciones:\n",
    "<br>\n",
    "<input type=\"checkbox\" name=\"uno\">1<br>\n",
    "<input type=\"checkbox\" name=\"dos\">2<br>\n",
    "\n",
    "<input type=\"checkbox\" name=\"tres\" value=\"paso\">1<br>\n",
    "<input type=\"checkbox\" name=\"tres\" value=\"npaso\">2<br>\n",
    "\n",
    "<input type=\"submit\" value=\"Enviar\">\n",
    "</form>\n",
    "</body>\n",
    "</html>\n",
    "```"
   ]
  },
  {
   "cell_type": "markdown",
   "id": "d58f5cf4",
   "metadata": {},
   "source": [
    "#### TEXTAREA\n",
    "\n",
    "El elemento de tipo  permite ingresar varias líneas a diferencia del cuadro de texto (input/text). Es muy utilizado cuando queremos ingresar un comentario de una longitud de caracteres  grande.\n"
   ]
  },
  {
   "cell_type": "markdown",
   "id": "61a29e62",
   "metadata": {},
   "source": [
    "```\n",
    "<html>\n",
    "<head>\n",
    "<title>Prueba de formulario</title>\n",
    "</head>\n",
    "<body>\n",
    "<form method=\"post\" action=\"/poem\">\n",
    "Ingrese su nombre:\n",
    "<input type=\"text\" name=\"nombre\" size=\"30\"><br>\n",
    "Ingrese su mail:\n",
    "<input type=\"text\" name=\"mail\" size=\"50\"><br>\n",
    "Comentarios:<br>\n",
    "<textarea name=\"comentarios\" rows=\"5\" cols=\"60\"></textarea> \n",
    "<br>\n",
    "<input type=\"submit\" value=\"Enviar\">\n",
    "</form>\n",
    "</body>\n",
    "</html>\n",
    "```"
   ]
  },
  {
   "cell_type": "markdown",
   "id": "bc1b25ba",
   "metadata": {},
   "source": [
    "#### RADIO\n",
    "\n",
    "para seleccionar un conjunto de opciones debemos emplear controles visuales de tipo radio. Para definir controles de tipo radio también utilizamos el elemento input inicializando la propiedad type con el valor \"radio\"\n",
    "\n",
    "\n"
   ]
  },
  {
   "cell_type": "markdown",
   "id": "ed14ea64",
   "metadata": {},
   "source": [
    "```\n",
    "<html>\n",
    "<head>\n",
    "<title>Prueba de formulario</title>\n",
    "</head>\n",
    "<body>\n",
    "<form method=\"post\" action=\"/poem\">\n",
    "\n",
    "Ingrese su nombre:\n",
    "<input type=\"text\" name=\"nombre\" size=\"30\"><br>\n",
    "Seleccione el máximo nivel de estudios que tiene:\n",
    "<br>\n",
    "<input type=\"radio\" name=\"estudios\" value=\"1\">Sin estudios<br>\n",
    "<input type=\"radio\" name=\"estudios\" value=\"2\">Primario<br>\n",
    "<input type=\"radio\" name=\"estudios\" value=\"3\">Secundario<br>\n",
    "<input type=\"radio\" name=\"estudios\" value=\"4\">Universitario<br>\n",
    "<input type=\"submit\" value=\"Enviar\">\n",
    "</form>\n",
    "</body>\n",
    "</html>\n",
    "```"
   ]
  },
  {
   "cell_type": "markdown",
   "id": "80fcd97b",
   "metadata": {},
   "source": [
    "#### SELECT\n",
    "El elemento select es un cuadro de selección.\n",
    "Este elemento HTML nos permite seleccionar una opción entre un conjunto. Veremos en el concepto próximo que según como la configuramos podemos seleccionar varias opciones.\n"
   ]
  },
  {
   "cell_type": "markdown",
   "id": "dd791375",
   "metadata": {},
   "source": [
    "```\n",
    "<html>\n",
    "<head>\n",
    "<title>Prueba de formulario</title>\n",
    "</head>\n",
    "<body>\n",
    "\n",
    "<form method=\"post\" action=\"/poem\">\n",
    "Ingrese su nombre:\n",
    "<input type=\"text\" name=\"nombre\" size=\"30\"><br>\n",
    "Seleccione su pais:\n",
    "<select name=\"pais\">\n",
    "<option value=\"1\">Argentina</option>\n",
    "<option value=\"2\">España</option>\n",
    "<option value=\"3\">México</option>\n",
    "<option value=\"4\">Guatemala</option>\n",
    "</select>\n",
    "<br>\n",
    "<input type=\"submit\" value=\"Enviar\">\n",
    "</form>\n",
    "</body>\n",
    "</html> \n",
    "```"
   ]
  },
  {
   "cell_type": "markdown",
   "id": "3fcdb112",
   "metadata": {},
   "source": [
    "#### BUTTON\n",
    "\n",
    "El elemento button es un control visual que se puede utilizar para sustituir los controles:\n",
    "```\n",
    "<input type=\"submit\" value=\"Enviar\">\n",
    "<input type=\"reset\" value=\"Borrar\">\n",
    " <button type=\"submit\" value=\"Submit\">Enviar</button>\n",
    " ```\n",
    "Entre otras las ventanjas de este elemento es que podemos agregar imágenes dentro del botón.\n"
   ]
  },
  {
   "cell_type": "markdown",
   "id": "b1ebb076",
   "metadata": {},
   "source": [
    "## Tablas en HTML\n",
    "\n"
   ]
  },
  {
   "cell_type": "markdown",
   "id": "214633a1",
   "metadata": {},
   "source": [
    "Referencia:” http://www.todo-argentina.net/cursos/html”\n"
   ]
  },
  {
   "cell_type": "code",
   "execution_count": null,
   "id": "811d57f1",
   "metadata": {},
   "outputs": [],
   "source": []
  }
 ],
 "metadata": {
  "kernelspec": {
   "display_name": "Python 3",
   "language": "python",
   "name": "python3"
  },
  "language_info": {
   "codemirror_mode": {
    "name": "ipython",
    "version": 3
   },
   "file_extension": ".py",
   "mimetype": "text/x-python",
   "name": "python",
   "nbconvert_exporter": "python",
   "pygments_lexer": "ipython3",
   "version": "3.8.8"
  }
 },
 "nbformat": 4,
 "nbformat_minor": 5
}
