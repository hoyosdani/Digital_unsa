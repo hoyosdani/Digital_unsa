{
 "cells": [
  {
   "cell_type": "markdown",
   "metadata": {},
   "source": [
    "## 4.- Arduino\n",
    "<A name=\"Arduino\"></A>\n",
    "\n",
    "\n",
    "### 4.1.- Introducción\n",
    "\n",
    "El sistema de desarrollo arduino esta formado por tres partes:\n",
    "- Placas de hardware libre que incorporan un microcontrolador reprogramable y una serie de pines-hembra  que permiten conectar allí de forma muy sencilla y cómoda diferentes sensores y actuadores.\n",
    "\n",
    "- Entorno de desarrollo gratis, libre y multiplataforma (que funciona en Linux, MacOS y Windows) se deb instalar en el PC y que permite escribir, verificar y guardar  en la memoria del microcontrolador de la placa Arduino el programa que se desea ejecutar.\n",
    "\n",
    "- Lenguaje de programación libre. basado en C++ \n",
    "\n",
    "El entorno de programación se muestra en la figura, en la misma se puede observar las dos rutinas principales del entorno.\n",
    "<img src=\"img/arduino00.png\" alt=\"Imagen\"></img>\n",
    "\n",
    "Figura 1: Entorno de desarrollo para Arduino\n",
    "\n",
    "La estructura básica del lenguaje de programación Arduino es bastante simple y se organiza en al menos dos partes o funciones que encierran bloques de declaraciones.  \n",
    "\n",
    "```\n",
    "void setup()  \n",
    "\t\t    {  \n",
    "\t\t\t}  \n",
    "\t\tvoid loop()  \n",
    "\t\t\t{  \n",
    "\t\t\t}  \n",
    "``` \n",
    "Ambas funciones son requeridas para que el programa funcione.\n",
    "\n",
    "Una función es un bloque de código que tiene un nombre y un grupo de declaraciones que se ejecutan cuando se llama a la misma. Podemos hacer uso de funciones integradas como void setup() y void loop() o escribir nuevas.\n"
   ]
  },
  {
   "cell_type": "markdown",
   "metadata": {},
   "source": [
    "#### Setup():\n",
    "\n",
    "La función setup debería contener la declaración de cualquier variable al comienzo del programa. Es la primera función a ejecutar en el programa, es ejecutada una vez y es usada para asignar pinMode o inicializar las comunicaciones serie.\n",
    "\n",
    "#### Loop(): \n",
    "\n",
    "La función loop se ejecuta a continuación e incluye el código que se ejecuta contínuamente leyendo entradas, activando salidas, etc. Esta función es el núcleo de todos los programas Arduino y hace la mayor parte del trabajo.\n"
   ]
  },
  {
   "cell_type": "markdown",
   "metadata": {},
   "source": [
    "## 4.2.- Instalación\n",
    "\n",
    "Para instalar Arduino ae debe descargar desde el link\n",
    "www.arduino.cc/en/donate\n",
    " \n",
    " Apretar el boton \"just download\"\n",
    " \n",
    " Instalar el programa\n",
    " \n",
    " #### Simulador\n",
    " \n",
    " Descargar el software unoardusim\n",
    "\n",
    "sites.google.com/site/unoardusim/simulator-download\n",
    "\n",
    " Se debe descargar en la misma se genera un directorio donde se encuentra el ejecutable ```unoardusim``` el cual se debe ejecutar.\n"
   ]
  },
  {
   "cell_type": "markdown",
   "metadata": {},
   "source": [
    "### 4.3- Funciones\n",
    "\n",
    "Una función es un bloque de código que tiene un nombre y un grupo de declaraciones que se ejecutan cuando se llama a la función. Podemos hacer uso de funciones integradas como void setup() y void loop() o escribir nuevas. Las funciones se escriben para ejecutar tareas repetitivas. En primer lugar se declara el tipo de la función, que será el valor retornado por la función (int, void...). A continuación del tipo, se declara el nombre de la función y, entre paréntesis, los parámetros que se pasan a la función.  \n",
    "\n",
    "```type Nombrefuncion(parameters)```"
   ]
  },
  {
   "cell_type": "markdown",
   "metadata": {},
   "source": [
    "#### Llaves {}\n",
    "Las llaves definen el comienzo y el final de bloques de función y bloques de declaraciones como void loop() y sentencias for e if. Las llaves deben estar balanceadas (a una llave de apertura {debe seguirle una llave de cierre }). Las llaves no balanceadas provocan errores de compilación.  \n",
    "```void loop()  \n",
    "\t{  \n",
    "\tsentencias;  \n",
    "\t}  ```"
   ]
  },
  {
   "cell_type": "markdown",
   "metadata": {},
   "source": [
    "#### Punto y coma ;\n",
    "\n",
    "Un punto y coma debe usarse al final de cada declaración y separa los elementos del programa. También se usa para separar los elementos en un bucle for.  \n",
    "\n",
    "```int x = 13;  ```\n",
    "\n",
    "Nota: Olvidar un punto y coma al final de una declaración producirá un error de compilación.  "
   ]
  },
  {
   "cell_type": "markdown",
   "metadata": {},
   "source": [
    "#### Bloques de comentarios /*...*/\n",
    "Los bloques de comentarios, o comentarios multilínea, son áreas de texto ignoradas por el programa y se usan para grandes descripciones de código o comentarios que ayudan a otras personas a entender partes del programa. Empiezan con \n",
    "\n",
    "```/* y terminan con */ y pueden abarcar múltiples líneas.```\n",
    "\n",
    "#### Comentarios de línea //\n",
    "Comentarios de una línea empiezan con // y terminan con la siguiente línea de código. Como el bloque de comentarios, son ignorados por el programa y no toman espacio en memoria.\n",
    "\n",
    "```// este es un comentario de una línea```"
   ]
  },
  {
   "cell_type": "markdown",
   "metadata": {},
   "source": [
    "#### Variables\n",
    "\n",
    "Una variable es una forma de llamar y almacenar un valor numérico para usarse después por el programa. Como su nombre indica, las variables son números que pueden cambiarse continuamente al contrario que las constantes, cuyo valor nunca cambia. Una variable necesita ser declarada y, opcionalmente, asignada al valor que necesita para ser almacenada.\n",
    "\n",
    "#### Tipos de datos\n",
    "\n",
    "##### byte: \n",
    "Byte almacena un valor numérico de 8 bits sin puntos decimales. Tienen un rango de 0 a 255. \n",
    "\n",
    "`byte a = 180;  `\n",
    "\n",
    "##### int:  \n",
    "Enteros son los tipos de datos primarios para almacenamiento de números sin puntos decimales y almacenan un valor de 16 bits con un rango de -32,768 a 32,767.  \n",
    "\n",
    "`int a = 1500;  `\n",
    "\n",
    "##### long:  \n",
    "Tipo de datos de tamaño extendido para enteros largos, sin puntos decimales, almacenados enun v alor de 32 bits con un rango de -2,146,483,648 a 2,147,483,647.  \n",
    "\n",
    "`long a = 90000;`  \n",
    "\n",
    "##### float: \n",
    "Un tipo de datos para números en punto otante, o números que tienen un punto decimal. Los números en punto flotante tienen mayor resolución que los enteros y se almacenan como valor de 32 bits con un rango de -3.4028235E+38 a 3.4028235E+38.  \n",
    "\n",
    "`float a = 3.14;`  \n",
    "\n",
    "##### char: \n",
    "Un tipo de datos para presentar codigos ASCII simbolos y letras   \n",
    "\n",
    "`char a='c';`  \n",
    "\n",
    "##### arrays: \n",
    "Un array es una colección de valores que son accedidos con un índice numérico. Cualquier valor en el array debe llamarse escribiendo el nombre del array y el índice numérico del valor. Los arrays están indexados a cero, con el primer valor en el array comenzando con el índice número 0. Un array necesita ser declarado y opcionalmente asignarle valores antes de que puedan ser usados.\n",
    "\n",
    "`int a[] = {1, 2, 3...};`\n"
   ]
  },
  {
   "cell_type": "markdown",
   "metadata": {},
   "source": []
  }
 ],
 "metadata": {
  "kernelspec": {
   "display_name": "Python 3",
   "language": "python",
   "name": "python3"
  },
  "language_info": {
   "codemirror_mode": {
    "name": "ipython",
    "version": 3
   },
   "file_extension": ".py",
   "mimetype": "text/x-python",
   "name": "python",
   "nbconvert_exporter": "python",
   "pygments_lexer": "ipython3",
   "version": "3.8.8"
  }
 },
 "nbformat": 4,
 "nbformat_minor": 2
}
