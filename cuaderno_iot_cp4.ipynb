{
 "cells": [
  {
   "cell_type": "markdown",
   "metadata": {},
   "source": [
    "## 4.- Arduino\n",
    "<A name=\"Arduino\"></A>\n",
    "\n",
    "\n",
    "### 4.1.- Introducción\n",
    "\n",
    "El sistema de desarrollo arduino esta formado por tres partes:\n",
    "- Placas de hardware libre que incorporan un microcontrolador reprogramable y una serie de pines-hembra  que permiten conectar allí de forma muy sencilla y cómoda diferentes sensores y actuadores.\n",
    "\n",
    "- Entorno de desarrollo gratis, libre y multiplataforma (que funciona en Linux, MacOS y Windows) se deb instalar en el PC y que permite escribir, verificar y guardar  en la memoria del microcontrolador de la placa Arduino el programa que se desea ejecutar.\n",
    "\n",
    "- Lenguaje de programación libre. basado en C++ \n",
    "\n",
    "El entorno de programación se muestra en la figura, en la misma se puede observar las dos rutinas principales del entorno.\n",
    "<img src=\"img/arduino00.png\" alt=\"Imagen\"></img>\n",
    "\n",
    "Figura 1: Entorno de desarrollo para Arduino\n",
    "\n",
    "La estructura básica del lenguaje de programación Arduino es bastante simple y se organiza en al menos dos partes o funciones que encierran bloques de declaraciones.  \n",
    "\n",
    "```\n",
    "void setup()  \n",
    "\t\t    {  \n",
    "\t\t\t}  \n",
    "\t\tvoid loop()  \n",
    "\t\t\t{  \n",
    "\t\t\t}  \n",
    "``` \n",
    "Ambas funciones son requeridas para que el programa funcione.\n",
    "\n",
    "Una función es un bloque de código que tiene un nombre y un grupo de declaraciones que se ejecutan cuando se llama a la misma. Podemos hacer uso de funciones integradas como void setup() y void loop() o escribir nuevas.\n"
   ]
  },
  {
   "cell_type": "markdown",
   "metadata": {},
   "source": [
    "#### Setup():\n",
    "\n",
    "La función setup debería contener la declaración de cualquier variable al comienzo del programa. Es la primera función a ejecutar en el programa, es ejecutada una vez y es usada para asignar pinMode o inicializar las comunicaciones serie.\n",
    "\n",
    "#### Loop(): \n",
    "\n",
    "La función loop se ejecuta a continuación e incluye el código que se ejecuta contínuamente leyendo entradas, activando salidas, etc. Esta función es el núcleo de todos los programas Arduino y hace la mayor parte del trabajo.\n"
   ]
  },
  {
   "cell_type": "markdown",
   "metadata": {},
   "source": [
    "## 4.2.- Instalación\n",
    "\n",
    "Para instalar Arduino ae debe descargar desde el link\n",
    "www.arduino.cc/en/donate\n",
    " \n",
    " Apretar el boton \"just download\"\n",
    " \n",
    " Instalar el programa\n",
    " \n",
    " #### Simulador\n",
    " \n",
    " Descargar el software unoardusim\n",
    "\n",
    "sites.google.com/site/unoardusim/simulator-download\n",
    "\n",
    " Se debe descargar en la misma se genera un directorio donde se encuentra el ejecutable ```unoardusim``` el cual se debe ejecutar.\n"
   ]
  },
  {
   "cell_type": "markdown",
   "metadata": {},
   "source": [
    "### 4.3- Funciones\n",
    "\n",
    "Una función es un bloque de código que tiene un nombre y un grupo de declaraciones que se ejecutan cuando se llama a la función. Podemos hacer uso de funciones integradas como void setup() y void loop() o escribir nuevas. Las funciones se escriben para ejecutar tareas repetitivas. En primer lugar se declara el tipo de la función, que será el valor retornado por la función (int, void...). A continuación del tipo, se declara el nombre de la función y, entre paréntesis, los parámetros que se pasan a la función.  \n",
    "\n",
    "```type Nombrefuncion(parameters)```"
   ]
  },
  {
   "cell_type": "markdown",
   "metadata": {},
   "source": [
    "#### Llaves {}\n",
    "Las llaves definen el comienzo y el final de bloques de función y bloques de declaraciones como void loop() y sentencias for e if. Las llaves deben estar balanceadas (a una llave de apertura {debe seguirle una llave de cierre }). Las llaves no balanceadas provocan errores de compilación.  \n",
    "```void loop()  \n",
    "\t{  \n",
    "\tsentencias;  \n",
    "\t}  ```"
   ]
  }
 ],
 "metadata": {
  "kernelspec": {
   "display_name": "Python 3",
   "language": "python",
   "name": "python3"
  },
  "language_info": {
   "codemirror_mode": {
    "name": "ipython",
    "version": 3
   },
   "file_extension": ".py",
   "mimetype": "text/x-python",
   "name": "python",
   "nbconvert_exporter": "python",
   "pygments_lexer": "ipython3",
   "version": "3.8.8"
  }
 },
 "nbformat": 4,
 "nbformat_minor": 2
}
