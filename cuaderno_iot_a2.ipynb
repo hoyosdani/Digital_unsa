{
 "cells": [
  {
   "cell_type": "markdown",
   "id": "a207b87c",
   "metadata": {},
   "source": [
    "### Anexo 2: Actuadores\n",
    "<A name=\"Actuadores\"</A>\n",
    "\n",
    "Un servomotor es un servomecanismo de bucle cerrado que utiliza la retroalimentación de posición para controlar su velocidad de rotación y posición”. Así, un servomotor está diseñado para controlar el movimiento de su eje en cuanto a velocidad, aceleración, torque y posición\n",
    "\n",
    "< A href=\"https://youtu.be/mk9UkQCeENc\"> Servomotor </A>\n",
    "\n",
    "<img src=\"img/servomotor.jpg\" alt=\"Imagen\"></img>\n",
    "\n",
    "\n",
    "|Pin sensor| Pin arduino|\n",
    "|---       |---         |\n",
    "| marron   |  GND       |\n",
    "| rojo     |  +5V       |\n",
    "| naranja  |   9        |\n",
    "\n"
   ]
  }
 ],
 "metadata": {
  "kernelspec": {
   "display_name": "Python 3 (ipykernel)",
   "language": "python",
   "name": "python3"
  },
  "language_info": {
   "codemirror_mode": {
    "name": "ipython",
    "version": 3
   },
   "file_extension": ".py",
   "mimetype": "text/x-python",
   "name": "python",
   "nbconvert_exporter": "python",
   "pygments_lexer": "ipython3",
   "version": "3.11.5"
  }
 },
 "nbformat": 4,
 "nbformat_minor": 5
}
