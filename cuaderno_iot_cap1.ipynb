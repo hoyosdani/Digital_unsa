{
 "cells": [
  {
   "cell_type": "markdown",
   "id": "48c69b66",
   "metadata": {},
   "source": [
    "# Internet de las cosas\n",
    "<img src=\"img/iot00.jpg\" alt=\"Imagen\"></img>\n"
   ]
  },
  {
   "cell_type": "markdown",
   "id": "04319908",
   "metadata": {},
   "source": [
    "## Indice\n",
    "<a name=\"indice\"> </a>\n",
    "\n",
    "#### 1.- Generalidades: \n",
    "\n",
    "[Introducción](#Generalidades), Internet, Componentes, Raspberry Pi, ESP8266, MQTT, Node_Red\n",
    "\n",
    "#### 2.- Internet\n",
    "[Introducción](#cuaderno_iot_cap2), Historia, Red de datos, Tipos de redes, Topologías, Modelo TCP/IP, Elementos que componen una red\n",
    "#### 3.-  MQTT: \n",
    "[Introducción](#MQTT), topologia, topic, subcripcion/publicacion, Mensajes, Mosquitto\n",
    "\n",
    "#### 4.- Arduino\n",
    "[Introducción](#Arduino), Instalación, Funciones, Control de flujo, RESUMEN DE FUNCIONES PRINCIPALES DE ENTRADA SALIDA\n",
    "#### 5.- ESP8266\n",
    "[Introducción](#ESP8266), Microprocesador, Instalar Plugin del ESP8266 para Arduino, Programas\n",
    "#### 6.- NODE-RED:\n",
    "\n",
    "[Introducción](#NODE-RED), principios basicos, Entorno de desarrollo de Node-RED, Primer flujo con Node-RED, DashBoard, Ejemplo con actuador, ejemplo sensor, ejemplo actuador+ sensores\n",
    "\n",
    "#### Anexo 1\n",
    "\n",
    "[Nodemcu](#Nodemcu)\n",
    "\n",
    "#### Anexo 2\n",
    "\n",
    "[Sensores](#Sensores)\n",
    "\n",
    "\n",
    "#### Anexo 3\n",
    "\n",
    "[Actuadores](#Actuadores)\n"
   ]
  },
  {
   "cell_type": "markdown",
   "id": "5d3651c7",
   "metadata": {},
   "source": [
    "## 1.- Generalidades\n",
    "<A name=\"Generalidades\"></A>"
   ]
  },
  {
   "cell_type": "markdown",
   "id": "5fe5f844",
   "metadata": {},
   "source": [
    "\n",
    "#### 1.1.- Introduccion\n",
    "\n",
    "IOT (internet of thing) internet de las cosas, es una red que interconecta objetos físicos valiéndose de Internet, como ser: encender una lampara, medir la temperatura, prender el microondas o ver la cámara de seguridad. En iot cada uno de los objetos conectados a Internet tiene un numero de IP, el cual es un numero que lo identifica y mediante el mismo puede ser accedido para recibir instrucciones. Esta red puede contactar con un servidor externo y enviar los datos obtenidos o recibir ordenes.\n",
    "IOT se puede aplicar en:  \n",
    "\n",
    "    •  La industria de producción en masa\n",
    "    • Control de infraestructura urbana\n",
    "    • Control ambiental,\n",
    "    • Sector salud\n",
    "\n",
    "Por ejemplo:\n",
    "\n",
    "- LUZ hogar\n",
    "- Estufa\n",
    "- Medir Temperatura\n",
    "- Prender microondas\n",
    "- Ver la cámara de seguridad"
   ]
  },
  {
   "cell_type": "markdown",
   "id": "9c33fb13",
   "metadata": {},
   "source": [
    "#### 1.2.- Internet\n",
    "\n",
    "Internet es un neologismo del inglés que significa red informática descentralizada de alcance global. Se trata de un sistema de redes interconectadas que utilizan la familia de protocolos TCP/IP que ofrece una gran diversidad de servicios y recursos, como, por ejemplo, el acceso a archivos de hipertexto a través de la web."
   ]
  },
  {
   "cell_type": "markdown",
   "id": "a0d17e16",
   "metadata": {},
   "source": [
    "#### 1.3.- Componentes\n",
    "IOT implica interconectar distintos dispositivos: microcontroladores, microprocesadores, telefonos celulares, utilizando diversos lenguajes de programación, protocolos y tecnologías de redes. \n",
    "Para introducir el tema se utilizara \n",
    "\n",
    "|                              |                  |\n",
    "|---                           |---               |\n",
    "| Control central              | Raspberry pi     |\n",
    "| Control actuadores y sensores|  WEMOS           |\n",
    "| Tecnología de redes          | wifi             |\n",
    "| Protocolo de comunicación    | MQTT             |\n",
    "| Programa de gestion          | Node-red         |\n",
    "\n",
    "Ademas se utiliza el protocolo TCP-IP, la programación de WEMOS se realiza en C++. Node-red trabaja en javascript."
   ]
  },
  {
   "cell_type": "markdown",
   "id": "3cec142c",
   "metadata": {},
   "source": [
    "#### 1.4.- Raspberry pi:\n",
    "\n",
    "Es un ordenador de bajo coste y tamaño reducido. Fue diseñado en Reino Unido, con el objetivo que los niños aprendan informática en las escuelas. Es un ordenador simple compuesto por un SoC (system on chip), el cual tiene integrado CPU, memoria RAM, puertos de entrada y salida de audio y vídeo, conectividad de red. Ademas tiene una ranura SD para almacenamiento, una toma para la alimentación, conexiones para periféricos de bajo nivel, conexiones para camaras, Monitores Puerto USB\n"
   ]
  },
  {
   "cell_type": "markdown",
   "id": "ff11400b",
   "metadata": {},
   "source": [
    "#### 1.5.- ESP8266\n",
    "\n",
    "El ESP8266 es un chip de bajo costo Wi-Fi con un stack TCP/IP completo y un microcontrolador, fabricado por Espressif. Es un SOC (sistema en chip) de bajo costo que se utiliza como core de distintas placas, que se pueden programar en el entorno arduino. Un sistema en chip describe la tendencia cada vez más frecuente de usar tecnologías de fabricación que integran todos o gran parte de los módulos que componen un computador o cualquier otro sistema informático o electrónico en un único circuito integrado o chip. El cual tiene:\n",
    "\n",
    "    - Microcontrolador\n",
    "    - Wi-Fi\n",
    "    - stack TCP/IP\n",
    "    - Interfases\n",
    "    - SRAM\n",
    "    - PMU\n",
    "\n"
   ]
  },
  {
   "cell_type": "markdown",
   "id": "4464049b",
   "metadata": {},
   "source": [
    "#### 1.6.- MQTT\n",
    " Protocolo que permite conectar dos microprocesadores de forma sencilla y transmitir informacion\n"
   ]
  },
  {
   "cell_type": "markdown",
   "id": "5267381c",
   "metadata": {},
   "source": [
    "#### 1.7.- Node-red\n",
    "\n",
    "Node-RED es una herramienta que sirve para programar internet de las cosas comunicando hardware y servicios de una forma rápida y sencilla. Utiliza programación visual.\n"
   ]
  },
  {
   "cell_type": "code",
   "execution_count": null,
   "id": "4a546218",
   "metadata": {},
   "outputs": [],
   "source": []
  }
 ],
 "metadata": {
  "kernelspec": {
   "display_name": "Python 3",
   "language": "python",
   "name": "python3"
  },
  "language_info": {
   "codemirror_mode": {
    "name": "ipython",
    "version": 3
   },
   "file_extension": ".py",
   "mimetype": "text/x-python",
   "name": "python",
   "nbconvert_exporter": "python",
   "pygments_lexer": "ipython3",
   "version": "3.8.8"
  }
 },
 "nbformat": 4,
 "nbformat_minor": 5
}
