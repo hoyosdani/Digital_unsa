{
 "cells": [
  {
   "cell_type": "markdown",
   "metadata": {},
   "source": [
    "## 3.- MQTT\n",
    "<A name=\"MQTT\"></A>"
   ]
  },
  {
   "cell_type": "markdown",
   "metadata": {},
   "source": [
    "### 3.1.- Introducción\n",
    "\n",
    "MQTT son las siglas de Message Queue Telemetry Transport y tras ellas se encuentra un protocolo ideado por IBM y liberado enfocado a la conectividad Machine-to-Machine (M2M). Está enfocado al envío de datos en aplicaciones donde se requiere muy poco ancho de banda. Además, sus características le permite tener un consumo  bajo así como precisar de muy pocos recursos para su funcionamiento. Estas características han hecho que rápidamente se convierta en un protocolo muy empleado en la comunicación de sensores y, consecuentemente, dentro del Internet de las Cosas."
   ]
  },
  {
   "cell_type": "markdown",
   "metadata": {},
   "source": [
    "<img src=\"img/mqtt1.gif\" alt=\"Imagen\"></img>"
   ]
  },
  {
   "cell_type": "markdown",
   "metadata": {},
   "source": [
    "### 3.2.- Topologia\n",
    "\n",
    "En cuanto a su arquitectura, es una topología en estrella, donde existe un nodo central o broker con capacidad para trabajar con un gran número de clientes. El broker es el elemento encargado de gestionar la red y transmitir los mensajes entre los clientes. Una característica interesante es la capacidad de MQTT para establecer comunicaciones cifradas lo que aporta a la red una capa extra de seguridad.\n",
    "\n"
   ]
  },
  {
   "cell_type": "markdown",
   "metadata": {},
   "source": [
    "<img src=\"img/mqtt2.gif\" alt=\"Imagen\"></img>"
   ]
  },
  {
   "cell_type": "markdown",
   "metadata": {},
   "source": [
    "### 3.3.-  Topic\n",
    "\n",
    "Dentro de la arquitectura de MQTT, es muy importante el concepto \"topic\"(\"tema\")ya que a través de estos \"topics\" se articula la comunicación puesto que los clientes emisores y o receptores deben estar suscritos a un \"topic\" común para poder entablar la comunicación. Este tipo de arquitecturas, lleva asociada otra interesante característica: la comunicación puede ser de uno a uno o de uno a muchos. Además, los \"topics\" tienen una estructura jerárquica gracias a la cual podemos establecer relaciones padre-hijo y, al suscribir a un topic padre, se recibe también la información de sus hijos."
   ]
  },
  {
   "cell_type": "markdown",
   "metadata": {},
   "source": [
    "<img src=\"img/mqtt3.gif\" alt=\"Imagen\"></img>"
   ]
  },
  {
   "cell_type": "markdown",
   "metadata": {},
   "source": [
    "Por ejemplo tenemos un experimento que se llama planta, que tiene dos oficinas Oficina1 y Oficina2, En Oficina1 se debe prender Luz y medir temperatura mientras que en Oficina2 se debe prender Luz y medir Temperatura.\n",
    "\n",
    "|                     |                             |\n",
    "|---                  |---                          |\n",
    "| Luz                 |/Planta/Oficina1/Luz         |\n",
    "| Temperatura         |/Planta/Oficina1/Temperatura |\n",
    "| Luz                 |/Planta/Oficina2/Luz         |\n",
    "| Temperatura         |/Planta/Oficina2/Temperatura |\n",
    "\n"
   ]
  },
  {
   "cell_type": "markdown",
   "metadata": {},
   "source": [
    "### 3.4.-  Subcripcion/publicacion\n",
    "\n",
    "MOTT utiliza una arquitectura publicación/suscripción, se trata de una arquitectura basada en eventos. Cada mensaje se envía a los receptores que se hayan suscrito a una publicación concreta. El Broker se encarga de distribuir los mensajes a los receptores.Un cliente se suscribe a un topic que es como el tema, a quién va dirigido el mensaje. Lo podemos asemejar como el asunto de un email. Un mensaje no tiene destinatario concreto, puede haber uno, muchos o ninguno."
   ]
  },
  {
   "cell_type": "markdown",
   "metadata": {},
   "source": [
    "### 3.5.- Mensajes\n",
    "\n",
    "Lo más importante dentro del protocolo MQTT son los mensajes. Se envían de forma asíncrona es decir, no hay que esperar respuesta una vez que se envía un mensaje.\n",
    "Cada mensaje consta de 3 partes:\n",
    "- Encabezado fijo. Ocupa sólo 2 bytes y es obligatorio enviar esta parte en todos los mensajes.\n",
    "- Encabezado variable. Ocupa 4 bits y no es obligatorio que esté en todos los mensajes.\n",
    "- Mensaje o carga útil (del inglés payload). Puede tener un máximo de 256 Mb aunque en implementaciones reales el máximo es de 2 a 4 kB.  \n",
    "\n",
    "Al ser uno de los objetivos consumir el menor ancho de banda, cada bit está estudiado cuidadosamente para que cumpla con este objetivo.  \n",
    "Una de las características más importantes es que los clientes o nodos no depende unos de otros ya que no tienen conocimiento de quién está al otro lado. Puede incluso que no haya nadie en el otro extremo.\n",
    "Esto permite algo muy importantes en proyectos de este tipo: la escalabilidad."
   ]
  },
  {
   "cell_type": "markdown",
   "metadata": {},
   "source": [
    "### 3.6.- Mosquitto\n",
    "\n",
    "#### Introducción\n",
    "\n",
    "Eclipse Mosquito es un Broker Open Source de la Eclipse Foundation distribuido bajo licencia EPL/EDL, compatible con el protocolo MQTT en sus versiones 3.1, 3.1.1, y 5.0. Está programado en C y es compatible con Windows, Linux y Mac.\n",
    "El hecho de que sea Open Source y su licenciamiento, así como que sea multiplataforma y que sea un broker liviano, son algunos delos motivos por los que este broker ha alcanzado tanta popularidad.\n",
    "\n",
    "####  Comando mosquitto_sub\n",
    "\n",
    "Este comando nos permite suscribirnos a un topic escuchando y mostrando por pantalla los mensajes enviados a este topic. Puede tomar muchos parámetros pero nosotros nos vamos a centrar en 4.\n",
    "\n",
    "mosquitto_sub -h BROKER -t TOPIC\n",
    "\n",
    "Donde:\n",
    "\n",
    "    - -h BROKER: Indica la dirección IP o nombre de la máquina en la red del Broker. \n",
    "    - -t: TOPIC Es el nombre del topic al que se suscribe.\n",
    "    - -p puerto   Puerto donde se leera el mensaje\n",
    "   \n",
    "\n",
    "####  Comando mosquitto_pub\n",
    "\n",
    "Con este comando se pueden publicar mensajes muy simples. Como ocurre con mosquitto_sub puede tomar muchos parámetros, este comando pero a nosotros nos importan sólo 6.\n",
    "mosquitto_pub -h BROKER -t TOPIC -m MENSAJE\n",
    "\n",
    "Donde:\n",
    "\n",
    "    - -h BROKER: Dirección IP o nombre de la máquina en la red del Broker.\n",
    "    - -t TOPIC: nombre del topic al que se enviara el mensaje.\n",
    "    - -m MENSAJE: el mensaje que queremos enviar. Tiene que ir entre comillas dobles («). Por ejemplo «Temperatura = 25ºC»."
   ]
  },
  {
   "cell_type": "markdown",
   "metadata": {},
   "source": [
    "### 3.7 Instalacion\n",
    "\n",
    "#### Instalación en linux\n",
    "\n",
    "sudo apt update  \n",
    "sudo apt upgrade  \n",
    "sudo apt-get install mosquitto mosquitto-clients  "
   ]
  },
  {
   "cell_type": "markdown",
   "metadata": {},
   "source": [
    "#### Instalacion en windows\n",
    "\n",
    "Desde la pagina \n",
    "https://mosquitto.org/download/\n",
    "Bajar:\n",
    "\n",
    "mosquitto-2.0.15-install-windows-x64.exe (64-bit build, Windows Vista and up, built with Visual Studio Community 2019)\n",
    "\n",
    "Se debe dejar la opción de instalar Mosquitto como un servicio de Windows porque se incluirá en el apartado de procesos activos en el sistema. Se instalara por defecto en “Program Files\\Mosquitto”.\n",
    "\n",
    "##### Probar mosquitto\n",
    "\n",
    " - Abrir dos consolas de windows \n",
    "     - En buscar escribir consola\n",
    "     - Seleccionar simbolo de sistema\n",
    "     \n",
    "     <img src=\"img/mosquitto-1.png\" alt=\"Imagen\"></img>\n",
    "     \n",
    " - Dirigirse en ambas a la direccion donde se instalo mosquitto\n",
    "       cd c:/PRogram Files/mosquitto\n",
    "       \n",
    "- Correr la siguiente linea en una consola \n",
    "\n",
    "       mosquitto_sub  -h localhost -p 1883 -t \"prueba\"\n",
    "          \n",
    "     <img src=\"img/mosquitto_2.png\" alt=\"Imagen\"></img>\n",
    "       \n",
    "- Correr en la otra consola la siguiente linea\n",
    "\n",
    "       mosquitto_pub -t \"prueba\" -m \"Hola\"\n",
    "       \n",
    "   <img src=\"img/mosquitto_3.png\" alt=\"Imagen\"></img>\n",
    "En la primer consola debe aparecer\n",
    "\n",
    " <img src=\"img/mosquitto_4.png\" alt=\"Imagen\"></img>\n",
    "\n",
    " "
   ]
  },
  {
   "cell_type": "markdown",
   "metadata": {},
   "source": [
    "Si se corre la linea  \n",
    "\n",
    "mosquitto_sub -h 192.168.1.8 -t prueba\n",
    "\n",
    "Aparece error. Esto ocurre porque mosquitto 2.0 no permite conexion con dispositivo que no sea localhost. Para que sea asi se debe configurar. \n",
    "\n",
    "Se debe editar mosquitto.conf agregando las siguientes  lineas \n",
    "\n",
    "`listener 1883 0.0.0.0   \n",
    "allow_anonymous true`  \n",
    "\n",
    "Se debe abrir una consola y ejecutar\n",
    "\n",
    "`mosquitto -c mosquitto.conf`\n",
    "\n",
    " En una consola se debe colocar\n",
    "\n",
    "`mosquitto_sub -h 192.168.1.8 -t prueba`\n",
    "\n",
    "En otra se debe colocar\n",
    "\n",
    "`mosquitto_pub -h 192.168.1.8 -t prueba -m hola`\n",
    "\n",
    "En este caso no da error.\n",
    "\n",
    "##### Conclusion\n",
    "\n",
    "Se configuro el broker mosquitto. Esto permitira armar una iot utilizando como broker mosquitto\n",
    "\n",
    "\n",
    "\n"
   ]
  }
 ],
 "metadata": {
  "kernelspec": {
   "display_name": "Python 3",
   "language": "python",
   "name": "python3"
  },
  "language_info": {
   "codemirror_mode": {
    "name": "ipython",
    "version": 3
   },
   "file_extension": ".py",
   "mimetype": "text/x-python",
   "name": "python",
   "nbconvert_exporter": "python",
   "pygments_lexer": "ipython3",
   "version": "3.8.8"
  }
 },
 "nbformat": 4,
 "nbformat_minor": 2
}
