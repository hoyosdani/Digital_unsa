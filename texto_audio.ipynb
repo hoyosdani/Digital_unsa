{
 "cells": [
  {
   "cell_type": "markdown",
   "id": "12a4e5eb",
   "metadata": {},
   "source": [
    "## pyttsx3\n",
    "\n",
    "Es una biblioteca de Python que nos permite convertir texto a voz. Así que se le proporciona un texto y lo convertirá  en audio.\n",
    "\n",
    "Esta libreria es un envoltorio alrededor de varios motores de texto a voz, incluido el motor de texto a voz (TTS) de Microsoft.\n",
    "\n",
    "Se debe instalar esta biblioteca y se realiza usando pip \n",
    "\n",
    "pip install pyttsx3\n",
    "\n"
   ]
  },
  {
   "cell_type": "code",
   "execution_count": 1,
   "id": "669e68ef",
   "metadata": {},
   "outputs": [
    {
     "name": "stdout",
     "output_type": "stream",
     "text": [
      "Requirement already satisfied: pyttsx3 in c:\\users\\usuario\\anaconda3\\lib\\site-packages (2.90)\n",
      "Requirement already satisfied: comtypes in c:\\users\\usuario\\anaconda3\\lib\\site-packages (from pyttsx3) (1.4.4)\n",
      "Requirement already satisfied: pypiwin32 in c:\\users\\usuario\\anaconda3\\lib\\site-packages (from pyttsx3) (223)\n",
      "Requirement already satisfied: pywin32 in c:\\users\\usuario\\anaconda3\\lib\\site-packages (from pyttsx3) (305.1)\n",
      "Note: you may need to restart the kernel to use updated packages.\n"
     ]
    }
   ],
   "source": [
    "pip install pyttsx3\n"
   ]
  },
  {
   "cell_type": "markdown",
   "id": "45ab8faa",
   "metadata": {},
   "source": [
    "Se debe importar la biblioteca al proyecto.\n",
    "\n",
    "``` import pyttsx3 ```\n",
    "\n",
    "\n",
    "La libreria permite utilizar distintos motores de conversion de texto a audio, es la parte más importante, y es este motor el que realizará el TTS (text-to speech). Las funciones que se usaran son:\n",
    "\n",
    "|Nombre  | Sintaxis                       | Funcionaamiento                                         |\n",
    "|---     |---                             |---                                                      |\n",
    "|init    | ``` engine = pyttsx3.init()``` | Inicializa el motor de texto a voz usando la funcion init, creando el objeto engine |\n",
    "| say    | ```engine.say(text) ```        | Convierte a audio el texto text                         |\n",
    "|runAndWait | ``` engine.runAndWait() ``` | Reproduce el audio generado                             |\n",
    "|save_to_file |```engine.save_to_file(text,\"presentacion.mp3\")```| Convierte el texto en audio y lo guarda en un archivo|\n",
    "#### Eejemplo para reproducir un texto"
   ]
  },
  {
   "cell_type": "code",
   "execution_count": 1,
   "id": "f72a20ac",
   "metadata": {},
   "outputs": [],
   "source": [
    "import pyttsx3\n",
    "engine = pyttsx3.init()\n",
    "text=\"Mi nombre es Paula, que quieres conocer acerca de la Unsa\"\n",
    "engine.say(text)\n",
    "engine.runAndWait()"
   ]
  },
  {
   "cell_type": "markdown",
   "id": "34408db2",
   "metadata": {},
   "source": [
    "#### Eejemplo para guardar en un archivo de audio un texto"
   ]
  },
  {
   "cell_type": "code",
   "execution_count": null,
   "id": "1f7852e8",
   "metadata": {},
   "outputs": [],
   "source": [
    "text=\"Estare en el dique cabra corral, todo el tiempo\"\n",
    "engine.save_to_file(text,\"presentacion.mp3\")\n",
    "engine.runAndWait()"
   ]
  },
  {
   "cell_type": "markdown",
   "id": "c2fad6a9",
   "metadata": {},
   "source": [
    "Esta velocidad y volumen del texto hablado serán los predeterminados y se pueden cambiar\n",
    "Primero, se obtiene esa propiedad usando  ```getProperty(name) ```\n",
    "Luego se establece esa propiedad usando ``` setProperty(name, value) ```\n",
    "\n",
    "Configuración de la velocidad y el volumen del discurso:\n",
    " ```\n",
    "rate = engine.getProperty('rate')\n",
    "engine.setProperty('rate', rate-100)\n",
    " ```\n",
    " #### Ejemplo"
   ]
  },
  {
   "cell_type": "code",
   "execution_count": 4,
   "id": "a137e47f",
   "metadata": {},
   "outputs": [],
   "source": [
    "import pyttsx3\n",
    "engine = pyttsx3.init()\n",
    "text=\"Mi nombre es Paula, que quieres conocer acerca de la Unsa\"\n",
    "rate = engine.getProperty('rate')\n",
    "engine.setProperty('rate', 150)\n",
    "engine.say(text)\n",
    "engine.runAndWait()"
   ]
  },
  {
   "cell_type": "markdown",
   "id": "0c9cdd82",
   "metadata": {},
   "source": [
    "De forma predeterminada, la tasa es 200, por lo que la bajaremos a 100. La rate es la tasa de habla y 200 es alta para nosotros. Así que lo bajamos.\n",
    "El ritmo es simplemente, el ritmo al que el hablante pronunciará el texto pasado.\n",
    "Después de configurar la tasa, cambiaremos o configuraremos el volumen obteniendo primero la propiedad de volumen y luego configurándola.\n",
    " ```\n",
    "volume = engine.getProperty('volume')\n",
    "engine.setProperty('volume', volume+0.50)\n",
    " ```\n",
    " El volumen predeterminado es 1, es decir, 100%, lo aumentaremos a 150% agregando .50 al valor recibido al leer la propiedad de volumen.\n",
    " #### Ejemplo"
   ]
  },
  {
   "cell_type": "code",
   "execution_count": 6,
   "id": "7722b9e1",
   "metadata": {},
   "outputs": [],
   "source": [
    "import pyttsx3\n",
    "engine = pyttsx3.init()\n",
    "text=\"Mi nombre es Paula, que quieres conocer acerca de la Unsa\"\n",
    "rate = engine.getProperty('rate')\n",
    "engine.setProperty('rate', 300)\n",
    "volume = engine.getProperty('volume')\n",
    "engine.setProperty('volume', 0.50)\n",
    "engine.say(text)\n",
    "engine.runAndWait()"
   ]
  },
  {
   "cell_type": "markdown",
   "id": "beb5d754",
   "metadata": {},
   "source": [
    "Para cambiar la voz que está hablando. Se utiliza voices\n",
    " ```\n",
    "voices = engine.getProperty('voices')\n",
    "engine.setProperty('voice', voices[2].id)\n",
    " ```"
   ]
  },
  {
   "cell_type": "code",
   "execution_count": 22,
   "id": "88854434",
   "metadata": {},
   "outputs": [],
   "source": [
    "import pyttsx3\n",
    "engine = pyttsx3.init()\n",
    "text=\"Mi nombre es Paula, que quieres conocer acerca de la Unsa\"\n",
    "rate = engine.getProperty('rate')\n",
    "engine.setProperty('rate',  200)\n",
    "volume = engine.getProperty('volume')\n",
    "engine.setProperty('volume', 1.50)\n",
    "voices = engine.getProperty('voices')\n",
    "engine.setProperty('voice', voices[2].id)\n",
    "engine.say(text)\n",
    "engine.runAndWait()"
   ]
  },
  {
   "cell_type": "markdown",
   "id": "d65f6c5c",
   "metadata": {},
   "source": [
    "## RECONOCIMIENTO DE VOZ"
   ]
  },
  {
   "cell_type": "markdown",
   "id": "64fcdabc",
   "metadata": {},
   "source": [
    "Para realizar reconocimiento de vos se deben instalar varias librerias\n",
    "\n",
    "### Instalación\n",
    "\n",
    "Primero se debe instalar el módulo de  reconocimiento de voz de Python, usando el siguiente comando:\n",
    "\n",
    "pip install speechrecognition\n",
    "\n",
    "También se debe tener instalada otro par de bibliotecas más, encargadas del proceso de escucha del audio:\n",
    "- pyaudio\n",
    "- pyttsx3\n",
    "\n",
    "Se muestra un codigo de ejemplo"
   ]
  },
  {
   "cell_type": "code",
   "execution_count": 10,
   "id": "8532999d",
   "metadata": {},
   "outputs": [
    {
     "name": "stdout",
     "output_type": "stream",
     "text": [
      "Hablar:\n",
      "Dices:Apagar\n"
     ]
    }
   ],
   "source": [
    "import speech_recognition as sr  \n",
    "r = sr.Recognizer()                                                                                   \n",
    "with sr.Microphone() as source:                                                                       \n",
    "    print(\"Hablar:\")   \n",
    "    r.adjust_for_ambient_noise(source)\n",
    "\n",
    "    audio = r.listen(source)   \n",
    "\n",
    "try:\n",
    "    print(\"Dices:\" + r.recognize_google(audio, language='es-ES'))\n",
    "except sr.UnknownValueError:\n",
    "    print(\"No podemos entenderte\")\n",
    "except sr.RequestError as e:\n",
    "    print(\"No entendemos el resultado; \".format(e))"
   ]
  },
  {
   "cell_type": "markdown",
   "id": "e624e49b",
   "metadata": {},
   "source": [
    "## MQTT con python \n",
    "\n",
    "#### Introducción a MQTT y Mosquito\n",
    "\n",
    "MQTT(Message Queuing Telemetry Transport) es un protocolo de comunicación ligero M2M(Machine2Machine). Diseñado para ser tremendamente ligero(Poco ancho de banda, poco consumo y pocos recursos para su funcionamiento). Es ideal para aplicaciones IoT(Internet of Things) ya que lo puede implementar desde un servidor cloud hasta una tostadora o una nevera(Aunque no es SOLO para este tipo de aplicaciones).\n",
    "\n",
    "Eclipse Mosquitto es una implementación Open Source de este protocolo ampliamente usada.\n",
    "\n",
    "Básicamente, la arquitectura de una aplicación que utilice MQTT tiene: Un servidor MQTT que hace de broker de mensajes(Donde se conectan los clientes que publican o se suscriben a topics), los clientes que pueden tener un rol publicador, subscriptor o ambos.\n",
    "\n",
    "Un publicador es un componente que se dedica a publicar mensajes a un topic. Un subscriptor es un componente que se subscribe a uno o varios topics y cada vez que algún publicador publica algo sobre ese topic recibe el mensaje.\n",
    "Para arrancar mosquitto:\n",
    "\n",
    "- Abrir una consola\n",
    "- Averiguar el numero de ip del broker\n",
    "    ``` ipconfig ```\n",
    "- ubicar en el directorio de mosquitto\n",
    "``` cd /Program Files/mosquitto ```\n",
    "- Modificar mosquitto.conf   \n",
    "\n",
    "        listener 1883 127.0.0.1   \n",
    "        allow_anonymous true\n",
    "  \n",
    "- Ejecutar\n",
    "``` mosquitto -c mosquitto.conf ```\n",
    "\n",
    "#### Configurar un subscriptor\n",
    "\n",
    "Mosquito nos provee de dos utilidades para testear todo. Una que nos permite subscribirnos a topics y otra que nos permite publicar en topics.\n",
    "##### Opciones de mosquitto:\n",
    "\n",
    "-h Direccion ip de la computadora que actua como broker  \n",
    "-p puerto que utiliza el broker  \n",
    "-t topico  \n",
    "-v ver mensajes  \n",
    "-m mensaje que se transmite\n",
    "Para configurar un subscriptor del tópic 'casa/mensaje' se puede hacer de la siguiente manera:\n",
    "\n",
    "mosquitto_sub -h 127.0.0.1 -p 1883 -t \"casa/mensaje\" -v\n",
    "\n",
    "Para publicar un mensaje:\n",
    "\n",
    "```mosquitto_pub -h 127.0.0.1 -p 1883 -t \"casa/mensaje\" -m Hola```\n",
    "\n",
    "#### Aplicación Python para subscribirse a un topic\n",
    "Para crear una aplicación Python se utilizara la librería 'paho-mqtt' que se instalausando 'pip'\n",
    "\n",
    " ``` pip install --user paho-mqtt```\n",
    " "
   ]
  },
  {
   "cell_type": "code",
   "execution_count": 9,
   "id": "ebd97d17",
   "metadata": {},
   "outputs": [
    {
     "name": "stderr",
     "output_type": "stream",
     "text": [
      "C:\\Users\\Usuario\\AppData\\Local\\Temp\\ipykernel_9012\\1659222375.py:9: DeprecationWarning: Callback API version 1 is deprecated, update to latest version\n",
      "  client = mqtt.Client()\n"
     ]
    },
    {
     "ename": "TimeoutError",
     "evalue": "timed out",
     "output_type": "error",
     "traceback": [
      "\u001b[1;31m---------------------------------------------------------------------------\u001b[0m",
      "\u001b[1;31mTimeoutError\u001b[0m                              Traceback (most recent call last)",
      "Cell \u001b[1;32mIn[9], line 16\u001b[0m\n\u001b[0;32m     14\u001b[0m \u001b[38;5;66;03m# Conectar al broker MQTT\u001b[39;00m\n\u001b[0;32m     15\u001b[0m broker_address \u001b[38;5;241m=\u001b[39m \u001b[38;5;124m\"\u001b[39m\u001b[38;5;124m192.168.100.9\u001b[39m\u001b[38;5;124m\"\u001b[39m  \u001b[38;5;66;03m# Cambia esto por la dirección de tu broker\u001b[39;00m\n\u001b[1;32m---> 16\u001b[0m client\u001b[38;5;241m.\u001b[39mconnect(broker_address, \u001b[38;5;241m1883\u001b[39m, \u001b[38;5;241m60\u001b[39m)\n\u001b[0;32m     18\u001b[0m \u001b[38;5;66;03m# Iniciar el bucle de red\u001b[39;00m\n\u001b[0;32m     19\u001b[0m client\u001b[38;5;241m.\u001b[39mloop_start()\n",
      "File \u001b[1;32m~\\AppData\\Roaming\\Python\\Python311\\site-packages\\paho\\mqtt\\client.py:1435\u001b[0m, in \u001b[0;36mClient.connect\u001b[1;34m(self, host, port, keepalive, bind_address, bind_port, clean_start, properties)\u001b[0m\n\u001b[0;32m   1431\u001b[0m         \u001b[38;5;28;01mraise\u001b[39;00m \u001b[38;5;167;01mValueError\u001b[39;00m(\u001b[38;5;124m\"\u001b[39m\u001b[38;5;124mProperties only apply to MQTT V5\u001b[39m\u001b[38;5;124m\"\u001b[39m)\n\u001b[0;32m   1433\u001b[0m \u001b[38;5;28mself\u001b[39m\u001b[38;5;241m.\u001b[39mconnect_async(host, port, keepalive,\n\u001b[0;32m   1434\u001b[0m                    bind_address, bind_port, clean_start, properties)\n\u001b[1;32m-> 1435\u001b[0m \u001b[38;5;28;01mreturn\u001b[39;00m \u001b[38;5;28mself\u001b[39m\u001b[38;5;241m.\u001b[39mreconnect()\n",
      "File \u001b[1;32m~\\AppData\\Roaming\\Python\\Python311\\site-packages\\paho\\mqtt\\client.py:1598\u001b[0m, in \u001b[0;36mClient.reconnect\u001b[1;34m(self)\u001b[0m\n\u001b[0;32m   1595\u001b[0m         \u001b[38;5;28;01mif\u001b[39;00m \u001b[38;5;129;01mnot\u001b[39;00m \u001b[38;5;28mself\u001b[39m\u001b[38;5;241m.\u001b[39msuppress_exceptions:\n\u001b[0;32m   1596\u001b[0m             \u001b[38;5;28;01mraise\u001b[39;00m\n\u001b[1;32m-> 1598\u001b[0m \u001b[38;5;28mself\u001b[39m\u001b[38;5;241m.\u001b[39m_sock \u001b[38;5;241m=\u001b[39m \u001b[38;5;28mself\u001b[39m\u001b[38;5;241m.\u001b[39m_create_socket()\n\u001b[0;32m   1600\u001b[0m \u001b[38;5;28mself\u001b[39m\u001b[38;5;241m.\u001b[39m_sock\u001b[38;5;241m.\u001b[39msetblocking(\u001b[38;5;28;01mFalse\u001b[39;00m)  \u001b[38;5;66;03m# type: ignore[attr-defined]\u001b[39;00m\n\u001b[0;32m   1601\u001b[0m \u001b[38;5;28mself\u001b[39m\u001b[38;5;241m.\u001b[39m_registered_write \u001b[38;5;241m=\u001b[39m \u001b[38;5;28;01mFalse\u001b[39;00m\n",
      "File \u001b[1;32m~\\AppData\\Roaming\\Python\\Python311\\site-packages\\paho\\mqtt\\client.py:4609\u001b[0m, in \u001b[0;36mClient._create_socket\u001b[1;34m(self)\u001b[0m\n\u001b[0;32m   4607\u001b[0m     sock \u001b[38;5;241m=\u001b[39m \u001b[38;5;28mself\u001b[39m\u001b[38;5;241m.\u001b[39m_create_unix_socket_connection()\n\u001b[0;32m   4608\u001b[0m \u001b[38;5;28;01melse\u001b[39;00m:\n\u001b[1;32m-> 4609\u001b[0m     sock \u001b[38;5;241m=\u001b[39m \u001b[38;5;28mself\u001b[39m\u001b[38;5;241m.\u001b[39m_create_socket_connection()\n\u001b[0;32m   4611\u001b[0m \u001b[38;5;28;01mif\u001b[39;00m \u001b[38;5;28mself\u001b[39m\u001b[38;5;241m.\u001b[39m_ssl:\n\u001b[0;32m   4612\u001b[0m     sock \u001b[38;5;241m=\u001b[39m \u001b[38;5;28mself\u001b[39m\u001b[38;5;241m.\u001b[39m_ssl_wrap_socket(sock)\n",
      "File \u001b[1;32m~\\AppData\\Roaming\\Python\\Python311\\site-packages\\paho\\mqtt\\client.py:4640\u001b[0m, in \u001b[0;36mClient._create_socket_connection\u001b[1;34m(self)\u001b[0m\n\u001b[0;32m   4638\u001b[0m     \u001b[38;5;28;01mreturn\u001b[39;00m socks\u001b[38;5;241m.\u001b[39mcreate_connection(addr, timeout\u001b[38;5;241m=\u001b[39m\u001b[38;5;28mself\u001b[39m\u001b[38;5;241m.\u001b[39m_connect_timeout, source_address\u001b[38;5;241m=\u001b[39msource, \u001b[38;5;241m*\u001b[39m\u001b[38;5;241m*\u001b[39mproxy)\n\u001b[0;32m   4639\u001b[0m \u001b[38;5;28;01melse\u001b[39;00m:\n\u001b[1;32m-> 4640\u001b[0m     \u001b[38;5;28;01mreturn\u001b[39;00m socket\u001b[38;5;241m.\u001b[39mcreate_connection(addr, timeout\u001b[38;5;241m=\u001b[39m\u001b[38;5;28mself\u001b[39m\u001b[38;5;241m.\u001b[39m_connect_timeout, source_address\u001b[38;5;241m=\u001b[39msource)\n",
      "File \u001b[1;32m~\\anaconda3\\Lib\\socket.py:851\u001b[0m, in \u001b[0;36mcreate_connection\u001b[1;34m(address, timeout, source_address, all_errors)\u001b[0m\n\u001b[0;32m    849\u001b[0m \u001b[38;5;28;01mtry\u001b[39;00m:\n\u001b[0;32m    850\u001b[0m     \u001b[38;5;28;01mif\u001b[39;00m \u001b[38;5;129;01mnot\u001b[39;00m all_errors:\n\u001b[1;32m--> 851\u001b[0m         \u001b[38;5;28;01mraise\u001b[39;00m exceptions[\u001b[38;5;241m0\u001b[39m]\n\u001b[0;32m    852\u001b[0m     \u001b[38;5;28;01mraise\u001b[39;00m ExceptionGroup(\u001b[38;5;124m\"\u001b[39m\u001b[38;5;124mcreate_connection failed\u001b[39m\u001b[38;5;124m\"\u001b[39m, exceptions)\n\u001b[0;32m    853\u001b[0m \u001b[38;5;28;01mfinally\u001b[39;00m:\n\u001b[0;32m    854\u001b[0m     \u001b[38;5;66;03m# Break explicitly a reference cycle\u001b[39;00m\n",
      "File \u001b[1;32m~\\anaconda3\\Lib\\socket.py:836\u001b[0m, in \u001b[0;36mcreate_connection\u001b[1;34m(address, timeout, source_address, all_errors)\u001b[0m\n\u001b[0;32m    834\u001b[0m \u001b[38;5;28;01mif\u001b[39;00m source_address:\n\u001b[0;32m    835\u001b[0m     sock\u001b[38;5;241m.\u001b[39mbind(source_address)\n\u001b[1;32m--> 836\u001b[0m sock\u001b[38;5;241m.\u001b[39mconnect(sa)\n\u001b[0;32m    837\u001b[0m \u001b[38;5;66;03m# Break explicitly a reference cycle\u001b[39;00m\n\u001b[0;32m    838\u001b[0m exceptions\u001b[38;5;241m.\u001b[39mclear()\n",
      "\u001b[1;31mTimeoutError\u001b[0m: timed out"
     ]
    }
   ],
   "source": [
    "import paho.mqtt.client as mqtt  \n",
    "import time\n",
    "\n",
    "# Definir el callback para la conexión\n",
    "def on_connect(client, userdata, flags, rc):\n",
    "    print(\"Conectado con el resultado de código: \" + str(rc))\n",
    "\n",
    "# Crear una instancia del cliente MQTT\n",
    "client = mqtt.Client()\n",
    "\n",
    "# Asignar la función de callback para la conexión\n",
    "client.on_connect = on_connect\n",
    "\n",
    "# Conectar al broker MQTT\n",
    "broker_address = \"192.168.100.9\"  # Cambia esto por la dirección de tu broker\n",
    "client.connect(broker_address, 1883, 60)\n",
    "\n",
    "# Iniciar el bucle de red\n",
    "client.loop_start()\n",
    "\n",
    "# Publicar mensajes\n",
    "topic = \"casa/mensaje\"  # Cambia esto por el tema que desees\n",
    "message = \"Hola de python\"  # Mensaje a publicar\n",
    "client.publish(topic, message)  # Publicar el mensaje\n",
    "print(\"Publicado: {message} en el tema: {topic}\")\n",
    "time.sleep(1)  # Esperar un segundo entre publicaciones\n",
    "# Detener el bucle y desconectar\n",
    "client.loop_stop()\n",
    "client.disconnect()"
   ]
  },
  {
   "cell_type": "markdown",
   "id": "4475c46d",
   "metadata": {},
   "source": [
    "## MQTT para esp8266"
   ]
  },
  {
   "cell_type": "markdown",
   "id": "0f2c1c23",
   "metadata": {},
   "source": [
    "#### Programa principal"
   ]
  },
  {
   "cell_type": "code",
   "execution_count": null,
   "id": "d51caf8b",
   "metadata": {},
   "outputs": [],
   "source": []
  },
  {
   "cell_type": "markdown",
   "id": "713f84b9",
   "metadata": {},
   "source": [
    "```\n",
    "#include <ESP8266WiFi.h>\n",
    "#include \"config.h\"\n",
    "#include <PubSubClient.h>\n",
    "#include \"esp8266.hpp\"\n",
    "#include \"iot.hpp\"\n",
    "\n",
    "unsigned long lastMsg = 0;\n",
    "#define MSG_BUFFER_SIZE\t(50)\n",
    "char msg[MSG_BUFFER_SIZE];\n",
    "int value = 0;\n",
    "\n",
    "void setup() {\n",
    "  //  Configurar la consola\n",
    "  Serial.begin(115200);\n",
    "  Serial.println();\n",
    "  // Configura led de la placa\n",
    "  pinMode(LED_BUILTIN, OUTPUT);\n",
    "  // Configura el WIFI\n",
    "  conectarWIFI();\n",
    "  client.setServer(mqtt_server, puerto);\n",
    "  client.setCallback(callback);\n",
    "}\n",
    "\n",
    "void loop() {\n",
    "  if (!client.connected()) {\n",
    "    reconnect();\n",
    "  }\n",
    "  client.loop();\n",
    "  unsigned long now = millis();\n",
    "  if (now - lastMsg > 2000) {\n",
    "    lastMsg = now;\n",
    "    ++value;\n",
    "    snprintf(msg, MSG_BUFFER_SIZE, \"hola mundo #%ld\", value);\n",
    "    Serial.print(\"Publish message: \");\n",
    "    Serial.println(msg);\n",
    "    client.publish(\"casa/letrero\", msg);\n",
    "  }\n",
    "}\n",
    "```"
   ]
  },
  {
   "cell_type": "code",
   "execution_count": null,
   "id": "b2aef93e",
   "metadata": {},
   "outputs": [],
   "source": [
    "#### Config.h"
   ]
  },
  {
   "cell_type": "markdown",
   "id": "16f7b1c1",
   "metadata": {},
   "source": [
    "```\n",
    "// const char* red_WIFI=\"RECTORADO\";\n",
    "// const char* clave=\"Rectorad02022\";\n",
    "\n",
    "const char* mqtt_server=\"192.168.100.9\";\n",
    "const int puerto=1883;\n",
    "```"
   ]
  },
  {
   "cell_type": "markdown",
   "id": "b6d253f2",
   "metadata": {},
   "source": [
    "#### Archivo esp8266.hpp"
   ]
  },
  {
   "cell_type": "code",
   "execution_count": null,
   "id": "4b7d0b96",
   "metadata": {},
   "outputs": [],
   "source": [
    "\n",
    "void conectarWIFI() {\n",
    "\n",
    "  WiFi.begin(red_WIFI, clave);\n",
    "  Serial.print(\"Conectando\");\n",
    "  while (WiFi.status() != WL_CONNECTED) {\n",
    "    delay(500);\n",
    "    Serial.print(\".\");\n",
    "  }\n",
    "  Serial.println();\n",
    "  Serial.print(\"Conectado, dirección IP: \");\n",
    "  Serial.println(WiFi.localIP());\n",
    "}\n"
   ]
  },
  {
   "cell_type": "markdown",
   "id": "e4f47eb9",
   "metadata": {},
   "source": [
    "#### Programa iot.hpp"
   ]
  },
  {
   "cell_type": "markdown",
   "id": "3b07a73d",
   "metadata": {},
   "source": [
    "```WiFiClient espClient;\n",
    "PubSubClient client(espClient);\n",
    "\n",
    "void callback(char* topic, byte* payload, unsigned int length) {\n",
    "  Serial.print(\"Message arrived [\");\n",
    "  Serial.print(topic);\n",
    "  Serial.print(\"] \");\n",
    "  for (int i = 0; i < length; i++) {\n",
    "    Serial.print((char)payload[i]);\n",
    "  }\n",
    "  Serial.println();\n",
    "\n",
    "  // Switch on the LED if an 1 was received as first character\n",
    "  if ((char)payload[0] == '1') {\n",
    "    digitalWrite(BUILTIN_LED, LOW);  // Turn the LED on (Note that LOW is the voltage level\n",
    "    // but actually the LED is on; this is because\n",
    "    // it is active low on the ESP-01)\n",
    "  } else {\n",
    "    digitalWrite(BUILTIN_LED, HIGH);  // Turn the LED off by making the voltage HIGH\n",
    "  }\n",
    "}\n",
    "\n",
    "void reconnect() {\n",
    "  // Loop until we're reconnected\n",
    "  while (!client.connected()) {\n",
    "    Serial.print(\"Attempting MQTT connection...\");\n",
    "    // Create a random client ID\n",
    "    String clientId = \"ESP8266Client-\";\n",
    "    clientId += String(random(0xffff), HEX);\n",
    "    // Attempt to connect\n",
    "    if (client.connect(clientId.c_str())) {\n",
    "      Serial.println(\"conectado\");\n",
    "      // Once connected, publish an announcement...\n",
    "      client.publish(\"casa/letrero\", \"Hola mundo\");\n",
    "      // ... and resubscribe\n",
    "      client.subscribe(\"casa/luz\");\n",
    "    } else {\n",
    "      Serial.print(\"failed, rc=\");\n",
    "      Serial.print(client.state());\n",
    "      Serial.println(\" try again in 5 seconds\");\n",
    "      // Wait 5 seconds before retrying\n",
    "      delay(5000);\n",
    "    }\n",
    "  }\n",
    "}\n",
    "```"
   ]
  },
  {
   "cell_type": "markdown",
   "id": "c10458f2",
   "metadata": {},
   "source": [
    "Si se ejecuta el programa envia a "
   ]
  },
  {
   "cell_type": "code",
   "execution_count": 13,
   "id": "81b5778d",
   "metadata": {},
   "outputs": [
    {
     "name": "stderr",
     "output_type": "stream",
     "text": [
      "C:\\Users\\Usuario\\AppData\\Local\\Temp\\ipykernel_9012\\4038539631.py:9: DeprecationWarning: Callback API version 1 is deprecated, update to latest version\n",
      "  client = mqtt.Client()\n"
     ]
    },
    {
     "name": "stdout",
     "output_type": "stream",
     "text": [
      "Conectado con el resultado de código: 0\n",
      "Publicado: {message} en el tema: {topic}\n"
     ]
    },
    {
     "data": {
      "text/plain": [
       "<MQTTErrorCode.MQTT_ERR_SUCCESS: 0>"
      ]
     },
     "execution_count": 13,
     "metadata": {},
     "output_type": "execute_result"
    }
   ],
   "source": [
    "import paho.mqtt.client as mqtt  \n",
    "import time\n",
    "\n",
    "# Definir el callback para la conexión\n",
    "def on_connect(client, userdata, flags, rc):\n",
    "    print(\"Conectado con el resultado de código: \" + str(rc))\n",
    "\n",
    "# Crear una instancia del cliente MQTT\n",
    "client = mqtt.Client()\n",
    "\n",
    "# Asignar la función de callback para la conexión\n",
    "client.on_connect = on_connect\n",
    "\n",
    "# Conectar al broker MQTT\n",
    "broker_address = \"10.100.50.134\"  # Cambia esto por la dirección de tu broker\n",
    "client.connect(broker_address, 1883, 60)\n",
    "\n",
    "# Iniciar el bucle de red\n",
    "client.loop_start()\n",
    "\n",
    "# Publicar mensajes\n",
    "topic = \"casa/luz\"  # Cambia esto por el tema que desees\n",
    "message = \"1\"  # Mensaje a publicar\n",
    "client.publish(topic, message)  # Publicar el mensaje\n",
    "print(\"Publicado: {message} en el tema: {topic}\")\n",
    "time.sleep(1)  # Esperar un segundo entre publicaciones\n",
    "# Detener el bucle y desconectar\n",
    "client.loop_stop()\n",
    "client.disconnect()"
   ]
  },
  {
   "cell_type": "markdown",
   "id": "e09bfd3e",
   "metadata": {},
   "source": [
    "#### Programa Final"
   ]
  },
  {
   "cell_type": "code",
   "execution_count": 14,
   "id": "f0dcdb54",
   "metadata": {},
   "outputs": [
    {
     "name": "stderr",
     "output_type": "stream",
     "text": [
      "C:\\Users\\Usuario\\AppData\\Local\\Temp\\ipykernel_9012\\1682739337.py:12: DeprecationWarning: Callback API version 1 is deprecated, update to latest version\n",
      "  client = mqtt.Client()\n"
     ]
    },
    {
     "name": "stdout",
     "output_type": "stream",
     "text": [
      "Conectado con el resultado de código: 0\n",
      "Hablar:\n",
      "Apagar\n",
      "Salio Apagar\n",
      "Publicado: {message} en el tema: {topic}\n",
      "Hablar:\n",
      "prender\n",
      "Salio Prender\n",
      "Publicado: {message} en el tema: {topic}\n",
      "Hablar:\n",
      "ya tomamos la mierda todos no quiere terminarlo a este\n",
      "nada\n",
      "Hablar:\n",
      "no no no se hace mejor\n",
      "nada\n",
      "Hablar:\n",
      "se se puede hacer Bueno el problema El problema es\n",
      "nada\n",
      "Hablar:\n"
     ]
    },
    {
     "ename": "KeyboardInterrupt",
     "evalue": "",
     "output_type": "error",
     "traceback": [
      "\u001b[1;31m---------------------------------------------------------------------------\u001b[0m",
      "\u001b[1;31mKeyboardInterrupt\u001b[0m                         Traceback (most recent call last)",
      "Cell \u001b[1;32mIn[14], line 49\u001b[0m\n\u001b[0;32m     47\u001b[0m     \u001b[38;5;28mprint\u001b[39m(\u001b[38;5;124m\"\u001b[39m\u001b[38;5;124mHablar:\u001b[39m\u001b[38;5;124m\"\u001b[39m)         \n\u001b[0;32m     48\u001b[0m     r\u001b[38;5;241m.\u001b[39madjust_for_ambient_noise(source)\n\u001b[1;32m---> 49\u001b[0m     audio \u001b[38;5;241m=\u001b[39m r\u001b[38;5;241m.\u001b[39mlisten(source)   \n\u001b[0;32m     50\u001b[0m a\u001b[38;5;241m=\u001b[39m r\u001b[38;5;241m.\u001b[39mrecognize_google(audio, language\u001b[38;5;241m=\u001b[39m\u001b[38;5;124m'\u001b[39m\u001b[38;5;124mes-ES\u001b[39m\u001b[38;5;124m'\u001b[39m)\n\u001b[0;32m     51\u001b[0m \u001b[38;5;28mprint\u001b[39m(a)\n",
      "File \u001b[1;32m~\\anaconda3\\Lib\\site-packages\\speech_recognition\\__init__.py:523\u001b[0m, in \u001b[0;36mRecognizer.listen\u001b[1;34m(self, source, timeout, phrase_time_limit, snowboy_configuration)\u001b[0m\n\u001b[0;32m    520\u001b[0m \u001b[38;5;28;01mif\u001b[39;00m phrase_time_limit \u001b[38;5;129;01mand\u001b[39;00m elapsed_time \u001b[38;5;241m-\u001b[39m phrase_start_time \u001b[38;5;241m>\u001b[39m phrase_time_limit:\n\u001b[0;32m    521\u001b[0m     \u001b[38;5;28;01mbreak\u001b[39;00m\n\u001b[1;32m--> 523\u001b[0m buffer \u001b[38;5;241m=\u001b[39m source\u001b[38;5;241m.\u001b[39mstream\u001b[38;5;241m.\u001b[39mread(source\u001b[38;5;241m.\u001b[39mCHUNK)\n\u001b[0;32m    524\u001b[0m \u001b[38;5;28;01mif\u001b[39;00m \u001b[38;5;28mlen\u001b[39m(buffer) \u001b[38;5;241m==\u001b[39m \u001b[38;5;241m0\u001b[39m: \u001b[38;5;28;01mbreak\u001b[39;00m  \u001b[38;5;66;03m# reached end of the stream\u001b[39;00m\n\u001b[0;32m    525\u001b[0m frames\u001b[38;5;241m.\u001b[39mappend(buffer)\n",
      "File \u001b[1;32m~\\anaconda3\\Lib\\site-packages\\speech_recognition\\__init__.py:199\u001b[0m, in \u001b[0;36mMicrophone.MicrophoneStream.read\u001b[1;34m(self, size)\u001b[0m\n\u001b[0;32m    198\u001b[0m \u001b[38;5;28;01mdef\u001b[39;00m \u001b[38;5;21mread\u001b[39m(\u001b[38;5;28mself\u001b[39m, size):\n\u001b[1;32m--> 199\u001b[0m     \u001b[38;5;28;01mreturn\u001b[39;00m \u001b[38;5;28mself\u001b[39m\u001b[38;5;241m.\u001b[39mpyaudio_stream\u001b[38;5;241m.\u001b[39mread(size, exception_on_overflow\u001b[38;5;241m=\u001b[39m\u001b[38;5;28;01mFalse\u001b[39;00m)\n",
      "File \u001b[1;32m~\\anaconda3\\Lib\\site-packages\\pyaudio\\__init__.py:570\u001b[0m, in \u001b[0;36mPyAudio.Stream.read\u001b[1;34m(self, num_frames, exception_on_overflow)\u001b[0m\n\u001b[0;32m    567\u001b[0m \u001b[38;5;28;01mif\u001b[39;00m \u001b[38;5;129;01mnot\u001b[39;00m \u001b[38;5;28mself\u001b[39m\u001b[38;5;241m.\u001b[39m_is_input:\n\u001b[0;32m    568\u001b[0m     \u001b[38;5;28;01mraise\u001b[39;00m \u001b[38;5;167;01mIOError\u001b[39;00m(\u001b[38;5;124m\"\u001b[39m\u001b[38;5;124mNot input stream\u001b[39m\u001b[38;5;124m\"\u001b[39m,\n\u001b[0;32m    569\u001b[0m                   paCanNotReadFromAnOutputOnlyStream)\n\u001b[1;32m--> 570\u001b[0m \u001b[38;5;28;01mreturn\u001b[39;00m pa\u001b[38;5;241m.\u001b[39mread_stream(\u001b[38;5;28mself\u001b[39m\u001b[38;5;241m.\u001b[39m_stream, num_frames,\n\u001b[0;32m    571\u001b[0m                       exception_on_overflow)\n",
      "\u001b[1;31mKeyboardInterrupt\u001b[0m: "
     ]
    }
   ],
   "source": [
    "import pyttsx3\n",
    "import speech_recognition as sr  \n",
    "\n",
    "import paho.mqtt.client as mqtt  \n",
    "import time\n",
    "# Definir el callback para la conexión\n",
    "def on_connect(client, userdata, flags, rc):\n",
    "    print(\"Conectado con el resultado de código: \" + str(rc))\n",
    "\n",
    "\n",
    "# Crear una instancia del cliente MQTT\n",
    "client = mqtt.Client()\n",
    "\n",
    "# Asignar la función de callback para la conexión\n",
    "client.on_connect = on_connect\n",
    "\n",
    "# Conectar al broker MQTT\n",
    "broker_address = \"10.100.50.134\"  # Cambia esto por la dirección de tu broker\n",
    "client.connect(broker_address, 1883, 60)\n",
    "\n",
    "# Iniciar el bucle de red\n",
    "client.loop_start()\n",
    "\n",
    "engine = pyttsx3.init()\n",
    "r = sr.Recognizer() \n",
    "\n",
    "\n",
    "# Pregunta\n",
    "voices = engine.getProperty('voices')\n",
    "engine.setProperty('voice', voices[2].id)\n",
    "rate = engine.getProperty('rate')\n",
    "engine.setProperty('rate', 100)\n",
    "volume = engine.getProperty('volume')\n",
    "engine.setProperty('volume', 0.75)\n",
    "text=\"Indicame si enciendo la lampara decir Prender para encender y apagar para apagarla\"\n",
    "\n",
    "engine.say(text)\n",
    "engine.runAndWait()\n",
    "\n",
    "\n",
    "\n",
    "r = sr.Recognizer()\n",
    "topic = \"casa/luz\"  # Cambia esto por el tema que desees\n",
    "a=\"d\"\n",
    "while a != \"terminar\":\n",
    "    with sr.Microphone() as source:                                                                       \n",
    "        print(\"Hablar:\")         \n",
    "        r.adjust_for_ambient_noise(source)\n",
    "        audio = r.listen(source)   \n",
    "    a= r.recognize_google(audio, language='es-ES')\n",
    "    print(a)\n",
    "    if a==\"prender\":\n",
    "        print(\"Salio Prender\")\n",
    "        message = \"1\"  # Mensaje a publicar\n",
    "        client.publish(topic, message)  # Publicar el mensaje\n",
    "        print(\"Publicado: {message} en el tema: {topic}\")\n",
    "        time.sleep(1)\n",
    "    elif a==\"apagar\" or a==\"Apagar\" :\n",
    "        print(\"Salio Apagar\")\n",
    "        message = \"0\"  # Mensaje a publicar\n",
    "        client.publish(topic, message)  # Publicar el mensaje\n",
    "        print(\"Publicado: {message} en el tema: {topic}\")\n",
    "        time.sleep(1)   \n",
    "    else :\n",
    "        print(\"nada\")\n",
    "\n",
    "\n",
    "    time.sleep(1)  # Esperar un segundo entre publicaciones\n",
    "# Detener el bucle y desconectar\n",
    "client.loop_stop()\n",
    "client.disconnect()"
   ]
  },
  {
   "cell_type": "code",
   "execution_count": null,
   "id": "392e589e",
   "metadata": {},
   "outputs": [],
   "source": []
  }
 ],
 "metadata": {
  "kernelspec": {
   "display_name": "Python 3 (ipykernel)",
   "language": "python",
   "name": "python3"
  },
  "language_info": {
   "codemirror_mode": {
    "name": "ipython",
    "version": 3
   },
   "file_extension": ".py",
   "mimetype": "text/x-python",
   "name": "python",
   "nbconvert_exporter": "python",
   "pygments_lexer": "ipython3",
   "version": "3.11.5"
  }
 },
 "nbformat": 4,
 "nbformat_minor": 5
}
