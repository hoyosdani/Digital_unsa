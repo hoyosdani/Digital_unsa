{
 "cells": [
  {
   "cell_type": "markdown",
   "id": "82a32a62",
   "metadata": {},
   "source": [
    "## Anexo 3\n",
    "<a name=\"Sensores\"> </a>\n",
    "\n",
    "### 1.- Modulo Digital de Temperatura y Humedad DHT11\n",
    "\n",
    "DHT11 sensor digital de temperatura y humedad con interfaz digital 1 wire.   \n",
    "<img src=\"img/dht11.webp\" alt=\"Imagen\"></img>\n",
    "\n",
    "#### Especificaciones  \n",
    "    • Alimentacion: 3.3 ~ 5.5V DC   \n",
    "    • Salida: Señal digital single-bus    \n",
    "    • rango: Humedad 20-90% RH, Temperatura 0 ~ 50 ℃   \n",
    "    • Exactitud: Humedad + -5% RH, temperatura + -2 ℃   \n",
    "    • Resolucion: Humedad 1% RH, temperatura 1 ℃  \n",
    "    • Estabilidad: <± 1% RH / Year  \n",
    "\n",
    "#### Esquema \n",
    "\n",
    "|Pin sensor| Pin arduino|\n",
    "|---       |---         |\n",
    "|(S)       |  8         |\n",
    "| (-)      | GND        |\n",
    "|(Medio)   |  +5        |\n",
    "\n"
   ]
  },
  {
   "cell_type": "markdown",
   "id": "d7a0e8e2",
   "metadata": {},
   "source": [
    "#### Programa de prueba\n",
    "```\n",
    "#include <Adafruit_Sensor.h>\n",
    "#include <DHT.h>\n",
    "#include <DHT_U.h>\n",
    "\n",
    "#define DHTPIN D3    \n",
    "#define DHTTYPE    DHT11       // DHT 11\n",
    "DHT_Unified dht(DHTPIN, DHTTYPE);\n",
    "\n",
    "void setup() {\n",
    "  Serial.begin(9600);\n",
    "    pinMode(DHTPIN, INPUT); \n",
    "  dht.begin();\n",
    "}\n",
    "\n",
    "void loop() {\n",
    "  // Delay between measurements.\n",
    "  delay(1000);\n",
    "  sensors_event_t event;\n",
    "  dht.temperature().getEvent(&event);\n",
    "  if (isnan(event.temperature)) {\n",
    "    Serial.println(\"Error lectura de  temperatura\");\n",
    "  }\n",
    "  else {\n",
    "    Serial.print(\"Temperatura: \");\n",
    "    Serial.print(event.temperature);\n",
    "    Serial.println(\"°C\");\n",
    "  }\n",
    "  // Get humidity event and print its value.\n",
    "  dht.humidity().getEvent(&event);\n",
    "  if (isnan(event.relative_humidity)) {\n",
    "    Serial.println(F(\"Error lectura de  humedad\"));\n",
    "  }\n",
    "  else {\n",
    "    Serial.print(F(\"Humedad: \"));\n",
    "    Serial.print(event.relative_humidity);\n",
    "    Serial.println(\"%\");\n",
    "  }\n",
    "}\n",
    "```"
   ]
  }
 ],
 "metadata": {
  "kernelspec": {
   "display_name": "Python 3 (ipykernel)",
   "language": "python",
   "name": "python3"
  },
  "language_info": {
   "codemirror_mode": {
    "name": "ipython",
    "version": 3
   },
   "file_extension": ".py",
   "mimetype": "text/x-python",
   "name": "python",
   "nbconvert_exporter": "python",
   "pygments_lexer": "ipython3",
   "version": "3.11.5"
  }
 },
 "nbformat": 4,
 "nbformat_minor": 5
}
