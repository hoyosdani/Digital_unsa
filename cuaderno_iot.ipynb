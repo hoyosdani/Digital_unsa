{
 "cells": [
  {
   "cell_type": "code",
   "execution_count": null,
   "metadata": {},
   "outputs": [],
   "source": []
  },
  {
   "cell_type": "markdown",
   "metadata": {},
   "source": [
    "# Internet de las cosas\n",
    "<img src=\"img/iot00.jpg\" alt=\"Imagen\"></img>\n",
    "\n"
   ]
  },
  {
   "cell_type": "markdown",
   "metadata": {},
   "source": [
    "## Indice\n",
    "\n",
    "#### Generalidades: \n",
    "\n",
    "Introducción, componentes, Raspberry Pi, WEMOS, MQTT, Node_Red\n",
    "\n",
    "#### MQTT: \n",
    "\n",
    "Introducción,  topologia,  topic, subcripcion, publicacion\n",
    "\n",
    "#### NODE-RED:\n",
    "\n",
    "Introducción, principios basicos, Entorno de desarrollo de Node-RED, Primer flujo con Node-RED, DashBoard, Ejemplo con actuador, ejemplo sensor, ejemplo actuador+ sensores\n"
   ]
  },
  {
   "cell_type": "markdown",
   "metadata": {},
   "source": [
    "## Generalidades"
   ]
  },
  {
   "cell_type": "markdown",
   "metadata": {},
   "source": [
    "\n",
    "### Introduccion\n",
    "IOT (internet of thing) internet de las cosas es una red que interconecta objetos físicos valiéndose de Internet, como ser encender la iluminación, medir la temperatura, prender el microondas o ver la cámara de seguridad. Cada uno de los objetos conectados a Internet tiene un IP  el cual es un numero que lo identifica y mediante el mismo puede ser accedido para recibir instrucciones. Así mismo, puede contactar con un servidor externo y enviar los datos que recoja.\n",
    "IOT se puede aplicar en:  \n",
    "\n",
    "    •  La industria de producción en masa\n",
    "    • Control de infraestructura urbana\n",
    "    • Control ambiental\n",
    "    • Sector salud\n",
    "\n",
    "Por ejemplo:\n",
    "\n",
    "- LUZ hogar\n",
    "- Estufa\n",
    "- Medir Temperatura\n",
    "- Prender microondas\n",
    "- Ver la cámara de seguridad"
   ]
  },
  {
   "cell_type": "markdown",
   "metadata": {},
   "source": [
    "### Componentes\n",
    "IOT implica interconectar distintos dispositivos: microcontroladores, microprocesadores, telefonos celulares, utilizando diversos lenguajes de programación, protocolos y tecnologías de redes. \n",
    "Para introducir el tema se utilizara \n",
    "\n",
    "|                              |                  |\n",
    "|---                           |---               |\n",
    "| Control central              | Raspberry pi     |\n",
    "| Control actuadores y sensores|  WEMOS           |\n",
    "| Tecnología de redes          | wifi             |\n",
    "| Protocolo de comunicación    | MQTT             |\n",
    "| Programa de gestion          | Node-red         |\n",
    "\n",
    "Ademas se utiliza el protocolo TCP-IP, la programación de WEMOS se realiza en C++. Node-red trabaja en javascript."
   ]
  },
  {
   "cell_type": "markdown",
   "metadata": {},
   "source": [
    "#### Raspberry pi:\n",
    "Es un ordenador de bajo coste y tamaño reducido. Fue diseñado en Reino Unido, con el  objetivo que los  niños  aprendan informática en las escuelas. Es un ordenador simple compuesto por un SoC (system on chip),  el cual tiene integrado CPU, memoria RAM, puertos de entrada y salida de audio y vídeo, conectividad de red. Ademas tiene una ranura SD para almacenamiento, una toma para la alimentación, conexiones para periféricos de bajo nivel, conexiones para camaras, Monitores Puerto USB\n"
   ]
  },
  {
   "cell_type": "markdown",
   "metadata": {},
   "source": [
    "#### Mqtt\n",
    " Protocolo que permite conectar dos microprocesadores de forma sencilla y transmitir informacion\n"
   ]
  },
  {
   "cell_type": "markdown",
   "metadata": {},
   "source": [
    "#### wifi\n"
   ]
  },
  {
   "cell_type": "markdown",
   "metadata": {},
   "source": [
    "#### Node-red"
   ]
  },
  {
   "cell_type": "markdown",
   "metadata": {},
   "source": [
    "## MQTT"
   ]
  },
  {
   "cell_type": "markdown",
   "metadata": {},
   "source": [
    "### Introducción\n",
    "MQTT son las siglas de Message Queue Telemetry Transport y tras ellas se encuentra un protocolo ideado por IBM y liberado para que cualquiera pueda usarlo enfocado a la conectividad Machine-to-Machine (M2M). Está enfocado al envío de datos en aplicaciones donde se requiere muy poco ancho de banda. Además, sus características le permite tener un consumo  bajo así como precisar de muy pocos recursos para su funcionamiento. Estas características han hecho que rápidamente se convierta en un protocolo muy empleado en la comunicación de sensores y, consecuentemente, dentro del Internet de las Cosas."
   ]
  },
  {
   "cell_type": "markdown",
   "metadata": {},
   "source": [
    "<img src=\"img/mqtt1.gif\" alt=\"Imagen\"></img>"
   ]
  },
  {
   "cell_type": "markdown",
   "metadata": {},
   "source": [
    "En cuanto a su arquitectura, es una topología en estrella, donde existe un nodo central o broker con capacidad para trabajar con un gran número de clientes. El broker es el elemento encargado de gestionar la red y transmitir los mensajes entre los clientes. Una característica interesante es la capacidad de MQTT para establecer comunicaciones cifradas lo que aporta a la red una capa extra de seguridad.\n",
    "\n",
    "MOTT utiliza una arquitectura publicación/suscripción, se trata de una arquitectura basada en eventos. Cada mensaje se envía a los receptores que se hayan suscrito a una publicación concreta. El Broker se encarga de distribuir los mensajes a los receptores.Un cliente se suscribe a un topic que es como el tema, a quién va dirigido el mensaje. Lo podemos asemejar como el asunto de un email. Un mensaje no tiene destinatario concreto, puede haber uno, muchos o ninguno."
   ]
  },
  {
   "cell_type": "markdown",
   "metadata": {},
   "source": [
    "<img src=\"img/mqtt2.gif\" alt=\"Imagen\"></img>"
   ]
  },
  {
   "cell_type": "markdown",
   "metadata": {},
   "source": [
    "Dentro de la arquitectura de MQTT, es muy importante el concepto \"topic\"(\"tema\")ya que a través de estos \"topics\" se articula la comunicación puesto que los clientes emisores y o receptores deben estar suscritos a un \"topic\" común para poder entablar la comunicación. Este tipo de arquitecturas, lleva asociada otra interesante característica: la comunicación puede ser de uno a uno o de uno a muchos. Además, los \"topics\" tienen una estructura jerárquica gracias a la cual podemos establecer relaciones padre-hijo y, al suscribir a un topic padre, se recibe también la información de sus hijos."
   ]
  },
  {
   "cell_type": "markdown",
   "metadata": {},
   "source": [
    "<img src=\"img/mqtt3.gif\" alt=\"Imagen\"></img>"
   ]
  },
  {
   "cell_type": "markdown",
   "metadata": {},
   "source": [
    "Por ejemplo tenemos un experimento que se llama planta, que tiene dos oficinas Oficina1 y Oficina2, En Oficina1 se debe prender Luz y medir temperatura mientras que en Oficina2 se debe prender Luz y medir Temperatura.\n",
    "\n",
    "|                     |                             |\n",
    "|---                  |---                          |\n",
    "| Luz                 |/Planta/Oficina1/Luz         |\n",
    "| Temperatura         |/Planta/Oficina1/Temperatura |\n",
    "| Luz                 |/Planta/Oficina2/Luz         |\n",
    "| Temperatura         |/Planta/Oficina2/Temperatura |\n",
    "\n"
   ]
  },
  {
   "cell_type": "markdown",
   "metadata": {},
   "source": [
    "### Mensajes\n",
    "\n",
    "Lo más importante dentro del protocolo MQTT son los mensajes. Se envían de forma asíncrona es decir, no hay que esperar respuesta una vez que se envía un mensaje.\n",
    "Cada mensaje consta de 3 partes:\n",
    "- Encabezado fijo. Ocupa sólo 2 bytes y es obligatorio enviar esta parte en todos los mensajes.\n",
    "- Encabezado variable. Ocupa 4 bits y no es obligatorio que esté en todos los mensajes.\n",
    "- Mensaje o carga útil (del inglés payload). Puede tener un máximo de 256 Mb aunque en implementaciones reales el máximo es de 2 a 4 kB.  \n",
    "\n",
    "Al ser uno de los objetivos consumir el menor ancho de banda, cada bit está estudiado cuidadosamente para que cumpla con este objetivo.  \n",
    "Una de las características más importantes es que los clientes o nodos no depende unos de otros ya que no tienen conocimiento de quién está al otro lado. Puede incluso que no haya nadie en el otro extremo.\n",
    "Esto permite algo muy importantes en proyectos de este tipo: la escalabilidad."
   ]
  },
  {
   "cell_type": "markdown",
   "metadata": {},
   "source": [
    "### Mosquitto\n",
    "\n",
    "#### Introducción\n",
    "\n",
    "Eclipse Mosquito es un Broker Open Source de la Eclipse Foundation distribuido bajo licencia EPL/EDL, compatible con el protocolo MQTT en sus versiones 3.1, 3.1.1, y 5.0. Está programado en C y es compatible con Windows, Linux y Mac.\n",
    "El hecho de que sea Open Source y su licenciamiento, así como que sea multiplataforma y que sea un broker liviano, son algunos delos motivos por los que este broker ha alcanzado tanta popularidad."
   ]
  },
  {
   "cell_type": "markdown",
   "metadata": {},
   "source": [
    "#### Instalación\n",
    "\n",
    "sudo apt update  \n",
    "sudo apt upgrade  \n",
    "sudo apt-get install mosquitto mosquitto-clients  "
   ]
  },
  {
   "cell_type": "markdown",
   "metadata": {},
   "source": [
    "### NODE_RED\n",
    "#### Introduccion\n",
    "\n",
    "Node-RED es una herramienta muy potente que sirve para comunicar hardware y servicios de una forma muy rápida y sencilla. Simplifica enormemente la tarea de programar del lado del servidor gracias a la programación visual.\n",
    "Fue creada por Nick O’Leary y Dave Conway-Jones del grupo de Servicios de Tecnologías Emergentes de IBM en el año 2013. Su objetivo es dar solución a la complejidad que surge cuando queremos integrar nuestro hardware con otros servicios.\n",
    "La estructura mínima son los nodos. Estos se arrastran a través de la interfaz gráfica y nos permiten hacer una tarea concreta. Recibir una llamada HTTP, un mensaje MQTT o la activación de un pulsador.  \n",
    "Todos estos nodos se organizan en flujos o flows que agrupan nodos que se conectan entre ellos. Todo de una forma visual, sin apenas tener que programar.  "
   ]
  },
  {
   "cell_type": "markdown",
   "metadata": {},
   "source": [
    "#### Node-RED, principios básicos  \n",
    "Node-RED está creado a partir de NodeJS y la librería de JavaScript D3.js.\n",
    "NodeJS proporciona la potencia suficiente para que Node-RED sea fiable y escalable. NodeJS es un software muy potente que permite la programación en JavaScript del lado del servidor.  \n",
    "Sus ventaja más importante es que está optimizado para poder tratar múltiples conexiones concurrentes de una manera óptima. Es el mayor ecosistema de código abierto que existe en el mundo y está siendo utilizado por empresas punteras como PayPal y Netflix.  \n",
    "Por otro lado, D3.js es el encargado de la interfaz web. Node-RED es accesible a través de un navegador es decir, sólo necesitamos acceder a una página web para poder crear nuestros propios sistemas. No hace falta instalar ningún entorno de desarrollo o IDE.  \n",
    "En esta aplicación web podremos arrastrar y conectar nodos con diferentes funcionalidades para crear flujos de datos que hagan una determinada cosa.  \n",
    "Por ejemplo, podemos suscribirnos a un topic de MQTT, recibir un dato de temperatura, almacenarlo en una base de datos y mostrarlo en un panel de control a través de una página web.  \n",
    "Una vez instalado para correr Node-red se  debe conocer la IP de la Raspberry pi por ejemplo 10.0.0.9 y se debe agregar el puerto 10.0.0.9:1880. Colocando lo anteriormente dicho en el navegador web se tiene Node-red funcionando en el navegador.  \n"
   ]
  },
  {
   "cell_type": "markdown",
   "metadata": {},
   "source": [
    "#### Entorno de desarrollo de Node-RED  \n",
    "Al ejecutar la aplicación aparece las siguientes secciones principales.\n",
    "\n"
   ]
  },
  {
   "cell_type": "markdown",
   "metadata": {},
   "source": [
    "<img src=\"img/node_red1.gif\" alt=\"Imagen\"></img>"
   ]
  },
  {
   "cell_type": "markdown",
   "metadata": {},
   "source": [
    "Los nodos son la unidad mínima que podemos encontrar en Node-RED. En la parte izquierda de la interfaz podemos ver la lista de nodos que vienen instalados por defecto y organizados en categorías según su funcionalidad.  \n",
    "Hay nodos de entrada, salida, funciones para almacenar datos, etc…   \n",
    "Se pueden clasificar en tres tipos de nodos:\n",
    "- Nodos que sólo admiten entradas: sólo admiten datos de entrada para ser enviados a algún sitio como pueda ser una base de datos o un panel de control.  \n",
    "- Nodos que sólo admiten salidas: son los nodos que sólo ofrecen datos tras recibirlos a través de diferentes métodos como por ejemplo un mensaje MQTT.  \n",
    "- Nodos que admiten entradas y salidas: estos nodos nos permiten la entrada de datos y luego ofrecen una o varias salidas. Por ejemplo, podemos leer una temperatura, transformarla en grados Celsius y enviarla a otro nodo.\n",
    "\n",
    "Los nodos se arrastran al flujo (flow, en inglés) para formar un programa. \n",
    "\n",
    "Podemos ver más información sobre lo que hace un nodo en el panel de información si hacemos click sobre cualquiera de ellos. \n",
    "Por último, el panel de debug sirve para mostrar mensajes de lo que está ocurriendo dentro de cada flujo o tratamiento de datos. \n",
    "Para que entiendas cómo funcionan, vamos a ver un ejemplo muy sencillo.\n",
    "4.4. Primer fl"
   ]
  },
  {
   "cell_type": "markdown",
   "metadata": {},
   "source": [
    "\n",
    "#### 4.4. Primer flujo con Node-RED\n",
    "Se realizar un flujo muy simple. Lo que hará es mostrar un texto por el panel de debug. Arrastra un nodo inject de la categoría input y un nodo debug de la categoría output al flujo. Los tienes que conectar entre ellos arrastrando el punto de la parte derecha del nodo inject sobre el punto de la parte izquierda del nodo debug."
   ]
  },
  {
   "cell_type": "markdown",
   "metadata": {},
   "source": [
    "<img src=\"img/node_red2.gif\" alt=\"Imagen\"></img>"
   ]
  },
  {
   "cell_type": "markdown",
   "metadata": {},
   "source": [
    "A continuación se edita el nodo inject. Hacer doble click sobre el nodo se abrirá un panel donde nos muestra diferentes parámetros. En este panel tienes que seleccionar del menú desplegable msg.Payload, la opción  String.\n",
    "En el campo de texto escribir por ejemplo Hola mundo.  \n",
    "Por últimose debe hacer click en Done.  "
   ]
  },
  {
   "cell_type": "markdown",
   "metadata": {},
   "source": [
    "<img src=\"img/node_red3.gif\" alt=\"Imagen\"></img>"
   ]
  },
  {
   "cell_type": "markdown",
   "metadata": {},
   "source": [
    "Para guardar la aplicación se debe ejecutar Deploy que pasa  de estar en un color rojo a gris oscuro."
   ]
  },
  {
   "cell_type": "markdown",
   "metadata": {},
   "source": [
    "Para probar este primer flujo con Node-RED se debe abrir el panel de debug que está situado en la parte derecha. Luego, se debe hacer click sobre la parte izquierda del nodo inject.  \n",
    "Esto hará que en el panel debug aparezca la leyenda escrita en la configuración del nodo inject."
   ]
  },
  {
   "cell_type": "markdown",
   "metadata": {},
   "source": [
    "<img src=\"img/node_red4.gif\" alt=\"Imagen\"></img>"
   ]
  },
  {
   "cell_type": "markdown",
   "metadata": {},
   "source": [
    "### DASHBOARD\n",
    "Permite generar una pagina web donde se puede mostrar información utilizando gráficos, textos, y controles utilizando botones etc. Para controlar estas opciones se utiliza:  \n",
    "- La barra lateral a la derecha Dashboard  \n",
    "- Nodos a la derecha en dashboard.  \n",
    "\n",
    "La barra dashboard tiene tres opciones\n",
    "- Layout: Permite organizar los distintos widget de la interfaz de usuario la cual se organiza en tabs y groups. \n",
    "    - Tabs: Son diferentes paginas de la interfase de usuario. Son de mayor jerarquia que los Groups\n",
    "    - Groups: Son secciones donde se organiza las “widgets” proporcionadas por los nodos.\n",
    "\n"
   ]
  },
  {
   "cell_type": "markdown",
   "metadata": {},
   "source": [
    "<img src=\"img/node_red5.gif\" alt=\"Imagen\"></img>"
   ]
  },
  {
   "cell_type": "markdown",
   "metadata": {},
   "source": [
    "- site: Configura la forma general de la interfaz de usuario"
   ]
  },
  {
   "cell_type": "markdown",
   "metadata": {},
   "source": [
    "<img src=\"img/node_red6.gif\" alt=\"Imagen\"></img>"
   ]
  },
  {
   "cell_type": "markdown",
   "metadata": {},
   "source": [
    "- theme o angular: Configura los colores de la interfaz de usuario."
   ]
  },
  {
   "cell_type": "markdown",
   "metadata": {},
   "source": [
    "Los Nodos proveen  widgets que pueden ser visualizadas en la  (UI) interfase de usuario."
   ]
  },
  {
   "cell_type": "markdown",
   "metadata": {},
   "source": [
    "<img src=\"img/node_red7.gif\" alt=\"Imagen\"></img>"
   ]
  },
  {
   "cell_type": "markdown",
   "metadata": {},
   "source": [
    "Widgets  \n",
    "\n",
    "| Nombre        | Función |\n",
    "|---            |     ---|\n",
    "| Audio out     | permite ejecutar audio. |\n",
    "| Button        | Permite realizar controles sobre algunos dispositivos |\n",
    "| Chart         | Grafica Datos |\n",
    "| Colour Picker | a colour picker widget. |\n",
    "| Date Picker   |Muestra la fecha | \n",
    "| Dropdown      | Permite visualizar multiples pares de  letreros y valores|\n",
    "| Form          | una widget que puede estar compuesta por varios widget|\n",
    "| Gauge         | Es un reloj  4 modos  |\n",
    "|               |1. standard (simple gauge)|\n",
    "|               |2. donut (complete 360°)|\n",
    "|               |3. compass|\n",
    "|               |4.  wave. You can also specify the colour range of the standard and donut gauges|\n",
    "| Notification  | crea una  alerta al usuario. |\n",
    "| Numeric       | Entrada numerica | \n",
    "| Slider        |un deslizador horizontal simple | \n",
    "| Switch        | can also set two icons and/or colours depending on state. |\n",
    "| Template      || \n",
    "| Text          |A read only widget, the layout of the label, and value can be configured. |\n",
    "| Text input    |text input box, with optional label, can also support password, email and colour modes. |\n"
   ]
  },
  {
   "cell_type": "markdown",
   "metadata": {},
   "source": [
    "### Ejemplo de uso de los widget de dashboard. "
   ]
  },
  {
   "cell_type": "markdown",
   "metadata": {},
   "source": [
    "<img src=\"img/node_red8.gif\" alt=\"Imagen\"></img>"
   ]
  },
  {
   "cell_type": "markdown",
   "metadata": {},
   "source": [
    "En layout se presiona tab, se crea un nombre en este caso “casa”, se presiona update"
   ]
  },
  {
   "cell_type": "markdown",
   "metadata": {},
   "source": [
    "<img src=\"img/node_red9.gif\" alt=\"Imagen\"></img>"
   ]
  },
  {
   "cell_type": "markdown",
   "metadata": {},
   "source": [
    "Se presiona group, se crea un grupo en este caso “hola”  \n",
    "Se realiza doble click sobre text y se debe conectar al group correspondiente  "
   ]
  },
  {
   "cell_type": "markdown",
   "metadata": {},
   "source": [
    "<img src=\"img/node_red10.gif\" alt=\"Imagen\"></img>"
   ]
  },
  {
   "cell_type": "markdown",
   "metadata": {},
   "source": [
    "<img src=\"img/node_red11.gif\" alt=\"Imagen\"></img>"
   ]
  },
  {
   "cell_type": "markdown",
   "metadata": {},
   "source": [
    "# Ejemplo Actuador\n",
    "\n",
    "Para controlar un actuador desde internet, utilizando iot. Se debe disponer de una microcomputadora que pueda ser conectada a internet, la misma debe ser de bajo costo. Se puede utilizar un dispositivos como wemos, nodemcu. los cuales   deben estar conectado a internet con alguna de las tecnologias, wifi, cableada, datos de celular . En nuestro caso elegimos WEMOS o nodemcu que se conecta a internet por wifi.    \n",
    "El protocolo de comunicación que se usara sera MQTT. El programa prendera un led cuando se ordene desde una pagina web. \n",
    "La estructura MQTT seria la de la figura\n"
   ]
  },
  {
   "cell_type": "markdown",
   "metadata": {},
   "source": [
    "<img src=\"img/node_red12.gif\" alt=\"Imagen\"></img>"
   ]
  },
  {
   "cell_type": "markdown",
   "metadata": {},
   "source": [
    "\n",
    "\n",
    "| Componentes | Hardware    |\n",
    "|---          |---          |\n",
    "|Broker       | raspberry pi|\n",
    "|Cliente luz  | nodemcu     |\n",
    "|Cliente ext  | Tablet      |"
   ]
  },
  {
   "cell_type": "markdown",
   "metadata": {},
   "source": [
    "### El codigo del programa en el esp8266 seria:\n"
   ]
  },
  {
   "cell_type": "markdown",
   "metadata": {},
   "source": [
    "#include <ESP8266WiFi.h>  \n",
    "#include <PubSubClient.h>  \n",
    "\n",
    "const char* ssid = \"LabElectronica\";  \n",
    "const char* password = \"lab.2018.electronica\";  \n",
    "const char* mqtt_server = \"192.168.20.116\";  \n",
    "WiiFiClient espClient;  \n",
    "PubSubClient client(espClient);  \n",
    "\n",
    "void setup() {  \n",
    "  Serial.begin(115200);  \n",
    "  delay(10);  \n",
    "  pinMode(BUILTIN_LED, OUTPUT);    \n",
    "  setup_wifi();  \n",
    "  client.setServer(mqtt_server, 1883);  \n",
    "  client.setCallback(callback);  \n",
    "}  \n",
    "void setup_wifi() {  \n",
    "  delay(10);  \n",
    "   WiFi.begin(ssid, password);  \n",
    "  while (WiFi.status() != WL_CONNECTED) {  \n",
    "    delay(500);  \n",
    "    Serial.print(\".\");  \n",
    "  }  \n",
    "  Serial.println(\"\");  \n",
    "  Serial.println(\"WiFi conectada\");  \n",
    "  Serial.print(\"IP address: \");  \n",
    "  Serial.println(WiFi.localIP());  \n",
    "}  \n",
    "void callback(char* topic, byte* payload, unsigned int length)   \n",
    "{  \n",
    "   for (int i = 0; i < length; i++)  \n",
    "      {  \n",
    "       Serial.print((char)payload[i]);  \n",
    "       }  \n",
    "  Serial.println();  \n",
    "  if ((char)payload[0] == '1')  \n",
    "       {  \n",
    "        digitalWrite(BUILTIN_LED, LOW);     \n",
    "       } else {  \n",
    "        digitalWrite(BUILTIN_LED, HIGH);   \n",
    "       }  \n",
    "}    \n",
    "\n",
    "void reconnect()   \n",
    "{  \n",
    "   while (!client.connected())   \n",
    "   {  \n",
    "    Serial.print(\"Attempting MQTT connection...\");  \n",
    "    // Attempt to connect  \n",
    "    if (client.connect(\"ESP8266Client\"))  \n",
    "           {  \n",
    "            client.subscribe(\"casa/luz\");  \n",
    "           } else   \n",
    "          {  \n",
    "           Serial.print(\"failed, rc=\");  \n",
    "           Serial.print(client.state());  \n",
    "          Serial.println(\" try again in 5 seconds\");  \n",
    "          delay(5000);  \n",
    "          }  \n",
    "    }  \n",
    "}  \n",
    "void loop()  \n",
    "{  \n",
    "    client.loop();  \n",
    "  long now = millis();  \n",
    "}  \n",
    "\n"
   ]
  },
  {
   "cell_type": "markdown",
   "metadata": {},
   "source": [
    "### Librerias necesarias para ejecutar el programa\n",
    "\n",
    "#include <ESP8266WiFi.h>    \n",
    "#include <PubSubClient.h>   \n",
    "\n",
    "|  libreria     | Función |\n",
    "|---            |---      |\n",
    "|ESP8266WiFi.h  | Permite utilizar WIFI  |\n",
    "|PubSubClient.h | Permite utilizar MQTT  |"
   ]
  },
  {
   "cell_type": "markdown",
   "metadata": {},
   "source": [
    "### Palabras Claves para acceder a la red\n",
    "\n",
    "const char* ssid = \"LabElectronica\";  \n",
    "const char* password = \"lab.2018.electronica\";  \n",
    "const char* mqtt_server = \"192.168.20.116\";  \n"
   ]
  },
  {
   "cell_type": "markdown",
   "metadata": {},
   "source": [
    "### Objetos importantes\n",
    "Se crean los objetos espClient con lo que se puede utilizar WIFI y client el cual es hijo de espClient y que permite usar MQT.  \n",
    "\n",
    "\n",
    "WiFiClient espClient;  \n",
    "PubSubClient client(espClient);  \n",
    "\n",
    "### Funcion de configuración\n",
    "\n",
    "\n",
    "| Configura |   Salidas        |  Sintaxis    |\n",
    "| ----      | ---              |---           |\n",
    "|           | BUITL_LED salida |  pinMode(BUILTIN_LED, OUTPUT); |\n",
    "|           | WIFI             | setup_wifi(); |\n",
    "|           | MQTT             |  client.setServer(mqtt_server, 1883); | \n",
    "|           |                  |  client.setCallback(callback);  |\n",
    "\n",
    "\n",
    "\n",
    "void setup() {    \n",
    "  Serial.begin(115200);  \n",
    "  delay(10);  \n",
    "  pinMode(BUILTIN_LED, OUTPUT);    \n",
    "  setup_wifi();  \n",
    "  client.setServer(mqtt_server, 1883);  \n",
    "  client.setCallback(callback);  \n",
    "}\n"
   ]
  },
  {
   "cell_type": "markdown",
   "metadata": {},
   "source": [
    "### Funcion setup_wifi()\n",
    "\n",
    "Inicializa wifi\n",
    "\n",
    "void setup_wifi() {  \n",
    "  delay(10);  \n",
    "   WiFi.begin(ssid, password);  \n",
    "  while (WiFi.status() != WL_CONNECTED) {  \n",
    "    delay(500);  \n",
    "    Serial.print(\".\");  \n",
    "  }  \n",
    "  Serial.println(\"\");  \n",
    "  Serial.println(\"WiFi conectada\");  \n",
    "  Serial.print(\"IP address: \");  \n",
    "  Serial.println(WiFi.localIP());  \n",
    "}  "
   ]
  },
  {
   "cell_type": "markdown",
   "metadata": {},
   "source": [
    "### Funcion callback\n",
    "\n",
    "Rutina que se utiliza para recibir y realizar las ordenes enviadas desde el servidor MQTT, el mesaje viene en el string  payload\n",
    "\n",
    "- Visualiza el topic\n",
    "- El mensajes\n",
    "- Ejecuta la orden\n",
    "\n",
    "void callback(char* topic, byte* payload, unsigned int length)  \n",
    "{  \n",
    "   for (int i = 0; i < length; i++)  \n",
    "      {  \n",
    "       Serial.print((char)payload[i]);  \n",
    "       }  \n",
    "  Serial.println();  \n",
    "  if ((char)payload[0] == '1')  \n",
    "       {  \n",
    "        digitalWrite(BUILTIN_LED, LOW);     \n",
    "       } else {  \n",
    "        digitalWrite(BUILTIN_LED, HIGH);   \n",
    "       }  \n",
    "}  "
   ]
  },
  {
   "cell_type": "markdown",
   "metadata": {},
   "source": [
    "### Funcion reconnect\n",
    "Se utiliza para conectar el cliente  MQTT   y  se suscribe como Topic casa/luz\n",
    "\n",
    "void reconnect()   \n",
    "{  \n",
    "   while (!client.connected())   \n",
    "   {  \n",
    "    Serial.print(\"Conectando conexion MQTT\");  \n",
    "    // Intentando conectar \n",
    "    if (client.connect(\"ESP8266Client\"))  \n",
    "           {  \n",
    "            client.subscribe(\"casa/luz\");  \n",
    "           } else   \n",
    "          {  \n",
    "           Serial.print(\"failed, rc=\");  \n",
    "           Serial.print(client.state());  \n",
    "          Serial.println(\" try again in 5 seconds\");  \n",
    "          delay(5000);  \n",
    "          }  \n",
    "    }  \n",
    "}  \n",
    "\n"
   ]
  },
  {
   "cell_type": "markdown",
   "metadata": {},
   "source": [
    "### Funcion loop\n",
    "\n",
    "void loop()  \n",
    "{\n",
    " if (!client.connected()) {  \n",
    "    reconnect();  \n",
    "  }  \n",
    "    client.loop();  \n",
    "  long now = millis();  \n",
    "}  \n"
   ]
  },
  {
   "cell_type": "markdown",
   "metadata": {},
   "source": [
    "### Uso de Dashboard\n",
    "\n",
    "Para manejarlo desde una pagina WEB con un control tipo llave se agrega del tooltip dashboard  el control switch."
   ]
  },
  {
   "cell_type": "markdown",
   "metadata": {},
   "source": [
    "<img src=\"img/node_red13.gif\" alt=\"Imagen\"></img>"
   ]
  },
  {
   "cell_type": "markdown",
   "metadata": {},
   "source": [
    "Se lo conecta a mqtt out se configura haciendo doble click sobre switch"
   ]
  },
  {
   "cell_type": "markdown",
   "metadata": {},
   "source": [
    "<img src=\"img/node_red14.gif\" alt=\"Imagen\"></img>"
   ]
  },
  {
   "cell_type": "markdown",
   "metadata": {},
   "source": [
    "Se coloca en GROUP donde se ubicara en la pagina WEB en Label el nombre que se desea utilizar LED y en On Payload el valor que se enviara al cliente WEMOS en este caso 1 al prender y 0 al apagar se debe seleccionar la opcion string.  \n",
    "La pagina Web queda por ahora.  "
   ]
  },
  {
   "cell_type": "markdown",
   "metadata": {},
   "source": [
    "<img src=\"img/node_red15.gif\" alt=\"Imagen\"></img>"
   ]
  },
  {
   "cell_type": "markdown",
   "metadata": {},
   "source": [
    "## Ejemplo sensor\n",
    "\n",
    "\n",
    "### Mensaje NODE-RED\n",
    "Un flujo Node-RED funciona pasando mensajes entre nodos. Los mensajes son simples objetos de JavaScript que pueden tener cualquier conjunto de propiedades.  \n",
    "Los mensajes generalmente tienen una propiedad payload: esta es la propiedad predeterminada con la que trabajarán la mayoría de los nodos.  \n",
    "Node-RED también agrega una propiedad llamada _msgid: este es un identificador para el mensaje que puede usarse para rastrear su progreso a través de un flujo.  \n",
    "El valor de una propiedad puede ser cualquier tipo de JavaScript válido, como:  \n",
    "\n",
    "    • Boolean – true, false  \n",
    "    • Number – eg 0, 123.4  \n",
    "    • String – “hello”  \n",
    "    • Array – [1,2,3,4]  \n",
    "    • Object – { “a”: 1, “b”: 2}  \n",
    "    • Null  \n",
    "\n"
   ]
  },
  {
   "cell_type": "markdown",
   "metadata": {},
   "source": [
    "### Entender la Estructura del Mensaje  \n",
    "\n",
    "La forma más fácil de comprender la estructura de un mensaje es pasarlo a un nodo de debug y verlo en la barra lateral de depuración.  \n",
    "De forma predeterminada, el nodo debug mostrará la propiedad msg.payload, pero se puede configurar para mostrar cualquier propiedad o el mensaje completo.  \n"
   ]
  },
  {
   "cell_type": "code",
   "execution_count": null,
   "metadata": {},
   "outputs": [],
   "source": []
  }
 ],
 "metadata": {
  "kernelspec": {
   "display_name": "Python 3",
   "language": "python",
   "name": "python3"
  },
  "language_info": {
   "codemirror_mode": {
    "name": "ipython",
    "version": 3
   },
   "file_extension": ".py",
   "mimetype": "text/x-python",
   "name": "python",
   "nbconvert_exporter": "python",
   "pygments_lexer": "ipython3",
   "version": "3.8.8"
  }
 },
 "nbformat": 4,
 "nbformat_minor": 2
}
