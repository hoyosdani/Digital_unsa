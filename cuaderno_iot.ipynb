{
 "cells": [
  {
   "cell_type": "code",
   "execution_count": null,
   "metadata": {},
   "outputs": [],
   "source": []
  },
  {
   "cell_type": "markdown",
   "metadata": {},
   "source": [
    "# Internet de las cosas\n",
    "<img src=\"img/iot00.jpg\" alt=\"Imagen\"></img>\n",
    "\n"
   ]
  },
  {
   "cell_type": "markdown",
   "metadata": {},
   "source": [
    "## Indice\n",
    "\n",
    "#### 1.- Generalidades: \n",
    "\n",
    "Introducción, componentes, Raspberry Pi, ESP8266, MQTT, Node_Red\n",
    "\n",
    "#### 2.-  MQTT: \n",
    "\n",
    "Introducción, topologia, topic, subcripcion/publicacion, mensajes, mosquitto\n",
    "#### 3.- Arduino\n",
    "\n",
    "#### 4.- ESP8266\n",
    "Introducción\n",
    "\n",
    "#### 5.- NODE-RED:\n",
    "\n",
    "Introducción, principios basicos, Entorno de desarrollo de Node-RED, Primer flujo con Node-RED, DashBoard, Ejemplo con actuador, ejemplo sensor, ejemplo actuador+ sensores\n"
   ]
  },
  {
   "cell_type": "markdown",
   "metadata": {},
   "source": [
    "## 1.- Generalidades"
   ]
  },
  {
   "cell_type": "markdown",
   "metadata": {},
   "source": [
    "\n",
    "### 1.1.- Introduccion\n",
    "\n",
    "IOT (internet of thing) internet de las cosas es una red que interconecta objetos físicos valiéndose de Internet, como ser encender la iluminación, medir la temperatura, prender el microondas o ver la cámara de seguridad. Cada uno de los objetos conectados a Internet tiene un IP  el cual es un numero que lo identifica y mediante el mismo puede ser accedido para recibir instrucciones. Así mismo, puede contactar con un servidor externo y enviar los datos que recoja.\n",
    "IOT se puede aplicar en:  \n",
    "\n",
    "    •  La industria de producción en masa\n",
    "    • Control de infraestructura urbana\n",
    "    • Control ambiental\n",
    "    • Sector salud\n",
    "\n",
    "Por ejemplo:\n",
    "\n",
    "- LUZ hogar\n",
    "- Estufa\n",
    "- Medir Temperatura\n",
    "- Prender microondas\n",
    "- Ver la cámara de seguridad"
   ]
  },
  {
   "cell_type": "markdown",
   "metadata": {},
   "source": [
    "### 1.2.- Componentes\n",
    "IOT implica interconectar distintos dispositivos: microcontroladores, microprocesadores, telefonos celulares, utilizando diversos lenguajes de programación, protocolos y tecnologías de redes. \n",
    "Para introducir el tema se utilizara \n",
    "\n",
    "|                              |                  |\n",
    "|---                           |---               |\n",
    "| Control central              | Raspberry pi     |\n",
    "| Control actuadores y sensores|  WEMOS           |\n",
    "| Tecnología de redes          | wifi             |\n",
    "| Protocolo de comunicación    | MQTT             |\n",
    "| Programa de gestion          | Node-red         |\n",
    "\n",
    "Ademas se utiliza el protocolo TCP-IP, la programación de WEMOS se realiza en C++. Node-red trabaja en javascript."
   ]
  },
  {
   "cell_type": "markdown",
   "metadata": {},
   "source": [
    "#### 1.3.- Raspberry pi:\n",
    "Es un ordenador de bajo coste y tamaño reducido. Fue diseñado en Reino Unido, con el  objetivo que los  niños  aprendan informática en las escuelas. Es un ordenador simple compuesto por un SoC (system on chip),  el cual tiene integrado CPU, memoria RAM, puertos de entrada y salida de audio y vídeo, conectividad de red. Ademas tiene una ranura SD para almacenamiento, una toma para la alimentación, conexiones para periféricos de bajo nivel, conexiones para camaras, Monitores Puerto USB\n"
   ]
  },
  {
   "cell_type": "markdown",
   "metadata": {},
   "source": [
    "#### 1.4.- ESP8266\n",
    "\n",
    "El ESP8266 es un chip de bajo costo Wi-Fi con un stack TCP/IP completo y un microcontrolador, fabricado por Espressif. Es un SOC (sistema en chip) de bajo costo que se utiliza como core de distintas placas, que se pueden programar en el entorno arduino. Un sistema en chip describe la tendencia cada vez más frecuente de usar tecnologías de fabricación que integran todos o gran parte de los módulos que componen un computador o cualquier otro sistema informático o electrónico en un único circuito integrado o chip. El cual tiene:\n",
    "\n",
    "    - Microcontrolador\n",
    "    - Wi-Fi\n",
    "    - stack TCP/IP\n",
    "    - Interfases\n",
    "    - SRAM\n",
    "    - PMU\n",
    "\n"
   ]
  },
  {
   "cell_type": "markdown",
   "metadata": {},
   "source": [
    "#### 1.5.- MQTT\n",
    " Protocolo que permite conectar dos microprocesadores de forma sencilla y transmitir informacion\n"
   ]
  },
  {
   "cell_type": "markdown",
   "metadata": {},
   "source": [
    "#### 1.6.- Node-red\n",
    "Node-RED es una herramienta que sirve para programar internet de las cosas comunicando hardware y servicios de una forma rápida y sencilla. Utiliza programación visual."
   ]
  },
  {
   "cell_type": "markdown",
   "metadata": {},
   "source": [
    "## 2.- MQTT"
   ]
  },
  {
   "cell_type": "markdown",
   "metadata": {},
   "source": [
    "### 2.1.- Introducción\n",
    "\n",
    "MQTT son las siglas de Message Queue Telemetry Transport y tras ellas se encuentra un protocolo ideado por IBM y liberado enfocado a la conectividad Machine-to-Machine (M2M). Está enfocado al envío de datos en aplicaciones donde se requiere muy poco ancho de banda. Además, sus características le permite tener un consumo  bajo así como precisar de muy pocos recursos para su funcionamiento. Estas características han hecho que rápidamente se convierta en un protocolo muy empleado en la comunicación de sensores y, consecuentemente, dentro del Internet de las Cosas."
   ]
  },
  {
   "cell_type": "markdown",
   "metadata": {},
   "source": [
    "<img src=\"img/mqtt1.gif\" alt=\"Imagen\"></img>"
   ]
  },
  {
   "cell_type": "markdown",
   "metadata": {},
   "source": [
    "### 2.2.- Topologia\n",
    "\n",
    "En cuanto a su arquitectura, es una topología en estrella, donde existe un nodo central o broker con capacidad para trabajar con un gran número de clientes. El broker es el elemento encargado de gestionar la red y transmitir los mensajes entre los clientes. Una característica interesante es la capacidad de MQTT para establecer comunicaciones cifradas lo que aporta a la red una capa extra de seguridad.\n",
    "\n"
   ]
  },
  {
   "cell_type": "markdown",
   "metadata": {},
   "source": [
    "<img src=\"img/mqtt2.gif\" alt=\"Imagen\"></img>"
   ]
  },
  {
   "cell_type": "markdown",
   "metadata": {},
   "source": [
    "### 2.3.-  Topic\n",
    "\n",
    "Dentro de la arquitectura de MQTT, es muy importante el concepto \"topic\"(\"tema\")ya que a través de estos \"topics\" se articula la comunicación puesto que los clientes emisores y o receptores deben estar suscritos a un \"topic\" común para poder entablar la comunicación. Este tipo de arquitecturas, lleva asociada otra interesante característica: la comunicación puede ser de uno a uno o de uno a muchos. Además, los \"topics\" tienen una estructura jerárquica gracias a la cual podemos establecer relaciones padre-hijo y, al suscribir a un topic padre, se recibe también la información de sus hijos."
   ]
  },
  {
   "cell_type": "markdown",
   "metadata": {},
   "source": [
    "<img src=\"img/mqtt3.gif\" alt=\"Imagen\"></img>"
   ]
  },
  {
   "cell_type": "markdown",
   "metadata": {},
   "source": [
    "Por ejemplo tenemos un experimento que se llama planta, que tiene dos oficinas Oficina1 y Oficina2, En Oficina1 se debe prender Luz y medir temperatura mientras que en Oficina2 se debe prender Luz y medir Temperatura.\n",
    "\n",
    "|                     |                             |\n",
    "|---                  |---                          |\n",
    "| Luz                 |/Planta/Oficina1/Luz         |\n",
    "| Temperatura         |/Planta/Oficina1/Temperatura |\n",
    "| Luz                 |/Planta/Oficina2/Luz         |\n",
    "| Temperatura         |/Planta/Oficina2/Temperatura |\n",
    "\n"
   ]
  },
  {
   "cell_type": "markdown",
   "metadata": {},
   "source": [
    "### 2.4.-  Subcripcion/publicacion\n",
    "MOTT utiliza una arquitectura publicación/suscripción, se trata de una arquitectura basada en eventos. Cada mensaje se envía a los receptores que se hayan suscrito a una publicación concreta. El Broker se encarga de distribuir los mensajes a los receptores.Un cliente se suscribe a un topic que es como el tema, a quién va dirigido el mensaje. Lo podemos asemejar como el asunto de un email. Un mensaje no tiene destinatario concreto, puede haber uno, muchos o ninguno."
   ]
  },
  {
   "cell_type": "markdown",
   "metadata": {},
   "source": [
    "### 2.5.- Mensajes\n",
    "\n",
    "Lo más importante dentro del protocolo MQTT son los mensajes. Se envían de forma asíncrona es decir, no hay que esperar respuesta una vez que se envía un mensaje.\n",
    "Cada mensaje consta de 3 partes:\n",
    "- Encabezado fijo. Ocupa sólo 2 bytes y es obligatorio enviar esta parte en todos los mensajes.\n",
    "- Encabezado variable. Ocupa 4 bits y no es obligatorio que esté en todos los mensajes.\n",
    "- Mensaje o carga útil (del inglés payload). Puede tener un máximo de 256 Mb aunque en implementaciones reales el máximo es de 2 a 4 kB.  \n",
    "\n",
    "Al ser uno de los objetivos consumir el menor ancho de banda, cada bit está estudiado cuidadosamente para que cumpla con este objetivo.  \n",
    "Una de las características más importantes es que los clientes o nodos no depende unos de otros ya que no tienen conocimiento de quién está al otro lado. Puede incluso que no haya nadie en el otro extremo.\n",
    "Esto permite algo muy importantes en proyectos de este tipo: la escalabilidad."
   ]
  },
  {
   "cell_type": "markdown",
   "metadata": {},
   "source": [
    "### 2.6.- Mosquitto\n",
    "\n",
    "#### 2.3.1.-Introducción\n",
    "\n",
    "Eclipse Mosquito es un Broker Open Source de la Eclipse Foundation distribuido bajo licencia EPL/EDL, compatible con el protocolo MQTT en sus versiones 3.1, 3.1.1, y 5.0. Está programado en C y es compatible con Windows, Linux y Mac.\n",
    "El hecho de que sea Open Source y su licenciamiento, así como que sea multiplataforma y que sea un broker liviano, son algunos delos motivos por los que este broker ha alcanzado tanta popularidad.\n",
    "\n",
    "#### 2.3.2.- Comando mosquitto_sub\n",
    "\n",
    "Este comando nos permite suscribirnos a un topic escuchando y mostrando por pantalla los mensajes enviados a este topic. Puede tomar muchos parámetros pero nosotros nos vamos a centrar en 4.\n",
    "\n",
    "mosquitto_sub -h BROKER -t TOPIC\n",
    "\n",
    "Donde:\n",
    "\n",
    "    - -h BROKER: Indica la dirección IP o nombre de la máquina en la red del Broker. \n",
    "    - -t: TOPIC Es el nombre del topic al que se suscribe.\n",
    "    - -p puerto   Puerto donde se leera el mensaje\n",
    "   \n",
    "\n",
    "#### 2.3.3.- Comando mosquitto_pub\n",
    "\n",
    "Con este comando se pueden publicar mensajes muy simples. Como ocurre con mosquitto_sub puede tomar muchos parámetros, este comando pero a nosotros nos importan sólo 6.\n",
    "mosquitto_pub -h BROKER -t TOPIC -m MENSAJE\n",
    "\n",
    "Donde:\n",
    "\n",
    "    - -h BROKER: Dirección IP o nombre de la máquina en la red del Broker.\n",
    "    - -t TOPIC: nombre del topic al que se enviara el mensaje.\n",
    "    - -m MENSAJE: el mensaje que queremos enviar. Tiene que ir entre comillas dobles («). Por ejemplo «Temperatura = 25ºC»."
   ]
  },
  {
   "cell_type": "markdown",
   "metadata": {},
   "source": [
    "#### 2.3.4.- Instalación en linux\n",
    "\n",
    "sudo apt update  \n",
    "sudo apt upgrade  \n",
    "sudo apt-get install mosquitto mosquitto-clients  "
   ]
  },
  {
   "cell_type": "markdown",
   "metadata": {},
   "source": [
    "#### 2.3.5.- Instalacion en windows\n",
    "\n",
    "Desde la pagina \n",
    "https://mosquitto.org/download/\n",
    "Bajar:\n",
    "\n",
    "mosquitto-2.0.15-install-windows-x64.exe (64-bit build, Windows Vista and up, built with Visual Studio Community 2019)\n",
    "\n",
    "Se debe dejar la opción de instalar Mosquitto como un servicio de Windows porque se incluirá en el apartado de procesos activos en el sistema. Se instalara por defecto en “Program Files\\Mosquitto”.\n",
    "\n",
    "##### Probar mosquitto\n",
    "\n",
    " - Abrir dos consolas de windows \n",
    "     - En buscar escribir consola\n",
    "     - Seleccionar simbolo de sistema\n",
    "     <img src=\"img/mosquitto-1.png\" alt=\"Imagen\"></img>\n",
    "     \n",
    " - Dirigirse en ambas a la direccion donde se instalo mosquitto\n",
    "       cd c:/PRogram Files/mosquitto\n",
    "       \n",
    "- Correr la siguiente linea en una consola \n",
    "       mosquitto_sub  -h localhost -p 1883 -t \"prueba\"\n",
    "       <img src=\"img/mosquitto_2.png\" alt=\"Imagen\"></img>\n",
    "       \n",
    "- Correr en la otra consola la siguiente linea\n",
    "       mosquitto_pub -t \"prueba\" -m \"Hola\"\n",
    "   <img src=\"img/mosquitto_3.png\" alt=\"Imagen\"></img>\n",
    "En la primer consola debe aparecer\n",
    "\n",
    " <img src=\"img/mosquitto_4.png\" alt=\"Imagen\"></img>\n",
    "\n",
    " "
   ]
  },
  {
   "cell_type": "markdown",
   "metadata": {},
   "source": [
    "## 3.- ARDUINO\n",
    "\n",
    "### 3.1.- Introducción\n",
    "\n",
    "El sistema de desarrollo arduino esta formado por tres partes:\n",
    "- Placas de hardware libre que incorporan un microcontrolador reprogramable y una serie de pines-hembra  que permiten conectar allí de forma muy sencilla y cómoda diferentes sensores y actuadores.\n",
    "\n",
    "- Entorno de desarrollo gratis, libre y multiplataforma (que funciona en Linux, MacOS y Windows) se deb instalar en el PC y que permite escribir, verificar y guardar  en la memoria del microcontrolador de la placa Arduino el programa que se desea ejecutar.\n",
    "\n",
    "- Lenguaje de programación libre. basado en C++ \n",
    "\n",
    "El entorno de programación se muestra en la figura, en la misma se puede observar las dos rutinas principales del entorno.\n",
    "<img src=\"img/arduino00.png\" alt=\"Imagen\"></img>\n",
    "\n",
    "Figura 1: Entorno de desarrollo para Arduino\n",
    "\n",
    "La estructura básica del lenguaje de programación Arduino es bastante simple y se organiza en al menos dos partes o funciones que encierran bloques de declaraciones.  \n",
    "\n",
    "`void setup()  \n",
    "\t\t    {  \n",
    "\t\t\t}  \n",
    "\t\tvoid loop()  \n",
    "\t\t\t{  \n",
    "\t\t\t}  `\n",
    "Ambas funciones son requeridas para que el programa funcione.\n",
    "\n",
    "Una función es un bloque de código que tiene un nombre y un grupo de declaraciones que se ejecutan cuando se llama a la misma. Podemos hacer uso de funciones integradas como void setup() y void loop() o escribir nuevas.\n"
   ]
  },
  {
   "cell_type": "markdown",
   "metadata": {},
   "source": [
    "#### Setup():\n",
    "\n",
    "La función setup debería contener la declaración de cualquier variable al comienzo del programa. Es la primera función a ejecutar en el programa, es ejecutada una vez y es usada para asignar pinMode o inicializar las comunicaciones serie.\n",
    "\n",
    "#### Loop(): \n",
    "\n",
    "La función loop se ejecuta a continuación e incluye el código que se ejecuta contínuamente leyendo entradas, activando salidas, etc. Esta función es el núcleo de todos los programas Arduino y hace la mayor parte del trabajo.\n"
   ]
  },
  {
   "cell_type": "markdown",
   "metadata": {},
   "source": [
    "### 3.2- Funciones\n",
    "\n",
    "Una función es un bloque de código que tiene un nombre y un grupo de declaraciones que se ejecutan cuando se llama a la función. Podemos hacer uso de funciones integradas como void setup() y void loop() o escribir nuevas. Las funciones se escriben para ejecutar tareas repetitivas. En primer lugar se declara el tipo de la función, que será el valor retornado por la función (int, void...). A continuación del tipo, se declara el nombre de la función y, entre paréntesis, los parámetros que se pasan a la función.  \n",
    "\n",
    "`type Nombrefuncion(parameters)`"
   ]
  },
  {
   "cell_type": "markdown",
   "metadata": {},
   "source": [
    "#### Llaves {}\n",
    "Las llaves definen el comienzo y el final de bloques de función y bloques de declaraciones como void loop() y sentencias for e if. Las llaves deben estar balanceadas (a una llave de apertura {debe seguirle una llave de cierre }). Las llaves no balanceadas provocan errores de compilación.  \n",
    "`void loop()  \n",
    "\t{  \n",
    "\tsentencias;  \n",
    "\t}  `"
   ]
  },
  {
   "cell_type": "markdown",
   "metadata": {},
   "source": [
    "#### Punto y coma ;\n",
    "\n",
    "Un punto y coma debe usarse al final de cada declaración y separa los elementos del programa. También se usa para separar los elementos en un bucle for.  \n",
    "\n",
    "`int x = 13;  `\n",
    "\n",
    "Nota: Olvidar un punto y coma al final de una declaración producirá un error de compilación.  "
   ]
  },
  {
   "cell_type": "markdown",
   "metadata": {},
   "source": [
    "#### Bloques de comentarios /*...*/\n",
    "Los bloques de comentarios, o comentarios multilínea, son áreas de texto ignoradas por el programa y se usan para grandes descripciones de código o comentarios que ayudan a otras personas a entender partes del programa. Empiezan con /* y terminan con */ y pueden abarcar múltiples líneas.\n",
    "\n",
    "#### Comentarios de línea //\n",
    "Comentarios de una línea empiezan con // y terminan con la siguiente línea de código. Como el bloque de comentarios, son ignorados por el programa y no toman espacio en memoria.\n",
    "\n",
    "\t\t`// este es un comentario de una línea`"
   ]
  },
  {
   "cell_type": "markdown",
   "metadata": {},
   "source": [
    "#### VARIABLES\n",
    "\n",
    "Una variable es una forma de llamar y almacenar un valor numérico para usarse después por el programa. Como su nombre indica, las variables son números que pueden cambiarse continuamente al contrario que las constantes, cuyo valor nunca cambia. Una variable necesita ser declarada y, opcionalmente, asignada al valor que necesita para ser almacenada.\n",
    "\n",
    "#### TIPOS DE DATOS\n",
    "##### byte: \n",
    "Byte almacena un valor numérico de 8 bits sin puntos decimales. Tienen un rango de 0 a 255.  \n",
    "\tbyte a = 180;  \n",
    "##### int:  \n",
    "Enteros son los tipos de datos primarios para almacenamiento de números sin puntos decimales y almacenan un valor de 16 bits con un rango de -32,768 a 32,767.  \n",
    "int a = 1500;  \n",
    "##### long:  \n",
    "Tipo de datos de tamaño extendido para enteros largos, sin puntos decimales, almacenados enun v alor de 32 bits con un rango de -2,146,483,648 a 2,147,483,647.  \n",
    "\tlong a = 90000;  \n",
    "##### float: \n",
    "Un tipo de datos para números en punto otante, o números que tienen un punto decimal. Los números en punto flotante tienen mayor resolución que los enteros y se almacenan como valor de 32 bits con un rango de -3.4028235E+38 a 3.4028235E+38.  \n",
    "\tfloat a = 3.14;  \n",
    "##### char: \n",
    "Un tipo de datos para presentar codigos ASCII simbolos y letras   \n",
    "\tchar a='c';  \n",
    "##### arrays: \n",
    "Un array es una colección de valores que son accedidos con un índice numérico. Cualquier valor en el array debe llamarse escribiendo el nombre del array y el índice numérico del valor. Los arrays están indexados a cero, con el primer valor en el array comenzando con el índice número 0. Un array necesita ser declarado y opcionalmente asignarle valores antes de que puedan ser usados.\n",
    "int a[] = {1, 2, 3...};\n"
   ]
  },
  {
   "cell_type": "markdown",
   "metadata": {},
   "source": [
    "#### Manejo de caracteres\n",
    "\n",
    "String: Se trata de una clase que permite usar y manipular cadenas de texto de una forma más sencilla que los strings. Puedes concatenar, añadir, buscar, etc… usando los métodos/funciones que ofrece esta clase. Los Strings tienen un uso intensivo de memoria, pero son muy útiles.Tener en cuenta que al no ser un tipo de dato propiamente dicho sino una clase, tienes unas funciones asociadas (métodos), operadores y unas propiedades. "
   ]
  },
  {
   "cell_type": "markdown",
   "metadata": {},
   "source": [
    "#### ARITMÉTICA\n",
    "Los operadores aritméticos incluyen suma, resta, multiplicación y división. Retorna la suma, diferencia, producto o cociente (respectivamente) de dos operandos.\n",
    "y = y+3;\n",
    "x = x-7;\n",
    "i = j*6;\n",
    "r = r/5;"
   ]
  },
  {
   "cell_type": "markdown",
   "metadata": {},
   "source": [
    "#### ASIGNACIONES COMPUESTAS\n",
    "Las asignaciones compuestas combinan una operación aritmética con una asignación de variable. Estas son muy frecuentemente encontradas en bucles for. Las asignaciones compuestas más comunes incluyen:  \n",
    "\n",
    "`\t\tx++; //lo mismo que x = x+1  \n",
    "\t\tx--; //lo mismo que x = x-1  \n",
    "\t\tx += y; //lo mismo que x = x+y  \n",
    "\t\tx -= y; //lo mismo que x = x-y  \n",
    "\t\tx *= y; //lo mismo que x = x*y  \n",
    "\t\tx /= y; //lo mismo que x = x/y  `"
   ]
  },
  {
   "cell_type": "markdown",
   "metadata": {},
   "source": [
    "#### OPERADORES DE COMPARACIÓN  \n",
    "Las comparaciones de una variable o constante con otra se usan a menudo en declaraciones if para comprobar si un condición específica es cierta.  \n",
    "\n",
    "` \t\tx == y; //x es igual a y  \n",
    "\t\tx != y; //x no es igual a y  \n",
    "\t\tx < y; //x es menor que y  \n",
    "\t\tx > y; //x es mayor que y  \n",
    "\t\tx <= y; //x es menor o igual que y  \n",
    "\t\tx >= y; //x es mayor o igual que y  `"
   ]
  },
  {
   "cell_type": "markdown",
   "metadata": {},
   "source": [
    "#### OPERADORES LÓGICOS  \n",
    "Los operadores lógicos son normalmente una forma de comparar dos expresiones y devuelve TRUE o FALSE dependiendo del operador. Hay tres operadores lógicos, AND, OR y NOT, que se usan a menudo en declaraciones if.  \n",
    "##### AND lógico: \n",
    "verdadero sólo si las dos expresiones son ciertas\n",
    "\t`\tif(x>0 && x<5)  `\n",
    "##### OR lógico: \n",
    "verdadero si al menos una expresión es cierta.\n",
    "\t\t`if(x>0 || y>0)`\n",
    "##### NOT lógico: \n",
    "verdadero sólo si la expresión es falsa  \n",
    "\t\t`if(!(x>0))  `\n"
   ]
  },
  {
   "cell_type": "markdown",
   "metadata": {},
   "source": [
    "#### CONSTANTES\n",
    "El lenguaje Arduino tiene unos cuantos valores predefinidos que se llaman constantes. Se usan para hacer los programas más legibles. Las constantes se clasifican en grupos.  \n",
    "##### TRUE/FALSE: \n",
    "Estas son constantes Booleanas que definen niveles lógicos. FALSE se define como 0 (cero) mientras TRUE es 1 o un valor distinto de 0.  \n",
    "`if(b == TRUE)  \n",
    "  {  \n",
    "  sentencias;  \n",
    "  } `\n",
    "##### HIGH/LOW: \n",
    "Estas constantes definen los niveles de pin como HIGH o LOW y se usan cuando se leen o se escriben los pines digitales. HIGH esta definido como el nivel 1 lógico, ON ó 5 V, mientras que LOW es el nivel lógico 0, OFF ó 0 V.  \n",
    "digitalWrite(13, HIGH);  \n",
    "\n",
    "##### INPUT/OUTPUT:\n",
    "Constantes usadas con la función pinMode() para definir el modo de un pin digital como INPUT u OUTPUT.  \n",
    "\t\t`pinMode(13, OUTPUT);  `"
   ]
  },
  {
   "cell_type": "markdown",
   "metadata": {},
   "source": [
    "### 3.3.- CONTROL DE FLUJO\n",
    "\n",
    "#### if: \n",
    "Las sentencias if comprueban si cierta condición ha sido alcanzada y ejecutan todas las sentencias dentro de las llaves si la declaración es cierta. Si es falsa el programa ignora la sentencia. \n",
    "\n",
    "`if(a==0)  \n",
    "\t\t\t{  \n",
    "\t\t\tsentencias;  \n",
    "\t\t\t}  `\n",
    "if. . . else: permite tomar decisiones esto - o esto.  \n",
    "\n",
    "`\tif(a == HIGH)  \n",
    "\t\t{  \n",
    "\t\thacerA;  \n",
    "\t\t}  \n",
    "\telse  \n",
    "\t\t{  \n",
    "\t\thacerB;  \n",
    "\t\t}  `\n",
    "#### for:\n",
    "La sentencia for se usa para repetir un bloque de declaraciones encerradas en llaves un número específico de veces. Un contador de incremento se usa a menudo para incrementar y terminar el bucle. Hay tres partes separadas por punto y coma (;), en la cabecera del bucle.  \n",
    "\n",
    "`\t\tfor(i=0; i<200; i++)  \n",
    "\t\t\t{  \n",
    "\t\t\tsentencias;  \n",
    "\t\t\t}  `\n",
    "#### while:\n",
    "El bucle while se repetirá continuamente, e infinitamente, hasta que la expresión dentro del paréntesis se vuelva falsa. Algo debe cambiar la variable testeada, o el bucle while nunca saldrá. Esto podría estar en tu código, como por ejemplo una variable incrementada, o una condición externa, como un sensor de comprobación. \n",
    "\n",
    "\t\t`while(a<200)  \n",
    "\t\t\t{  \n",
    "\t\t\ta++;  \n",
    "\t\t\t}  `\n",
    "#### do. . . while: \n",
    "\n",
    "El bucle do. . . while es un bucle que trabaja de la misma forma que el bucle while, con la excepción de que la condición es testeada al nal del bucle, por lo que el bucle do. . . while siempre se ejecutará al menos una vez.  \n",
    "\t`\tdo  \n",
    "\t\t\t{  \n",
    "\t\t\tsentencias;  \n",
    "\t\t\t}while(a < 200);  `"
   ]
  },
  {
   "cell_type": "markdown",
   "metadata": {},
   "source": [
    "### 3.4.- RESUMEN DE FUNCIONES PRINCIPALES DE ENTRADA SALIDA\n",
    "\n",
    "#### pinMode(pin, mode): \n",
    "Se usa en void setup() para configurar un pin específico para que se comporte o como INPUT o como OUTPUT.  \n",
    "\t\tpintMode(pin, OUTPUT); //ajusta 'pin' como salida  \n",
    "Los pines digitales de Arduino están ajustados a INPUT por defecto, por lo que no necesitan ser declarados explícitamente como entradas con pinMode(). Los pines configurados como INPUT se dice que están e un estado de alta impedancia. Hay también convenientes resistencias de pull-up de 20 KOhm, integradas en el chip ATmega que pueden ser accedidas por software. A estas resistencias pull-up integradas se accede de la siguiente manera.  \n",
    "\n",
    "\t\t`pinMode(pin, INPUT); //ajusta 'pin' como entrada  \n",
    "\t\tdigitalWrite(pin, HIGH); //activa la resistencia de pull-up  `\n",
    "        \n",
    "Las resistencias de pull-up se usarían normalmente para conectar entradas como interruptores. Los pines configurados como OUTPUT se dice que están en un estado de baja impedancia y pueden proporcionar 40 mA a otros dispositivos/circuitos.  \n",
    "\n",
    "Nota: Cortocircuitos en los pines de Arduino o corriente excesiva pueden dañar o destruir el pin de salida, o dañar el chip ATmega. A menudo es una buena idea conectar un pin OUTPUT a un dispositivo externo en serie con una resistencia de 470 Ohm o 1 KOhm.  \n",
    "\n",
    "#### digitalRead(pin):\n",
    "Lee el valor desde un pin digital con el resultado HIGH o LOW. El pin puede ser una variable o una constante (0 - 13).  \n",
    "\t`valor= digitalRead(13); //ajusta 'valor' igual al pin de entrada  `\n",
    "    \n",
    "#### digitalWrite(pin, valor): \n",
    "Devuelve el nivel lógico HIGH o LOW a (activa o desactiva) un pin digital especificado. El pin puede ser especificado como una variable o constante (0 – 13).  \n",
    "\n",
    "\t`\tdigitalWrite(pin, HIGH); //ajusta 'pin' a HIGH `  \n",
    "\n",
    "#### analogRead(pin):\n",
    "Lee el valor desde un pin analógico con una resolución de 10 bits. Esta función sólo trabaja en los pines analógicos (0 - 5). Los valores enteros devueltos están en el rango de 0 a 1023.\n",
    "\n",
    "`\t\tvalor= analogRead(pin); //ajusta 'value' igual a 'pin' `\n",
    "\n",
    "Nota: Los pines analógicos al contrario que los digitales, no necesitan ser declarados al principio como INPUT u OUTPUT.\n",
    "\n",
    "#### analogWrite(pin, value):\n",
    "Escribe un valor pseudo analógico usando modulación por ancho de pulso (a un pin de salida marcado como PWM. En los Arduinos más nuevos con el chip ATmega168, esta función trabaja en los pines 3, 5, 6, 9, 10 y 11. Los Arduinos más antiguos con un ATmega8 sólo soporta los pines 9, 10 y 11. El valor puede ser especificado como una variable o constante con un valor de 0 a 255.  \n",
    "\t\t`analogWrite(pin, valor); //escribe 'valor' al 'pin' analogico ` \n",
    "#### analogRead(pin):\n",
    "Lee el valor desde un pin analógico con una resolución de 10 bits. Esta función sólo trabaja en los pines analógicos (0 - 5). Los valores enteros devueltos están en el rango de 0 a 1023.\n",
    "\t\t`valor= analogRead(pin); //ajusta 'value' igual a 'pin'`\n",
    "Nota: Los pines analógicos al contrario que los digitales, no necesitan ser declarados al principio como INPUT u OUTPUT.P8266\n",
    "\n",
    "#### delay(ms):\n",
    "\n",
    "Pausa tu programa por la cantidad de tiempo especicada en milisegundos, donde 1000 es igual a 1 segundo.\n",
    "`delay(1000); //espera por un segundo`\n",
    "\n",
    "#### millis()\n",
    "Devuelve el número de milisegundos desde que la placa Arduino empezó a ejecutar el programa actual como un valor long sin signo.  \n",
    "\t\t`value = millis(); //ajusta 'value' igual a millis()  `\n",
    "Nota: Este número se desbordará (resetear de nuevo a cero), después de aproximadamente 9 horas.\n",
    "\n",
    "#### Serial.begin(rate):\n",
    "\n",
    "Abre el puerto serie y asigna la tasa de baudios para la transmisión de datos serie. La típica tasa de baudios para comunicarse con el ordenador es 9600 aunque otras velocidades están soportadas.\n",
    "\n",
    "`void setup()  \n",
    "\t{\t\t  \n",
    "Serial.begin(9600); //abre el puerto serie//ajusta la tasa de datos a 9600 bps  \n",
    "\t} ` \n",
    "Nota: Cuando se usa la comunicación serie, los pines digitales 0 (Rx) y 1 (Tx) no pueden ser usados al mismo tiempo.  \n",
    "\n",
    "#### Serial.println(data):\n",
    "\n",
    "Imprime datos al puerto serie, seguido de un retorno de carro y avance de línea automáticos. Este comando toma la misma forma que Serial.print(), pero es más fácil para leer datos en el Serial.  \n",
    "\t\t`\tSerial.println(analogValue); //envia el valor de 'analogValue'  `"
   ]
  },
  {
   "cell_type": "markdown",
   "metadata": {},
   "source": [
    "## 4.- ESP8266\n"
   ]
  },
  {
   "cell_type": "markdown",
   "metadata": {},
   "source": [
    "### 4.1 Introducción \n",
    "\n",
    "El ESP8266 es un SOC (sistema en chip)  de bajo costo que se utiliza como core de distintas placas, que se pueden programar en el entorno arduino. Un sistema en chip describe la tendencia cada vez más frecuente de usar tecnologías de fabricación que integran todos o gran parte de los módulos que componen un computador o cualquier otro sistema informático o electrónico en un único circuito integrado o chip. El cual tiene:  \n",
    "\n",
    " - Microcontrolador  \n",
    " - Wi-Fi  \n",
    " - stack TCP/IP   \n",
    " - Interfases\n",
    " - SRAM\n",
    " - PMU"
   ]
  },
  {
   "cell_type": "markdown",
   "metadata": {},
   "source": [
    "<img src= \"img/ESP8266EX-Diagrama_bloque.png\" alt=\"Imagen\"></img>"
   ]
  },
  {
   "cell_type": "markdown",
   "metadata": {},
   "source": [
    "### 4.2.- Microprocesador  \n",
    "\n",
    "El ESP8266 utiliza un CPU RISC de 32 bits fabricada por Tensilica dentro del modelo Xtensa LX106.   \n",
    "- Frecuencia 80 MHz\n",
    "- Caché de instrucciones de 64 KB \n",
    "- Cache  de datos de 96 KB,\n",
    "- Capacidad externa de memoria QSPI que puede llegar hasta los 16 MB, \n",
    "- soporte IEEE 802.11 b/g/n , TR switch, balun, LNA, soporte para WEP y WPA/WPA2.\n",
    "- 16 pines GPIO\n",
    "- UART, \n",
    "- SPI\n",
    "- I2C\n",
    "- I2S\n",
    "- Conversor AD 10 bits"
   ]
  },
  {
   "cell_type": "markdown",
   "metadata": {},
   "source": [
    " #### Tarjetas que usan ESP8266:  \n",
    " \n",
    " El esp8266 debe estar acompañado de una memoria flash QSPI de 512 KB a 4 MB. Lo que permite construir distintas tarjetas con distintas especificaciones:\n",
    "- Tamaño de memoria\n",
    "- Sistema de archivo\n",
    "- Entradas Salidas\n",
    "- Redes \n",
    "\n",
    "A continuación se describe algunas de ellas.\n",
    "\n",
    "|Tarjeta        |\ttamaño chip flash[ bytes] |Tamaño sistem. fich [bytes]|\n",
    "|---            |---                          |---                        |\n",
    "|Modulo generico| \t512k                      |64k, 128k                  |\n",
    "|Modulo generico| \t1M \t                      |64k, 128k, 256k, 512k      |\n",
    "|Modulo generico| \t2M                        |\t1M                        |\n",
    "|Modulo generico|\t4M \t                      |1M, 2M, 3M                 |\n",
    "|Adafruit HUZZAH|\t4M \t                      |1M, 2M, 3M                 |\n",
    "|ESPresso Lite 1.0| \t4M |\t1M, 2M, 3M|\n",
    "|ESPresso Lite 2.0| \t4M |\t1M, 2M, 3M|\n",
    "|NodeMCU 0.9| \t4M| \t1M, 2M, 3M|\n",
    "|NodeMCU 1.0| \t4M| \t1M, 2M, 3M|\n",
    "|Olimex MOD-WIFI-ESP8266(-DEV)| \t2M |\t1M|\n",
    "|SparkFun Thing| \t512k |\t64k|\n",
    "|SweetPea ESP-210| \t4M |\t1M, 2M, 3M |\n",
    "|WeMos D1 & D1 mini| \t4M |\t1M, 2M, 3M |\n",
    "|ESPDuino| \t4M |\t1M, 2M, 3M |\n",
    "|WiFiduino| \t4M |\t1M, 2M, 3M|\n"
   ]
  },
  {
   "cell_type": "markdown",
   "metadata": {},
   "source": [
    "### 4.3.- Instalar Plugin del ESP8266 para Arduino.\n",
    "\n",
    "Se debe configurar el IDE arduino\n",
    "\n",
    "archivo>Preferencias y en la casilla  “Gestor de URLs Adicionales de Tarjetas” agregar:\n",
    "\n",
    "http://arduino.esp8266.com/stable/package_esp8266com_index.json"
   ]
  },
  {
   "cell_type": "markdown",
   "metadata": {},
   "source": [
    "<img src=\"img/esp8266_plugins_1.png\" alt=\"Imagen\"></img>"
   ]
  },
  {
   "cell_type": "markdown",
   "metadata": {},
   "source": [
    "Seguidamente desde Herramientas>placa: … >Gestor de Tarjetas\n",
    "\n",
    "se busca en la lista  “esp8266 by ESP8266 Community“, se selecciona e instala"
   ]
  },
  {
   "cell_type": "markdown",
   "metadata": {},
   "source": [
    "<img src=\"img/esp8266_plugins_2.png\" alt=\"Imagen\"></img>"
   ]
  },
  {
   "cell_type": "markdown",
   "metadata": {},
   "source": [
    "### Librerias necesarias para ejecutar el programa\n",
    "\n",
    "#include <ESP8266WiFi.h>    \n",
    "#include <PubSubClient.h>   \n",
    "\n",
    "|  libreria     | Función |\n",
    "|---            |---      |\n",
    "|ESP8266WiFi.h  | Permite utilizar WIFI  |\n",
    "|PubSubClient.h | Permite utilizar MQTT  |"
   ]
  },
  {
   "cell_type": "markdown",
   "metadata": {},
   "source": [
    "### Palabras Claves para acceder a la red\n",
    "\n",
    "const char* ssid = \"LabElectronica\";  \n",
    "const char* password = \"lab.2018.electronica\";  \n",
    "const char* mqtt_server = \"192.168.20.116\";  \n"
   ]
  },
  {
   "cell_type": "markdown",
   "metadata": {},
   "source": [
    "### Objetos importantes\n",
    "Se crean los objetos espClient con lo que se puede utilizar WIFI y client el cual es hijo de espClient y que permite usar MQT.  \n",
    "\n",
    "\n",
    "WiFiClient espClient;  \n",
    "PubSubClient client(espClient);  \n",
    "\n",
    "### Funcion de configuración\n",
    "\n",
    "\n",
    "| Configura |   Salidas        |  Sintaxis    |\n",
    "| ----      | ---              |---           |\n",
    "|           | BUITL_LED salida |  pinMode(BUILTIN_LED, OUTPUT); |\n",
    "|           | WIFI             | setup_wifi(); |\n",
    "|           | MQTT             |  client.setServer(mqtt_server, 1883); | \n",
    "|           |                  |  client.setCallback(callback);  |\n",
    "\n",
    "\n",
    "\n",
    "void setup() {    \n",
    "  Serial.begin(115200);  \n",
    "  delay(10);  \n",
    "  pinMode(BUILTIN_LED, OUTPUT);    \n",
    "  setup_wifi();  \n",
    "  client.setServer(mqtt_server, 1883);  \n",
    "  client.setCallback(callback);  \n",
    "}\n"
   ]
  },
  {
   "cell_type": "markdown",
   "metadata": {},
   "source": [
    "### Funcion setup_wifi()\n",
    "\n",
    "Inicializa wifi\n",
    "\n",
    "void setup_wifi() {  \n",
    "  delay(10);  \n",
    "   WiFi.begin(ssid, password);  \n",
    "  while (WiFi.status() != WL_CONNECTED) {  \n",
    "    delay(500);  \n",
    "    Serial.print(\".\");  \n",
    "  }  \n",
    "  Serial.println(\"\");  \n",
    "  Serial.println(\"WiFi conectada\");  \n",
    "  Serial.print(\"IP address: \");  \n",
    "  Serial.println(WiFi.localIP());  \n",
    "}  "
   ]
  },
  {
   "cell_type": "markdown",
   "metadata": {},
   "source": [
    "### Funcion callback\n",
    "\n",
    "Rutina que se utiliza para recibir y realizar las ordenes enviadas desde el servidor MQTT, el mesaje viene en el string  payload\n",
    "\n",
    "- Visualiza el topic\n",
    "- El mensajes\n",
    "- Ejecuta la orden\n",
    "\n",
    "void callback(char* topic, byte* payload, unsigned int length)  \n",
    "{  \n",
    "   for (int i = 0; i < length; i++)  \n",
    "      {  \n",
    "       Serial.print((char)payload[i]);  \n",
    "       }  \n",
    "  Serial.println();  \n",
    "  if ((char)payload[0] == '1')  \n",
    "       {  \n",
    "        digitalWrite(BUILTIN_LED, LOW);     \n",
    "       } else {  \n",
    "        digitalWrite(BUILTIN_LED, HIGH);   \n",
    "       }  \n",
    "}  "
   ]
  },
  {
   "cell_type": "markdown",
   "metadata": {},
   "source": [
    "### Funcion reconnect\n",
    "Se utiliza para conectar el cliente  MQTT   y  se suscribe como Topic casa/luz\n",
    "\n",
    "void reconnect()   \n",
    "{  \n",
    "   while (!client.connected())   \n",
    "   {  \n",
    "    Serial.print(\"Conectando conexion MQTT\");  \n",
    "    // Intentando conectar \n",
    "    if (client.connect(\"ESP8266Client\"))  \n",
    "           {  \n",
    "            client.subscribe(\"casa/luz\");  \n",
    "           } else   \n",
    "          {  \n",
    "           Serial.print(\"failed, rc=\");  \n",
    "           Serial.print(client.state());  \n",
    "          Serial.println(\" try again in 5 seconds\");  \n",
    "          delay(5000);  \n",
    "          }  \n",
    "    }  \n",
    "}  \n",
    "\n"
   ]
  },
  {
   "cell_type": "markdown",
   "metadata": {},
   "source": [
    "### Funcion loop\n",
    "\n",
    "void loop()  \n",
    "{\n",
    " if (!client.connected()) {  \n",
    "    reconnect();  \n",
    "  }  \n",
    "    client.loop();  \n",
    "  long now = millis();  \n",
    "}  \n"
   ]
  },
  {
   "cell_type": "markdown",
   "metadata": {},
   "source": [
    "### NODE_RED\n",
    "#### Introduccion\n",
    "\n",
    "Node-RED es una herramienta muy potente que sirve para comunicar hardware y servicios de una forma muy rápida y sencilla. Simplifica enormemente la tarea de programar del lado del servidor gracias a la programación visual.\n",
    "Fue creada por Nick O’Leary y Dave Conway-Jones del grupo de Servicios de Tecnologías Emergentes de IBM en el año 2013. Su objetivo es dar solución a la complejidad que surge cuando queremos integrar nuestro hardware con otros servicios.\n",
    "La estructura mínima son los nodos. Estos se arrastran a través de la interfaz gráfica y nos permiten hacer una tarea concreta. Recibir una llamada HTTP, un mensaje MQTT o la activación de un pulsador.  \n",
    "Todos estos nodos se organizan en flujos o flows que agrupan nodos que se conectan entre ellos. Todo de una forma visual, sin apenas tener que programar.  "
   ]
  },
  {
   "cell_type": "markdown",
   "metadata": {},
   "source": [
    "#### Node-RED, principios básicos  \n",
    "Node-RED está creado a partir de NodeJS y la librería de JavaScript D3.js.\n",
    "NodeJS proporciona la potencia suficiente para que Node-RED sea fiable y escalable. NodeJS es un software muy potente que permite la programación en JavaScript del lado del servidor.  \n",
    "Sus ventaja más importante es que está optimizado para poder tratar múltiples conexiones concurrentes de una manera óptima. Es el mayor ecosistema de código abierto que existe en el mundo y está siendo utilizado por empresas punteras como PayPal y Netflix.  \n",
    "Por otro lado, D3.js es el encargado de la interfaz web. Node-RED es accesible a través de un navegador es decir, sólo necesitamos acceder a una página web para poder crear nuestros propios sistemas. No hace falta instalar ningún entorno de desarrollo o IDE.  \n",
    "En esta aplicación web podremos arrastrar y conectar nodos con diferentes funcionalidades para crear flujos de datos que hagan una determinada cosa.  \n",
    "Por ejemplo, podemos suscribirnos a un topic de MQTT, recibir un dato de temperatura, almacenarlo en una base de datos y mostrarlo en un panel de control a través de una página web.  \n",
    "Una vez instalado para correr Node-red se  debe conocer la IP de la Raspberry pi por ejemplo 10.0.0.9 y se debe agregar el puerto 10.0.0.9:1880. Colocando lo anteriormente dicho en el navegador web se tiene Node-red funcionando en el navegador.  \n"
   ]
  },
  {
   "cell_type": "markdown",
   "metadata": {},
   "source": [
    "#### Entorno de desarrollo de Node-RED  \n",
    "Al ejecutar la aplicación aparece las siguientes secciones principales.\n",
    "\n"
   ]
  },
  {
   "cell_type": "markdown",
   "metadata": {},
   "source": [
    "<img src=\"img/node_red1.gif\" alt=\"Imagen\"></img>"
   ]
  },
  {
   "cell_type": "markdown",
   "metadata": {},
   "source": [
    "Los nodos son la unidad mínima que podemos encontrar en Node-RED. En la parte izquierda de la interfaz podemos ver la lista de nodos que vienen instalados por defecto y organizados en categorías según su funcionalidad.  \n",
    "Hay nodos de entrada, salida, funciones para almacenar datos, etc…   \n",
    "Se pueden clasificar en tres tipos de nodos:\n",
    "- Nodos que sólo admiten entradas: sólo admiten datos de entrada para ser enviados a algún sitio como pueda ser una base de datos o un panel de control.  \n",
    "- Nodos que sólo admiten salidas: son los nodos que sólo ofrecen datos tras recibirlos a través de diferentes métodos como por ejemplo un mensaje MQTT.  \n",
    "- Nodos que admiten entradas y salidas: estos nodos nos permiten la entrada de datos y luego ofrecen una o varias salidas. Por ejemplo, podemos leer una temperatura, transformarla en grados Celsius y enviarla a otro nodo.\n",
    "\n",
    "Los nodos se arrastran al flujo (flow, en inglés) para formar un programa. \n",
    "\n",
    "Podemos ver más información sobre lo que hace un nodo en el panel de información si hacemos click sobre cualquiera de ellos. \n",
    "Por último, el panel de debug sirve para mostrar mensajes de lo que está ocurriendo dentro de cada flujo o tratamiento de datos. \n",
    "Para que entiendas cómo funcionan, vamos a ver un ejemplo muy sencillo.\n",
    "4.4. Primer fl"
   ]
  },
  {
   "cell_type": "markdown",
   "metadata": {},
   "source": [
    "\n",
    "#### 4.4. Primer flujo con Node-RED\n",
    "Se realizar un flujo muy simple. Lo que hará es mostrar un texto por el panel de debug. Arrastra un nodo inject de la categoría input y un nodo debug de la categoría output al flujo. Los tienes que conectar entre ellos arrastrando el punto de la parte derecha del nodo inject sobre el punto de la parte izquierda del nodo debug."
   ]
  },
  {
   "cell_type": "markdown",
   "metadata": {},
   "source": [
    "<img src=\"img/node_red2.gif\" alt=\"Imagen\"></img>"
   ]
  },
  {
   "cell_type": "markdown",
   "metadata": {},
   "source": [
    "A continuación se edita el nodo inject. Hacer doble click sobre el nodo se abrirá un panel donde nos muestra diferentes parámetros. En este panel tienes que seleccionar del menú desplegable msg.Payload, la opción  String.\n",
    "En el campo de texto escribir por ejemplo Hola mundo.  \n",
    "Por últimose debe hacer click en Done.  "
   ]
  },
  {
   "cell_type": "markdown",
   "metadata": {},
   "source": [
    "<img src=\"img/node_red3.gif\" alt=\"Imagen\"></img>"
   ]
  },
  {
   "cell_type": "markdown",
   "metadata": {},
   "source": [
    "Para guardar la aplicación se debe ejecutar Deploy que pasa  de estar en un color rojo a gris oscuro."
   ]
  },
  {
   "cell_type": "markdown",
   "metadata": {},
   "source": [
    "Para probar este primer flujo con Node-RED se debe abrir el panel de debug que está situado en la parte derecha. Luego, se debe hacer click sobre la parte izquierda del nodo inject.  \n",
    "Esto hará que en el panel debug aparezca la leyenda escrita en la configuración del nodo inject."
   ]
  },
  {
   "cell_type": "markdown",
   "metadata": {},
   "source": [
    "<img src=\"img/node_red4.gif\" alt=\"Imagen\"></img>"
   ]
  },
  {
   "cell_type": "markdown",
   "metadata": {},
   "source": [
    "### DASHBOARD\n",
    "Permite generar una pagina web donde se puede mostrar información utilizando gráficos, textos, y controles utilizando botones etc. Para controlar estas opciones se utiliza:  \n",
    "- La barra lateral a la derecha Dashboard  \n",
    "- Nodos a la derecha en dashboard.  \n",
    "\n",
    "La barra dashboard tiene tres opciones\n",
    "- Layout: Permite organizar los distintos widget de la interfaz de usuario la cual se organiza en tabs y groups. \n",
    "    - Tabs: Son diferentes paginas de la interfase de usuario. Son de mayor jerarquia que los Groups\n",
    "    - Groups: Son secciones donde se organiza las “widgets” proporcionadas por los nodos.\n",
    "\n"
   ]
  },
  {
   "cell_type": "markdown",
   "metadata": {},
   "source": [
    "<img src=\"img/node_red5.gif\" alt=\"Imagen\"></img>"
   ]
  },
  {
   "cell_type": "markdown",
   "metadata": {},
   "source": [
    "- site: Configura la forma general de la interfaz de usuario"
   ]
  },
  {
   "cell_type": "markdown",
   "metadata": {},
   "source": [
    "<img src=\"img/node_red6.gif\" alt=\"Imagen\"></img>"
   ]
  },
  {
   "cell_type": "markdown",
   "metadata": {},
   "source": [
    "- theme o angular: Configura los colores de la interfaz de usuario."
   ]
  },
  {
   "cell_type": "markdown",
   "metadata": {},
   "source": [
    "Los Nodos proveen  widgets que pueden ser visualizadas en la  (UI) interfase de usuario."
   ]
  },
  {
   "cell_type": "markdown",
   "metadata": {},
   "source": [
    "<img src=\"img/node_red7.gif\" alt=\"Imagen\"></img>"
   ]
  },
  {
   "cell_type": "markdown",
   "metadata": {},
   "source": [
    "Widgets  \n",
    "\n",
    "| Nombre        | Función |\n",
    "|---            |     ---|\n",
    "| Audio out     | permite ejecutar audio. |\n",
    "| Button        | Permite realizar controles sobre algunos dispositivos |\n",
    "| Chart         | Grafica Datos |\n",
    "| Colour Picker | a colour picker widget. |\n",
    "| Date Picker   |Muestra la fecha | \n",
    "| Dropdown      | Permite visualizar multiples pares de  letreros y valores|\n",
    "| Form          | una widget que puede estar compuesta por varios widget|\n",
    "| Gauge         | Es un reloj  4 modos  |\n",
    "|               |1. standard (simple gauge)|\n",
    "|               |2. donut (complete 360°)|\n",
    "|               |3. compass|\n",
    "|               |4.  wave. You can also specify the colour range of the standard and donut gauges|\n",
    "| Notification  | crea una  alerta al usuario. |\n",
    "| Numeric       | Entrada numerica | \n",
    "| Slider        |un deslizador horizontal simple | \n",
    "| Switch        | can also set two icons and/or colours depending on state. |\n",
    "| Template      || \n",
    "| Text          |A read only widget, the layout of the label, and value can be configured. |\n",
    "| Text input    |text input box, with optional label, can also support password, email and colour modes. |\n"
   ]
  },
  {
   "cell_type": "markdown",
   "metadata": {},
   "source": [
    "### Ejemplo de uso de los widget de dashboard. "
   ]
  },
  {
   "cell_type": "markdown",
   "metadata": {},
   "source": [
    "<img src=\"img/node_red8.gif\" alt=\"Imagen\"></img>"
   ]
  },
  {
   "cell_type": "markdown",
   "metadata": {},
   "source": [
    "En layout se presiona tab, se crea un nombre en este caso “casa”, se presiona update"
   ]
  },
  {
   "cell_type": "markdown",
   "metadata": {},
   "source": [
    "<img src=\"img/node_red9.gif\" alt=\"Imagen\"></img>"
   ]
  },
  {
   "cell_type": "markdown",
   "metadata": {},
   "source": [
    "Se presiona group, se crea un grupo en este caso “hola”  \n",
    "Se realiza doble click sobre text y se debe conectar al group correspondiente  "
   ]
  },
  {
   "cell_type": "markdown",
   "metadata": {},
   "source": [
    "<img src=\"img/node_red10.gif\" alt=\"Imagen\"></img>"
   ]
  },
  {
   "cell_type": "markdown",
   "metadata": {},
   "source": [
    "<img src=\"img/node_red11.gif\" alt=\"Imagen\"></img>"
   ]
  },
  {
   "cell_type": "markdown",
   "metadata": {},
   "source": [
    "# Ejemplo Actuador\n",
    "\n",
    "Para controlar un actuador desde internet, utilizando iot. Se debe disponer de una microcomputadora que pueda ser conectada a internet, la misma debe ser de bajo costo. Se puede utilizar un dispositivos como wemos, nodemcu. los cuales   deben estar conectado a internet con alguna de las tecnologias, wifi, cableada, datos de celular . En nuestro caso elegimos WEMOS o nodemcu que se conecta a internet por wifi.    \n",
    "El protocolo de comunicación que se usara sera MQTT. El programa prendera un led cuando se ordene desde una pagina web. \n",
    "La estructura MQTT seria la de la figura\n"
   ]
  },
  {
   "cell_type": "markdown",
   "metadata": {},
   "source": [
    "<img src=\"img/node_red12.gif\" alt=\"Imagen\"></img>"
   ]
  },
  {
   "cell_type": "markdown",
   "metadata": {},
   "source": [
    "\n",
    "\n",
    "| Componentes | Hardware    |\n",
    "|---          |---          |\n",
    "|Broker       | raspberry pi|\n",
    "|Cliente luz  | nodemcu     |\n",
    "|Cliente ext  | Tablet      |"
   ]
  },
  {
   "cell_type": "markdown",
   "metadata": {},
   "source": [
    "### Uso de Dashboard\n",
    "\n",
    "Para manejarlo desde una pagina WEB con un control tipo llave se agrega del tooltip dashboard  el control switch."
   ]
  },
  {
   "cell_type": "markdown",
   "metadata": {},
   "source": [
    "<img src=\"img/node_red13.gif\" alt=\"Imagen\"></img>"
   ]
  },
  {
   "cell_type": "markdown",
   "metadata": {},
   "source": [
    "Se lo conecta a mqtt out se configura haciendo doble click sobre switch"
   ]
  },
  {
   "cell_type": "markdown",
   "metadata": {},
   "source": [
    "<img src=\"img/node_red14.gif\" alt=\"Imagen\"></img>"
   ]
  },
  {
   "cell_type": "markdown",
   "metadata": {},
   "source": [
    "Se coloca en GROUP donde se ubicara en la pagina WEB en Label el nombre que se desea utilizar LED y en On Payload el valor que se enviara al cliente WEMOS en este caso 1 al prender y 0 al apagar se debe seleccionar la opcion string.  \n",
    "La pagina Web queda por ahora.  "
   ]
  },
  {
   "cell_type": "markdown",
   "metadata": {},
   "source": [
    "<img src=\"img/node_red15.gif\" alt=\"Imagen\"></img>"
   ]
  },
  {
   "cell_type": "markdown",
   "metadata": {},
   "source": [
    "### Codigo ESP8166"
   ]
  },
  {
   "cell_type": "markdown",
   "metadata": {},
   "source": [
    "#include <ESP8266WiFi.h>  \n",
    "#include <PubSubClient.h>  \n",
    "\n",
    "const char* ssid = \"LabElectronica\";  \n",
    "const char* password = \"lab.2018.electronica\";  \n",
    "const char* mqtt_server = \"192.168.20.116\";  \n",
    "WiiFiClient espClient;  \n",
    "PubSubClient client(espClient);  \n",
    "\n",
    "void setup() {  \n",
    "  Serial.begin(115200);  \n",
    "  delay(10);  \n",
    "  pinMode(BUILTIN_LED, OUTPUT);    \n",
    "  setup_wifi();  \n",
    "  client.setServer(mqtt_server, 1883);  \n",
    "  client.setCallback(callback);  \n",
    "}  \n",
    "void setup_wifi() {  \n",
    "  delay(10);  \n",
    "   WiFi.begin(ssid, password);  \n",
    "  while (WiFi.status() != WL_CONNECTED) {  \n",
    "    delay(500);  \n",
    "    Serial.print(\".\");  \n",
    "  }  \n",
    "  Serial.println(\"\");  \n",
    "  Serial.println(\"WiFi conectada\");  \n",
    "  Serial.print(\"IP address: \");  \n",
    "  Serial.println(WiFi.localIP());  \n",
    "}  \n",
    "void callback(char* topic, byte* payload, unsigned int length)   \n",
    "{  \n",
    "   for (int i = 0; i < length; i++)  \n",
    "      {  \n",
    "       Serial.print((char)payload[i]);  \n",
    "       }  \n",
    "  Serial.println();  \n",
    "  if ((char)payload[0] == '1')  \n",
    "       {  \n",
    "        digitalWrite(BUILTIN_LED, LOW);     \n",
    "       } else {  \n",
    "        digitalWrite(BUILTIN_LED, HIGH);   \n",
    "       }  \n",
    "}    \n",
    "\n",
    "void reconnect()   \n",
    "{  \n",
    "   while (!client.connected())   \n",
    "   {  \n",
    "    Serial.print(\"Attempting MQTT connection...\");  \n",
    "    // Attempt to connect  \n",
    "    if (client.connect(\"ESP8266Client\"))  \n",
    "           {  \n",
    "            client.subscribe(\"casa/luz\");  \n",
    "           } else   \n",
    "          {  \n",
    "           Serial.print(\"failed, rc=\");  \n",
    "           Serial.print(client.state());  \n",
    "          Serial.println(\" try again in 5 seconds\");  \n",
    "          delay(5000);  \n",
    "          }  \n",
    "    }  \n",
    "}  \n",
    "void loop()  \n",
    "{  \n",
    "    client.loop();  \n",
    "  long now = millis();  \n",
    "}  \n",
    "\n"
   ]
  },
  {
   "cell_type": "markdown",
   "metadata": {},
   "source": [
    "## Ejemplo sensor\n",
    "\n",
    "\n",
    "### Mensaje NODE-RED\n",
    "Un flujo Node-RED funciona pasando mensajes entre nodos. Los mensajes son simples objetos de JavaScript que pueden tener cualquier conjunto de propiedades.  \n",
    "Los mensajes generalmente tienen una propiedad payload: esta es la propiedad predeterminada con la que trabajarán la mayoría de los nodos.  \n",
    "Node-RED también agrega una propiedad llamada _msgid: este es un identificador para el mensaje que puede usarse para rastrear su progreso a través de un flujo.  \n",
    "El valor de una propiedad puede ser cualquier tipo de JavaScript válido, como:  \n",
    "\n",
    "    • Boolean – true, false  \n",
    "    • Number – eg 0, 123.4  \n",
    "    • String – “hello”  \n",
    "    • Array – [1,2,3,4]  \n",
    "    • Object – { “a”: 1, “b”: 2}  \n",
    "    • Null  \n",
    "\n"
   ]
  },
  {
   "cell_type": "markdown",
   "metadata": {},
   "source": [
    "### Entender la Estructura del Mensaje  \n",
    "\n",
    "La forma más fácil de comprender la estructura de un mensaje es pasarlo a un nodo de debug y verlo en la barra lateral de depuración.  \n",
    "De forma predeterminada, el nodo debug mostrará la propiedad msg.payload, pero se puede configurar para mostrar cualquier propiedad o el mensaje completo.  \n"
   ]
  },
  {
   "cell_type": "code",
   "execution_count": null,
   "metadata": {},
   "outputs": [],
   "source": []
  }
 ],
 "metadata": {
  "kernelspec": {
   "display_name": "Python 3",
   "language": "python",
   "name": "python3"
  },
  "language_info": {
   "codemirror_mode": {
    "name": "ipython",
    "version": 3
   },
   "file_extension": ".py",
   "mimetype": "text/x-python",
   "name": "python",
   "nbconvert_exporter": "python",
   "pygments_lexer": "ipython3",
   "version": "3.8.8"
  }
 },
 "nbformat": 4,
 "nbformat_minor": 2
}
