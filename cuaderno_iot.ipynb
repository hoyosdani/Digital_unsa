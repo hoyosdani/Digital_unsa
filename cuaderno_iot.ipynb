{
 "cells": [
  {
   "cell_type": "code",
   "execution_count": null,
   "metadata": {},
   "outputs": [],
   "source": []
  },
  {
   "cell_type": "markdown",
   "metadata": {},
   "source": [
    "# Internet de las cosas\n",
    "<img src=\"img/iot00.jpg\" alt=\"Imagen\"></img>\n",
    "\n"
   ]
  },
  {
   "cell_type": "markdown",
   "metadata": {},
   "source": [
    "## Indice\n",
    "\n",
    "#### 1.- Generalidades: \n",
    "\n",
    "Introducción, Internet, componentes, Raspberry Pi, ESP8266, MQTT, Node_Red\n",
    "\n",
    "#### 3.- Internet\n",
    "Introducción\n",
    "#### 4.-  MQTT: \n",
    "Introducción, topologia, topic, subcripcion/publicacion, mensajes, mosquitto\n",
    "#### 5.- Arduino\n",
    "Introducción\n",
    "#### 6.- ESP8266\n",
    "Introducción\n",
    "\n",
    "#### 7.- NODE-RED:\n",
    "\n",
    "Introducción, principios basicos, Entorno de desarrollo de Node-RED, Primer flujo con Node-RED, DashBoard, Ejemplo con actuador, ejemplo sensor, ejemplo actuador+ sensores\n"
   ]
  },
  {
   "cell_type": "markdown",
   "metadata": {},
   "source": [
    "## 1.- Generalidades"
   ]
  },
  {
   "cell_type": "markdown",
   "metadata": {},
   "source": [
    "\n",
    "#### 1.1.- Introduccion\n",
    "\n",
    "IOT (internet of thing) internet de las cosas es una red que interconecta objetos físicos valiéndose de Internet, como ser encender la iluminación, medir la temperatura, prender el microondas o ver la cámara de seguridad. Cada uno de los objetos conectados a Internet tiene un IP  el cual es un numero que lo identifica y mediante el mismo puede ser accedido para recibir instrucciones. Así mismo, puede contactar con un servidor externo y enviar los datos que recoja.\n",
    "IOT se puede aplicar en:  \n",
    "\n",
    "    •  La industria de producción en masa\n",
    "    • Control de infraestructura urbana\n",
    "    • Control ambiental\n",
    "    • Sector salud\n",
    "\n",
    "Por ejemplo:\n",
    "\n",
    "- LUZ hogar\n",
    "- Estufa\n",
    "- Medir Temperatura\n",
    "- Prender microondas\n",
    "- Ver la cámara de seguridad"
   ]
  },
  {
   "cell_type": "markdown",
   "metadata": {},
   "source": [
    "#### 1.2.- Internet\n",
    "\n",
    "Internet es un neologismo del inglés que significa red informática descentralizada de alcance global. Se trata de un sistema de redes interconectadas que utilizan la familia de protocolos TCP/IP que ofrece una gran diversidad de servicios y recursos, como, por ejemplo, el acceso a archivos de hipertexto a través de la web."
   ]
  },
  {
   "cell_type": "markdown",
   "metadata": {},
   "source": [
    "#### 1.3.- Componentes\n",
    "IOT implica interconectar distintos dispositivos: microcontroladores, microprocesadores, telefonos celulares, utilizando diversos lenguajes de programación, protocolos y tecnologías de redes. \n",
    "Para introducir el tema se utilizara \n",
    "\n",
    "|                              |                  |\n",
    "|---                           |---               |\n",
    "| Control central              | Raspberry pi     |\n",
    "| Control actuadores y sensores|  WEMOS           |\n",
    "| Tecnología de redes          | wifi             |\n",
    "| Protocolo de comunicación    | MQTT             |\n",
    "| Programa de gestion          | Node-red         |\n",
    "\n",
    "Ademas se utiliza el protocolo TCP-IP, la programación de WEMOS se realiza en C++. Node-red trabaja en javascript."
   ]
  },
  {
   "cell_type": "markdown",
   "metadata": {},
   "source": [
    "#### 1.4.- Raspberry pi:\n",
    "Es un ordenador de bajo coste y tamaño reducido. Fue diseñado en Reino Unido, con el  objetivo que los  niños  aprendan informática en las escuelas. Es un ordenador simple compuesto por un SoC (system on chip),  el cual tiene integrado CPU, memoria RAM, puertos de entrada y salida de audio y vídeo, conectividad de red. Ademas tiene una ranura SD para almacenamiento, una toma para la alimentación, conexiones para periféricos de bajo nivel, conexiones para camaras, Monitores Puerto USB\n"
   ]
  },
  {
   "cell_type": "markdown",
   "metadata": {},
   "source": [
    "#### 1.5.- ESP8266\n",
    "\n",
    "El ESP8266 es un chip de bajo costo Wi-Fi con un stack TCP/IP completo y un microcontrolador, fabricado por Espressif. Es un SOC (sistema en chip) de bajo costo que se utiliza como core de distintas placas, que se pueden programar en el entorno arduino. Un sistema en chip describe la tendencia cada vez más frecuente de usar tecnologías de fabricación que integran todos o gran parte de los módulos que componen un computador o cualquier otro sistema informático o electrónico en un único circuito integrado o chip. El cual tiene:\n",
    "\n",
    "    - Microcontrolador\n",
    "    - Wi-Fi\n",
    "    - stack TCP/IP\n",
    "    - Interfases\n",
    "    - SRAM\n",
    "    - PMU\n",
    "\n"
   ]
  },
  {
   "cell_type": "markdown",
   "metadata": {},
   "source": [
    "#### 1.6.- MQTT\n",
    " Protocolo que permite conectar dos microprocesadores de forma sencilla y transmitir informacion\n"
   ]
  },
  {
   "cell_type": "markdown",
   "metadata": {},
   "source": [
    "#### 1.7.- Node-red\n",
    "Node-RED es una herramienta que sirve para programar internet de las cosas comunicando hardware y servicios de una forma rápida y sencilla. Utiliza programación visual."
   ]
  },
  {
   "cell_type": "markdown",
   "metadata": {},
   "source": [
    "## 3.-Internet"
   ]
  },
  {
   "cell_type": "markdown",
   "metadata": {},
   "source": [
    "#### 3.1.- Introducción\n",
    "Internet es un neologismo del inglés que significa red informática descentralizada de alcance global. Se trata de un sistema de redes interconectadas que utilizan la familia de protocolos TCP/IP que ofrece una gran diversidad de servicios y recursos, como, por ejemplo, el acceso a archivos de hipertexto a través de la web.\n",
    "<img src=\"img/Internet.jpg-700x448.jpg\" alt=\"Imagen\"></img>\n",
    "\n",
    "#### 3.2.- Historia\n",
    "\n",
    "Internet surgió de un proyecto desarrollado en Estados Unidos para apoyar a sus fuerzas militares. Luego de su creación fue utilizado por el gobierno,universidades y otros centros académicos.\n",
    "\n",
    "- 1961: Leonard Kleinrock publicó desde el MIT el primer documento sobre la teoría de conmutación de paquetes. Kleinrock convenció a Lawrence Roberts de la factibilidad teórica de las comunicaciones vía paquetes en lugar de circuitos, lo cual resultó ser un gran avance en el camino hacia el trabajo informático en red. El otro paso fundamental fue hacer que los ordenadores dialogaran entre sí. Para explorar este terreno, en 1965, Roberts conectó una computadora TX2 en Massachusetts con una Q-32 en California a través de una línea telefónica conmutada de baja velocidad, creando así la primera (aunque reducida) red de computadoras de área amplia jamás construida\n",
    "\n",
    "- 1969: La primera red interconectada nace el 21 de noviembre de 1969, cuando se crea el primer enlace entre las universidades de UCLA y Stanford por medio de una línea telefónica conmutada, y gracias a los trabajos y estudios anteriores de varios científicos y organizaciones desde 1959 (ver: Arpanet). El mito de que ARPANET, la primera red, se construyó simplemente para sobrevivir a ataques nucleares sigue siendo muy popular. Sin embargo, este no fue el único motivo. Si bien es cierto que ARPANET fue diseñada para sobrevivir a fallos en la red, la verdadera razón para ello era que los nodos de conmutación eran poco fiables.\n",
    "\n",
    "- 1972: Se realiza la primera demostración pública de ARPANET, una nueva red de comunicaciones financiada por DARPA que funcionaba de forma distribuida sobre la red telefónica conmutada. El éxito de esta nueva arquitectura sirvió para que, en 1973, DARPA iniciara un programa de investigación sobre posibles técnicas para interconectar redes (orientadas al tráfico de paquetes) de distintas clases. Para este fin, desarrollaron nuevos protocolos de comunicaciones que permitiesen este intercambio de información de forma \"transparente\" para las computadoras conectadas. De la filosofía del proyecto surgió el nombre de \"Internet\", que se aplicó al sistema de redes interconectadas mediante los protocolos TCP e IP\n",
    "\n",
    "- 1983: El 1 de enero, ARPANET cambia el protocolo NCP por el TCP/IP. Ese mismo año, se crea el ISP con el fin de estandarizar el protocolo TCP/IP y de proporcionar recursos de investigación a Internet. Por otra parte, se centró la función de asignación de identificadores en la IANA que, más tarde, delegó parte de sus funciones en el Internet registry que, a su vez, proporciona servicios a los DNS.\n",
    "\n",
    "- 1986: La NSF comienza el desarrollo de NSFNET, que se convirtió en la principal Red en árbol de Internet, complementada después con las redes NSINET y ESNET, todas ellas en Estados Unidos. Paralelamente, otras redes troncales en Europa, tanto públicas como comerciales, junto con las americanas formaban el esqueleto básico (\"backbone\") de Internet\n",
    "\n",
    "- 1989: Con la integración de los protocolos OSI en la arquitectura de Internet, se inicia la tendencia actual de permitir no solo la interconexión de redes de estructuras dispares, sino también la de facilitar el uso de distintos protocolos de comunicaciones. Entre finales de 1989 y principios de 1990, en el CERN de Ginebra, un grupo de físicos encabezado por Tim Berners-Lee crea el lenguaje HTML basado en el SGML, y además el servicio hoy más popular de Internet: la World Wide Web (WWW).\n",
    "\n",
    "\n",
    "- 1990: el mismo equipo del CERN construye el primer cliente web, llamado primero WorldWideWeb y luego Nexus, y el primer servidor web.\n",
    "\n",
    "- 1993: El 22 de abril de 1993 aparece Mosaic, el primer navegador web que permitía ver texto y gráficos en línea -hasta entonces solo se podían ver los gráficos accediendo a los enlaces en el texto. Fue creado por el National Center for Supercomputing Applications (NCSA) y marcó el camino para los navegadores posteriores. Según la NCSA el tráfico de Internet se multiplicó por 10 en solo un año gracias a Mosaic.\n",
    "- 1995: Otra fecha importante fue la del 30 de abril de 1995. Este día se apaga el backbone original del NSFNET, convirtiendo oficialmente la red en árbol original en un grafo de interconexiones. En cualquier caso, la carga del backbone en esa fecha llevaba ya solo el intercambio de una pequeña parte del tráfico de Internet.\n",
    "\n",
    "- 2006: El 3 de enero, Internet alcanza los mil cien millones de usuarios. Además, se preveía que en diez años la cantidad de navegantes de la Red aumentara a 2000 millones.\n",
    "(wikipedia)"
   ]
  },
  {
   "cell_type": "markdown",
   "metadata": {},
   "source": [
    " #### 3.2 .-Red de datos\n",
    "\n",
    "Se entiende como red de datos aquella infraestructura que ha sido creada con el objetivo de transmitir datos e información de cualquier tipo desde un punto a otro. La finalidad de una red es la de compartir información.\n",
    "\n",
    "En estas redes no solo intervienen ordenadores, sino que el elemento más importante para la prestación de servicios son los servidores y los centros de procesamiento de datos (CPD). Por estos centros pasan absolutamente todos los datos que nosotros y las empresas envían y receben desde Internet, la red de redes.\n",
    "\n",
    "Veamos los cimientos en los que se basa una conexión de red, que serán el tipo, la topología y los protocolos que intervienen. Pensemos que servidores, ordenadores y enrutadores son el medio de conexión, no la propia red.\n",
    "#### 3.3.- Tipos de redes\n",
    "\n",
    "Con el tipo de red no nos referimos al esquema de conexión, esto es la topología, sino a su alcance desde el punto de vista geográfico.\n",
    "\n",
    "##### LAN\n",
    "\n",
    "Una red LAN o “Local Area Network”, es una red de comunicaciones construida mediante la interconexión de nodos mediante cables o medios inalámbricos. El ámbito de conexión está limitado por medios físicos, ya sea un edificio, planta o nuestra propia habitación. En ellas, la principal característica es que existen una serie de recursos compartidos accesibles solamente por los usuarios que pertenecen a ella, si posibilidad de acceso externo.\n",
    "\n",
    "##### MAN\n",
    "\n",
    "Además de ser hombre en inglés y una marca de camiones, también significa “Metropolitan Area Network”. Es el paso intermedio entre una red LAN y una red WAN, ya que la extensión de este tipo de redes comprende el territorio de una gran ciudad. Estas normalmente salen al exterior a través de un CPD o una centralita general conectada a un bus de alta velocidad de fibra óptica.\n",
    "\n",
    "##### WAN\n",
    "\n",
    "Esta es la red de mayor tamaño, la “Wide Area network” o red de ara amplia. No tiene limite predefinido, sino que es la red que permite conectar distintos puntos del mundo compuestos por áreas LAN o MAN, a través de enlaces troncales de alta capacidad. Como adivinareis, Internet es una red WAN.\n"
   ]
  },
  {
   "cell_type": "markdown",
   "metadata": {},
   "source": [
    "  Que son las redes LAN, MAN y WAN y para que se usan\n",
    "    Cómo monitorizar redes"
   ]
  },
  {
   "cell_type": "markdown",
   "metadata": {},
   "source": [
    "#### 3.3.- Topologías\n",
    "\n",
    "En los tipos de red anteriores se tiene una arquitectura de conexión o topología, en donde hay de distintos tipos que será útiles según para qué uso.\n",
    "\n",
    "- Bus\n",
    "- Anillo\n",
    "- Estrella\n",
    "- Malla\n",
    "- Inalámbrica\n",
    "\n",
    "La topologia mas usada es BUS. Se trata de un cable central en el que cuelgan los distintos nodos de la red. Este tronco debe ser un cable de alta capacidad, como coaxial o fibra óptica, y admite ramificaciones. Su ventaja es la sencillez y escalabilidad, pero si falla el tronco falla la red.\n",
    "\n",
    "https://www.profesionalreview.com/redes/"
   ]
  },
  {
   "cell_type": "markdown",
   "metadata": {},
   "source": [
    "#### 3.5.- Modelo TCP/IP\n",
    "\n",
    "Se entiende por protocolo el conjunto de reglas que se encargan de regir el intercambio de información a través de una red. Cuando se descar una imagen, se envia un correo no se esta enviando o recibimiento esta información de una vez. Esta se divide en partes, paquetes, que viajan por todo internet como si de una carretera se tratase. Esto es algo básico que se debe saber para entender una red.\n",
    "\n",
    "TCP/IP es un protocolo de enlace de datos que se usa en Internet para que los ordenadores y otros dispositivos envíen y reciban datos. TCP/IP son las siglas en inglés de Transmission Control Protocol/Internet Protocol (protocolo de control de transmisión/protocolo de Internet). Posibilita que los dispositivos conectados a Internet se comuniquen entre sí en varias redes.\n",
    "TCP e IP son protocolos distintos para redes informáticas. La diferencia entre TCP (protocolo de control de transmisión) e IP (protocolo de Internet) es su papel en el proceso de transmisión de datos. IP obtiene la dirección a la que se envían los datos (su ordenador tiene una dirección IP). TCP garantiza la entrega correcta de los datos una vez hallada dicha dirección IP. En combinación, ambos forman el protocolo TCP/IP.\n",
    "\n",
    "Referencia avg.com\n",
    "\n",
    "##### Nivel de enlace o acceso a la red: \n",
    "Es la primera capa del modelo y ofrece la posibilidad de acceso físico a la red, especificando el modo en que los datos deben enrutarse independientemente del tipo de red utilizado.\n",
    "\n",
    "- 92: red telefónica\n",
    "- DSL (Digital Subscriber Line): proporciona acceso a la red con datos digitales mediante cables de pares trenzados como los telefónicos\n",
    "- Ethernet: es el estándar de conexión cableadas, en el podemos encontrar las variantes 10BASE-T, 100BASE-T, 1000BASE-T, 1000BASE-SX, etc. Según la velocidad y capacidad del cable.\n",
    "- GSM: es la interfaz de conexión mediante radiofrecuencia\n",
    "- IEEE 802.11x: conjunto de normas de protocolo físico de la interconexión inalámbrica digital USB, FireWire, RS-232 o Bluetooth son otros protocolos que deberían sonaros\n",
    "\n",
    "\n",
    "##### Nivel de red o Internet: \n",
    "Proporciona el paquete de datos o datagramas y administra las direcciones IP. (Los datagramas son paquetes de datos que constituyen el mínimo de información en una red). Esta capa es considerada la más simportante y engloba protocolos como IP,ARP, ICMP, IGMP y RARP.\n",
    "\n",
    "##### Nivel de Transporte: \n",
    "Permiten conocer el estado de la transmisión así como los datos de enrutamiento y utilizan los puertos para asociar un tipo de aplicación con un tipo de dato.\n",
    "\n",
    "##### Nivel de Aplicación:\n",
    "\n",
    "Es la parte superior del protocolo TCP/IP y suministra las aplicaciones de red tip Telnet, FTP o SMTP, que se comunican con las capas anteriores (con protocolos TCP o UDP).\n",
    "\n",
    "https://openwebinars.net/blog/que-es-tcpip/\n",
    "\n"
   ]
  },
  {
   "cell_type": "markdown",
   "metadata": {},
   "source": [
    "\n",
    "#### 3.6.-Elementos que componen una red\n",
    "\n",
    "Ya sabemos que es una red y muchos de los protocolos que en ella intervienen pero ¿sabemos cómo se ve físicamente una red? Parecerá una tontería porque todos sabemos qué es un router pero haya muchos más elementos detrás de ella.\n",
    "Elementos de enrutamiento\n",
    "\n",
    "Empecemos por los elementos básicos que la mayoría de nosotros tenemos y que muchas veces no vemos.\n",
    "\n",
    "##### Cables\n",
    "\n",
    "Son el medio de transporte de datos entre dos puntos, por ello viaja la información en forma de cadenas de bits de ceros y unos. Esto es lo mismo que decir impulsos eléctricos, ya que la información en definitiva es electricidad a un determinado voltaje e intensidad. Aunque también se puede transmitir de forma inalámbrica mediante puntos de acceso por ondas electromagnéticas. Este elemento trabaja en la capa física del modelo OSI.\n",
    "\n",
    "En la actualidad existen muchos tipos de cables, pero los más utilizados en las LAN son los cables de pares trenzados. Están formados por parejas de conductores independientes y trenzados con un aislamiento en ellos, esto pueden ser UTP, FTP, STP, SSTP y SFTP. También existen cables coaxiales que cuentan con un núcleo de cobre con doble aislamiento y una malla que normalmente se utilizan en antes de televisión y redes en bus.\n",
    "\n",
    "##### Modem\n",
    "\n",
    "La palabra Modem viene de Modulador/Demodulador, y es un dispositivo que es capaz de convertir una señal de analógica a digital y viceversa. Pero claro, esto era antes, en los tiempos de las conexiones RTB, ya que ahora hay muchos otros tipos de modem. El modem trabaja en la capa 2 del modelo OSI.\n",
    "\n",
    "Por ejemplo, cuando estamos utilizando un teléfono móvil, tenemos un modem 3G, 4G o 5G en su interior, un elemento que se encarga de traducir las señales inalámbricas en impulsos eléctricos. Lo mismo ocurre con la fibra óptica, necesitamos un modem para traducir las señales de luz a eléctricas, que se hace mediante un SFP.\n",
    "\n",
    "##### Router y punto de acceso Wi-Fi\n",
    "\n",
    "El router o enrutador es trasto que todos tenemos en casa y en el que conectamos nuestro PC con el cable o por Wi-Fi.  Es el dispositivo que se encarga de interconectar  una red y enrutar cada paquete hacia el destinatario correspondiente. Funciona en la capa de red.\n",
    "\n",
    "Pero los routers actuales puede hacen mucho más que esto, ya que cuenta con un firmware interno programable que añade gran cantidad de funciones como DHCP, función de switch, cortafuegos, e incluso configuración de una red VPN personal. Estos también cuentan capacidad Wi-Fi para conectar dispositivos de forma inalámbrica en una red LAN.\n",
    "\n",
    "##### Switch y Hub\n",
    "\n",
    "Un switch o conmutador de red es un dispositivo que interconecta los dispositivos de una red de área local siempre en estrella. Encamina de forma inteligente todos los datos de la red hacia el cliente correspondiente gracias a su dirección MAC. Actualmente muchos routers cuentan con esta función ya implementada\n",
    "\n",
    "Un Hub o concentrador es por así decirlo, un “switch tonto” ya que comparte la red entre todos los dispositivos a la vez. Esto significa que los datos son recibidos y enviados a todos los nodos conectados haciendo la función de Broadcast.\n",
    "\n",
    "##### Servidores\n",
    "\n",
    "Un servidor es básicamente un equipo informático que brinda una serie de servicios a través de la red. Puede tratase de un simple ordenador, un equipo montado sobre un armario modular o incluso una impresora.\n",
    "\n",
    "Los servidores normalmente cuentan con un potente hardware capaz de atender miles de peticiones cada segundo de clientes a través de la red. A su vez, este enviará una respuesta a cada uno en función de lo que haya pedido: una página web, una dirección IP o un correo. Estos servidores funciones con un sistema operativo, puede ser Linux, Windows o el que sea, el cual será posiblemente virtualizado. Esto significa que en una sola máquina coexistirán varios sistemas corriendo a la vez y utilizando de forma compartir el hardware para proveer diferentes servicios de forma simultánea.\n",
    "\n",
    "##### Almacenamiento en la nube y NAS\n",
    "\n",
    "Otros elementos que tienen mucho protagonismo en la red son los sistemas de almacenamiento compartido o nubes privadas. Podríamos decir que es un servidor también, pero en este caso más que darnos un servicio, somos nosotros o los propios servidores los que acceden a su contenido.\n",
    "\n",
    "Cuando hablamos de una nube, nos estamos refiriendo a un medio de almacenamiento cuya ubicación física desconocemos. Solamente podemos acceder a este medio a través de clientes en forma de navegadores web o programas específicos, en el cual se nos presentan los datos como elementos compartidos para descargar y editar.\n",
    "\n",
    "Si queremos crear nuestra propia nube privada tenemos los NAS o Network-Attached Storage. Son dispositivos conectados a nuestra red LAN que nos proveen de un almacén de datos centralizado gracias a configuraciones RAID. En ellos podemos crear sistemas de almacenamiento masivo de hasta cientos de TB gracias a varios discos duros unidos en una matriz. Además, nos permitirán configurar un medio para copias de seguridad de ficheros con alta replicación mediante RAID 1, 5 y otros.\n",
    "\n",
    "##### Red pública y privada\n",
    "\n",
    "En este ámbito debemos entender por una red pública aquella que proporciona un servicio de conexión o telecomunicaciones a nuestro equipo a cambio del pago de una cuota de servicio. Cuando nos conectamos a nuestro servidor ISP (el que nos da Internet) nos estamos conectando a una red pública.\n",
    "\n",
    "Y entendemos por red privada aquella que de alguna forma será gestionada y controlada por un administrador, que podremos ser nosotros mismo u otra persona. Un ejemplo de red privada es nuestra propia LAN, la de una empresa o la de un edificio que sale a Internet a través de un router o servidor.\n",
    "\n",
    "Ya hemos visto que las redes VPN son un caso especial de red privada que opera sobre una red pública. Y también debemos saber que desde nuestros equipos podemos configurar nuestra red como pública o privada. En este caso significa que nuestro equipo se verá o no desde dentro de la propia red, es decir, con una red privada podemos comprar ficheros para que otros lo vean, mientras que con la red de tipo publico seremos invisibles por así decirlo.\n",
    "\n",
    "##### Direcciones Ipv4, Ipv6 y MAC\n",
    "\n",
    "Es una dirección lógica de 4 bytes o 32 bits cada uno de ellos separados por un punto, con la que se identifica unívocamente a un equipo o host en una red. Ya hemos visto que la dirección IP pertenece a la capa de red.\n",
    "\n",
    "Actualmente encontramos dos tipos de direcciones IP, la v4 y la v6. La primera es la más conocida, una dirección con cuatro valores que van desde el 0 hasta el 255. La segunda es una dirección lógica de 128 bits, que consiste en una cadena de 8 términos hexadecimales separados por “:”.\n",
    "\n",
    "\n",
    "Finalmente la dirección MAC (Media Access Control) es el identificativo único o dirección física de cada equipo que se conecta a la red. Cada nodo que se conecte a una red tendrá su propia dirección MAC, y esta le pertenece desde el día de su creación. Es un código de 48 bits en forma de 6 bloques con dos caracteres hexadecimales.\n",
    "#### Tipos de direcciones IP\n",
    "\n",
    "Hay diferentes categorías de direcciones IP, y en cada categoría, diferentes tipos.\n",
    "\n",
    "Cada individuo o empresa con un plan de servicio de Internet tendrá dos tipos de direcciones IP: sus direcciones IP privadas y su dirección IP pública. Los términos “pública” y “privada” se relacionan con la ubicación de la red, es decir, una dirección IP privada se utiliza dentro de una red, mientras que una pública se utiliza fuera de ella.\n",
    "\n",
    "##### Direcciones IP privadas\n",
    "\n",
    "Cada dispositivo que se conecta a tu red de Internet tiene una dirección IP privada. Esto incluye computadoras, teléfonos y tablets, pero también cualquier dispositivo que pueda conectarse mediante Bluetooth, como los altavoces, impresoras o televisores inteligentes. Con el creciente Internet de las cosas, la cantidad de direcciones IP privadas que tienes en casa probablemente está aumentando. El enrutador necesita una forma de identificar estos artículos por separado y muchos necesitan una forma de reconocerse entre sí. Por lo tanto, tu enrutador genera direcciones IP privadas que son identificadores únicos para cada dispositivo que los diferencian dentro la red.\n",
    "\n",
    "##### Direcciones IP públicas\n",
    "\n",
    "Una dirección IP pública es la dirección principal asociada a toda la red. Si bien cada dispositivo conectado tiene su propia dirección IP, también se incluyen en la dirección IP principal de la red. Como se describió anteriormente, tu ISP proporciona la dirección IP pública de tu enrutador. Normalmente, los ISP tienen un gran conjunto de direcciones IP que distribuyen a sus clientes. Tu dirección IP pública es la dirección que todos los dispositivos fuera de tu red de Internet utilizarán para reconocer tu red.\n",
    "\n",
    "- Direcciones IP dinámicas: Las direcciones IP dinámicas cambian de forma automática y con regularidad. Los ISP compran un gran grupo de direcciones IP y las asignan automáticamente a sus clientes. De forma periódica, reasignan y devuelven las direcciones IP más antiguas al grupo para que las utilicen otros clientes. La explicación detrás de esta estrategia es generar ahorros para el ISP. Automatizar el movimiento regular de las direcciones IP significa que no es necesario realizar acciones específicas para restablecer la dirección IP de un cliente, por ejemplo, si se muda de casa. También existen beneficios de seguridad, ya que una dirección IP cambiante facilita a los delincuentes el pirateo de la interfaz de red.\n",
    "\n",
    "- Direcciones IP estáticas: Por el contrario, las direcciones IP estáticas son siempre las mismas. Una vez que la red asigna una dirección IP, esta permanece igual. La mayoría de las personas y empresas no necesitan una dirección IP estática, pero para las empresas que planean alojar su propio servidor, es fundamental tener una. Esto se debe a que una dirección IP estática garantiza que los sitios web y las direcciones de correo electrónico vinculados tengan una dirección IP constante, lo que es vital si desea que otros dispositivos puedan encontrarlos de manera predecible en la Web.\n",
    "\n",
    "\n",
    "\n",
    "#### Puertos físicos y lógicos\n",
    "\n",
    "Los puertos de red son las conexiones físicas que utilizamos para conectar los dispositivos entre ellos. Por ejemplo, RJ-45 es el puerto Ethernet en el que se conectan los ordenadores mediante cables UTP. Si utilizamos fibra óptica, entonces estaremos conectando el cable a un puerto SPF, si lo hacemos por cable coaxial, entonces se llamará conector F. En las líneas telefónicas utilizamos el conector RJ-11.\n",
    "\n",
    "Pero en Internet casi siempre se habla de puertos de red, es decir los puertos lógicos de la conexión. Estos puertos los establece el modelo OSI en la capa de transporte y están numerados con una palabra de 16 bits (desde el 0 hasta el 65535), y identifica la aplicación que lo usa. Realmente podemos decidir nosotros por qué puerto se conectará una aplicación, aunque normalmente se mantienen identificados con el estándar establecido. Los puertos más importantes y sus aplicaciones son:\n",
    "\n",
    "   - HTTP: 80\n",
    "   - HTTPS: 443\n",
    "   - FTP: 20 y 21\n",
    "   - SMTP/s: 25/465\n",
    "   - IMAP: 143, 220 y 993\n",
    "   - SSH: 22\n",
    "   - DHCP: 67 y 68\n",
    "   - MySQL: 3306\n",
    "   - SQL Server: 1433\n",
    "   - eMule: 3306\n",
    "   - BitTorrent: 6881 y 6969\n",
    "\n",
    "Podemos distinguir tres rangos de puertos. Desde el 0 al 1024 son puertos reservados para el sistema y protocolos bien conocidos. Desde el 1024 hasta el 49151 son los puertos registrados que se pueden utilizar para lo que queramos. Finalmente tenemos los puertos privados que van desde el 49152 hasta el 65535 y se utilizan para asignarlos a las aplicaciones clientes, y normalmente se usan para las conexiones P2P.\n",
    "\n",
    "https://www.profesionalreview.com/redes/"
   ]
  },
  {
   "cell_type": "markdown",
   "metadata": {},
   "source": [
    "## 2.- MQTT"
   ]
  },
  {
   "cell_type": "markdown",
   "metadata": {},
   "source": [
    "### 2.1.- Introducción\n",
    "\n",
    "MQTT son las siglas de Message Queue Telemetry Transport y tras ellas se encuentra un protocolo ideado por IBM y liberado enfocado a la conectividad Machine-to-Machine (M2M). Está enfocado al envío de datos en aplicaciones donde se requiere muy poco ancho de banda. Además, sus características le permite tener un consumo  bajo así como precisar de muy pocos recursos para su funcionamiento. Estas características han hecho que rápidamente se convierta en un protocolo muy empleado en la comunicación de sensores y, consecuentemente, dentro del Internet de las Cosas."
   ]
  },
  {
   "cell_type": "markdown",
   "metadata": {},
   "source": [
    "<img src=\"img/mqtt1.gif\" alt=\"Imagen\"></img>"
   ]
  },
  {
   "cell_type": "markdown",
   "metadata": {},
   "source": [
    "### 2.2.- Topologia\n",
    "\n",
    "En cuanto a su arquitectura, es una topología en estrella, donde existe un nodo central o broker con capacidad para trabajar con un gran número de clientes. El broker es el elemento encargado de gestionar la red y transmitir los mensajes entre los clientes. Una característica interesante es la capacidad de MQTT para establecer comunicaciones cifradas lo que aporta a la red una capa extra de seguridad.\n",
    "\n"
   ]
  },
  {
   "cell_type": "markdown",
   "metadata": {},
   "source": [
    "<img src=\"img/mqtt2.gif\" alt=\"Imagen\"></img>"
   ]
  },
  {
   "cell_type": "markdown",
   "metadata": {},
   "source": [
    "### 2.3.-  Topic\n",
    "\n",
    "Dentro de la arquitectura de MQTT, es muy importante el concepto \"topic\"(\"tema\")ya que a través de estos \"topics\" se articula la comunicación puesto que los clientes emisores y o receptores deben estar suscritos a un \"topic\" común para poder entablar la comunicación. Este tipo de arquitecturas, lleva asociada otra interesante característica: la comunicación puede ser de uno a uno o de uno a muchos. Además, los \"topics\" tienen una estructura jerárquica gracias a la cual podemos establecer relaciones padre-hijo y, al suscribir a un topic padre, se recibe también la información de sus hijos."
   ]
  },
  {
   "cell_type": "markdown",
   "metadata": {},
   "source": [
    "<img src=\"img/mqtt3.gif\" alt=\"Imagen\"></img>"
   ]
  },
  {
   "cell_type": "markdown",
   "metadata": {},
   "source": [
    "Por ejemplo tenemos un experimento que se llama planta, que tiene dos oficinas Oficina1 y Oficina2, En Oficina1 se debe prender Luz y medir temperatura mientras que en Oficina2 se debe prender Luz y medir Temperatura.\n",
    "\n",
    "|                     |                             |\n",
    "|---                  |---                          |\n",
    "| Luz                 |/Planta/Oficina1/Luz         |\n",
    "| Temperatura         |/Planta/Oficina1/Temperatura |\n",
    "| Luz                 |/Planta/Oficina2/Luz         |\n",
    "| Temperatura         |/Planta/Oficina2/Temperatura |\n",
    "\n"
   ]
  },
  {
   "cell_type": "markdown",
   "metadata": {},
   "source": [
    "### 2.4.-  Subcripcion/publicacion\n",
    "MOTT utiliza una arquitectura publicación/suscripción, se trata de una arquitectura basada en eventos. Cada mensaje se envía a los receptores que se hayan suscrito a una publicación concreta. El Broker se encarga de distribuir los mensajes a los receptores.Un cliente se suscribe a un topic que es como el tema, a quién va dirigido el mensaje. Lo podemos asemejar como el asunto de un email. Un mensaje no tiene destinatario concreto, puede haber uno, muchos o ninguno."
   ]
  },
  {
   "cell_type": "markdown",
   "metadata": {},
   "source": [
    "### 2.5.- Mensajes\n",
    "\n",
    "Lo más importante dentro del protocolo MQTT son los mensajes. Se envían de forma asíncrona es decir, no hay que esperar respuesta una vez que se envía un mensaje.\n",
    "Cada mensaje consta de 3 partes:\n",
    "- Encabezado fijo. Ocupa sólo 2 bytes y es obligatorio enviar esta parte en todos los mensajes.\n",
    "- Encabezado variable. Ocupa 4 bits y no es obligatorio que esté en todos los mensajes.\n",
    "- Mensaje o carga útil (del inglés payload). Puede tener un máximo de 256 Mb aunque en implementaciones reales el máximo es de 2 a 4 kB.  \n",
    "\n",
    "Al ser uno de los objetivos consumir el menor ancho de banda, cada bit está estudiado cuidadosamente para que cumpla con este objetivo.  \n",
    "Una de las características más importantes es que los clientes o nodos no depende unos de otros ya que no tienen conocimiento de quién está al otro lado. Puede incluso que no haya nadie en el otro extremo.\n",
    "Esto permite algo muy importantes en proyectos de este tipo: la escalabilidad."
   ]
  },
  {
   "cell_type": "markdown",
   "metadata": {},
   "source": [
    "### 2.6.- Mosquitto\n",
    "\n",
    "#### 2.3.1.-Introducción\n",
    "\n",
    "Eclipse Mosquito es un Broker Open Source de la Eclipse Foundation distribuido bajo licencia EPL/EDL, compatible con el protocolo MQTT en sus versiones 3.1, 3.1.1, y 5.0. Está programado en C y es compatible con Windows, Linux y Mac.\n",
    "El hecho de que sea Open Source y su licenciamiento, así como que sea multiplataforma y que sea un broker liviano, son algunos delos motivos por los que este broker ha alcanzado tanta popularidad.\n",
    "\n",
    "#### 2.3.2.- Comando mosquitto_sub\n",
    "\n",
    "Este comando nos permite suscribirnos a un topic escuchando y mostrando por pantalla los mensajes enviados a este topic. Puede tomar muchos parámetros pero nosotros nos vamos a centrar en 4.\n",
    "\n",
    "mosquitto_sub -h BROKER -t TOPIC\n",
    "\n",
    "Donde:\n",
    "\n",
    "    - -h BROKER: Indica la dirección IP o nombre de la máquina en la red del Broker. \n",
    "    - -t: TOPIC Es el nombre del topic al que se suscribe.\n",
    "    - -p puerto   Puerto donde se leera el mensaje\n",
    "   \n",
    "\n",
    "#### 2.3.3.- Comando mosquitto_pub\n",
    "\n",
    "Con este comando se pueden publicar mensajes muy simples. Como ocurre con mosquitto_sub puede tomar muchos parámetros, este comando pero a nosotros nos importan sólo 6.\n",
    "mosquitto_pub -h BROKER -t TOPIC -m MENSAJE\n",
    "\n",
    "Donde:\n",
    "\n",
    "    - -h BROKER: Dirección IP o nombre de la máquina en la red del Broker.\n",
    "    - -t TOPIC: nombre del topic al que se enviara el mensaje.\n",
    "    - -m MENSAJE: el mensaje que queremos enviar. Tiene que ir entre comillas dobles («). Por ejemplo «Temperatura = 25ºC»."
   ]
  },
  {
   "cell_type": "markdown",
   "metadata": {},
   "source": [
    "#### 2.3.4.- Instalación en linux\n",
    "\n",
    "sudo apt update  \n",
    "sudo apt upgrade  \n",
    "sudo apt-get install mosquitto mosquitto-clients  "
   ]
  },
  {
   "cell_type": "markdown",
   "metadata": {},
   "source": [
    "#### 2.3.5.- Instalacion en windows\n",
    "\n",
    "Desde la pagina \n",
    "https://mosquitto.org/download/\n",
    "Bajar:\n",
    "\n",
    "mosquitto-2.0.15-install-windows-x64.exe (64-bit build, Windows Vista and up, built with Visual Studio Community 2019)\n",
    "\n",
    "Se debe dejar la opción de instalar Mosquitto como un servicio de Windows porque se incluirá en el apartado de procesos activos en el sistema. Se instalara por defecto en “Program Files\\Mosquitto”.\n",
    "\n",
    "##### Probar mosquitto\n",
    "\n",
    " - Abrir dos consolas de windows \n",
    "     - En buscar escribir consola\n",
    "     - Seleccionar simbolo de sistema\n",
    "     <img src=\"img/mosquitto-1.png\" alt=\"Imagen\"></img>\n",
    "     \n",
    " - Dirigirse en ambas a la direccion donde se instalo mosquitto\n",
    "       cd c:/PRogram Files/mosquitto\n",
    "       \n",
    "- Correr la siguiente linea en una consola \n",
    "       mosquitto_sub  -h localhost -p 1883 -t \"prueba\"\n",
    "       <img src=\"img/mosquitto_2.png\" alt=\"Imagen\"></img>\n",
    "       \n",
    "- Correr en la otra consola la siguiente linea\n",
    "       mosquitto_pub -t \"prueba\" -m \"Hola\"\n",
    "   <img src=\"img/mosquitto_3.png\" alt=\"Imagen\"></img>\n",
    "En la primer consola debe aparecer\n",
    "\n",
    " <img src=\"img/mosquitto_4.png\" alt=\"Imagen\"></img>\n",
    "\n",
    " "
   ]
  },
  {
   "cell_type": "markdown",
   "metadata": {},
   "source": [
    "## 3.- ARDUINO\n",
    "\n",
    "### 3.1.- Introducción\n",
    "\n",
    "El sistema de desarrollo arduino esta formado por tres partes:\n",
    "- Placas de hardware libre que incorporan un microcontrolador reprogramable y una serie de pines-hembra  que permiten conectar allí de forma muy sencilla y cómoda diferentes sensores y actuadores.\n",
    "\n",
    "- Entorno de desarrollo gratis, libre y multiplataforma (que funciona en Linux, MacOS y Windows) se deb instalar en el PC y que permite escribir, verificar y guardar  en la memoria del microcontrolador de la placa Arduino el programa que se desea ejecutar.\n",
    "\n",
    "- Lenguaje de programación libre. basado en C++ \n",
    "\n",
    "El entorno de programación se muestra en la figura, en la misma se puede observar las dos rutinas principales del entorno.\n",
    "<img src=\"img/arduino00.png\" alt=\"Imagen\"></img>\n",
    "\n",
    "Figura 1: Entorno de desarrollo para Arduino\n",
    "\n",
    "La estructura básica del lenguaje de programación Arduino es bastante simple y se organiza en al menos dos partes o funciones que encierran bloques de declaraciones.  \n",
    "\n",
    "`void setup()  \n",
    "\t\t    {  \n",
    "\t\t\t}  \n",
    "\t\tvoid loop()  \n",
    "\t\t\t{  \n",
    "\t\t\t}  `\n",
    "Ambas funciones son requeridas para que el programa funcione.\n",
    "\n",
    "Una función es un bloque de código que tiene un nombre y un grupo de declaraciones que se ejecutan cuando se llama a la misma. Podemos hacer uso de funciones integradas como void setup() y void loop() o escribir nuevas.\n"
   ]
  },
  {
   "cell_type": "markdown",
   "metadata": {},
   "source": [
    "#### Setup():\n",
    "\n",
    "La función setup debería contener la declaración de cualquier variable al comienzo del programa. Es la primera función a ejecutar en el programa, es ejecutada una vez y es usada para asignar pinMode o inicializar las comunicaciones serie.\n",
    "\n",
    "#### Loop(): \n",
    "\n",
    "La función loop se ejecuta a continuación e incluye el código que se ejecuta contínuamente leyendo entradas, activando salidas, etc. Esta función es el núcleo de todos los programas Arduino y hace la mayor parte del trabajo.\n"
   ]
  },
  {
   "cell_type": "markdown",
   "metadata": {},
   "source": [
    "## 3.2.- Instalación"
   ]
  },
  {
   "cell_type": "markdown",
   "metadata": {},
   "source": [
    "### 3.3- Funciones\n",
    "\n",
    "Una función es un bloque de código que tiene un nombre y un grupo de declaraciones que se ejecutan cuando se llama a la función. Podemos hacer uso de funciones integradas como void setup() y void loop() o escribir nuevas. Las funciones se escriben para ejecutar tareas repetitivas. En primer lugar se declara el tipo de la función, que será el valor retornado por la función (int, void...). A continuación del tipo, se declara el nombre de la función y, entre paréntesis, los parámetros que se pasan a la función.  \n",
    "\n",
    "`type Nombrefuncion(parameters)`"
   ]
  },
  {
   "cell_type": "markdown",
   "metadata": {},
   "source": [
    "#### Llaves {}\n",
    "Las llaves definen el comienzo y el final de bloques de función y bloques de declaraciones como void loop() y sentencias for e if. Las llaves deben estar balanceadas (a una llave de apertura {debe seguirle una llave de cierre }). Las llaves no balanceadas provocan errores de compilación.  \n",
    "`void loop()  \n",
    "\t{  \n",
    "\tsentencias;  \n",
    "\t}  `"
   ]
  },
  {
   "cell_type": "markdown",
   "metadata": {},
   "source": [
    "#### Punto y coma ;\n",
    "\n",
    "Un punto y coma debe usarse al final de cada declaración y separa los elementos del programa. También se usa para separar los elementos en un bucle for.  \n",
    "\n",
    "`int x = 13;  `\n",
    "\n",
    "Nota: Olvidar un punto y coma al final de una declaración producirá un error de compilación.  "
   ]
  },
  {
   "cell_type": "markdown",
   "metadata": {},
   "source": [
    "#### Bloques de comentarios /*...*/\n",
    "Los bloques de comentarios, o comentarios multilínea, son áreas de texto ignoradas por el programa y se usan para grandes descripciones de código o comentarios que ayudan a otras personas a entender partes del programa. Empiezan con /* y terminan con */ y pueden abarcar múltiples líneas.\n",
    "\n",
    "#### Comentarios de línea //\n",
    "Comentarios de una línea empiezan con // y terminan con la siguiente línea de código. Como el bloque de comentarios, son ignorados por el programa y no toman espacio en memoria.\n",
    "\n",
    "\t\t`// este es un comentario de una línea`"
   ]
  },
  {
   "cell_type": "markdown",
   "metadata": {},
   "source": [
    "#### VARIABLES\n",
    "\n",
    "Una variable es una forma de llamar y almacenar un valor numérico para usarse después por el programa. Como su nombre indica, las variables son números que pueden cambiarse continuamente al contrario que las constantes, cuyo valor nunca cambia. Una variable necesita ser declarada y, opcionalmente, asignada al valor que necesita para ser almacenada.\n",
    "\n",
    "#### TIPOS DE DATOS\n",
    "##### byte: \n",
    "Byte almacena un valor numérico de 8 bits sin puntos decimales. Tienen un rango de 0 a 255.  \n",
    "\t`byte a = 180;  `\n",
    "##### int:  \n",
    "Enteros son los tipos de datos primarios para almacenamiento de números sin puntos decimales y almacenan un valor de 16 bits con un rango de -32,768 a 32,767.  \n",
    "`int a = 1500;  `\n",
    "\n",
    "##### long:  \n",
    "Tipo de datos de tamaño extendido para enteros largos, sin puntos decimales, almacenados enun v alor de 32 bits con un rango de -2,146,483,648 a 2,147,483,647.  \n",
    "\t`long a = 90000;`  \n",
    "##### float: \n",
    "Un tipo de datos para números en punto otante, o números que tienen un punto decimal. Los números en punto flotante tienen mayor resolución que los enteros y se almacenan como valor de 32 bits con un rango de -3.4028235E+38 a 3.4028235E+38.  \n",
    "\t`float a = 3.14;`  \n",
    "##### char: \n",
    "Un tipo de datos para presentar codigos ASCII simbolos y letras   \n",
    "\t`char a='c';`  \n",
    "##### arrays: \n",
    "Un array es una colección de valores que son accedidos con un índice numérico. Cualquier valor en el array debe llamarse escribiendo el nombre del array y el índice numérico del valor. Los arrays están indexados a cero, con el primer valor en el array comenzando con el índice número 0. Un array necesita ser declarado y opcionalmente asignarle valores antes de que puedan ser usados.\n",
    "`int a[] = {1, 2, 3...};`\n"
   ]
  },
  {
   "cell_type": "markdown",
   "metadata": {},
   "source": [
    "#### Manejo de caracteres\n",
    "\n",
    "String: Se trata de una clase que permite usar y manipular cadenas de texto de una forma más sencilla que los strings. Puedes concatenar, añadir, buscar, etc… usando los métodos/funciones que ofrece esta clase. Los Strings tienen un uso intensivo de memoria, pero son muy útiles.Tener en cuenta que al no ser un tipo de dato propiamente dicho sino una clase, tienes unas funciones asociadas (métodos), operadores y unas propiedades. "
   ]
  },
  {
   "cell_type": "markdown",
   "metadata": {},
   "source": [
    "#### ARITMÉTICA\n",
    "Los operadores aritméticos incluyen suma, resta, multiplicación y división. Retorna la suma, diferencia, producto o cociente (respectivamente) de dos operandos.  \n",
    "`y = y+3;\n",
    "x = x-7;\n",
    "i = j*6;\n",
    "r = r/5;`"
   ]
  },
  {
   "cell_type": "markdown",
   "metadata": {},
   "source": [
    "#### ASIGNACIONES COMPUESTAS\n",
    "Las asignaciones compuestas combinan una operación aritmética con una asignación de variable. Estas son muy frecuentemente encontradas en bucles for. Las asignaciones compuestas más comunes incluyen:  \n",
    "\n",
    "`\t\tx++; //lo mismo que x = x+1  \n",
    "\t\tx--; //lo mismo que x = x-1  \n",
    "\t\tx += y; //lo mismo que x = x+y  \n",
    "\t\tx -= y; //lo mismo que x = x-y  \n",
    "\t\tx *= y; //lo mismo que x = x*y  \n",
    "\t\tx /= y; //lo mismo que x = x/y  `"
   ]
  },
  {
   "cell_type": "markdown",
   "metadata": {},
   "source": [
    "#### OPERADORES DE COMPARACIÓN  \n",
    "Las comparaciones de una variable o constante con otra se usan a menudo en declaraciones if para comprobar si un condición específica es cierta.  \n",
    "\n",
    "` \t\tx == y; //x es igual a y  \n",
    "\t\tx != y; //x no es igual a y  \n",
    "\t\tx < y; //x es menor que y  \n",
    "\t\tx > y; //x es mayor que y  \n",
    "\t\tx <= y; //x es menor o igual que y  \n",
    "\t\tx >= y; //x es mayor o igual que y  `"
   ]
  },
  {
   "cell_type": "markdown",
   "metadata": {},
   "source": [
    "#### OPERADORES LÓGICOS  \n",
    "Los operadores lógicos son normalmente una forma de comparar dos expresiones y devuelve TRUE o FALSE dependiendo del operador. Hay tres operadores lógicos, AND, OR y NOT, que se usan a menudo en declaraciones if.  \n",
    "##### AND lógico: \n",
    "verdadero sólo si las dos expresiones son ciertas\n",
    "\t`\tif(x>0 && x<5)  `\n",
    "##### OR lógico: \n",
    "verdadero si al menos una expresión es cierta.\n",
    "\t\t`if(x>0 || y>0)`\n",
    "##### NOT lógico: \n",
    "verdadero sólo si la expresión es falsa  \n",
    "\t\t`if(!(x>0))  `\n"
   ]
  },
  {
   "cell_type": "markdown",
   "metadata": {},
   "source": [
    "#### CONSTANTES\n",
    "El lenguaje Arduino tiene unos cuantos valores predefinidos que se llaman constantes. Se usan para hacer los programas más legibles. Las constantes se clasifican en grupos.  \n",
    "##### TRUE/FALSE: \n",
    "Estas son constantes Booleanas que definen niveles lógicos. FALSE se define como 0 (cero) mientras TRUE es 1 o un valor distinto de 0.  \n",
    "`if(b == TRUE)  \n",
    "  {  \n",
    "  sentencias;  \n",
    "  } `\n",
    "##### HIGH/LOW: \n",
    "Estas constantes definen los niveles de pin como HIGH o LOW y se usan cuando se leen o se escriben los pines digitales. HIGH esta definido como el nivel 1 lógico, ON ó 5 V, mientras que LOW es el nivel lógico 0, OFF ó 0 V.  \n",
    "digitalWrite(13, HIGH);  \n",
    "\n",
    "##### INPUT/OUTPUT:\n",
    "Constantes usadas con la función pinMode() para definir el modo de un pin digital como INPUT u OUTPUT.  \n",
    "\t\t`pinMode(13, OUTPUT);  `"
   ]
  },
  {
   "cell_type": "markdown",
   "metadata": {},
   "source": [
    "### 3.3.- CONTROL DE FLUJO\n",
    "\n",
    "#### if: \n",
    "Las sentencias if comprueban si cierta condición ha sido alcanzada y ejecutan todas las sentencias dentro de las llaves si la declaración es cierta. Si es falsa el programa ignora la sentencia. \n",
    "\n",
    "`if(a==0)  \n",
    "\t\t\t{  \n",
    "\t\t\tsentencias;  \n",
    "\t\t\t}  `\n",
    "if. . . else: permite tomar decisiones esto - o esto.  \n",
    "\n",
    "`\tif(a == HIGH)  \n",
    "\t\t{  \n",
    "\t\thacerA;  \n",
    "\t\t}  \n",
    "\telse  \n",
    "\t\t{  \n",
    "\t\thacerB;  \n",
    "\t\t}  `\n",
    "#### for:\n",
    "La sentencia for se usa para repetir un bloque de declaraciones encerradas en llaves un número específico de veces. Un contador de incremento se usa a menudo para incrementar y terminar el bucle. Hay tres partes separadas por punto y coma (;), en la cabecera del bucle.  \n",
    "\n",
    "`\t\tfor(i=0; i<200; i++)  \n",
    "\t\t\t{  \n",
    "\t\t\tsentencias;  \n",
    "\t\t\t}  `\n",
    "#### while:\n",
    "El bucle while se repetirá continuamente, e infinitamente, hasta que la expresión dentro del paréntesis se vuelva falsa. Algo debe cambiar la variable testeada, o el bucle while nunca saldrá. Esto podría estar en tu código, como por ejemplo una variable incrementada, o una condición externa, como un sensor de comprobación. \n",
    "\n",
    "\t\t`while(a<200)  \n",
    "\t\t\t{  \n",
    "\t\t\ta++;  \n",
    "\t\t\t}  `\n",
    "#### do. . . while: \n",
    "\n",
    "El bucle do. . . while es un bucle que trabaja de la misma forma que el bucle while, con la excepción de que la condición es testeada al nal del bucle, por lo que el bucle do. . . while siempre se ejecutará al menos una vez.  \n",
    "\t`\tdo  \n",
    "\t\t\t{  \n",
    "\t\t\tsentencias;  \n",
    "\t\t\t}while(a < 200);  `"
   ]
  },
  {
   "cell_type": "markdown",
   "metadata": {},
   "source": [
    "### 3.4.- RESUMEN DE FUNCIONES PRINCIPALES DE ENTRADA SALIDA\n",
    "\n",
    "#### pinMode(pin, mode): \n",
    "Se usa en void setup() para configurar un pin específico para que se comporte o como INPUT o como OUTPUT.  \n",
    "\t\tpintMode(pin, OUTPUT); //ajusta 'pin' como salida  \n",
    "Los pines digitales de Arduino están ajustados a INPUT por defecto, por lo que no necesitan ser declarados explícitamente como entradas con pinMode(). Los pines configurados como INPUT se dice que están e un estado de alta impedancia. Hay también convenientes resistencias de pull-up de 20 KOhm, integradas en el chip ATmega que pueden ser accedidas por software. A estas resistencias pull-up integradas se accede de la siguiente manera.  \n",
    "\n",
    "\t\t`pinMode(pin, INPUT); //ajusta 'pin' como entrada  \n",
    "\t\tdigitalWrite(pin, HIGH); //activa la resistencia de pull-up  `\n",
    "        \n",
    "Las resistencias de pull-up se usarían normalmente para conectar entradas como interruptores. Los pines configurados como OUTPUT se dice que están en un estado de baja impedancia y pueden proporcionar 40 mA a otros dispositivos/circuitos.  \n",
    "\n",
    "Nota: Cortocircuitos en los pines de Arduino o corriente excesiva pueden dañar o destruir el pin de salida, o dañar el chip ATmega. A menudo es una buena idea conectar un pin OUTPUT a un dispositivo externo en serie con una resistencia de 470 Ohm o 1 KOhm.  \n",
    "\n",
    "#### digitalRead(pin):\n",
    "Lee el valor desde un pin digital con el resultado HIGH o LOW. El pin puede ser una variable o una constante (0 - 13).  \n",
    "\t`valor= digitalRead(13); //ajusta 'valor' igual al pin de entrada  `\n",
    "    \n",
    "#### digitalWrite(pin, valor): \n",
    "Devuelve el nivel lógico HIGH o LOW a (activa o desactiva) un pin digital especificado. El pin puede ser especificado como una variable o constante (0 – 13).  \n",
    "\n",
    "\t`\tdigitalWrite(pin, HIGH); //ajusta 'pin' a HIGH `  \n",
    "\n",
    "#### analogRead(pin):\n",
    "Lee el valor desde un pin analógico con una resolución de 10 bits. Esta función sólo trabaja en los pines analógicos (0 - 5). Los valores enteros devueltos están en el rango de 0 a 1023.  \n",
    "\n",
    "`\t\tvalor= analogRead(pin); //ajusta 'value' igual a 'pin' `\n",
    "\n",
    "Nota: Los pines analógicos al contrario que los digitales, no necesitan ser declarados al principio como INPUT u OUTPUT.\n",
    "\n",
    "#### analogWrite(pin, value):\n",
    "Escribe un valor pseudo analógico usando modulación por ancho de pulso (a un pin de salida marcado como PWM. En los Arduinos más nuevos con el chip ATmega168, esta función trabaja en los pines 3, 5, 6, 9, 10 y 11. Los Arduinos más antiguos con un ATmega8 sólo soporta los pines 9, 10 y 11. El valor puede ser especificado como una variable o constante con un valor de 0 a 255.  \n",
    "\t\t`analogWrite(pin, valor); //escribe 'valor' al 'pin' analogico ` \n",
    "#### analogRead(pin):\n",
    "Lee el valor desde un pin analógico con una resolución de 10 bits. Esta función sólo trabaja en los pines analógicos (0 - 5). Los valores enteros devueltos están en el rango de 0 a 1023.\n",
    "\t\t`valor= analogRead(pin); //ajusta 'value' igual a 'pin'`\n",
    "Nota: Los pines analógicos al contrario que los digitales, no necesitan ser declarados al principio como INPUT u OUTPUT.P8266\n",
    "\n",
    "#### delay(ms):\n",
    "\n",
    "Pausa tu programa por la cantidad de tiempo especicada en milisegundos, donde 1000 es igual a 1 segundo.\n",
    "`delay(1000); //espera por un segundo`\n",
    "\n",
    "#### millis()\n",
    "Devuelve el número de milisegundos desde que la placa Arduino empezó a ejecutar el programa actual como un valor long sin signo.    \n",
    "\n",
    "\t\t`value = millis(); //ajusta 'value' igual a millis()  `\n",
    "Nota: Este número se desbordará (resetear de nuevo a cero), después de aproximadamente 9 horas.\n",
    "\n",
    "#### Serial.begin(rate):\n",
    "\n",
    "Abre el puerto serie y asigna la tasa de baudios para la transmisión de datos serie. La típica tasa de baudios para comunicarse con el ordenador es 9600 aunque otras velocidades están soportadas.\n",
    "\n",
    "`void setup()  \n",
    "\t{\t\t  \n",
    "Serial.begin(9600); //abre el puerto serie//ajusta la tasa de datos a 9600 bps  \n",
    "\t} ` \n",
    "    \n",
    "Nota: Cuando se usa la comunicación serie, los pines digitales 0 (Rx) y 1 (Tx) no pueden ser usados al mismo tiempo.  \n",
    "\n",
    "#### Serial.println(data):\n",
    "\n",
    "Imprime datos al puerto serie, seguido de un retorno de carro y avance de línea automáticos. Este comando toma la misma forma que Serial.print(), pero es más fácil para leer datos en el Serial.  \n",
    "\t\t`\tSerial.println(analogValue); //envia el valor de 'analogValue'  `"
   ]
  },
  {
   "cell_type": "markdown",
   "metadata": {},
   "source": [
    "## 4.- ESP8266\n"
   ]
  },
  {
   "cell_type": "markdown",
   "metadata": {},
   "source": [
    "### 4.1 Introducción \n",
    "\n",
    "El ESP8266 es un SOC (sistema en chip)  de bajo costo que se utiliza como core de distintas placas, que se pueden programar en el entorno arduino. Un sistema en chip describe la tendencia cada vez más frecuente de usar tecnologías de fabricación que integran todos o gran parte de los módulos que componen un computador o cualquier otro sistema informático o electrónico en un único circuito integrado o chip. El cual tiene:  \n",
    "\n",
    " - Microcontrolador  \n",
    " - Wi-Fi  \n",
    " - stack TCP/IP   \n",
    " - Interfases\n",
    " - SRAM\n",
    " - PMU"
   ]
  },
  {
   "cell_type": "markdown",
   "metadata": {},
   "source": [
    "<img src= \"img/ESP8266EX-Diagrama_bloque.png\" alt=\"Imagen\"></img>"
   ]
  },
  {
   "cell_type": "markdown",
   "metadata": {},
   "source": [
    "### 4.2.- Microprocesador  \n",
    "\n",
    "El ESP8266 utiliza un CPU RISC de 32 bits fabricada por Tensilica dentro del modelo Xtensa LX106.   \n",
    "- Frecuencia 80 MHz\n",
    "- Caché de instrucciones de 64 KB \n",
    "- Cache  de datos de 96 KB,\n",
    "- Capacidad externa de memoria QSPI que puede llegar hasta los 16 MB, \n",
    "- soporte IEEE 802.11 b/g/n , TR switch, balun, LNA, soporte para WEP y WPA/WPA2.\n",
    "- 16 pines GPIO\n",
    "- UART, \n",
    "- SPI\n",
    "- I2C\n",
    "- I2S\n",
    "- Conversor AD 10 bits"
   ]
  },
  {
   "cell_type": "markdown",
   "metadata": {},
   "source": [
    " #### Tarjetas que usan ESP8266:  \n",
    " \n",
    " El esp8266 debe estar acompañado de una memoria flash QSPI de 512 KB a 4 MB. Lo que permite construir distintas tarjetas con distintas especificaciones:\n",
    "- Tamaño de memoria\n",
    "- Sistema de archivo\n",
    "- Entradas Salidas\n",
    "- Redes \n",
    "\n",
    "A continuación se describe algunas de ellas.\n",
    "\n",
    "|Tarjeta        |\ttamaño chip flash[ bytes] |Tamaño sistem. fich [bytes]|\n",
    "|---            |---                          |---                        |\n",
    "|Modulo generico| \t512k                      |64k, 128k                  |\n",
    "|Modulo generico| \t1M \t                      |64k, 128k, 256k, 512k      |\n",
    "|Modulo generico| \t2M                        |\t1M                        |\n",
    "|Modulo generico|\t4M \t                      |1M, 2M, 3M                 |\n",
    "|Adafruit HUZZAH|\t4M \t                      |1M, 2M, 3M                 |\n",
    "|ESPresso Lite 1.0| \t4M |\t1M, 2M, 3M|\n",
    "|ESPresso Lite 2.0| \t4M |\t1M, 2M, 3M|\n",
    "|NodeMCU 0.9| \t4M| \t1M, 2M, 3M|\n",
    "|NodeMCU 1.0| \t4M| \t1M, 2M, 3M|\n",
    "|Olimex MOD-WIFI-ESP8266(-DEV)| \t2M |\t1M|\n",
    "|SparkFun Thing| \t512k |\t64k|\n",
    "|SweetPea ESP-210| \t4M |\t1M, 2M, 3M |\n",
    "|WeMos D1 & D1 mini| \t4M |\t1M, 2M, 3M |\n",
    "|ESPDuino| \t4M |\t1M, 2M, 3M |\n",
    "|WiFiduino| \t4M |\t1M, 2M, 3M|\n"
   ]
  },
  {
   "cell_type": "markdown",
   "metadata": {},
   "source": [
    "#### 4.3.- Instalar Plugin del ESP8266 para Arduino.\n",
    "\n",
    "Se debe configurar el IDE arduino\n",
    "\n",
    "archivo>Preferencias y en la casilla  “Gestor de URLs Adicionales de Tarjetas” agregar:\n",
    "\n",
    "http://arduino.esp8266.com/stable/package_esp8266com_index.json"
   ]
  },
  {
   "cell_type": "markdown",
   "metadata": {},
   "source": [
    "<img src=\"img/esp8266_plugins_1.png\" alt=\"Imagen\"></img>"
   ]
  },
  {
   "cell_type": "markdown",
   "metadata": {},
   "source": [
    "Seguidamente desde Herramientas>placa: … >Gestor de Tarjetas\n",
    "\n",
    "se busca en la lista  “esp8266 by ESP8266 Community“, se selecciona e instala"
   ]
  },
  {
   "cell_type": "markdown",
   "metadata": {},
   "source": [
    "<img src=\"img/esp8266_plugins_2.png\" alt=\"Imagen\"></img>"
   ]
  },
  {
   "cell_type": "markdown",
   "metadata": {},
   "source": [
    "En este curso se utilizara el entorno arduino para programar las placas. Se utilizaran las siguientes librerias, para poder acceder por WIFI a INTERNET.\n",
    "\n",
    "- ESP8266Wifi: Conecta a una red WIFI\n",
    "- PROGMEN Utiliza memoria Flash\n",
    "- Servidor NPT: Servidor que recibe la hora por internet\n",
    "\n",
    "#### Libreria Esp8266Wifi\n",
    "\n",
    "La librería WiFi para ESP8266 ha sido desarrollada basándose en el SDK de ESP8266, usando nombres convencionales y la filosofía de funcionalidades generales de la librería WiFi de Arduino. \n",
    "\n",
    "|Nombre  |   Sintaxis                  |            Funcion                                        |\n",
    "|---     |---                          |---                                                        |\n",
    "|begin   |WiFi.begin(ssid,contraseña); |Constructor del objeto  WIFI                               |\n",
    "|        |                             |ssid: nombre de la red WIFI                                |\n",
    "|        |                             |contraseña: contraseña de la red                           |\n",
    "|status  |WiFi.status()                | Presenta el estado de la conexion                         |\n",
    "|        |                             |  WL_CONNECTED: indica que esta conectado                  |\n",
    "|localIP |WiFi.localIP()               | Presenta la direccion de red donde se conecto             |\n"
   ]
  },
  {
   "cell_type": "markdown",
   "metadata": {},
   "source": [
    "### Codigo de prueba ESP8266WiFi\n",
    "\n",
    "Se presenta el codigo de un programa que permite conectar un ESP8266 a una red. Se utiliza las funciones descriptas en la seccion anterior.\n",
    "`#include <ESP8266WiFi.h>  \n",
    "void setup()  \n",
    "{   \n",
    "Serial.begin(115200);  \n",
    "Serial.println();  \n",
    "WiFi.begin(\"nombre-red\", \"contraseña-red\");  \n",
    "Serial.print(\"Conectando\");  \n",
    "while (WiFi.status() != WL_CONNECTED)  \n",
    "  {  \n",
    "  delay(500);  \n",
    "  Serial.print(\".\");  \n",
    "  }  \n",
    "Serial.println();  \n",
    "Serial.print(\"Conectado, dirección IP: \");  \n",
    "Serial.println(WiFi.localIP());  \n",
    "}  \n",
    "\n",
    "void loop() {} `"
   ]
  },
  {
   "cell_type": "markdown",
   "metadata": {},
   "source": [
    "Falta\n",
    "\n",
    "#### Librerias necesarias para ejecutar el programa\n",
    "\n",
    "#include <ESP8266WiFi.h>    \n",
    "#include <PubSubClient.h>   \n",
    "\n",
    "|  libreria     | Función |\n",
    "|---            |---      |\n",
    "|ESP8266WiFi.h  | Permite utilizar WIFI  |\n",
    "|PubSubClient.h | Permite utilizar MQTT  |"
   ]
  },
  {
   "cell_type": "markdown",
   "metadata": {},
   "source": [
    "#### Palabras Claves para acceder a la red\n",
    "\n",
    "const char* ssid = \"LabElectronica\";  \n",
    "const char* password = \"lab.2018.electronica\";  \n",
    "const char* mqtt_server = \"192.168.20.116\";  \n"
   ]
  },
  {
   "cell_type": "markdown",
   "metadata": {},
   "source": [
    "#### Objetos importantes\n",
    "Se crean los objetos espClient con lo que se puede utilizar WIFI y client el cual es hijo de espClient y que permite usar MQT.  \n",
    "\n",
    "\n",
    "WiFiClient espClient;  \n",
    "PubSubClient client(espClient);  \n",
    "\n",
    "#### Funcion de configuración\n",
    "\n",
    "\n",
    "| Configura |   Salidas        |  Sintaxis    |\n",
    "| ----      | ---              |---           |\n",
    "|           | BUITL_LED salida |  pinMode(BUILTIN_LED, OUTPUT); |\n",
    "|           | WIFI             | setup_wifi(); |\n",
    "|           | MQTT             |  client.setServer(mqtt_server, 1883); | \n",
    "|           |                  |  client.setCallback(callback);  |\n",
    "\n",
    "\n",
    "\n",
    "`void setup() {    \n",
    "  Serial.begin(115200);  \n",
    "  delay(10);  \n",
    "  pinMode(BUILTIN_LED, OUTPUT);    \n",
    "  setup_wifi();  \n",
    "  client.setServer(mqtt_server, 1883);  \n",
    "  client.setCallback(callback);  \n",
    "}`\n"
   ]
  },
  {
   "cell_type": "markdown",
   "metadata": {},
   "source": [
    "#### Funcion setup_wifi()\n",
    "\n",
    "Inicializa wifi\n",
    "\n",
    "`void setup_wifi() {  \n",
    "  delay(10);  \n",
    "   WiFi.begin(ssid, password);  \n",
    "  while (WiFi.status() != WL_CONNECTED) {  \n",
    "    delay(500);  \n",
    "    Serial.print(\".\");  \n",
    "  }  \n",
    "  Serial.println(\"\");  \n",
    "  Serial.println(\"WiFi conectada\");  \n",
    "  Serial.print(\"IP address: \");  \n",
    "  Serial.println(WiFi.localIP());  \n",
    "}`  "
   ]
  },
  {
   "cell_type": "markdown",
   "metadata": {},
   "source": [
    "#### Funcion callback\n",
    "\n",
    "Rutina que se utiliza para recibir y realizar las ordenes enviadas desde el servidor MQTT, el mesaje viene en el string  payload\n",
    "\n",
    "- Visualiza el topic\n",
    "- El mensajes\n",
    "- Ejecuta la orden\n",
    "\n",
    "`void callback(char* topic, byte* payload, unsigned int length)  \n",
    "{  \n",
    "   for (int i = 0; i < length; i++)  \n",
    "      {  \n",
    "       Serial.print((char)payload[i]);  \n",
    "       }  \n",
    "  Serial.println();  \n",
    "  if ((char)payload[0] == '1')  \n",
    "       {  \n",
    "        digitalWrite(BUILTIN_LED, LOW);     \n",
    "       } else {  \n",
    "        digitalWrite(BUILTIN_LED, HIGH);   \n",
    "       }  \n",
    "}`  "
   ]
  },
  {
   "cell_type": "markdown",
   "metadata": {},
   "source": [
    "#### Funcion reconnect\n",
    "Se utiliza para conectar el cliente  MQTT   y  se suscribe como Topic casa/luz\n",
    "\n",
    "`void reconnect()   \n",
    "{  \n",
    "   while (!client.connected())   \n",
    "   {  \n",
    "    Serial.print(\"Conectando conexion MQTT\");  \n",
    "    // Intentando conectar \n",
    "    if (client.connect(\"ESP8266Client\"))  \n",
    "           {  \n",
    "            client.subscribe(\"casa/luz\");  \n",
    "           } else   \n",
    "          {  \n",
    "           Serial.print(\"failed, rc=\");  \n",
    "           Serial.print(client.state());  \n",
    "          Serial.println(\" try again in 5 seconds\");  \n",
    "          delay(5000);  \n",
    "          }  \n",
    "    }  \n",
    "}`  \n",
    "\n"
   ]
  },
  {
   "cell_type": "markdown",
   "metadata": {},
   "source": [
    "### Funcion loop\n",
    "\n",
    "`void loop()  \n",
    "{\n",
    " if (!client.connected()) {  \n",
    "    reconnect();  \n",
    "  }  \n",
    "    client.loop();  \n",
    "  long now = millis();  \n",
    "}`  \n"
   ]
  },
  {
   "cell_type": "markdown",
   "metadata": {},
   "source": [
    "## 5.- NODE_RED\n",
    "#### 5.1.- Introduccion\n",
    "\n",
    "Node-RED es una herramienta muy potente que sirve para comunicar hardware y servicios de una forma muy rápida y sencilla. Simplifica enormemente la tarea de programar del lado del servidor gracias a la programación visual.\n",
    "Fue creada por Nick O’Leary y Dave Conway-Jones del grupo de Servicios de Tecnologías Emergentes de IBM en el año 2013. Su objetivo es dar solución a la complejidad que surge cuando queremos integrar nuestro hardware con otros servicios.\n",
    "La estructura mínima son los nodos. Estos se arrastran a través de la interfaz gráfica y nos permiten hacer una tarea concreta. Recibir una llamada HTTP, un mensaje MQTT o la activación de un pulsador.  \n",
    "Todos estos nodos se organizan en flujos o flows que agrupan nodos que se conectan entre ellos. Todo de una forma visual, sin apenas tener que programar.  "
   ]
  },
  {
   "cell_type": "markdown",
   "metadata": {},
   "source": [
    "#### Node-RED, principios básicos  \n",
    "Node-RED está creado a partir de NodeJS y la librería de JavaScript D3.js.\n",
    "NodeJS proporciona la potencia suficiente para que Node-RED sea fiable y escalable. NodeJS es un software muy potente que permite la programación en JavaScript del lado del servidor.  \n",
    "Sus ventaja más importante es que está optimizado para poder tratar múltiples conexiones concurrentes de una manera óptima. Es el mayor ecosistema de código abierto que existe en el mundo y está siendo utilizado por empresas punteras como PayPal y Netflix.  \n",
    "Por otro lado, D3.js es el encargado de la interfaz web. Node-RED es accesible a través de un navegador es decir, sólo necesitamos acceder a una página web para poder crear nuestros propios sistemas. No hace falta instalar ningún entorno de desarrollo o IDE.  \n",
    "En esta aplicación web podremos arrastrar y conectar nodos con diferentes funcionalidades para crear flujos de datos que hagan una determinada cosa.  \n",
    "Por ejemplo, podemos suscribirnos a un topic de MQTT, recibir un dato de temperatura, almacenarlo en una base de datos y mostrarlo en un panel de control a través de una página web.  \n",
    "Una vez instalado para correr Node-red se  debe conocer la IP de la Raspberry pi por ejemplo 10.0.0.9 y se debe agregar el puerto 10.0.0.9:1880. Colocando lo anteriormente dicho en el navegador web se tiene Node-red funcionando en el navegador.  \n"
   ]
  },
  {
   "cell_type": "markdown",
   "metadata": {},
   "source": [
    "#### Entorno de desarrollo de Node-RED  \n",
    "Al ejecutar la aplicación aparece las siguientes secciones principales.\n",
    "\n"
   ]
  },
  {
   "cell_type": "markdown",
   "metadata": {},
   "source": [
    "<img src=\"img/node_red1.gif\" alt=\"Imagen\"></img>"
   ]
  },
  {
   "cell_type": "markdown",
   "metadata": {},
   "source": [
    "Los nodos son la unidad mínima que podemos encontrar en Node-RED. En la parte izquierda de la interfaz podemos ver la lista de nodos que vienen instalados por defecto y organizados en categorías según su funcionalidad.  \n",
    "Hay nodos de entrada, salida, funciones para almacenar datos, etc…   \n",
    "Se pueden clasificar en tres tipos de nodos:\n",
    "- Nodos que sólo admiten entradas: sólo admiten datos de entrada para ser enviados a algún sitio como pueda ser una base de datos o un panel de control.  \n",
    "- Nodos que sólo admiten salidas: son los nodos que sólo ofrecen datos tras recibirlos a través de diferentes métodos como por ejemplo un mensaje MQTT.  \n",
    "- Nodos que admiten entradas y salidas: estos nodos nos permiten la entrada de datos y luego ofrecen una o varias salidas. Por ejemplo, podemos leer una temperatura, transformarla en grados Celsius y enviarla a otro nodo.\n",
    "\n",
    "Los nodos se arrastran al flujo (flow, en inglés) para formar un programa. \n",
    "\n",
    "Podemos ver más información sobre lo que hace un nodo en el panel de información si hacemos click sobre cualquiera de ellos. \n",
    "Por último, el panel de debug sirve para mostrar mensajes de lo que está ocurriendo dentro de cada flujo o tratamiento de datos. \n",
    "Para que entiendas cómo funcionan, vamos a ver un ejemplo muy sencillo.\n",
    "4.4. Primer fl"
   ]
  },
  {
   "cell_type": "markdown",
   "metadata": {},
   "source": [
    "\n",
    "#### 4.4. Primer flujo con Node-RED\n",
    "Se realizar un flujo muy simple. Lo que hará es mostrar un texto por el panel de debug. Arrastra un nodo inject de la categoría input y un nodo debug de la categoría output al flujo. Los tienes que conectar entre ellos arrastrando el punto de la parte derecha del nodo inject sobre el punto de la parte izquierda del nodo debug."
   ]
  },
  {
   "cell_type": "markdown",
   "metadata": {},
   "source": [
    "<img src=\"img/node_red2.gif\" alt=\"Imagen\"></img>"
   ]
  },
  {
   "cell_type": "markdown",
   "metadata": {},
   "source": [
    "A continuación se edita el nodo inject. Hacer doble click sobre el nodo se abrirá un panel donde nos muestra diferentes parámetros. En este panel tienes que seleccionar del menú desplegable msg.Payload, la opción  String.\n",
    "En el campo de texto escribir por ejemplo Hola mundo.  \n",
    "Por últimose debe hacer click en Done.  "
   ]
  },
  {
   "cell_type": "markdown",
   "metadata": {},
   "source": [
    "<img src=\"img/node_red3.gif\" alt=\"Imagen\"></img>"
   ]
  },
  {
   "cell_type": "markdown",
   "metadata": {},
   "source": [
    "Para guardar la aplicación se debe ejecutar Deploy que pasa  de estar en un color rojo a gris oscuro."
   ]
  },
  {
   "cell_type": "markdown",
   "metadata": {},
   "source": [
    "Para probar este primer flujo con Node-RED se debe abrir el panel de debug que está situado en la parte derecha. Luego, se debe hacer click sobre la parte izquierda del nodo inject.  \n",
    "Esto hará que en el panel debug aparezca la leyenda escrita en la configuración del nodo inject."
   ]
  },
  {
   "cell_type": "markdown",
   "metadata": {},
   "source": [
    "<img src=\"img/node_red4.gif\" alt=\"Imagen\"></img>"
   ]
  },
  {
   "cell_type": "markdown",
   "metadata": {},
   "source": [
    "### DASHBOARD\n",
    "Permite generar una pagina web donde se puede mostrar información utilizando gráficos, textos, y controles utilizando botones etc. Para controlar estas opciones se utiliza:  \n",
    "- La barra lateral a la derecha Dashboard  \n",
    "- Nodos a la derecha en dashboard.  \n",
    "\n",
    "La barra dashboard tiene tres opciones\n",
    "- Layout: Permite organizar los distintos widget de la interfaz de usuario la cual se organiza en tabs y groups. \n",
    "    - Tabs: Son diferentes paginas de la interfase de usuario. Son de mayor jerarquia que los Groups\n",
    "    - Groups: Son secciones donde se organiza las “widgets” proporcionadas por los nodos.\n",
    "\n"
   ]
  },
  {
   "cell_type": "markdown",
   "metadata": {},
   "source": [
    "<img src=\"img/node_red5.gif\" alt=\"Imagen\"></img>"
   ]
  },
  {
   "cell_type": "markdown",
   "metadata": {},
   "source": [
    "- site: Configura la forma general de la interfaz de usuario"
   ]
  },
  {
   "cell_type": "markdown",
   "metadata": {},
   "source": [
    "<img src=\"img/node_red6.gif\" alt=\"Imagen\"></img>"
   ]
  },
  {
   "cell_type": "markdown",
   "metadata": {},
   "source": [
    "- theme o angular: Configura los colores de la interfaz de usuario."
   ]
  },
  {
   "cell_type": "markdown",
   "metadata": {},
   "source": [
    "Los Nodos proveen  widgets que pueden ser visualizadas en la  (UI) interfase de usuario."
   ]
  },
  {
   "cell_type": "markdown",
   "metadata": {},
   "source": [
    "<img src=\"img/node_red7.gif\" alt=\"Imagen\"></img>"
   ]
  },
  {
   "cell_type": "markdown",
   "metadata": {},
   "source": [
    "Widgets  \n",
    "\n",
    "| Nombre        | Función |\n",
    "|---            |     ---|\n",
    "| Audio out     | permite ejecutar audio. |\n",
    "| Button        | Permite realizar controles sobre algunos dispositivos |\n",
    "| Chart         | Grafica Datos |\n",
    "| Colour Picker | a colour picker widget. |\n",
    "| Date Picker   |Muestra la fecha | \n",
    "| Dropdown      | Permite visualizar multiples pares de  letreros y valores|\n",
    "| Form          | una widget que puede estar compuesta por varios widget|\n",
    "| Gauge         | Es un reloj  4 modos  |\n",
    "|               |1. standard (simple gauge)|\n",
    "|               |2. donut (complete 360°)|\n",
    "|               |3. compass|\n",
    "|               |4.  wave. You can also specify the colour range of the standard and donut gauges|\n",
    "| Notification  | crea una  alerta al usuario. |\n",
    "| Numeric       | Entrada numerica | \n",
    "| Slider        |un deslizador horizontal simple | \n",
    "| Switch        | can also set two icons and/or colours depending on state. |\n",
    "| Template      || \n",
    "| Text          |A read only widget, the layout of the label, and value can be configured. |\n",
    "| Text input    |text input box, with optional label, can also support password, email and colour modes. |\n"
   ]
  },
  {
   "cell_type": "markdown",
   "metadata": {},
   "source": [
    "### Ejemplo de uso de los widget de dashboard. "
   ]
  },
  {
   "cell_type": "markdown",
   "metadata": {},
   "source": [
    "<img src=\"img/node_red8.gif\" alt=\"Imagen\"></img>"
   ]
  },
  {
   "cell_type": "markdown",
   "metadata": {},
   "source": [
    "En layout se presiona tab, se crea un nombre en este caso “casa”, se presiona update"
   ]
  },
  {
   "cell_type": "markdown",
   "metadata": {},
   "source": [
    "<img src=\"img/node_red9.gif\" alt=\"Imagen\"></img>"
   ]
  },
  {
   "cell_type": "markdown",
   "metadata": {},
   "source": [
    "Se presiona group, se crea un grupo en este caso “hola”  \n",
    "Se realiza doble click sobre text y se debe conectar al group correspondiente  "
   ]
  },
  {
   "cell_type": "markdown",
   "metadata": {},
   "source": [
    "<img src=\"img/node_red10.gif\" alt=\"Imagen\"></img>"
   ]
  },
  {
   "cell_type": "markdown",
   "metadata": {},
   "source": [
    "<img src=\"img/node_red11.gif\" alt=\"Imagen\"></img>"
   ]
  },
  {
   "cell_type": "markdown",
   "metadata": {},
   "source": [
    "# Ejemplo Actuador\n",
    "\n",
    "Para controlar un actuador desde internet, utilizando iot. Se debe disponer de una microcomputadora que pueda ser conectada a internet, la misma debe ser de bajo costo. Se puede utilizar un dispositivos como wemos, nodemcu. los cuales   deben estar conectado a internet con alguna de las tecnologias, wifi, cableada, datos de celular . En nuestro caso elegimos WEMOS o nodemcu que se conecta a internet por wifi.    \n",
    "El protocolo de comunicación que se usara sera MQTT. El programa prendera un led cuando se ordene desde una pagina web. \n",
    "La estructura MQTT seria la de la figura\n"
   ]
  },
  {
   "cell_type": "markdown",
   "metadata": {},
   "source": [
    "<img src=\"img/node_red12.gif\" alt=\"Imagen\"></img>"
   ]
  },
  {
   "cell_type": "markdown",
   "metadata": {},
   "source": [
    "\n",
    "\n",
    "| Componentes | Hardware    |\n",
    "|---          |---          |\n",
    "|Broker       | raspberry pi|\n",
    "|Cliente luz  | nodemcu     |\n",
    "|Cliente ext  | Tablet      |"
   ]
  },
  {
   "cell_type": "markdown",
   "metadata": {},
   "source": [
    "### Uso de Dashboard\n",
    "\n",
    "Para manejarlo desde una pagina WEB con un control tipo llave se agrega del tooltip dashboard  el control switch."
   ]
  },
  {
   "cell_type": "markdown",
   "metadata": {},
   "source": [
    "<img src=\"img/node_red13.gif\" alt=\"Imagen\"></img>"
   ]
  },
  {
   "cell_type": "markdown",
   "metadata": {},
   "source": [
    "Se lo conecta a mqtt out se configura haciendo doble click sobre switch"
   ]
  },
  {
   "cell_type": "markdown",
   "metadata": {},
   "source": [
    "<img src=\"img/node_red14.gif\" alt=\"Imagen\"></img>"
   ]
  },
  {
   "cell_type": "markdown",
   "metadata": {},
   "source": [
    "Se coloca en GROUP donde se ubicara en la pagina WEB en Label el nombre que se desea utilizar LED y en On Payload el valor que se enviara al cliente WEMOS en este caso 1 al prender y 0 al apagar se debe seleccionar la opcion string.  \n",
    "La pagina Web queda por ahora.  "
   ]
  },
  {
   "cell_type": "markdown",
   "metadata": {},
   "source": [
    "<img src=\"img/node_red15.gif\" alt=\"Imagen\"></img>"
   ]
  },
  {
   "cell_type": "markdown",
   "metadata": {},
   "source": [
    "### Codigo ESP8166"
   ]
  },
  {
   "cell_type": "markdown",
   "metadata": {},
   "source": [
    "#include <ESP8266WiFi.h>  \n",
    "#include <PubSubClient.h>  \n",
    "\n",
    "const char* ssid = \"LabElectronica\";  \n",
    "const char* password = \"lab.2018.electronica\";  \n",
    "const char* mqtt_server = \"192.168.20.116\";  \n",
    "WiiFiClient espClient;  \n",
    "PubSubClient client(espClient);  \n",
    "\n",
    "void setup() {  \n",
    "  Serial.begin(115200);  \n",
    "  delay(10);  \n",
    "  pinMode(BUILTIN_LED, OUTPUT);    \n",
    "  setup_wifi();  \n",
    "  client.setServer(mqtt_server, 1883);  \n",
    "  client.setCallback(callback);  \n",
    "}  \n",
    "void setup_wifi() {  \n",
    "  delay(10);  \n",
    "   WiFi.begin(ssid, password);  \n",
    "  while (WiFi.status() != WL_CONNECTED) {  \n",
    "    delay(500);  \n",
    "    Serial.print(\".\");  \n",
    "  }  \n",
    "  Serial.println(\"\");  \n",
    "  Serial.println(\"WiFi conectada\");  \n",
    "  Serial.print(\"IP address: \");  \n",
    "  Serial.println(WiFi.localIP());  \n",
    "}  \n",
    "void callback(char* topic, byte* payload, unsigned int length)   \n",
    "{  \n",
    "   for (int i = 0; i < length; i++)  \n",
    "      {  \n",
    "       Serial.print((char)payload[i]);  \n",
    "       }  \n",
    "  Serial.println();  \n",
    "  if ((char)payload[0] == '1')  \n",
    "       {  \n",
    "        digitalWrite(BUILTIN_LED, LOW);     \n",
    "       } else {  \n",
    "        digitalWrite(BUILTIN_LED, HIGH);   \n",
    "       }  \n",
    "}    \n",
    "\n",
    "void reconnect()   \n",
    "{  \n",
    "   while (!client.connected())   \n",
    "   {  \n",
    "    Serial.print(\"Attempting MQTT connection...\");  \n",
    "    // Attempt to connect  \n",
    "    if (client.connect(\"ESP8266Client\"))  \n",
    "           {  \n",
    "            client.subscribe(\"casa/luz\");  \n",
    "           } else   \n",
    "          {  \n",
    "           Serial.print(\"failed, rc=\");  \n",
    "           Serial.print(client.state());  \n",
    "          Serial.println(\" try again in 5 seconds\");  \n",
    "          delay(5000);  \n",
    "          }  \n",
    "    }  \n",
    "}  \n",
    "void loop()  \n",
    "{  \n",
    "    client.loop();  \n",
    "  long now = millis();  \n",
    "}  \n",
    "\n"
   ]
  },
  {
   "cell_type": "markdown",
   "metadata": {},
   "source": [
    "## Ejemplo sensor\n",
    "\n",
    "\n",
    "### Mensaje NODE-RED\n",
    "Un flujo Node-RED funciona pasando mensajes entre nodos. Los mensajes son simples objetos de JavaScript que pueden tener cualquier conjunto de propiedades.  \n",
    "Los mensajes generalmente tienen una propiedad payload: esta es la propiedad predeterminada con la que trabajarán la mayoría de los nodos.  \n",
    "Node-RED también agrega una propiedad llamada _msgid: este es un identificador para el mensaje que puede usarse para rastrear su progreso a través de un flujo.  \n",
    "El valor de una propiedad puede ser cualquier tipo de JavaScript válido, como:  \n",
    "\n",
    "    • Boolean – true, false  \n",
    "    • Number – eg 0, 123.4  \n",
    "    • String – “hello”  \n",
    "    • Array – [1,2,3,4]  \n",
    "    • Object – { “a”: 1, “b”: 2}  \n",
    "    • Null  \n",
    "\n"
   ]
  },
  {
   "cell_type": "markdown",
   "metadata": {},
   "source": [
    "### Entender la Estructura del Mensaje  \n",
    "\n",
    "La forma más fácil de comprender la estructura de un mensaje es pasarlo a un nodo de debug y verlo en la barra lateral de depuración.  \n",
    "De forma predeterminada, el nodo debug mostrará la propiedad msg.payload, pero se puede configurar para mostrar cualquier propiedad o el mensaje completo.  \n"
   ]
  },
  {
   "cell_type": "code",
   "execution_count": null,
   "metadata": {},
   "outputs": [],
   "source": []
  }
 ],
 "metadata": {
  "kernelspec": {
   "display_name": "Python 3",
   "language": "python",
   "name": "python3"
  },
  "language_info": {
   "codemirror_mode": {
    "name": "ipython",
    "version": 3
   },
   "file_extension": ".py",
   "mimetype": "text/x-python",
   "name": "python",
   "nbconvert_exporter": "python",
   "pygments_lexer": "ipython3",
   "version": "3.8.8"
  }
 },
 "nbformat": 4,
 "nbformat_minor": 2
}
