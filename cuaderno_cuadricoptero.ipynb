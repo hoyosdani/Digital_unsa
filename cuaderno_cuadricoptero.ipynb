{
 "cells": [
  {
   "cell_type": "markdown",
   "id": "3bffec6d",
   "metadata": {
    "slideshow": {
     "slide_type": "slide"
    }
   },
   "source": [
    "# CUADRICOPTERO"
   ]
  },
  {
   "cell_type": "markdown",
   "id": "37802e67",
   "metadata": {
    "slideshow": {
     "slide_type": "slide"
    }
   },
   "source": [
    "\n",
    "Los cuadricópteros presentan la configuración más común dentro de los multirotores. Es un multicóptero de 4 hélices, dichas hélices se encuentras en el mismo plano entre sí,  son  impulsadas  mediante 4  motores eléctricos  de  corriente  continua sin escobillas que se encuentran en los extremos de los brazos. \n",
    " \n"
   ]
  },
  {
   "cell_type": "markdown",
   "id": "0756b35b",
   "metadata": {
    "slideshow": {
     "slide_type": "slide"
    }
   },
   "source": [
    "<img src=\"img/direccion-helices-dron.jpg\" alt=\"Imagen\"></img>"
   ]
  },
  {
   "cell_type": "markdown",
   "id": "472657d2",
   "metadata": {
    "slideshow": {
     "slide_type": "slide"
    }
   },
   "source": [
    "### Angulos para controlar Drone\n",
    "\n",
    "| Angulo  |   Rotacion alrededor  | Significa   |\n",
    "|---      |---                    |---          |\n",
    "|  Roll   | eje X                 |Se refiere al movimiento horizontal de un dron izquierda y derecha|\n",
    "| Pitch   | eje Y                 |Este es un movimiento hacia adelante y hacia atrás|\n",
    "| Yaw     | eje Z                 |Giro alrededor del eje z                                          |\n"
   ]
  },
  {
   "cell_type": "markdown",
   "id": "edcdf01b",
   "metadata": {
    "slideshow": {
     "slide_type": "slide"
    }
   },
   "source": [
    "## METODOLOGÍA DE VUELO.\n",
    " Los cuadricópteros operan utilizando cuatro motores que llamaremos M1, M2, M3 y M4.\n",
    "El M1 y el M3 giran en el sentido de las agujas del reloj, mientras que el M2 y el M4 giran en el sentido contrario a las agujas del reloj.\n",
    "El movimiento en sentido horario y antihorario de los rotores del cuadricoptero significa que la velocidad angular neta del sistema es cero."
   ]
  },
  {
   "cell_type": "markdown",
   "id": "2c3e34dc",
   "metadata": {
    "slideshow": {
     "slide_type": "slide"
    }
   },
   "source": [
    "<img src=\"img/esquema_drone.png\" alt=\"Imagen\"></img>"
   ]
  },
  {
   "cell_type": "markdown",
   "id": "bd98dec9",
   "metadata": {
    "slideshow": {
     "slide_type": "slide"
    }
   },
   "source": [
    "### Ascenso y descenso 3\n",
    "El ascenso y descenso del  dron se consigue mediante el aumento y reducción de las revoluciones de los motores. Igual aumento o disminución de los cuatro motores."
   ]
  },
  {
   "cell_type": "markdown",
   "id": "f9ddf668",
   "metadata": {
    "slideshow": {
     "slide_type": "slide"
    }
   },
   "source": [
    "### Roll\n",
    "Se aumenta la velocidad del M1 y M2 y se disminuye la velocidad del M3 M4 para que se desplace en el sentido de las x y para que se desplace en el otro al reves"
   ]
  },
  {
   "cell_type": "markdown",
   "id": "9ae82a30",
   "metadata": {
    "slideshow": {
     "slide_type": "slide"
    }
   },
   "source": [
    "### Pitch\n",
    "Se aumenta la velocidad del M1 y M4 y se disminuye la velocidad del M2 y M3 para que se desplace en la direccion y en un sentido  y para que se desplace en el otro sentido se cambia las velocidades de los motores al reves\n",
    "al reves."
   ]
  },
  {
   "cell_type": "markdown",
   "id": "caa042aa",
   "metadata": {
    "slideshow": {
     "slide_type": "slide"
    }
   },
   "source": [
    "### Yaw\n",
    "Para girar en el sentido de las agujas del reloj, el dron simplemente acelera sus rotores que giran en el sentido de las agujas del reloj y ralentiza sus rotores en sentido antihorario. Provoca la rotacion alrededor del eje z."
   ]
  },
  {
   "cell_type": "markdown",
   "id": "f99adb27",
   "metadata": {},
   "source": [
    "\n",
    "### Helices\n",
    "Las hélices vienen en distintos tamaños y pasos. Se le llama longitud de la hélice al diámetro que tiene el circulo que hace cuando gira. El paso puede ser definido como lo que avanza la hélice en cada rotación. Cuanto mayor es el diámetro o el paso de la hélice, ésta necesita más energía para rotar.\n",
    "\n"
   ]
  },
  {
   "cell_type": "markdown",
   "id": "7ac5c317",
   "metadata": {},
   "source": [
    "### Dos diferentes direcciones de giro\n",
    "En todos los cuadracópteros, dos de las hélices giran en sentido horario ( CW o clockwise) y las otras dos lo hacen en el sentido contrario (CCW o counterclockwise), y por este motivo son distintas. Cuando se compran, las hélices suelen venir en parejas CW y CCW, hay quien dice que los diestros rompen más hélices CCW y viceversa, o quizás es simplemente casualida"
   ]
  },
  {
   "cell_type": "markdown",
   "id": "0ad8e5aa",
   "metadata": {},
   "source": [
    "### Área superficial y forma. Hélices con puntas de“nariz de toro” (bullnose props)\n",
    "\n",
    "Cuanto mayor es el área superficial, más aire se puede mover y por lo tanto más empuje se genera a cambio de un mayor consumo de corriente, mayor arrastre y una pérdida en la eficiencia. La forma de la hélice juega un papel importante en el comportamiento, y está muy relacionada con su área superficial. La diferencia más distintiva se puede ver en la forma del extremo de las palas: puntiagudas, con forma de nariz de toro (BN) o híbridas (HBN)."
   ]
  },
  {
   "cell_type": "code",
   "execution_count": null,
   "id": "89fb5ebd",
   "metadata": {},
   "outputs": [],
   "source": []
  },
  {
   "cell_type": "markdown",
   "id": "537a5689",
   "metadata": {},
   "source": [
    "### Controlar los motores\n",
    "\n",
    "\n",
    "1. Microcontrolador esp32 cam  wifi  bluetooth\n",
    "2. Giroscopo \n",
    "3. Control motores \n",
    "4. Motores \n",
    "5. Bateria \n"
   ]
  },
  {
   "cell_type": "markdown",
   "id": "4cb689cb",
   "metadata": {
    "slideshow": {
     "slide_type": "slide"
    }
   },
   "source": [
    "### I2C\n",
    "<img src=\"img/i2c.png\" alt=\"Imagen\"></img>"
   ]
  },
  {
   "cell_type": "markdown",
   "id": "ff75f6a9",
   "metadata": {
    "slideshow": {
     "slide_type": "slide"
    }
   },
   "source": [
    "### DEFINICIÓN \n",
    "Abreviatura de Inter-IC (inter integrated circuits), un tipo de bus diseñado por Philips Semiconductors a principios de los 80s, que se utiliza para conectar circuitos integrados (ICs). El I2C es un bus del tipo maestro esclavo. Uno de los disspositivo se encarg de organizar la comunicación.\n",
    "La metodología de comunicación de datos del bus I2C es en serie y sincrónica. Una de las señales del bus marca el tiempo (pulsos de reloj) y la otra se utiliza para intercambiar datos.\n"
   ]
  },
  {
   "cell_type": "markdown",
   "id": "8d542e6d",
   "metadata": {
    "slideshow": {
     "slide_type": "slide"
    }
   },
   "source": [
    "Funciona con múltiples maestros, lo que significa que se pueden conectar varios chips al mismo bus y que todos ellos pueden actuar como maestro, sólo con iniciar la transferencia de datos. Este bus se utiliza dentro de una misma placa de un dispositivo."
   ]
  },
  {
   "cell_type": "markdown",
   "id": "ecdb367e",
   "metadata": {
    "slideshow": {
     "slide_type": "slide"
    }
   },
   "source": [
    "El bus I2C, un estándar que facilita la comunicación entre microcontroladores, memorias y otros dispositivos con cierto nivel de «inteligencia», sólo requiere de dos líneas de señal y un común o masa. Fue diseñado a este efecto por Philips y permite el intercambio de información entre muchos dispositivos a una velocidad aceptable, de unos 100 Kbits por segundo, aunque hay casos especiales en los que el reloj llega hasta los 3,4 MHz.\n"
   ]
  },
  {
   "cell_type": "markdown",
   "id": "3a7def3d",
   "metadata": {
    "slideshow": {
     "slide_type": "slide"
    }
   },
   "source": [
    "\n",
    "#### Descripción de las señales\n",
    "\n",
    "    SCL (System Clock) es la línea de los pulsos de reloj que sincronizan el sistema.\n",
    "    SDA (System Data) es la línea por la que se mueven los datos entre los dispositivos.\n",
    "    GND (Masa) común de la interconexión entre todos los dispositivos «enganchados» al bus"
   ]
  },
  {
   "cell_type": "markdown",
   "id": "b0ca0192",
   "metadata": {},
   "source": [
    "<img src=\"img/comunicacion_busi2cinicio.gif\" alt=\"Imagen\"></img>"
   ]
  },
  {
   "cell_type": "markdown",
   "id": "cc67ca0a",
   "metadata": {},
   "source": [
    "<img src=\"img/comunicacion_busi2cack.gif\" alt=\"Imagen\"></img>"
   ]
  },
  {
   "cell_type": "markdown",
   "id": "b2c8a90d",
   "metadata": {},
   "source": [
    "<img src=\"img/comunicacion_busi2cparada.gif\" alt=\"Imagen\"></img>"
   ]
  },
  {
   "cell_type": "markdown",
   "id": "bb2c6eec",
   "metadata": {},
   "source": [
    "http://robots-argentina.com.ar/didactica/descripcion-y-funcionamiento-del-bus-i2c/"
   ]
  },
  {
   "cell_type": "markdown",
   "id": "49d2ce93",
   "metadata": {
    "slideshow": {
     "slide_type": "slide"
    }
   },
   "source": [
    "### GY-521\n",
    "\n",
    "El modulo contiene un integrado MPU6050 y un regulador de 5V. Que incorpora la electronica para conectar a un microcontrolador.\n",
    "<img src=\"img/gy-521.jpg\" alt=\"Imagen\"></img>\n"
   ]
  },
  {
   "cell_type": "markdown",
   "id": "ec0c461a",
   "metadata": {
    "slideshow": {
     "slide_type": "slide"
    }
   },
   "source": [
    "### Acelerometro MPU6050 GY-521\n",
    "\n",
    " El MPU-6050 es una unidad de medición inercial (IMU) de seis grados de libertad (6DOF) fabricado por Invensense, que combina un acelerómetro de 3 ejes y un giroscopio de 3 ejes.\n",
    "Dispone de conversores analógicos digitales (ADC) de 16bits.\n",
    "\n",
    "Rangos del acelerómetro:\n",
    "\n",
    "| Acelerometro  |\n",
    "|---            |\n",
    "|  ±2g          |\n",
    "|  ±4g          |\n",
    "|  ±8g          |\n",
    "|  ±16g         |\n",
    "\n",
    "\n",
    "|Giroscopio °/sec.|\n",
    "|---        |\n",
    "| ±250       |\n",
    "| ±500      |\n",
    "| ±1000     |\n",
    "| ±2000     |"
   ]
  },
  {
   "cell_type": "markdown",
   "id": "254ec1eb",
   "metadata": {
    "slideshow": {
     "slide_type": "slide"
    }
   },
   "source": [
    "Otras caracteristicas\n",
    "\n",
    "1. Consumo 3.5mA, \n",
    "2. Sensor de temperatura embebido\n",
    "3. Reloj de alta precisión e \n",
    "4. Interrupciones programables.\n",
    "5. Interfase I2C "
   ]
  },
  {
   "cell_type": "markdown",
   "id": "889fb7f8",
   "metadata": {
    "slideshow": {
     "slide_type": "slide"
    }
   },
   "source": [
    "### Inclinación con acelerómetro\n",
    "\n",
    "//GND - GND  \n",
    "//VCC - VCC  \n",
    "//SDA - Pin A4 \n",
    "//SCL - Pin A5 \n",
    "\n",
    "#include \"I2Cdev.h\" \n",
    "\n",
    "#include \"MPU6050.h\"\n",
    "\n",
    "#include \"Wire.h\" \n",
    "\n",
    "const int mpuAddress = 0x68;  // Puede ser 0x68 o 0x69 \n",
    "\n",
    "MPU6050 mpu(mpuAddress); \n",
    "\n",
    "int ax, ay, az; \n",
    "int gx, gy, gz; \n",
    "\n",
    "void setup() \n",
    "{\n",
    "   Serial.begin(9600);  \n",
    "   Wire.begin(); \n",
    "   \n",
    "   mpu.initialize(); \n",
    "   \n",
    "   Serial.println(mpu.testConnection() ? F(\"IMU iniciado correctamente\") : F(\"Error al iniciar IMU\")); \n",
    "} \n",
    "\n",
    "void loop()  \n",
    "{ \n",
    "   // Leer las aceleraciones \n",
    "   mpu.getAcceleration(&ax, &ay, &az); \n",
    "\n",
    "   //Calcular los angulos de inclinacion  \n",
    "   float accel_ang_x = atan(ax / sqrt(pow(ay, 2) + pow(az, 2)))*(180.0 / 3.14);  \n",
    "   float accel_ang_y = atan(ay / sqrt(pow(ax, 2) + pow(az, 2)))*(180.0 / 3.14); \n",
    "\n",
    "   // Mostrar resultados \n",
    "   Serial.print(F(\"Inclinacion en X: \"));  \n",
    "   Serial.print(accel_ang_x); \n",
    "   Serial.print(F(\"\\tInclinacion en Y:\"));  \n",
    "   Serial.println(accel_ang_y); \n",
    "   delay(10); \n",
    "} "
   ]
  },
  {
   "cell_type": "markdown",
   "id": "8a67cf7b",
   "metadata": {
    "slideshow": {
     "slide_type": "slide"
    }
   },
   "source": [
    "### Orientacion con giroscopo"
   ]
  },
  {
   "cell_type": "markdown",
   "id": "7770e4b1",
   "metadata": {
    "slideshow": {
     "slide_type": "slide"
    }
   },
   "source": [
    "#### Variables permanentes y Librerias\n",
    "\n",
    "//GND - GND  \n",
    "//VCC - VCC  \n",
    "//SDA - Pin A4  \n",
    "//SCL - Pin A5 \n",
    "\n",
    "#include \"I2Cdev.h\"  \n",
    "#include \"MPU6050.h\"  \n",
    "#include \"Wire.h\"  \n",
    "const int mpuAddress = 0x68;  // Puede ser 0x68 o 0x69  \n",
    "\n",
    "MPU6050 mpu(mpuAddress);  \n",
    "int ax, ay, az;  \n",
    "int gx, gy, gz;  \n",
    "long tiempo_prev, dt;  \n",
    "float girosc_ang_x, girosc_ang_y;  \n",
    "float girosc_ang_x_prev, girosc_ang_y_prev;  \n"
   ]
  },
  {
   "cell_type": "markdown",
   "id": "a7b92590",
   "metadata": {
    "slideshow": {
     "slide_type": "slide"
    }
   },
   "source": [
    "void updateGiro()\n",
    "{\n",
    "   dt = millis() - tiempo_prev;  \n",
    "   tiempo_prev = millis();  \n",
    "\n",
    "   girosc_ang_x = (gx / 131)*dt / 1000.0 + girosc_ang_x_prev;  \n",
    "   girosc_ang_y = (gy / 131)*dt / 1000.0 + girosc_ang_y_prev;  \n",
    "\n",
    "   girosc_ang_x_prev = girosc_ang_x;  \n",
    "   girosc_ang_y_prev = girosc_ang_y;  \n",
    "}"
   ]
  },
  {
   "cell_type": "markdown",
   "id": "7e326a49",
   "metadata": {
    "slideshow": {
     "slide_type": "slide"
    }
   },
   "source": [
    "#### Función setup\n",
    "void setup()\n",
    "\n",
    "{\n",
    "\n",
    "Serial.begin(9600);  \n",
    "   Wire.begin();  \n",
    "   mpu.initialize();  \n",
    "   Serial.println(mpu.testConnection() ? F(\"IMU iniciado correctamente\") : F(\"Error al iniciar IMU\"));  \n",
    "}"
   ]
  },
  {
   "cell_type": "markdown",
   "id": "50627fec",
   "metadata": {
    "slideshow": {
     "slide_type": "slide"
    }
   },
   "source": [
    "#### Función Loop\n",
    "void loop()  \n",
    "{   \n",
    "\n",
    "// Leer las velocidades angulares \n",
    "\n",
    "mpu.getRotation(&gx, &gy, &gz);  \n",
    "\n",
    "   updateGiro();  \n",
    "\n",
    "   // Mostrar resultados  \n",
    "   Serial.print(F(\"Rotacion en X:  \"));  \n",
    "   Serial.print(girosc_ang_x);  \n",
    "   Serial.print(F(\"\\tRotacion en Y: \"));  \n",
    "   Serial.println(girosc_ang_y);  \n",
    "\n",
    "   delay(10);  \n",
    "}  "
   ]
  },
  {
   "cell_type": "markdown",
   "id": "8491fb05",
   "metadata": {},
   "source": [
    "<img src=\"img/l9110_d.png\" alt=\"Imagen\"></img>"
   ]
  },
  {
   "cell_type": "code",
   "execution_count": null,
   "id": "000a10b6",
   "metadata": {},
   "outputs": [],
   "source": []
  }
 ],
 "metadata": {
  "celltoolbar": "Slideshow",
  "kernelspec": {
   "display_name": "Python 3",
   "language": "python",
   "name": "python3"
  },
  "language_info": {
   "codemirror_mode": {
    "name": "ipython",
    "version": 3
   },
   "file_extension": ".py",
   "mimetype": "text/x-python",
   "name": "python",
   "nbconvert_exporter": "python",
   "pygments_lexer": "ipython3",
   "version": "3.8.8"
  }
 },
 "nbformat": 4,
 "nbformat_minor": 5
}
