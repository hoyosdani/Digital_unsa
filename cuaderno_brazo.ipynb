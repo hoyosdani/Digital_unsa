{
 "cells": [
  {
   "cell_type": "markdown",
   "metadata": {},
   "source": [
    "# BRAZO ROBOT\n",
    "\n",
    "## Resumen\n",
    "Para diseñar y o construir un brazo robot didactico tenemos que trabajar en varios aspectos que incluyen:\n",
    "\n",
    "1. Definición del problema\n",
    "2. Análisis cinemático.\n",
    "3. Análisis dinámico.\n",
    "4. Diseño mecánico\n",
    "5. Diseño electronico\n",
    "6. Programacion\n",
    "\n",
    "\n",
    "Se describira cada una de las partes del brazo didactico,los componentes mecanicos, motores, microcontroladores y el programa. e utilizara un Arduino Uno como microcontrolador. El cual se muestra en la figuras\n",
    "\n",
    "<img src=\"img/arduinouno.jpg\" alt=\"Imagen\"></img>\n",
    "\n",
    "\n",
    "\n",
    "Los motores que se usaran son del tipo de servomotor.\n",
    "<img src=\"img/servomotor.jpg\"></img>\n",
    "\n",
    "Las piezas mecanicas se construiran de carton. Para unir las partes se utiliza silicona. Se comenzara analizando cada una de las partes mecanicas y simulando el movimiento de las mismas.\n"
   ]
  },
  {
   "cell_type": "markdown",
   "metadata": {},
   "source": [
    "## 1. Definición del problema\n",
    "\n",
    "Se diseñara y construira un brazo robotico de tres grados de libertad, del tipo articulado. El objetivo del mismo es didactico. Tendra tres articulaciones, Las articulaciones A1 y A2 permitiran ubicar al brazo en cualquier posicion del plano en que se encuentra el mismo. La articulacion A3 permite que siempre la mano este horizontal. Se podra ampliar el brazo de forma de agregar una pinza para sujetar objetos.\n",
    "<img src=\"img/brazo00.gif\" height=\"400\" width=\"200\"></img>\n",
    "Para accionar el brazo se utilizaran dos servomotores del tipo  SG90 cuyas caracteristicas se muestran a continuación\n",
    "\n",
    "- Peso: 9 gramos\n",
    "- Dimensiones: 22.2 x 11.8 x 31 mm\n",
    "- Torque: 1.8 kg.cm\n",
    "- Velocidad: 0.1 s/60 grados\n",
    "- Alimentación: 4.8 V (~5V)\n",
    "- Temperatura de funcionamiento: 0 ºC – 55 ºC\n",
    "\n",
    "Ambos motores se colocaran en paralelo enfrentados entre si, uno de los servomotores accionara el brazo, el otro  con una serie de palancas accionara el antebrazo. En la imagen se muestra el brazo.\n",
    "\n",
    "Se utilizara una placa Arduino UNO para controlar los servomotores, una PC para controlar, simular el sistema. Se utilizara el entorno Arduino para programar las placas y Jupyter Notebook para programar la PC.\n",
    "\n",
    "\n",
    "\n"
   ]
  },
  {
   "cell_type": "markdown",
   "metadata": {},
   "source": [
    "## 2.  Cinematica del brazo \n",
    "\n",
    "### 2.1 Cinematica directa del brazo\n",
    "\n",
    "La cinematica directa de un robot es la determinación de la posición y orientación del extremo de un robot con respecto a un sistema de referencia. Con este fin se realizaran las sigueintes acciones.\n",
    "\n",
    "- Se analizara el sistema de ecuaciones del brazo\n",
    "- Se estudiara la libreria matplotlib\n",
    "- Se realizara un programa para simular el movimiento\n",
    "\n",
    "\n",
    "#### 2.1.1 Calculo de la matriz de tranformacion\n",
    "\n",
    " Con este fin se analiza la geometria del brazo robot, cuyo esquema se muestra en la figura.\n",
    " <img src=\"img/brazo_geo.gif\" alt=\"Imagen\" width=\"300\" height=\"300\">Brazo</img>\n",
    " \n",
    " Se comenzaradescribiendo el antebrazo. El cual se muestra en la siguiente figura:  \n",
    "\n",
    "<img src=\"img/antebrazo.gif\" alt=\"Imagen\" width=\"100\" height=\"600\"></img>\n",
    "\n",
    "El mismo queda dividido en dos segmentos uno de largo a y otro de lago b con la articulacion situada entre ambos segmentos. El brazo tendra largo a. Una de las palancas tendra largo a y la otra tendra largo b se conectan segun se muestra en la figura. Formando un paralepipedo. Eto permite que las relaciones trigonometricas sean simples de analizar. \n",
    "\n",
    "Analicemos las ecuaciones comenzando por el punto(x1,y1) que corresponde a la segunda articulación A2 seria:\n",
    "\n",
    "<center><b><i> x1=a.$\\cos$(ang1) </b></i></cent\n",
    "<center><b><i> y1=a.$\\sin$(ang1) </b></i></center>\n",
    "\n",
    "Finalmente el punto (x2,y2) tendria la siguiente ecuación:  \n",
    "\n",
    "<center><b><i>x2=a.$\\cos$(ang1)+a.$\\sin$(ang2)  </b></i></center>\n",
    "<center><b><i>y2=a.$\\sin$(ang1)-a.$\\cos$(ang2)  </b></i></center>\n",
    "\n",
    "Se observa que la posicion del brazo depende de dos angulos ang1 y ang2. Los cuales corresponderian a los angulos de los dos servomotores. Pero es conveniente que la posicion de 90° del ang1 y ang2 sea con el brazo vertical. Entonces \n",
    "\n",
    "<center><b><i>ang1=angs1-90 </b></i></center>\n",
    "\n",
    "<center><b><i>ang2=angs2-90 </b></i></center>\n",
    "\n",
    "El sistema de ecuaciones queda:\n",
    "\n",
    "<center><b><i>x=a.$\\sin$(angs1)+a.$\\cos$(angs2))  </b></i></center>\n",
    "\n",
    "<center><b><i>y=a.$\\cos$(angs1)-a. $\\sin$(angs2))  </b></i></center>\n",
    "\n",
    "Para obtener que el ultimo segmento del robot este siempre horizontal, se debe agregar un nuevo grupo de palancas y secciones de conexion que permitan cumplir con ese cometido. En la figura se muestra la nueva configuración.\n",
    "\n",
    "<img src=\"img/brazo_geo1.gif\" alt=\"Imagen\" width=\"300\" height=\"300\">Brazo</img>\n",
    " En amarillo se muestran dos palancas  y dos triangulos iguales  que se agregan al brazo. Los triangulos son rectangulos: Uno esta fijo a la base y el otro se coloca el la articulacion (x1,y1). Las palancas tienen el largo a. Se colocan formandos dos paralelogramos, como se muestra en la figura. El segmento d por propiedad de los paralelogramos siempre queda vertical. Lo que permite que el ultimo segmento este vertical o en el angulo que el problema lo requiera. Analizando geometricamente, se concluye que el sistema cambia agregando una componente en y y otra en x que tienen que ver con la traslacion del extremo\n",
    " \n",
    "<center><b><i>x=a.$\\sin$(angs1)+a.$\\cos$(angs2)+x0)  </b></i></center>\n",
    "\n",
    "<center><b><i>y=a.$\\cos$(angs1)-a. $\\sin$(angs2+y0))  </b></i></center>\n",
    " \n",
    "\n",
    "Dado que el sistema tiene pocos grados de libertad, el problema cinematico directo se encuentra resuelto. En el siguiente punto se analizara la libreria matplotlib\n"
   ]
  },
  {
   "cell_type": "markdown",
   "metadata": {},
   "source": [
    "####  2.1.2 Libreria Matplotlib\n",
    "\n",
    "Para simular el movimiento del brazo, se analizara partes de la libreria  matplotlib, dentro de esa libreria se usara pyplot y path, la cual es una coleccion de funciones para graficar similar a matlab, con estas funciones se puede crear figuras, cambiar figuras, dibujar un area, dibujar lines, rectangulos esferas etc.\n",
    "\n",
    "A continuación se muestra un programa:\n"
   ]
  },
  {
   "cell_type": "code",
   "execution_count": 34,
   "metadata": {},
   "outputs": [
    {
     "data": {
      "image/png": "[encoded data removed]",
      "text/plain": [
       "<Figure size 432x288 with 1 Axes>"
      ]
     },
     "metadata": {
      "needs_background": "light"
     },
     "output_type": "display_data"
    }
   ],
   "source": [
    "import matplotlib.pyplot as plt\n",
    "plt.plot([1, 2, 3, 4])\n",
    "plt.ylabel('Eje Y')\n",
    "plt.xlabel('Eje X')\n",
    "\n",
    "plt.show()"
   ]
  },
  {
   "cell_type": "markdown",
   "metadata": {},
   "source": [
    "SE describe el prgrama \n",
    "\n",
    "| nombre  |  sintaxis                          |        Accion                                          |\n",
    "| :---    | :---                               | :---                                                   |\n",
    "|pyplot   |*_import matplotlib.pyplot as plt_* |Carga las funciones pyplot con nombre plt en el programa.|  \n",
    "| plot    | *_plt.plot([1, 2, 3, 4])_*         |Grafica la secuencia 1,2,3,4  |\n",
    "| ylabel  |*_plt.ylabel('Eje Y')_*             | Escribe un letrero en el eye y  |\n",
    "|ylabel   |*_plt.xlabel('Eje X')_*             | Escribe un letrero en el eye x  |\n",
    "|show     |*_plt.show()_*                      | Muestra el resultado  |\n",
    "\n",
    "\n",
    "Otrs funciones importantes para realizar la simulacion son:\n",
    "    \n",
    "| nombre    |    sintaxis      |   accion      |\n",
    "|:---       |:---              | :---          |\n",
    "|  figure   |fig = plt.figure()|crea una figura|\n",
    "| set_dpi   |fig.set_dpi(80)   |fija la resolucion|\n",
    "| set_size_inches|fig.set_size_inches(4, 4)| tamaño de la figura|\n",
    "| axes      |ax = plt.axes(xlim=(0, 40), ylim=(0, 40))| crea los  ejes de la imagen |\n",
    "|line       |linea = plt.Line2D((x1, x2), (y1, y2), lw=2.5)| Crea una linea|\n",
    "|  Poligon  |lin1 = plt.Polygon(point1, closed=None, fill=None, edgecolor='r', linewidth=2)| crea un poligono|\n",
    "|add_line   |ax.add_line(lin1)| Agrega lineas a una figura|\n",
    "|rectangle  |rec=Rectangle((x,y), ancho, largo, angulo,opciones)| Crea un rectangulo\n",
    "|add_path   | ax.add_patch(rex) | Agrega la forma a la imagen    |\n",
    "\n",
    "Se presenta un program que muestra un rectangulo, circulo linea y poligono."
   ]
  },
  {
   "cell_type": "code",
   "execution_count": 3,
   "metadata": {},
   "outputs": [
    {
     "data": {
      "text/plain": [
       "<matplotlib.lines.Line2D at 0x25e260f7708>"
      ]
     },
     "execution_count": 3,
     "metadata": {},
     "output_type": "execute_result"
    },
    {
     "data": {
      "image/png": "[encoded data removed]",
      "text/plain": [
       "<Figure size 320x320 with 1 Axes>"
      ]
     },
     "metadata": {
      "needs_background": "light"
     },
     "output_type": "display_data"
    }
   ],
   "source": [
    "from matplotlib import pyplot as plt\n",
    "from matplotlib import path\n",
    "fig = plt.figure()\n",
    "fig.set_dpi(80)\n",
    "fig.set_size_inches(4, 4)\n",
    "ax = plt.axes(xlim=(0, 10), ylim=(0, 10))\n",
    "circulo = plt.Circle((5, 5), 2, fc='blue')\n",
    "linea = plt.Line2D((1, 6),(3, 2), lw=4)\n",
    "rectangulo=plt.Rectangle((2,2),2,1,0,color=\"red\")\n",
    "ax.add_patch(circulo)\n",
    "ax.add_patch(rectangulo)\n",
    "ax.add_line(linea)"
   ]
  },
  {
   "cell_type": "markdown",
   "metadata": {},
   "source": [
    "El brazo tendra en principio dos segmentos como se muestra en la figura\n",
    "Se comenzara dibujando solos los segmentos del brazo. En el prgrama se muestra el mismo"
   ]
  },
  {
   "cell_type": "code",
   "execution_count": 34,
   "metadata": {},
   "outputs": [
    {
     "data": {
      "text/plain": [
       "<matplotlib.lines.Line2D at 0x2294a383cc8>"
      ]
     },
     "execution_count": 34,
     "metadata": {},
     "output_type": "execute_result"
    },
    {
     "data": {
      "image/png": "[encoded data removed]",
      "text/plain": [
       "<Figure size 320x320 with 1 Axes>"
      ]
     },
     "metadata": {
      "needs_background": "light"
     },
     "output_type": "display_data"
    }
   ],
   "source": [
    "from matplotlib import pyplot as plt\n",
    "from matplotlib import path\n",
    "fig = plt.figure()\n",
    "fig.set_dpi(80)\n",
    "fig.set_size_inches(4, 4)\n",
    "ax = plt.axes(xlim=(0, 10), ylim=(0, 10))\n",
    "linea1 = plt.Line2D((3, 5),(1 ,5), lw=4)\n",
    "linea2 = plt.Line2D((5,8),(5 ,1), lw=4)\n",
    "\n",
    "rectangulo=plt.Rectangle((2,0),2,1,0,color=\"red\")\n",
    "ax.add_patch(rectangulo)\n",
    "ax.add_line(linea1)\n",
    "ax.add_line(linea2)"
   ]
  },
  {
   "cell_type": "markdown",
   "metadata": {},
   "source": [
    "Si se analiza los esfuerzos que se realizan."
   ]
  },
  {
   "cell_type": "code",
   "execution_count": 65,
   "metadata": {},
   "outputs": [
    {
     "data": {
      "text/plain": [
       "<matplotlib.lines.Line2D at 0x2294bd38048>"
      ]
     },
     "execution_count": 65,
     "metadata": {},
     "output_type": "execute_result"
    },
    {
     "data": {
      "image/png": "[encoded data removed]",
      "text/plain": [
       "<Figure size 320x320 with 1 Axes>"
      ]
     },
     "metadata": {
      "needs_background": "light"
     },
     "output_type": "display_data"
    }
   ],
   "source": [
    "from matplotlib import pyplot as plt\n",
    "from matplotlib import path\n",
    "fig = plt.figure()\n",
    "fig.set_dpi(80)\n",
    "fig.set_size_inches(4, 4)\n",
    "ax = plt.axes(xlim=(0, 10), ylim=(0, 10))\n",
    "linea1 = plt.Line2D((3, 5),(1 ,5), lw=4)\n",
    "linea2 = plt.Line2D((5,8),(5 ,1), lw=4)\n",
    "flecha1= plt.Arrow(5,5,0,-1,width=1,color=\"black\")\n",
    "flecha2= plt.Arrow(8,1,0,-1,width=1,color=\"black\")\n",
    "flecha3= plt.Arrow(6.5,3,0,-0.5,width=1,color=\"black\")\n",
    "flecha4= plt.Arrow(4,3,0,-0.5,width=1,color=\"black\")\n",
    "\n",
    "\n",
    "rectangulo=plt.Rectangle((2,0),2,1,0,color=\"red\")\n",
    "ax.add_patch(rectangulo)\n",
    "ax.add_patch(flecha1)\n",
    "ax.add_patch(flecha2)\n",
    "ax.add_patch(flecha3)\n",
    "ax.add_patch(flecha4)\n",
    "ax.add_line(linea1)\n",
    "ax.add_line(linea2)"
   ]
  },
  {
   "cell_type": "markdown",
   "metadata": {},
   "source": [
    "En la figura se muestra las cargas que debe soportar el motor del brazo fijo a la base roja.  Entonces se debera tratar de disminuir la carga sobre ese motor. Entonces se colocara el segundo motor sobre la base roja enfrentado al primero y  con un sistema de palanca se accionara el antebrazo.  \n",
    "\n"
   ]
  },
  {
   "cell_type": "markdown",
   "metadata": {},
   "source": [
    "#### 2.1.3 Simulacion del movimiento de un brazo robotico\n",
    "Se simulara en la PC las posiciones del brazo. Se utilizara la libreria numpy la cual es una biblioteca de Python para trabajar con matrices y vectores.  El principal tipo de dato es el vector o matriz (arreglo o array). Permite trabajar con la semántica de matrices y ofrece muchas funciones útiles para el procesamiento de números. Esta libreria tiene definida las funciones seno y coseno. \n",
    "\n",
    "|Nombre \t|Sintaxis            |\tAcción|\n",
    "| :---      | :---               | :---  |\n",
    "| numpy     | import numpi as np |  carga la libreria numpy cada funcion debe comenzar con np. |\n",
    "| sin       | x=150*np.sin( ang) |  Función seno                                               |\n",
    "| cos       | y=150*np.cos(ang)  |  Función coseno                                             |\n",
    "|  pi       | a=np.pi            | Número pi                                                   |\n",
    "\n",
    "\n",
    "Se comenzara analizando el sistema sin la mano ni el sistema para mantenerla horizontal. Las ecuaciones ya deducidas son:\n",
    "  \n",
    "<center><b><i>x=a.$\\sin$(angs1)+a.$\\cos$(angs2))  </b></i></center>\n",
    "\n",
    "<center><b><i>y=a.$\\cos$(angs1)-a. $\\sin$(angs2))  </b></i></center>\n",
    "El programa se muestra en la siguiente seccion. Cambiando el valor de o1 y o2 se obtiene distintos puntos del extremo del brazo. Se supone que la distancia a es 150 mm\n"
   ]
  },
  {
   "cell_type": "code",
   "execution_count": 15,
   "metadata": {},
   "outputs": [
    {
     "name": "stdout",
     "output_type": "stream",
     "text": [
      "x=204.90296270404437 y=54.906974740054636\n",
      "\n"
     ]
    }
   ],
   "source": [
    "import numpy as np\n",
    "\n",
    "o1=30\n",
    "o2=30\n",
    "x=150*(np.sin(o1/180*np.pi)+np.cos(o2/180*np.pi))\n",
    "y=150*(np.cos(o1/180*np.pi)-np.sin(o2/180*np.pi))\n",
    "dd='x='+str(x)+' y='+str(y)+'\\n'\n",
    "print(dd)"
   ]
  },
  {
   "cell_type": "markdown",
   "metadata": {},
   "source": [
    "En el siguiente programa se simulara el movimiento del brazo robot utilizando la libreria matplot y numpi se debe modificar el valor de o1 y o2 para obtener las distintas posiciones del brazo."
   ]
  },
  {
   "cell_type": "code",
   "execution_count": 24,
   "metadata": {},
   "outputs": [
    {
     "data": {
      "text/plain": [
       "(23.000000000000004, 1.0)"
      ]
     },
     "execution_count": 24,
     "metadata": {},
     "output_type": "execute_result"
    },
    {
     "data": {
      "image/png": "[encoded data removed]",
      "text/plain": [
       "<Figure size 480x480 with 1 Axes>"
      ]
     },
     "metadata": {
      "needs_background": "light"
     },
     "output_type": "display_data"
    }
   ],
   "source": [
    "import numpy as np\n",
    "from matplotlib import pyplot as plt\n",
    "from matplotlib import path\n",
    "\n",
    "\n",
    "o1=100\n",
    "o2=100\n",
    "a=15\n",
    "b=5\n",
    "d=7\n",
    "o3=30\n",
    "def coordenadas(o1,o2):\n",
    "    x=np.empty((6))\n",
    "    y=np.empty((6))\n",
    "    x[0]=8\n",
    "    y[0]=1\n",
    "    x[1]=x[0]+a*np.cos((180-o1)/180*np.pi)\n",
    "    y[1]=y[0]+a*np.sin((180-o1)/180*np.pi)\n",
    "\n",
    "    x[2]=x[1]+a*np.cos((180-o2)/180*np.pi)\n",
    "    y[2]=y[1]-a*np.sin((180-o2)/180*np.pi)\n",
    "\n",
    "    x[3]=x[1]-b*np.cos((180-o2)/180*np.pi)\n",
    "    y[3]=y[1]+b*np.sin((180-o2)/180*np.pi)\n",
    "\n",
    "    x[4]=x[0]-b*np.cos((180-o2)/180*np.pi)\n",
    "    y[4]=y[0]+b*np.sin((180-o2)/180*np.pi)\n",
    "\n",
    "    x[5]=x[0]-0.01\n",
    "    y[5]=y[0]\n",
    "\n",
    "    x6=x[0]-d*np.cos(o3/180*np.pi)\n",
    "    y6=y[0]-d*np.sin(o3/180*np.pi)\n",
    "    x7=x[1]-d*np.cos(o3/180*np.pi)\n",
    "    y7=y[1]+d*np.sin(o3/180*np.pi)\n",
    "\n",
    "    x8=x[1]\n",
    "    y8=y[1]+d*np.sin(o3/180*np.pi)\n",
    "\n",
    "    x9=x[2]\n",
    "    y9=y[2]+d*np.sin(o3/180*np.pi)\n",
    "\n",
    "    x10=x[2]+4\n",
    "    y10=y[2]\n",
    "    return(x,y)\n",
    "def dibujo_brazo(o1,o2):\n",
    "    fig = plt.figure()\n",
    "    fig.set_dpi(80)\n",
    "    fig.set_size_inches(6, 6)\n",
    "    ax = plt.axes(xlim=(0, 40), ylim=(-20, 20))\n",
    "    [x,y]=coordenadas(o1,o2)\n",
    "    point1 = [[x[0], y[0]], [x[1],y[1] ]]\n",
    "    point2 = [[x[2], y[2]], [x[3],y[3] ]]\n",
    "    point3 = [[x[3], y[3]], [x[4],y[4]], [x[5],y[5] ]]\n",
    "    lin1 = plt.Polygon(point1, closed=None, fill=None, edgecolor='b', linewidth=4)\n",
    "    lin2 = plt.Polygon(point2, closed=None, fill=None, edgecolor='g', linewidth=4)\n",
    "    lin3 = plt.Polygon(point3, closed=None, fill=None, edgecolor='black', linewidth=2)\n",
    "    rectangulo=plt.Rectangle((4,0),8,1,0,color=\"red\")\n",
    "    ax.add_line(lin1)\n",
    "    ax.add_line(lin2)\n",
    "    ax.add_line(lin3)\n",
    "    ax.add_patch(rectangulo)\n",
    "    return(x[2],y[2])\n",
    "dibujo_brazo(120,120)"
   ]
  },
  {
   "cell_type": "markdown",
   "metadata": {},
   "source": [
    " Se utilizara la sentencia interact para poder modificar los angulos sin necesidad de modificar el programa. Se agrega la libreria ipywidgets que tiene la funcion interacts que permite modificar variables\n",
    "\n",
    "|Nombre      |Sintaxis                 |\tAcción|\n",
    "|:---        | :---                    | :---   |\n",
    "|ipywidgets  | import ipywidgets as wd | Carga la libreria ipywidgets cada funcion debe comenzar con wd. |\n",
    "| interact   | wd.interact( funcion,var1=(1,100),var2)=(1,100)|ejecuta en forma interactiva la funcion fun y sus variables var1 y var2 con valores entre 1 y 100 |\n",
    "\n",
    "\n"
   ]
  },
  {
   "cell_type": "code",
   "execution_count": 27,
   "metadata": {},
   "outputs": [
    {
     "data": {
      "application/vnd.jupyter.widget-view+json": {
       "model_id": "4b04c6edc71f4b4c8b03fe13ef9201f1",
       "version_major": 2,
       "version_minor": 0
      },
      "text/plain": [
       "interactive(children=(IntSlider(value=135, description='o1', max=180, min=90), IntSlider(value=135, descriptio…"
      ]
     },
     "metadata": {},
     "output_type": "display_data"
    },
    {
     "data": {
      "text/plain": [
       "<function __main__.dibujo_brazo(o1, o2)>"
      ]
     },
     "execution_count": 27,
     "metadata": {},
     "output_type": "execute_result"
    }
   ],
   "source": [
    "import ipywidgets as wd\n",
    "import numpy as np\n",
    "from matplotlib import pyplot as plt\n",
    "from matplotlib import path\n",
    "a=15\n",
    "b=5\n",
    "d=7\n",
    "o3=30\n",
    "\n",
    "wd.interact (dibujo_brazo, o1=(90,180),o2=(90,180))\n"
   ]
  },
  {
   "cell_type": "markdown",
   "metadata": {},
   "source": [
    "###  2.2 Cinematica inversa\n",
    "\n",
    " Cinemática inversa es la técnica que permite determinar el movimiento de un robot para lograr que un actuador final se ubique en una posición concreta. El brazo robotico debe poder ubicar la mano en una posicion determinada. Se debe determinar los valores de los angulos o1, o2 en funcion de las posiciones x e y del extremo de la mano del robot. Matematicamente significa que se debe resolver el sistema de ecuaciones obtenido en xxx. \n",
    " \n",
    "La posicion de este punto esta descripto en las siguientes ecuaciones:\n",
    "\n",
    "|                                                         |\n",
    "|:---                                                     |\n",
    "| $ x=x0+a.cos(\\frac{180-o1}{180}.\\pi)+a.cos(\\frac{180-o2}{180}\\pi) $ |  \n",
    "| $ y=y0+a.sin(\\frac{180-o1}{180}.\\pi)-a.sin(\\frac{180-o2}{180}\\pi)$ |  \n",
    "\n",
    "Este sistema de ecuaciones se resolvera utiizando un metodo aproximado. En ese sentido se usa la libreria *__optimize__* para resolver las ecuaciones y la libreria *__numpy__* donde esta definida las funciones *__seno__* y *__coseno__* \n",
    "\n",
    "| Funcion     | libreria      |   sintaxis      | acciones                         |\n",
    "|:---         | :---          | :---            | :---                             |\n",
    "| seno        |  numpy        | _x=np.sin_      |  calcula el seno de una funcion  |\n",
    "| coseno      |  numpy        | _x=np.sin_      |  calcula el coseno de una funcion|\n",
    "| fsolve      | scipy.optimize| _z=fsolve(coorde,[1,1],args=(x00,y00))_| resuelve la ecuacion coorde|\n",
    "\n",
    "En el siguiente programa se resuelve el problema de cinematica inversa del brazo robotico que se esta construyendo. Se debe definir el sistema de ecuaciones, en una funcion en este caso *__coorde__* se debe proponer una primera solución en este caso (0,0) y finalmente los valores x00 y y00. Modificando los mismos se obtiene los angulos que definen la posicion del brazo."
   ]
  },
  {
   "cell_type": "code",
   "execution_count": 36,
   "metadata": {},
   "outputs": [
    {
     "name": "stdout",
     "output_type": "stream",
     "text": [
      "[120. 120.]\n"
     ]
    }
   ],
   "source": [
    "import numpy as np\n",
    "from scipy.optimize import fsolve\n",
    "\n",
    "def coorde(z,x00,y00):\n",
    "    o1=z[0]\n",
    "    o2=z[1]\n",
    "    F=np.empty((2))\n",
    "    F[0]=150*(np.cos((180-o1)/180*np.pi)+np.cos((180-o2)/180*np.pi))-x00\n",
    "    F[1]=150*(np.sin((180-o1)/180*np.pi)-np.sin((180-o2)/180*np.pi))-y00\n",
    "    return F\n",
    "x00=150.0\n",
    "y00=0.0\n",
    "\n",
    "z = fsolve(coorde,[1,1],args=(x00,y00))\n",
    "print(z)\n",
    "\n"
   ]
  },
  {
   "cell_type": "markdown",
   "metadata": {},
   "source": [
    "## 3. Dinamica del robot\n",
    "Esta sección estaa en construcción"
   ]
  },
  {
   "cell_type": "markdown",
   "metadata": {},
   "source": [
    "## 4. Diseño mecanicas del robot\n",
    "\n",
    "Para construir el brazo se utilizara como material carton, este material es muy liviano y se puede hacer rigido, para unir las piezas movibles se utiliza remaches pop, los cuales deben ser desarmados para utilizar los mismos como bujes. En la figura se muestra el brazo terminado. Se usa este material por su bajo precio lo que permite experimentar con distintas posibilidades.\n",
    "\n",
    "<img src=\"img/brazo_robot.jpg\" width=\"300\" height=\"300\" > </img>\n",
    "\n",
    "Para comenzar a armar el brazo se debe construir dos rectangulos de carton de 16 cm de largo y 1 cm de ancho. Los cuales deben tener dos orificios en el medio separados entre si 15 cm y un apoyo de carton de 5.5 x 3 cm  que debe tener la cabeza de un remache pop como se muestra en la figura.\n",
    "\n",
    "<img src=\"img/WhatsApp%20Image%202020-12-10%20at%205.34.09%20PM.jpeg\" width=\"300\" height=\"300\"></img>\n",
    "Se deben unir los dos rectangulos con el apoyo utilizando el remache como se muestra en la figura\n",
    "<img src=\"img/WhatsApp%20Image%202020-12-10%20at%205.42.31%20PM.jpeg\" width=\"300\" height=\"300\"></img>\n",
    "\n",
    "Se colocan separadores de carton\n",
    "<img src=\"img/WhatsApp%20Image%202020-12-10%20at%205.42.45%20PM.jpeg\"  width=\"300\" height=\"300\"></img>\n",
    "\n",
    "Se construye un rectangulo de 21 cm de largo y 1 cm de ancho con tres orificios alineados en el medio, uno a 0,5 cm el siguiente con un remache en el orifico ubicado a 15.5 cm y finalmente otro a 20 cm com se muestra en la figura.\n",
    "<img src=\"img/WhatsApp%20Image%202020-12-10%20at%205.44.07%20PM.jpeg\"  width=\"300\" height=\"300\"></img>\n",
    "\n",
    "Se conecta a las piezas anteriores como se muestraa en la figura\n",
    "<img src=\"img/WhatsApp%20Image%202020-12-10%20at%205.44.52%20PM.jpeg\"  width=\"300\" height=\"300\"></img>\n",
    "Se construye una base de 10 x 10 cm se realiza un agujero de 2cm por 3mm exactamente en el medio. Se coloca la pieza armada en la base como se muestra en la figura.\n",
    "<img src=\"img/WhatsApp%20Image%202020-12-10%20at%206.03.06%20PM.jpeg\" width=\"300\" height=\"300\"  width=\"300\" height=\"300\"></img>\n",
    "Finalmente el brazo queda asi\n",
    "<img src=\"img/WhatsApp%20Image%202020-12-10%20at%206.03.37%20PM.jpeg\" width=\"300\" height=\"300\"></img>\n",
    "Sobre la pieza que corresponde al brazo se pega con silicona el brazo del servomotor\n",
    "<img src=\"img/WhatsApp%20Image%202020-12-10%20at%206.30.21%20PM.jpeg\" width=\"300\" height=\"300\"></img>\n",
    "se deben realizar un rectangulo de 6cm de largo por uno de ancho con dos orificis centrados a 5 cm uno del otro. Otro rectangulo de 16cm x1 cm con dos orificios centrados separados entre si 15 cm. Se deben conectar entre si con el extremo libre del rectangulo de 20 cm. y colocar un brazo del servo al extremo libre del rectangulo de 5 cm.\n",
    "<img src=\"img/WhatsApp%20Image%202020-12-10%20at%206.59.04%20PM.jpeg\" width=\"300\" height=\"300\"></img>\n",
    "Se debe pegar los servos quedando el brazo robotico como la figura\n",
    "<img src=\"img/brazo_robot.jpg\" width=\"300\" height=\"300\"></img>  \n",
    "Las medidas de algunas piezas se muestran en la figura.\n",
    "<img src=\"img/robot_med.gif\" width=\"300\" height=\"300\"></img>\n"
   ]
  },
  {
   "cell_type": "markdown",
   "metadata": {},
   "source": [
    "## 5. Diseño y construcción de las partes electromecanicas y electronicas del brazo robot\n",
    "\n",
    "A continuacion en la tabla se detallan los componentes que se utilizaran y coo se deben conectar\n",
    "\n",
    "\n",
    "|  Componentes| Cantidad |   Fotos|\n",
    "|:---         | :--- :    | :---   |\n",
    "|arduino uno  | 1        | <img src=\"img/arduinouno.jpg\" width=\"300\" height=\"300\" alt=\"Imagen\"></img>|\n",
    "|protoboard   | 1        |<img src=\"img/protoboard.jpg\" width=\"300\" height=\"300\" alt=\"Imagen\"></img>|\n",
    "|servomotor   | 2        |<img src=\"img/servomotor.jpg\" width=\"300\" height=\"300\" alt=\"Imagen\"></img>|\n",
    "|cables       | 8        |<img src=\"img/cable_dupont.jpg\" width=\"300\" height=\"300\" alt=\"Imagen\"></img>|\n",
    "\n",
    "Se deben conectar dos servomotores al arduino uno. Cada servo tiene tres cables, en general la distribucion de cables es la mostrada en la tabla.  \n",
    "\n",
    "|Color | Funcion |\n",
    "| :--- | :---    |\n",
    "|Rojo  |  vcc    |\n",
    "|Negro |  Gnd    |\n",
    "|Amarillo/| Control|\n",
    "|naranja  |        |\n",
    "\n",
    "Utilizando los cables dupont Se conectan las masas (gnd) de los servomotores a la linea azul del protoboard, los cables vcc a la linea roja. Alguno de los pines de masa (gnd) del arduino a la linea azul y los cables naranja segun la tabla.  \n",
    "\n",
    "|Servomotor | Pin     |\n",
    "| :---      | :---    |\n",
    "| Brazo     |   |0    |\n",
    "|Antebrazo  |   11    |\n",
    "\n",
    "como se muestra en las figura\n",
    "<img src=\"img/brazo_elec.png\" width=\"300\" height=\"300\"></img>]\n",
    "\n",
    " En este video se muestran detalles del funcionamiento del servomotor\n",
    " \n",
    "[Servomotores](https://youtu.be/mk9UkQCeENc)\n",
    "\n",
    "La posicion de reposo de los servomotores es 90°  \n",
    "En las figuras se muestra el circuito construido.  \n",
    "\n",
    "|         |                    |\n",
    "|:---                | :---                         |\n",
    "|<img src=\"img/WhatsApp%20Image%202020-12-10%20at%207.08.04%20PM.jpeg\" width=\"300\" height=\"300\"></img>| <img src=\"img/WhatsApp%20Image%202020-12-10%20at%207.10.13%20PM.jpeg\" width=\"300\" height=\"300\"></img>|\n",
    "\n",
    "\n",
    "\n"
   ]
  },
  {
   "cell_type": "markdown",
   "metadata": {},
   "source": [
    "## 6. Programacion\n",
    "La programación del robot en este caso tiene dos partes\n",
    "- Firmware: La programcion del microcontrolador\n",
    "- Software: La programación del la PC\n",
    "\n",
    "El microcontrolador y la PC en este caso se comunican a traves del puerto serie. Lo que permitira posteriormente utilizar el puerto bluetooth. Se debe realizar un protocolo que permita comunicar ambas partes del robot. \n",
    "\n",
    "El protocolo propuesto seria\n",
    "\n",
    "|Identificador   |  Número    |   angulo  | accion |\n",
    "|:---            | :---       | :---      | :---   |\n",
    "|o               |   1        | 012       | ubicar al servomotor brazo en el angulo 12 grados|\n",
    "|                |   2        | 098       | ubicar al servomotor brazo en el angulo 98 grados|\n",
    "\n",
    "Se debe completar con zeros hasta conseguir las tres cifras por ejemplo 1 se debe poner 001\n"
   ]
  },
  {
   "cell_type": "markdown",
   "metadata": {},
   "source": [
    "### 6.1 Programacion del microcontrolador (firmware)\n",
    "\n",
    "El microcontrolador se encargara de controlar los servo motores, en este caso se utilizaran los puertos 10 y 11 como se indico en la seccion 5. y se comunicara con el PC a traves del puerto serie.\n",
    "\n",
    "#### 6.1.1 Programa para control de un servomotor\n",
    "\n",
    "En esta seccion presentamos un programa sencillo para controlar un servomotor.\n",
    "\n",
    "| Codigo          |            |\n",
    "|  :---           | :---       |\n",
    "|include Servo.h  |            |\n",
    "|Servo brazo;     |            |\n",
    "|void setup()     |            |\n",
    "|                 |{           |\n",
    "|                 |}           |\n",
    "|void loop() {    |            |\n",
    "|                 |int i; |\n",
    "|                 |brazo.attach(11);   //brazo esta conectado ala pata 11   |\n",
    "|                 |delay(10);    |\n",
    "|                 |brazo.write(50);   |\n",
    "|                 |delay(2000);  |\n",
    "|                 |brazo.write(90);  |\n",
    "|                 |delay(2000);   |\n",
    "|                 |while (1)  { |\n",
    "|                 | brazo.detach();  |\n",
    "|                 |}                 |\n",
    "|}                |                  |\n",
    "\n",
    "    \n",
    "Se comienza cargando la libreria servo con la sentencia **#include <Servo.h>**\n",
    "\n",
    "Luego se crea el objeto servo a partir del cual se utiliza el servomotor por el microcontrolador la sentencia es **Servo nombre_servo**\n",
    "\n",
    "Para informar a que pin del micrcontrolador se conecta e utiliza la sentencia attach donde se debe escribire el mumero de pin donde se conectara el servomotor  **nombre_servo.attach(numero)**\n",
    "\n",
    "Utilizando la sentencia write se ordena al servo el angulo en el cual se debe ubicar, la sentencia se muestra a continuacion\n",
    "**nombre_servo.write(90)**\n",
    "\n",
    "Finalmente la sentencia detach desconecta el servomotor **brazo.detach()**"
   ]
  },
  {
   "cell_type": "markdown",
   "metadata": {},
   "source": [
    "#### 6.1.2 Programa para controlar dos servomotores utilizando la  Puerto Serie\n",
    "\n",
    "Un Puerto Serie (también denominado Puerto Serial) es la interfaz (conexión física y funcional entre dos dispositivos o sistemas) que posibilita el envío de información digital y a su vez también permite recibirla. En este caso se conecta el puerto serie del microcontrolador con el puerto serie de la PC donde se encuentra nuestro programa. Se debe destacar que el arduino utiliza para conectarse con una PC el puerto USB  configurado como puerto serie.\n",
    "\n",
    "Se presenta un programa que permita controlar dos servomotores utilizando la puerta serie\n",
    "\n",
    "| codigo       |                               |    \n",
    "| :---         | :----          | \n",
    "|#include <Servo.h>|                               |\n",
    "| | |//libreria donde encuentra la clase  |                  \n",
    "|Servo brazo;  |                               |\n",
    "|Servo antebrazo;|                               | \n",
    "|int ang_brazo = 90;|      |                               |\n",
    "|int ang_antebrazo = 90;  |                               |\n",
    "|void setup() {|                               |\n",
    "|Serial.begin(9600);|\n",
    "|}               |                |\n",
    "|void loop() { |                |                |\n",
    "|int i;          |              | \n",
    "|char a;         |              |  \n",
    "|String cad;     |            | \n",
    "|char control[5];|                                            \n",
    "| int valor;     |                               \n",
    "|brazo.attach(10);|\n",
    "|//brazo esta conectado al pin 11  |                     \n",
    "|antebrazo.attach(11);|\n",
    "|//antebrazo esta conectado al pin 10  |                 \n",
    "|if (Serial.available() > 0){|\n",
    "|//Pregunta si hay datos en el buffer del puerto serie |                                 |\n",
    "|Serial.readBytes(control, 5); |\n",
    "|//lee 5 byte de la puerta serie en control |             |                              |\n",
    "|if (control[0] == 'o'){|                  |                | \n",
    "| Serial.print(control);|  \n",
    "|if (control[1] == '1') {|  \n",
    "|        cad = \"\";  |\n",
    "|cad = cad+control[2] + control[3] + control[4];|    \n",
    "|        valor = cad.toInt();// convierte el valor medido a entero|  \n",
    "|        brazo.write(valor);  //escribe en el servo  |\n",
    "|      }  |\n",
    "|      if (control[1] == '2') | \n",
    "|      {  |\n",
    "|        cad = \"\";|  \n",
    "|        cad = cad+control[2] + control[3] + control[4];|  \n",
    "|        valor = cad.toInt();  |\n",
    "|        antebrazo.write(valor);|  \n",
    "|      }  |\n",
    "|    }  |\n",
    "|  }  |\n",
    "|}  |\n"
   ]
  },
  {
   "cell_type": "markdown",
   "metadata": {},
   "source": [
    "### 6.2 Programacion de la PC\n",
    "\n",
    "\n",
    "\n",
    "#### 6.2.1 Puerta Serie en Jupyter notebook\n",
    "\n",
    "Se utiliza la libreria serial, se describen algunas funciones de la libreria.  \n",
    "\n",
    "| Funcion     |    sintaxis        | acciones                                    |\n",
    "|:---         |  :---               | :---                                       |\n",
    "| serial      | import serial as se | habilita las funciones del puerto serie    |              \n",
    "|Serial       | ser=se.Serial(COM1) |selecciona el puerto COM1 su nombre sera se |\n",
    "|close        |  ser.close()        | cierra la conexion serie                   |\n",
    "|write        |  ser.write(b'o1120')| Escribe en el puerto la palabra o11120     |\n",
    "|             |                     | se agrega la b para indicar que es un ascii|\n",
    "|read         | a=ser.read()        | Función que lee un caracter                |\n",
    "|             | a=ser.read(3)       | Función que lee tres caracteres            |\n",
    "|readline     | a=ser.readline()    | Función que lee una linea completa         |\n",
    "|flush        | ser.flush()         | Función que se utiliza para vaciar el buffer|\n",
    "|             |                     | del puerto serie                            |\n",
    "\n",
    "El puerto serie seleccionado, debe ser el mismo que utiliza el microcontolador. En la siguiente seccion se muestra un programa que mueve el brazo robot a la posición o1=120 y o2=140"
   ]
  },
  {
   "cell_type": "markdown",
   "metadata": {},
   "source": [
    "import srial as se\n",
    "ser=se.Serial(COM1)\n",
    "\n",
    "ser.write(b'01120')\n",
    "ser.write(b'02140')\n",
    "\n",
    "ser.close()\n"
   ]
  },
  {
   "cell_type": "markdown",
   "metadata": {},
   "source": [
    "#### 6.2.2 Programacion orientada a eventos en jupyter notebook\n",
    "\n",
    "La Programación orientada a eventos es un paradigma de programación en el que la estructura y la ejecución de los programas van determinados por los sucesos o acciones que ocurren en el sistema, definidos por el usuario o por el propio sistema. \n",
    "\n",
    "Con los lenguajes orientados a eventos se pueden realizar en poco tiempo aplicaciones sencillas y muy funcionales, utilizando interfaces gráficas en las que se insertan componentes o controles a los que se le programan eventos. \n",
    "\n",
    " __Ipywidget__ es una  libreria que permite incorporar la programacion por eventos a jupyter notebook. \n",
    "la misma dispone de los siguientes botones:\n",
    "\n",
    "| Nombre      |    Sintaxis         | Funcionamiento                                |\n",
    "| :----------- | :----------- :     | ---:                                          | \n",
    "| Textos      | widgets.Text        | Permite ingresar textos o números al programa |\n",
    "| Menu        | widgets.DropDown    | crea menu                                     |\n",
    "| Calendarios |  widgets.DataPicker | crea calendarios                              |\n",
    "| Selección   | widgets.checkpoint  | selecciona distintas opciones                 |\n",
    "| Deslizadores| widgets.FloatSlider | ingresa numeros utilizando deslizadores       |\n",
    "| Ejecucion   | widgetsButton       | ejecuta codigo                                |\n",
    "| Letreros    | widgets.Label       | muestra letreros                              |\n",
    "| Salida      | widgets.Out         | Presenta resultados                           |\n",
    "\n",
    "\n",
    "Para comenzar debemos cargar las librerias utilizando las sentencias que se muestran mas abajo\n",
    "\n"
   ]
  },
  {
   "cell_type": "code",
   "execution_count": 1,
   "metadata": {},
   "outputs": [],
   "source": [
    "# algunas funiones que se usaran\n",
    "from IPython.display import display, Markdown, clear_output\n",
    "import ipywidgets as widgets"
   ]
  },
  {
   "cell_type": "markdown",
   "metadata": {},
   "source": [
    "##### 6.2.2.1 Se Presenta la sintaxis de algunos botones\n"
   ]
  },
  {
   "cell_type": "code",
   "execution_count": 39,
   "metadata": {},
   "outputs": [],
   "source": [
    "from IPython.display import display, Markdown, clear_output\n",
    "import ipywidgets as widgets\n",
    "texto = widgets.Text(\n",
    "       value='HOLA',\n",
    "       description='Titulo', )\n",
    "calendario = widgets.DatePicker(\n",
    "           description='Select Date')\n",
    "deslizador = widgets.FloatSlider(\n",
    "         value=1,\n",
    "         min=0,\n",
    "         max=10.0,\n",
    "         step=0.1,)\n",
    "menu = widgets.Dropdown(\n",
    "       options=['red', 'blue', 'green'],\n",
    "       value='red',\n",
    "       description='Color:')\n",
    "checkbox = widgets.Checkbox(\n",
    "           description='Check to invert',)\n",
    "boton = widgets.Button(description='Boton')\n",
    "letrero=widgets.Label()\n",
    "out = widgets.Output(value='Entrada')"
   ]
  },
  {
   "cell_type": "markdown",
   "metadata": {},
   "source": [
    "Para ejecutar los botones se debe poner el nombre, por ejemplo se pone texto y se ejecuta"
   ]
  },
  {
   "cell_type": "code",
   "execution_count": 40,
   "metadata": {},
   "outputs": [
    {
     "data": {
      "application/vnd.jupyter.widget-view+json": {
       "model_id": "08e504fe3ded49c79c2d2301202a6a60",
       "version_major": 2,
       "version_minor": 0
      },
      "text/plain": [
       "Text(value='HOLA', description='Titulo')"
      ]
     },
     "metadata": {},
     "output_type": "display_data"
    }
   ],
   "source": [
    "texto"
   ]
  },
  {
   "cell_type": "markdown",
   "metadata": {},
   "source": [
    "El texto se encuentra en __Nombre.value__. Cambie el texto  y ejecute lo siguiente. Se obtiene una cadena de caracteres"
   ]
  },
  {
   "cell_type": "code",
   "execution_count": 3,
   "metadata": {},
   "outputs": [
    {
     "data": {
      "text/plain": [
       "'Chau'"
      ]
     },
     "execution_count": 3,
     "metadata": {},
     "output_type": "execute_result"
    }
   ],
   "source": [
    "texto.value"
   ]
  },
  {
   "cell_type": "markdown",
   "metadata": {},
   "source": [
    "Para organizar la ubicacion de las distintas partes se utilizan conentenedores. \n",
    "El contenedor horizontal se llama __HBox__ su sintaxis se muestra a continuacion"
   ]
  },
  {
   "cell_type": "code",
   "execution_count": 41,
   "metadata": {},
   "outputs": [
    {
     "data": {
      "application/vnd.jupyter.widget-view+json": {
       "model_id": "49da703982f24e59ab0bb17b8555fac8",
       "version_major": 2,
       "version_minor": 0
      },
      "text/plain": [
       "HBox(children=(Text(value='Chau', description='Titulo'), Dropdown(description='Color:', options=('red', 'blue'…"
      ]
     },
     "metadata": {},
     "output_type": "display_data"
    }
   ],
   "source": [
    "widgets.HBox([texto,menu])"
   ]
  },
  {
   "cell_type": "code",
   "execution_count": 42,
   "metadata": {},
   "outputs": [
    {
     "data": {
      "application/vnd.jupyter.widget-view+json": {
       "model_id": "23e74f29c2854c7785a692053dd928bb",
       "version_major": 2,
       "version_minor": 0
      },
      "text/plain": [
       "VBox(children=(HBox(children=(Text(value='Chau', description='Titulo'), Dropdown(description='Color:', options…"
      ]
     },
     "metadata": {},
     "output_type": "display_data"
    }
   ],
   "source": [
    "b1=widgets.HBox([texto,menu])\n",
    "b2=widgets.HBox([calendario, deslizador])\n",
    "widgets.VBox([b1,b2])"
   ]
  },
  {
   "cell_type": "markdown",
   "metadata": {},
   "source": [
    "El contenedor vertical se denomina __VBox__. Su sintaxis se muestra a continuacion"
   ]
  },
  {
   "cell_type": "code",
   "execution_count": 31,
   "metadata": {},
   "outputs": [
    {
     "data": {
      "application/vnd.jupyter.widget-view+json": {
       "model_id": "2ab60a215b284e149cd61afa3046c501",
       "version_major": 2,
       "version_minor": 0
      },
      "text/plain": [
       "VBox(children=(Text(value='HOLA', description='Titulo'), Dropdown(description='Color:', options=('red', 'blue'…"
      ]
     },
     "metadata": {},
     "output_type": "display_data"
    }
   ],
   "source": [
    "widgets.VBox([texto,menu])"
   ]
  },
  {
   "cell_type": "markdown",
   "metadata": {},
   "source": [
    "La combinacion de ambos seria"
   ]
  },
  {
   "cell_type": "markdown",
   "metadata": {},
   "source": [
    "##### 6.2.2.2 Creando un boton de ejecucion\n",
    "Se crea el boton y una salida. Se define una funcion donde se realizaran las acciones. Finalmente se conecta con el widget"
   ]
  },
  {
   "cell_type": "code",
   "execution_count": 4,
   "metadata": {},
   "outputs": [
    {
     "data": {
      "application/vnd.jupyter.widget-view+json": {
       "model_id": "42c17738ea0847009a53e0270c4aebc3",
       "version_major": 2,
       "version_minor": 0
      },
      "text/plain": [
       "HBox(children=(Button(description='Boton', style=ButtonStyle()), Output()))"
      ]
     },
     "metadata": {},
     "output_type": "display_data"
    }
   ],
   "source": [
    "from IPython.display import display, Markdown, clear_output\n",
    "import ipywidgets as widgets\n",
    "boton = widgets.Button(description='Boton')\n",
    "out = widgets.Output()\n",
    "def on_boton_click(_):\n",
    "      with out:\n",
    "          # Acciones\n",
    "          clear_output()\n",
    "          print('Algo paso!')# linking button and function together using a button's method\n",
    "boton.on_click(on_boton_click)\n",
    "# displaying button and its output together\n",
    "widgets.HBox([boton,out])"
   ]
  },
  {
   "cell_type": "markdown",
   "metadata": {},
   "source": [
    "#### 6.2.3 Programa que permite mover el brazo \n",
    "Combinando el uso de la libreria __serial__ con __ipywidgets__\n",
    "Creamos dos widgets de texto, donde se ingresaran los angulos del brazo  y dos botones, uno mueve el brazo y el otro el antebrazo del robot. Se envia las ordenes a traves del puerto serie."
   ]
  },
  {
   "cell_type": "code",
   "execution_count": 54,
   "metadata": {},
   "outputs": [
    {
     "data": {
      "application/vnd.jupyter.widget-view+json": {
       "model_id": "66ac1c0b295841b8b10659eab1bf89c5",
       "version_major": 2,
       "version_minor": 0
      },
      "text/plain": [
       "VBox(children=(HBox(children=(Label(value='Entrada:'), Text(value='90', description='Ang 1='), Text(value='90'…"
      ]
     },
     "metadata": {},
     "output_type": "display_data"
    }
   ],
   "source": [
    "# librerias necesarias para el programa\n",
    "\n",
    "from IPython.display import display, Markdown, clear_output\n",
    "import ipywidgets as widgets\n",
    "import serial\n",
    "\n",
    "#  definicion de botones\n",
    "tang1 = widgets.Text(value='90',description='Ang 1=', )\n",
    "tang2 = widgets.Text(value='90',description='Ang 2=', )\n",
    "brazo = widgets.Button(description='Brazo')\n",
    "abrazo = widgets.Button(description='Antebrazo')\n",
    "lab1=widgets.Label(value=\"Entrada:\")\n",
    "lab2=widgets.Label(value=\"Salida:\")\n",
    "ser = serial.Serial('COM9')\n",
    "out = widgets.Output()\n",
    "# Contenedores\n",
    "b1=widgets.HBox([lab1,tang1,tang2 ])\n",
    "b3=widgets.HBox([brazo,abrazo, out])\n",
    "\n",
    "\n",
    "def on_brazo_click(_):\n",
    "      with out:\n",
    "          # Accione\n",
    "          clear_output()\n",
    "          to1= 'o1'+'{:03d}'.format(int(tang1.value))\n",
    "          \n",
    "          ser.write(bytearray(to1,'utf-8'))\n",
    "          \n",
    "          print('o1= '+to1)\n",
    "def on_abrazo_click(_):\n",
    "      with out:\n",
    "          # Accionesser = serial.Serial('COM11')\n",
    "       \n",
    "          to2= 'o2'+'{:03d}'.format(int(tang2.value))\n",
    "          ser.write(bytearray(to2,'utf-8'))\n",
    "         \n",
    "          print('o2= '+to2)\n",
    "boton.on_click(on_boton_click)\n",
    "brazo.on_click(on_brazo_click)\n",
    "abrazo.on_click(on_abrazo_click)\n",
    "\n",
    "\n",
    "widgets.VBox([b1,b3])"
   ]
  },
  {
   "cell_type": "code",
   "execution_count": 14,
   "metadata": {},
   "outputs": [],
   "source": [
    " ser.close()"
   ]
  },
  {
   "cell_type": "markdown",
   "metadata": {},
   "source": [
    " #### 6.2.4 Programa que permite mover el brazo  y visualizar la simulación\n",
    "\n",
    "Combinando el programa mostrado en la sección 3.2.1 con el anterior se podra visualizar la simulacion y mover el brazo al mismo tiempo."
   ]
  },
  {
   "cell_type": "code",
   "execution_count": 17,
   "metadata": {},
   "outputs": [],
   "source": [
    "ser = serial.Serial('COM11')"
   ]
  },
  {
   "cell_type": "code",
   "execution_count": 31,
   "metadata": {},
   "outputs": [],
   "source": [
    "ser.close()"
   ]
  },
  {
   "cell_type": "code",
   "execution_count": 18,
   "metadata": {},
   "outputs": [
    {
     "data": {
      "application/vnd.jupyter.widget-view+json": {
       "model_id": "4b97b30698fa494bbc66880b4c201457",
       "version_major": 2,
       "version_minor": 0
      },
      "text/plain": [
       "interactive(children=(IntSlider(value=135, description='o1', max=180, min=90), IntSlider(value=135, descriptio…"
      ]
     },
     "metadata": {},
     "output_type": "display_data"
    }
   ],
   "source": [
    "# librerias necesarias para el programa\n",
    "\n",
    "from IPython.display import display, Markdown, clear_output\n",
    "from ipywidgets import interact\n",
    "import serial\n",
    "import numpy as np\n",
    "from matplotlib import pyplot as plt\n",
    "from matplotlib import path\n",
    "%matplotlib inline\n",
    "plt.ion()\n",
    "\n",
    "def coordenadas(o1,o2):\n",
    "    a=15\n",
    "    b=5\n",
    "    d=7\n",
    "    o3=30\n",
    "    x=np.empty((6))\n",
    "    y=np.empty((6))\n",
    "    x[0]=8\n",
    "    y[0]=1\n",
    "    x[1]=x[0]+a*np.cos((180-o1)/180*np.pi)\n",
    "    y[1]=y[0]+a*np.sin((180-o1)/180*np.pi)\n",
    "\n",
    "    x[2]=x[1]+a*np.cos((180-o2)/180*np.pi)\n",
    "    y[2]=y[1]-a*np.sin((180-o2)/180*np.pi)\n",
    "\n",
    "    x[3]=x[1]-b*np.cos((180-o2)/180*np.pi)\n",
    "    y[3]=y[1]+b*np.sin((180-o2)/180*np.pi)\n",
    "\n",
    "    x[4]=x[0]-b*np.cos((180-o2)/180*np.pi)\n",
    "    y[4]=y[0]+b*np.sin((180-o2)/180*np.pi)\n",
    "\n",
    "    x[5]=x[0]-0.01\n",
    "    y[5]=y[0]\n",
    "    return(x,y)\n",
    "@interact(o1=(90,180),o2=(90,180))\n",
    "def dibujo_brazo(o1,o2):\n",
    "    fig = plt.figure()\n",
    "    fig.set_dpi(80)\n",
    "    fig.set_size_inches(6, 6)\n",
    "    ax = plt.axes(xlim=(0, 40), ylim=(0, 40))\n",
    "    [x,y]=coordenadas(o1,o2)\n",
    "    point1 = [[x[0], y[0]], [x[1],y[1] ]]\n",
    "    point2 = [[x[2], y[2]], [x[3],y[3] ]]\n",
    "    point3 = [[x[3], y[3]], [x[4],y[4]], [x[5],y[5] ]]\n",
    "    lin1 = plt.Polygon(point1, closed=None, fill=None, edgecolor='b', linewidth=4)\n",
    "    lin2 = plt.Polygon(point2, closed=None, fill=None, edgecolor='g', linewidth=4)\n",
    "    lin3 = plt.Polygon(point3, closed=None, fill=None, edgecolor='black', linewidth=2)\n",
    "    rectangulo=plt.Rectangle((4,0),8,1,0,color=\"red\")\n",
    "    to1= 'o1'+'{:03d}'.format(int(o1))\n",
    "    ser.write(bytearray(to1,'utf-8'))\n",
    "    to2= 'o2'+'{:03d}'.format(int(o2))                      \n",
    "    ser.write(bytearray(to2,'utf-8'))\n",
    "    ax.add_line(lin1)\n",
    "    ax.add_line(lin2)\n",
    "    ax.add_line(lin3)\n",
    "    ax.add_patch(rectangulo)\n",
    "    plt.show\n",
    "    return(x[2],y[2])\n"
   ]
  },
  {
   "cell_type": "markdown",
   "metadata": {},
   "source": [
    "Le presentamos un video de como funciona el sistema.  \n",
    "<video src=\"img/brazo1.mp4\" width=640  height=640 controls >\n"
   ]
  },
  {
   "cell_type": "markdown",
   "metadata": {},
   "source": [
    "#### 6.2.5 Programa paraa mover a cordenadas xy el brazo\n",
    "Se presenta el programa que ubica el punto del robot en  x2,y2 en la posicion deseada. "
   ]
  },
  {
   "cell_type": "code",
   "execution_count": 32,
   "metadata": {},
   "outputs": [],
   "source": [
    "ser = serial.Serial('COM11')"
   ]
  },
  {
   "cell_type": "code",
   "execution_count": 43,
   "metadata": {},
   "outputs": [
    {
     "data": {
      "application/vnd.jupyter.widget-view+json": {
       "model_id": "53beb45a1d1f45f08090d3a651de2a9e",
       "version_major": 2,
       "version_minor": 0
      },
      "text/plain": [
       "VBox(children=(HBox(children=(Label(value='Coordenadas:'), Text(value='0', description='x='), Text(value='0', …"
      ]
     },
     "metadata": {},
     "output_type": "display_data"
    }
   ],
   "source": [
    "# librerias necesarias para el programa\n",
    "\n",
    "from IPython.display import display, Markdown, clear_output\n",
    "import ipywidgets as widgets\n",
    "import serial\n",
    "import numpy as np\n",
    "from scipy.optimize import fsolve\n",
    "def coorde(z,x00,y00):\n",
    "    o1=z[0]\n",
    "    o2=z[1]\n",
    "    F=np.empty((2))\n",
    "    F[0]=150*(np.cos((180-o1)/180*np.pi)+np.cos((180-o2)/180*np.pi))-x00\n",
    "    F[1]=150*(np.sin((180-o1)/180*np.pi)-np.sin((180-o2)/180*np.pi))-y00\n",
    "    return F\n",
    "\n",
    "tx0 = widgets.Text(value='0',description='x=', )\n",
    "ty0 = widgets.Text(value='0',description='y=', )\n",
    "boton = widgets.Button(description='mover')\n",
    "lab1=widgets.Label(value=\"Coordenadas:\")\n",
    "lab2=widgets.Label(value=\"Angulos:\")\n",
    "lab3=widgets.Label(value=\"Coordenadas:\")\n",
    "lab4=widgets.Label(value=\"Coordenadas:\")\n",
    "out = widgets.Output()\n",
    "b1=widgets.HBox([lab1,tx0,ty0 ])\n",
    "b2=widgets.HBox([boton,out])\n",
    "b3=widgets.HBox([lab2,lab3,lab4])\n",
    "\n",
    "\n",
    "def on_boton_click(_):\n",
    "    with out:\n",
    "        clear_output()\n",
    "        x00=float(tx0.value)\n",
    "        y00=float(ty0.value)\n",
    "        z = fsolve(coorde,[1,1],args=(x00,y00))\n",
    "        so1='o1'+'{:03d}'.format(int(z[0]+0.1))\n",
    "        so2='o2'+'{:03d}'.format(int(z[1]+0.1))\n",
    "       ## ser.write(bytearray(so1,'utf-8'))\n",
    "       ## ser.write(bytearray(so2,'utf-8'))\n",
    "        print('o1='+so1+' o2='+so2)\n",
    "          #print(z)\n",
    "boton.on_click(on_boton_click)\n",
    "widgets.VBox([b1,b2])"
   ]
  },
  {
   "cell_type": "code",
   "execution_count": 36,
   "metadata": {},
   "outputs": [],
   "source": [
    "ser.close()"
   ]
  },
  {
   "cell_type": "markdown",
   "metadata": {},
   "source": [
    "#### 6.2.6 Programa para mover el brazo a la posicion xy deseada y su simulación simultanea"
   ]
  },
  {
   "cell_type": "code",
   "execution_count": 37,
   "metadata": {},
   "outputs": [
    {
     "data": {
      "application/vnd.jupyter.widget-view+json": {
       "model_id": "6539f8ad2f9145c0b36d0a6d7bcd6c31",
       "version_major": 2,
       "version_minor": 0
      },
      "text/plain": [
       "interactive(children=(IntSlider(value=100, description='x0', max=200), IntSlider(value=75, description='y0', m…"
      ]
     },
     "metadata": {},
     "output_type": "display_data"
    },
    {
     "data": {
      "image/png": "[encoded data removed]",
      "text/plain": [
       "<Figure size 480x480 with 1 Axes>"
      ]
     },
     "metadata": {
      "needs_background": "light"
     },
     "output_type": "display_data"
    }
   ],
   "source": [
    "# librerias necesarias para el programa\n",
    "from IPython.display import display, Markdown, clear_output\n",
    "from ipywidgets import interact\n",
    "import serial\n",
    "import numpy as np\n",
    "from matplotlib import pyplot as plt\n",
    "from matplotlib import path\n",
    "%matplotlib inline\n",
    "from scipy.optimize import fsolve\n",
    "def coorde(z,x00,y00):\n",
    "    o1=z[0]\n",
    "    o2=z[1]\n",
    "    F=np.empty((2))\n",
    "    F[0]=150*(np.cos((180-o1)/180*np.pi)+np.cos((180-o2)/180*np.pi))-x00\n",
    "    F[1]=150*(np.sin((180-o1)/180*np.pi)-np.sin((180-o2)/180*np.pi))-y00\n",
    "    return F\n",
    "\n",
    "def coordenadas(o1,o2):\n",
    "    a=15\n",
    "    b=5\n",
    "    d=7\n",
    "    o3=30\n",
    "    x=np.empty((6))\n",
    "    y=np.empty((6))\n",
    "    x[0]=8\n",
    "    y[0]=1\n",
    "    x[1]=x[0]+a*np.cos((180-o1)/180*np.pi)\n",
    "    y[1]=y[0]+a*np.sin((180-o1)/180*np.pi)\n",
    "\n",
    "    x[2]=x[1]+a*np.cos((180-o2)/180*np.pi)\n",
    "    y[2]=y[1]-a*np.sin((180-o2)/180*np.pi)\n",
    "\n",
    "    x[3]=x[1]-b*np.cos((180-o2)/180*np.pi)\n",
    "    y[3]=y[1]+b*np.sin((180-o2)/180*np.pi)\n",
    "\n",
    "    x[4]=x[0]-b*np.cos((180-o2)/180*np.pi)\n",
    "    y[4]=y[0]+b*np.sin((180-o2)/180*np.pi)\n",
    "\n",
    "    x[5]=x[0]-0.01\n",
    "    y[5]=y[0]\n",
    "    return(x,y)\n",
    "@interact(x0=(0,200),y0=(0,150))\n",
    "def dibujo_brazo(x0,y0):\n",
    "    fig = plt.figure()\n",
    "    fig.set_dpi(80)\n",
    "    fig.set_size_inches(6, 6)\n",
    "    ax = plt.axes(xlim=(0, 40), ylim=(0, 40))\n",
    "    z = fsolve(coorde,[1,1],args=(x0,y0))\n",
    "    o1=z[0]\n",
    "    o2=z[1]\n",
    "    [x,y]=coordenadas(o1,o2)\n",
    "    point1 = [[x[0], y[0]], [x[1],y[1] ]]\n",
    "    point2 = [[x[2], y[2]], [x[3],y[3] ]]\n",
    "    point3 = [[x[3], y[3]], [x[4],y[4]], [x[5],y[5] ]]\n",
    "    lin1 = plt.Polygon(point1, closed=None, fill=None, edgecolor='b', linewidth=4)\n",
    "    lin2 = plt.Polygon(point2, closed=None, fill=None, edgecolor='g', linewidth=4)\n",
    "    lin3 = plt.Polygon(point3, closed=None, fill=None, edgecolor='black', linewidth=2)\n",
    "    rectangulo=plt.Rectangle((4,0),8,1,0,color=\"red\")\n",
    "    to1= 'o1'+'{:03d}'.format(int(o1))\n",
    "    ser.write(bytearray(to1,'utf-8'))\n",
    "    to2= 'o2'+'{:03d}'.format(int(o2))                      \n",
    "    ser.write(bytearray(to2,'utf-8'))\n",
    "    ax.add_line(lin1)\n",
    "    ax.add_line(lin2)\n",
    "    ax.add_line(lin3)\n",
    "    ax.add_patch(rectangulo)\n",
    "    plt.show\n",
    "    \n"
   ]
  },
  {
   "cell_type": "markdown",
   "metadata": {},
   "source": [
    "### Mano del brazo\n",
    "\n",
    "Ahora debemos agregar al brazo una mano que permita tomar objetos. Con este fin se necesita que la mano este horizontal para que pueda tomar objetos de forma eficiente. Con este fin se debe agregar una serie de palancas.Se analizara la siguiente figura.\n",
    "\n",
    "<img src=\"img/brazo_geo1.gif\" alt=\"Imagen\" width=\"300\" height=\"300\">Brazo</img>\n",
    " En amarillo se muestran dos palancas  y dos triangulos iguales  que se agregan al brazo. Los triangulos son rectangulos: Uno esta fijo a la base y el otro se coloca el la articulacion (x1,y1). Las palancas tienen el largo a. Se colocan formandos dos paralelogramos, como se muestra en la figura. El segmento d por propiedad de los paralelogramos siempre queda vertical. "
   ]
  },
  {
   "cell_type": "code",
   "execution_count": 3,
   "metadata": {},
   "outputs": [],
   "source": [
    "import serial"
   ]
  },
  {
   "cell_type": "code",
   "execution_count": 6,
   "metadata": {},
   "outputs": [],
   "source": [
    "ser = serial.Serial('COM3')"
   ]
  },
  {
   "cell_type": "code",
   "execution_count": 5,
   "metadata": {},
   "outputs": [
    {
     "ename": "NameError",
     "evalue": "name 'ser' is not defined",
     "output_type": "error",
     "traceback": [
      "\u001b[1;31m---------------------------------------------------------------------------\u001b[0m",
      "\u001b[1;31mNameError\u001b[0m                                 Traceback (most recent call last)",
      "\u001b[1;32m<ipython-input-5-900379c3a7bc>\u001b[0m in \u001b[0;36m<module>\u001b[1;34m\u001b[0m\n\u001b[1;32m----> 1\u001b[1;33m \u001b[0mser\u001b[0m\u001b[1;33m.\u001b[0m\u001b[0mclose\u001b[0m\u001b[1;33m(\u001b[0m\u001b[1;33m)\u001b[0m\u001b[1;33m\u001b[0m\u001b[1;33m\u001b[0m\u001b[0m\n\u001b[0m",
      "\u001b[1;31mNameError\u001b[0m: name 'ser' is not defined"
     ]
    }
   ],
   "source": [
    "ser.close()"
   ]
  },
  {
   "cell_type": "code",
   "execution_count": 7,
   "metadata": {},
   "outputs": [
    {
     "data": {
      "application/vnd.jupyter.widget-view+json": {
       "model_id": "7672c850917b49b1a92ca063fa280ec1",
       "version_major": 2,
       "version_minor": 0
      },
      "text/plain": [
       "interactive(children=(IntSlider(value=135, description='o1', max=180, min=90), IntSlider(value=135, descriptio…"
      ]
     },
     "metadata": {},
     "output_type": "display_data"
    }
   ],
   "source": [
    "import numpy as np\n",
    "from matplotlib import pyplot as plt\n",
    "from ipywidgets import interact\n",
    "def coordenadas(o1,o2):\n",
    "    a=15\n",
    "    b=5\n",
    "    d=7\n",
    "    o3=30\n",
    "    x=np.empty((11))\n",
    "    y=np.empty((11))\n",
    "    x[0]=8\n",
    "    y[0]=1\n",
    "    x[1]=x[0]+a*np.cos((180-o1)/180*np.pi)\n",
    "    y[1]=y[0]+a*np.sin((180-o1)/180*np.pi)\n",
    "\n",
    "    x[2]=x[1]+a*np.cos((180-o2)/180*np.pi)\n",
    "    y[2]=y[1]-a*np.sin((180-o2)/180*np.pi)\n",
    "\n",
    "    x[3]=x[1]-b*np.cos((180-o2)/180*np.pi)\n",
    "    y[3]=y[1]+b*np.sin((180-o2)/180*np.pi)\n",
    "\n",
    "    x[4]=x[0]-b*np.cos((180-o2)/180*np.pi)\n",
    "    y[4]=y[0]+b*np.sin((180-o2)/180*np.pi)\n",
    "\n",
    "    x[5]=x[0]-0.01\n",
    "    y[5]=y[0]\n",
    "\n",
    "    x[6]=x[0]-d*np.cos(o3/180*np.pi)\n",
    "    y[6]=y[0]+d*np.sin(o3/180*np.pi)\n",
    "    x[7]=x[1]-d*np.cos(o3/180*np.pi)\n",
    "    y[7]=y[1]+d*np.sin(o3/180*np.pi)\n",
    "\n",
    "    x[8]=x[1]\n",
    "    y[8]=y[1]+d*np.sin(o3/180*np.pi)\n",
    "\n",
    "    x[9]=x[2]\n",
    "    y[9]=y[2]+d*np.sin(o3/180*np.pi)\n",
    "\n",
    "    x[10]=x[2]+4\n",
    "    y[10]=y[2]\n",
    "    return(x,y)\n",
    "@interact(o1=(90,180),o2=(90,180))\n",
    "def dibujo_brazo(o1,o2):\n",
    "    fig = plt.figure()\n",
    "    fig.set_dpi(80)\n",
    "    fig.set_size_inches(8, 6)\n",
    "    ax = plt.axes(xlim=(0, 40), ylim=(0, 30))\n",
    "    [x,y]=coordenadas(o1,o2)\n",
    "    point1 = [[x[0], y[0]], [x[1],y[1]]]\n",
    "    point2 = [[x[2], y[2]], [x[3],y[3]]]\n",
    "    point3 = [[x[3], y[3]], [x[4],y[4]], [x[5],y[5]]]\n",
    "    point4 = [[x[0], y[0]], [x[6],y[6]],[x[7],y[7]], [x[1],y[1]]]\n",
    "    point5 = [[x[7], y[7]], [x[8],y[8]],[x[1],y[1]]]\n",
    "    point6 = [[x[8], y[8]], [x[9],y[9]],[x[2],y[2]],[x[10],y[10]]]          \n",
    "            \n",
    "    lin1 = plt.Polygon(point1, closed=None, fill=None, edgecolor='b', linewidth=4)\n",
    "    lin2 = plt.Polygon(point2, closed=None, fill=None, edgecolor='g', linewidth=4)\n",
    "    lin3 = plt.Polygon(point3, closed=None, fill=None, edgecolor='black', linewidth=2)\n",
    "    lin4 = plt.Polygon(point4, closed=None, fill=None, edgecolor='y', linewidth=2)\n",
    "    lin5 = plt.Polygon(point5, closed=None, fill=None, edgecolor='y', linewidth=2)\n",
    "    lin6 = plt.Polygon(point6, closed=None, fill=None, edgecolor='y', linewidth=2)                                     \n",
    "    rectangulo=plt.Rectangle((4,0),8,1,0,color=\"red\")\n",
    "    to1= 'o1'+'{:03d}'.format(int(o1))\n",
    "    ser.write(bytearray(to1,'utf-8'))\n",
    "    to2= 'o2'+'{:03d}'.format(int(o2))                      \n",
    "    ser.write(bytearray(to2,'utf-8'))\n",
    "    ax.add_line(lin1)\n",
    "    ax.add_line(lin2)\n",
    "    ax.add_line(lin3)\n",
    "    ax.add_line(lin4)\n",
    "    ax.add_line(lin5)\n",
    "    ax.add_line(lin6)\n",
    "    ax.add_patch(rectangulo)\n",
    "    return(x[2],y[2])\n"
   ]
  },
  {
   "cell_type": "markdown",
   "metadata": {},
   "source": [
    "## Conclusiones\n",
    "\n",
    "En este cuaderno se muestra la construccion de un brazo con dos grados de libertad.Se analizo la geometria del mismo. Se proponen los circuitos electronicos. El firmware necesario para que funcione y el software necesario para utilizarlo. Se calcula la posicion del punto y se analiza la posibilidad de adicionar una pinza en posicion horizontal.\n",
    "\n",
    "El brazo tiene algunos defectos que se tratara de mejorar. En este sentido se propone un rediseño del brazo mecanico.\n"
   ]
  },
  {
   "cell_type": "code",
   "execution_count": null,
   "metadata": {},
   "outputs": [],
   "source": []
  }
 ],
 "metadata": {
  "kernelspec": {
   "display_name": "Python 3",
   "language": "python",
   "name": "python3"
  },
  "language_info": {
   "codemirror_mode": {
    "name": "ipython",
    "version": 3
   },
   "file_extension": ".py",
   "mimetype": "text/x-python",
   "name": "python",
   "nbconvert_exporter": "python",
   "pygments_lexer": "ipython3",
   "version": "3.7.9"
  }
 },
 "nbformat": 4,
 "nbformat_minor": 4
}
