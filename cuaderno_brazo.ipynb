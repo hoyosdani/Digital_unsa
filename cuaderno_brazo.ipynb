{
 "cells": [
  {
   "cell_type": "markdown",
   "metadata": {},
   "source": [
    "# BRAZO ROBOT\n",
    "\n",
    "## Resumen\n",
    "Para construir un brazo robot didactico tenemos que trabajar en varios aspectos que incluyen:\n",
    "- Mecanica\n",
    "- Motores\n",
    "- Electronica\n",
    "- Programacion\n",
    "\n",
    "\n",
    "Se describira cada una de las partes del brazo didactico, se utilizara un Arduino uno como microcontrolador. El cual se muestra en la figura\n",
    "\n",
    "<img src=\"img/arduinouno.jpg\" alt=\"Imagen\">arduino uno</img>\n",
    "\n",
    "\n",
    "\n",
    "Los motores que se usaran son del tipo de servomotor.\n",
    "<img src=\"img/servomotor.jpg\">servomotor</img>\n",
    "\n",
    "Las piezas mecanicas se construyen de carton. Para unir las partes se utiliza silicona. En la figura se muestra el brazo terminado.\n",
    "<img src=\"img/brazo_robot.jpg\" >brazo robot </img>\n",
    "\n"
   ]
  },
  {
   "cell_type": "markdown",
   "metadata": {},
   "source": [
    "## Armado de las partes mecanicas del robot\n",
    "\n",
    "Para construir el brazo se utiliza carton, para unir las piezas movibles se utiliza remaches pop, los cuales deben ser desarmados para utilizar los mismos como bujes. En la figura se muestra un remache desarmado y cortado.\n",
    "# BRAZO ROBOT\n",
    "\n",
    "## Resumen\n",
    "Para construir un brazo robot didactico tenemos que trabajar en varios aspectos que incluyen:\n",
    "- Mecanica\n",
    "- Motores\n",
    "- Electronica\n",
    "- Programacion\n",
    "\n",
    "\n",
    "Se describira cada una de las partes del brazo didactico, se utilizara un Arduino uno como microcontrolador. El cual se muestra en la figura\n",
    "\n",
    "<img src=\"img/arduinouno.jpg\" alt=\"Imagen\">arduino uno</img>\n",
    "\n",
    "\n",
    "\n",
    "Los motores que se usaran son del tipo de servomotor.\n",
    "<img src=\"img/servomotor.jpg\">servomotor</img>\n",
    "\n",
    "Las piezas mecanicas se construyen de carton. Para unir las partes se utiliza silicona. En la figura se muestra el brazo terminado.\n",
    "<img src=\"img/brazo_robot.jpg\" >brazo robot </img>\n",
    "\n",
    "<img src=\"img/WhatsApp%20Image%202020-12-10%20at%205.39.53%20PM.jpeg\"></img>\n",
    "\n",
    "Empecemos a armar nuestro brazo. Para comenzar debemos construir dos rectangulos de carton de 16 cm de largo y 1 cm de ancho. Los cuales deben tener dos orificios en el medio separados entre si 15 cm y un apoyo que debe tener un remache como se muestra en la figura.\n",
    "<img src=\"img/WhatsApp%20Image%202020-12-10%20at%205.34.09%20PM.jpeg\"></img>\n",
    "Se deben unir los dos rectangulos con el apoyo utilizando el remache como se muestra en la figura\n",
    "<img src=\"img/WhatsApp%20Image%202020-12-10%20at%205.42.31%20PM.jpeg\"></img>\n",
    "\n",
    "Se colocan separadores de carton\n",
    "<img src=\"img/WhatsApp%20Image%202020-12-10%20at%205.42.45%20PM.jpeg\"></img>\n",
    "\n",
    "Se construye un rectangulo de 21 cm de largo y 1 cm de ancho con tres orificios alineados en el medio, uno a 0,5 cm el siguiente con un remache en el orifico ubicado a 15.5 cm y finalmente otro a 20 cm com se muestra en la figura.\n",
    "<img src=\"img/WhatsApp%20Image%202020-12-10%20at%205.44.07%20PM.jpeg\"></img>\n",
    "\n",
    "Se conecta a las piezas anteriores como se muestraa en la figura\n",
    "<img src=\"img/WhatsApp%20Image%202020-12-10%20at%205.44.52%20PM.jpeg\"></img>\n",
    "Se construye una base de 10 x 10 cm se realiza un agujero de 2cm por 3mm exactamente en el medio. Se coloca la pieza armada en la base como se muestra en la figura.\n",
    "<img src=\"img/WhatsApp%20Image%202020-12-10%20at%206.03.06%20PM.jpeg\"></img>\n",
    "Finalmente el brazo queda asi\n",
    "<img src=\"img/WhatsApp%20Image%202020-12-10%20at%206.03.37%20PM.jpeg\"></img>\n",
    "Sobre la pieza que corresponde al brazo se pega con silicona el brazo del servomotor\n",
    "<img src=\"img/WhatsApp%20Image%202020-12-10%20at%206.30.21%20PM.jpeg\"></img>\n",
    "se deben realizar un rectangulo de 6cm de largo por uno de ancho con dos orificis centrados a 5 cm uno del otro. Otro rectangulo de 16cm x1 cm con dos orificios centrados separados entre si 15 cm. Se deben conectar entre si con el extremo libre del rectangulo de 20 cm. y colocar un brazo del servo al extremo libre del rectangulo de 5 cm.\n",
    "<img src=\"img/WhatsApp%20Image%202020-12-10%20at%206.59.04%20PM.jpeg\"></img>\n",
    "Se debe pegar los servos quedando el brazo robotico como la figura\n",
    "<img src=\"img/brazo_robot.jpg](attachment:brazo_robot.jpg\"></img>\n",
    "Se deben conectar los servos al arduino, como se muestra en las figuras\n",
    "<img src=\"img/WhatsApp%20Image%202020-12-10%20at%207.08.04%20PM.jpeg\"></img>]\n",
    "\n",
    "<img src=\"img/WhatsApp%20Image%202020-12-10%20at%207.10.13%20PM.jpeg\"></img>]\n",
    "\n",
    "Las medidas de algunas piezas se muestran en la figura.\n",
    "<img src=\"img/robot_med.gif\"></img>\n",
    "\n",
    "\n"
   ]
  },
  {
   "cell_type": "markdown",
   "metadata": {},
   "source": [
    "| Syntax      | Description | Test Text     |\n",
    "| :---        |    :----:   |          ---: |\n",
    "| Header      | Title       | Here's this   |\n",
    "| Paragraph   | Text        | And more      |\n"
   ]
  },
  {
   "cell_type": "markdown",
   "metadata": {},
   "source": [
    "## Programacion del microcontrolador\n",
    "\n",
    "### Servomotores\n",
    "\n",
    "En esta seccion presentamos un programa sencillo para controlar un servomotor.\n",
    "\n",
    "| Codigo          |            |\n",
    "|  :---           | :---       |\n",
    "|include Servo.h  |            |\n",
    "|Servo brazo;     |            |\n",
    "|void setup()     |            |\n",
    "|                 |{           |\n",
    "|                 |}           |\n",
    "|void loop() {    |            |\n",
    "|                 |int i; |\n",
    "|                 |brazo.attach(11);   //brazo esta conectado ala pata 11   |\n",
    "|                 |delay(10);    |\n",
    "|                 |brazo.write(50);   |\n",
    "|                 |delay(2000);  |\n",
    "|                 |brazo.write(90);  |\n",
    "|                 |delay(2000);   |\n",
    "|                 |while (1)  { |\n",
    "|                 | brazo.detach();  |\n",
    "|                 |}                 |\n",
    "|}                |                  |"
   ]
  },
  {
   "cell_type": "markdown",
   "metadata": {},
   "source": [
    "\n",
    "    \n",
    "Se comienza cargando la libreria servo con la sentencia **#include <Servo.h>**\n",
    "\n",
    "Luego se crea el objeto servo a partir del cual se utiliza el servomotor por el microcontrolador la sentencia es **Servo nombre_servo**\n",
    "\n",
    "Para informar a que pin del micrcontrolador se conecta e utiliza la sentencia attach donde se debe escribire el mumero de pin donde se conectara el servomotor  **nombre_servo.attach(numero)**\n",
    "\n",
    "Utilizando la sentencia write se ordena al servo el angulo en el cual se debe ubicar, la sentencia se muestra a continuacion\n",
    "**nombre_servo.write(90)**\n",
    "\n",
    "Finalmente la sentencia detach desconecta el servomotor **brazo.detach()**\n",
    "   \n",
    " En este video se muestran detalles del funcionamiento del servomotor\n",
    " \n",
    "[Servomotores](https://youtu.be/mk9UkQCeENc)\n",
    "\n",
    "La posicion de reposo de los servomotores es 90°\n",
    "\n"
   ]
  },
  {
   "cell_type": "markdown",
   "metadata": {},
   "source": [
    "### Puerto Serie\n",
    "\n",
    "Un Puerto Serie (también denominado Puerto Serial) es la interfaz (conexión física y funcional entre dos dispositivos o sistemas) que posibilita el envío de información digital y a su vez también permite recibirla. En este caso se conecta el puerto serie del microcontrolador con el puerto serie de la PC donde se encuentra nuestro programa. Se debe destacar que el arduino utiliza para conectarse con una PC el puerto USB  configurado como puerto serie.\n",
    "\n",
    "Se presenta un programa que permita controlar dos servomotores utilizando la puerta serie\n",
    "\n",
    "| codigo       |                               |    \n",
    "| :---         | :----          | \n",
    "|#include <Servo.h>|                               |\n",
    "| | |//libreria donde encuentra la clase  |                  \n",
    "|Servo brazo;  |                               |\n",
    "|Servo antebrazo;|                               | \n",
    "|int ang_brazo = 90;|      |                               |\n",
    "|int ang_antebrazo = 90;  |                               |\n",
    "|void setup() {|                               |\n",
    "|Serial.begin(9600);|\n",
    "|}               |                |\n",
    "|void loop() { |                |                |\n",
    "|int i;          |              | \n",
    "|char a;         |              |  \n",
    "|String cad;     |            | \n",
    "|char control[5];|                                            \n",
    "| int valor;     |                               \n",
    "|brazo.attach(10);|\n",
    "|//brazo esta conectado al pin 11  |                     \n",
    "|antebrazo.attach(11);|\n",
    "|//antebrazo esta conectado al pin 10  |                 \n",
    "|if (Serial.available() > 0){|\n",
    "|//Pregunta si hay datos en el buffer del puerto serie |                                 |\n",
    "|Serial.readBytes(control, 5); |\n",
    "|//lee 5 byte de la puerta serie en control |             |                              |\n",
    "|if (control[0] == 'o'){|                  |                | \n",
    "| Serial.print(control);|  \n",
    "|if (control[1] == '1') {|  \n",
    "|        cad = \"\";  |\n",
    "|cad = cad+control[2] + control[3] + control[4];|    \n",
    "|        valor = cad.toInt();// convierte el valor medido a entero|  \n",
    "|        brazo.write(valor);  //escribe en el servo  |\n",
    "|      }  |\n",
    "|      if (control[1] == '2') | \n",
    "|      {  |\n",
    "|        cad = \"\";|  \n",
    "|        cad = cad+control[2] + control[3] + control[4];|  \n",
    "|        valor = cad.toInt();  |\n",
    "|        antebrazo.write(valor);|  \n",
    "|      }  |\n",
    "|    }  |\n",
    "|  }  |\n",
    "|}  |\n"
   ]
  },
  {
   "cell_type": "markdown",
   "metadata": {},
   "source": [
    "## Puerta Serie en Jupyter notebook\n",
    "\n",
    "Se utiliza la libreria serial"
   ]
  },
  {
   "cell_type": "code",
   "execution_count": 3,
   "metadata": {},
   "outputs": [],
   "source": [
    "import serial\n"
   ]
  },
  {
   "cell_type": "markdown",
   "metadata": {},
   "source": [
    "Luego se selecciona el puerto, debe ser el mismo que utiliza el microcontolador. Utilizando la sentencia mostrada en la siguiente linea"
   ]
  },
  {
   "cell_type": "code",
   "execution_count": 207,
   "metadata": {},
   "outputs": [],
   "source": [
    "ser = serial.Serial('COM11')"
   ]
  },
  {
   "cell_type": "code",
   "execution_count": null,
   "metadata": {},
   "outputs": [],
   "source": [
    "Para terminar el uso de la puerta serie se utiliza la siguiente sentencia"
   ]
  },
  {
   "cell_type": "code",
   "execution_count": 206,
   "metadata": {},
   "outputs": [],
   "source": [
    "ser.close()"
   ]
  },
  {
   "cell_type": "markdown",
   "metadata": {},
   "source": [
    "Para escribir en el puerto se debe usar la sentencia _*write*_. En este caso __o1120__. Es la orden que debe recibir el microcontrolador que tenga grabado el programa que se muestra mas arriba."
   ]
  },
  {
   "cell_type": "code",
   "execution_count": 8,
   "metadata": {},
   "outputs": [],
   "source": [
    "ser.write(b'o1120')"
   ]
  },
  {
   "cell_type": "code",
   "execution_count": null,
   "metadata": {},
   "outputs": [],
   "source": [
    "Para leer un caracter se utiliza __read()__"
   ]
  },
  {
   "cell_type": "code",
   "execution_count": null,
   "metadata": {},
   "outputs": [],
   "source": [
    "a=ser.read();"
   ]
  },
  {
   "cell_type": "markdown",
   "metadata": {},
   "source": [
    "Para leer varios caracteres, por ejemplo 3. Se utiliza __read(3)__"
   ]
  },
  {
   "cell_type": "code",
   "execution_count": null,
   "metadata": {},
   "outputs": [],
   "source": [
    "a=ser.read(3)"
   ]
  },
  {
   "cell_type": "markdown",
   "metadata": {},
   "source": [
    "Para leer una linea. Se utiliza __readline()__"
   ]
  },
  {
   "cell_type": "code",
   "execution_count": 2,
   "metadata": {},
   "outputs": [
    {
     "ename": "NameError",
     "evalue": "name 'ser' is not defined",
     "output_type": "error",
     "traceback": [
      "\u001b[1;31m---------------------------------------------------------------------------\u001b[0m",
      "\u001b[1;31mNameError\u001b[0m                                 Traceback (most recent call last)",
      "\u001b[1;32m<ipython-input-2-406d3a878990>\u001b[0m in \u001b[0;36m<module>\u001b[1;34m\u001b[0m\n\u001b[1;32m----> 1\u001b[1;33m \u001b[0mma\u001b[0m\u001b[1;33m=\u001b[0m\u001b[0mser\u001b[0m\u001b[1;33m.\u001b[0m\u001b[0mreadline\u001b[0m\u001b[1;33m(\u001b[0m\u001b[1;33m)\u001b[0m\u001b[1;33m\u001b[0m\u001b[1;33m\u001b[0m\u001b[0m\n\u001b[0m",
      "\u001b[1;31mNameError\u001b[0m: name 'ser' is not defined"
     ]
    }
   ],
   "source": [
    "ma=ser.readline()"
   ]
  },
  {
   "cell_type": "markdown",
   "metadata": {},
   "source": [
    "Para vaciar el buffer sin cerrar se utiliza la sentencia __flush__"
   ]
  },
  {
   "cell_type": "code",
   "execution_count": null,
   "metadata": {},
   "outputs": [],
   "source": [
    "ser.flush()"
   ]
  },
  {
   "cell_type": "markdown",
   "metadata": {},
   "source": [
    "## Programacion orientada a eventos en jupyter notebook\n",
    "\n",
    "La Programación orientada a eventos es un paradigma de programación en el que la estructura y la ejecución de los programas van determinados por los sucesos o acciones que ocurren en el sistema, definidos por el usuario o por el propio sistema. \n",
    "\n",
    "Con los lenguajes orientados a eventos se pueden realizar en poco tiempo aplicaciones sencillas y muy funcionales, utilizando interfaces gráficas en las que se insertan componentes o controles a los que se le programan eventos. \n",
    "\n",
    " __Ipywidget__ es una  libreria que permite incorporar la programacion por eventos a jupyter notebook. \n",
    "la misma dispone de los siguientes botones:\n",
    "\n",
    "| Nombre      |    Sintaxis         | Funcionamiento                                |\n",
    "| :----------- | :----------- :     | ---:                                          | \n",
    "| Textos      | widgets.Text        | Permite ingresar textos o números al programa |\n",
    "| Menu        | widgets.DropDown    | crea menu                                     |\n",
    "| Calendarios |  widgets.DataPicker | crea calendarios                              |\n",
    "| Selección   | widgets.checkpoint  | selecciona distintas opciones                 |\n",
    "| Deslizadores| widgets.FloatSlider | ingresa numeros utilizando deslizadores       |\n",
    "| Ejecucion   | widgetsButton       | ejecuta codigo                                |\n",
    "| Letreros    | widgets.Label       | muestra letreros                              |\n",
    "| Salida      | widgets.Out         | Presenta resultados                           |\n",
    "\n",
    "\n",
    "Para comenzar debemos cargar las librerias utilizando las sentencias que se muestran mas abajo\n",
    "\n"
   ]
  },
  {
   "cell_type": "code",
   "execution_count": 7,
   "metadata": {},
   "outputs": [],
   "source": [
    "# algunas funiones que se usaran\n",
    "from IPython.display import display, Markdown, clear_output\n",
    "import ipywidgets as widgets"
   ]
  },
  {
   "cell_type": "markdown",
   "metadata": {},
   "source": [
    "### Presentamo la sintaxis de algunos botones\n"
   ]
  },
  {
   "cell_type": "code",
   "execution_count": 24,
   "metadata": {},
   "outputs": [],
   "source": [
    "from IPython.display import display, Markdown, clear_output\n",
    "import ipywidgets as widgets\n",
    "texto = widgets.Text(\n",
    "       value='HOLA',\n",
    "       description='Titulo', )\n",
    "calendario = widgets.DatePicker(\n",
    "           description='Select Date')\n",
    "deslizador = widgets.FloatSlider(\n",
    "         value=1,\n",
    "         min=0,\n",
    "         max=10.0,\n",
    "         step=0.1,)\n",
    "menu = widgets.Dropdown(\n",
    "       options=['red', 'blue', 'green'],\n",
    "       value='red',\n",
    "       description='Color:')\n",
    "checkbox = widgets.Checkbox(\n",
    "           description='Check to invert',)\n",
    "boton = widgets.Button(description='Boton')\n",
    "letrero=widgets.Label()\n",
    "out = widgets.Output(value='Entrada')"
   ]
  },
  {
   "cell_type": "markdown",
   "metadata": {},
   "source": [
    "Para ejecutar los botones se debe poner el nombre, por ejemplo se pone texto y se ejecuta"
   ]
  },
  {
   "cell_type": "code",
   "execution_count": 25,
   "metadata": {},
   "outputs": [
    {
     "data": {
      "application/vnd.jupyter.widget-view+json": {
       "model_id": "225192307f264c4db9f866e71f6538fc",
       "version_major": 2,
       "version_minor": 0
      },
      "text/plain": [
       "Text(value='HOLA', description='Titulo')"
      ]
     },
     "metadata": {},
     "output_type": "display_data"
    }
   ],
   "source": [
    "texto"
   ]
  },
  {
   "cell_type": "markdown",
   "metadata": {},
   "source": [
    "El texto se encuentra en __Nombre.value__. Cambie el texto  y ejecute lo siguiente. Se obtiene una cadena de caracteres"
   ]
  },
  {
   "cell_type": "code",
   "execution_count": 28,
   "metadata": {},
   "outputs": [
    {
     "data": {
      "text/plain": [
       "'HOLA'"
      ]
     },
     "execution_count": 28,
     "metadata": {},
     "output_type": "execute_result"
    }
   ],
   "source": [
    "texto.value"
   ]
  },
  {
   "cell_type": "markdown",
   "metadata": {},
   "source": [
    "Para organizar la ubicacion de las distintas partes se utilizan conentenedores. \n",
    "El contenedor horizontal se llama __HBox__ su sintaxis se muestra a continuacion"
   ]
  },
  {
   "cell_type": "code",
   "execution_count": 29,
   "metadata": {},
   "outputs": [
    {
     "data": {
      "application/vnd.jupyter.widget-view+json": {
       "model_id": "da005595068f45f7bae24c0be5d4a613",
       "version_major": 2,
       "version_minor": 0
      },
      "text/plain": [
       "HBox(children=(Text(value='HOLA', description='Titulo'), Dropdown(description='Color:', options=('red', 'blue'…"
      ]
     },
     "metadata": {},
     "output_type": "display_data"
    }
   ],
   "source": [
    "widgets.HBox([texto,menu])"
   ]
  },
  {
   "cell_type": "markdown",
   "metadata": {},
   "source": [
    "El contenedor vertical se denomina __VBox__. Su sintaxis se muestra a continuacion"
   ]
  },
  {
   "cell_type": "code",
   "execution_count": 31,
   "metadata": {},
   "outputs": [
    {
     "data": {
      "application/vnd.jupyter.widget-view+json": {
       "model_id": "2ab60a215b284e149cd61afa3046c501",
       "version_major": 2,
       "version_minor": 0
      },
      "text/plain": [
       "VBox(children=(Text(value='HOLA', description='Titulo'), Dropdown(description='Color:', options=('red', 'blue'…"
      ]
     },
     "metadata": {},
     "output_type": "display_data"
    }
   ],
   "source": [
    "widgets.VBox([texto,menu])"
   ]
  },
  {
   "cell_type": "markdown",
   "metadata": {},
   "source": [
    "La combinacion de ambos seria"
   ]
  },
  {
   "cell_type": "code",
   "execution_count": 32,
   "metadata": {},
   "outputs": [
    {
     "data": {
      "application/vnd.jupyter.widget-view+json": {
       "model_id": "53c2d98dcc374a71a563905005d77716",
       "version_major": 2,
       "version_minor": 0
      },
      "text/plain": [
       "VBox(children=(HBox(children=(Text(value='HOLA', description='Titulo'), Dropdown(description='Color:', options…"
      ]
     },
     "metadata": {},
     "output_type": "display_data"
    }
   ],
   "source": [
    "b1=widgets.HBox([texto,menu])\n",
    "b2=widgets.HBox([calendario, deslizador])\n",
    "widgets.VBox([b1,b2])"
   ]
  },
  {
   "cell_type": "markdown",
   "metadata": {},
   "source": [
    "### Creando un boton de ejecucion\n",
    "Se crea el boton y una salida. Se define una funcion donde se realizaran las acciones. Finalmente se conecta con el widget"
   ]
  },
  {
   "cell_type": "code",
   "execution_count": 2,
   "metadata": {},
   "outputs": [
    {
     "data": {
      "application/vnd.jupyter.widget-view+json": {
       "model_id": "88ae5a73051d4600bb79066697877f05",
       "version_major": 2,
       "version_minor": 0
      },
      "text/plain": [
       "HBox(children=(Button(description='Boton', style=ButtonStyle()), Output()))"
      ]
     },
     "metadata": {},
     "output_type": "display_data"
    }
   ],
   "source": [
    "from IPython.display import display, Markdown, clear_output\n",
    "import ipywidgets as widgets\n",
    "boton = widgets.Button(description='Boton')\n",
    "out = widgets.Output()\n",
    "def on_boton_click(_):\n",
    "      with out:\n",
    "          # Acciones\n",
    "          clear_output()\n",
    "          print('Algo paso!')# linking button and function together using a button's method\n",
    "boton.on_click(on_boton_click)\n",
    "# displaying button and its output together\n",
    "widgets.HBox([boton,out])"
   ]
  },
  {
   "cell_type": "code",
   "execution_count": null,
   "metadata": {},
   "outputs": [],
   "source": [
    "## Analis de la geometria del robot"
   ]
  },
  {
   "cell_type": "markdown",
   "metadata": {},
   "source": [
    "## Primer programa\n",
    "Combinando el uso de la libreria __serial__ con __ipywidgets__\n",
    "Creamos dos widgets de texto, donde se ingresaran los angulos del brazo  y dos botones, uno mueve el brazo y el otro el antebrazo de nuestro robot"
   ]
  },
  {
   "cell_type": "code",
   "execution_count": 36,
   "metadata": {},
   "outputs": [
    {
     "data": {
      "application/vnd.jupyter.widget-view+json": {
       "model_id": "c7aae57ed8984aabbbda5529dfdf9449",
       "version_major": 2,
       "version_minor": 0
      },
      "text/plain": [
       "VBox(children=(HBox(children=(Label(value='Entrada:'), Text(value='90', description='Ang 1='), Text(value='90'…"
      ]
     },
     "metadata": {},
     "output_type": "display_data"
    }
   ],
   "source": [
    "# librerias necesarias para el programa\n",
    "\n",
    "from IPython.display import display, Markdown, clear_output\n",
    "import ipywidgets as widgets\n",
    "import serial\n",
    "\n",
    "#  definicion de botones\n",
    "tang1 = widgets.Text(value='90',description='Ang 1=', )\n",
    "tang2 = widgets.Text(value='90',description='Ang 2=', )\n",
    "brazo = widgets.Button(description='Brazo')\n",
    "abrazo = widgets.Button(description='Antebrazo')\n",
    "lab1=widgets.Label(value=\"Entrada:\")\n",
    "lab2=widgets.Label(value=\"Salida:\")\n",
    "out = widgets.Output()\n",
    "# Contenedores\n",
    "b1=widgets.HBox([lab1,tang1,tang2 ])\n",
    "b3=widgets.HBox([brazo,abrazo, out])\n",
    "\n",
    "\n",
    "def on_brazo_click(_):\n",
    "      with out:\n",
    "          # Accione\n",
    "          clear_output()\n",
    "          to1= 'o1'+'{:03d}'.format(int(tang1.value))\n",
    "          ser = serial.Serial('COM11')\n",
    "          ser.write(bytearray(to1,'utf-8'))\n",
    "          ser.close()\n",
    "          print('o1= '+to1)\n",
    "def on_abrazo_click(_):\n",
    "      with out:\n",
    "          # Accionesser = serial.Serial('COM11')\n",
    "          ser = serial.Serial('COM11')\n",
    "          ser.write(bytearray(to2,'utf-8'))\n",
    "          ser.close()\n",
    "          print('o2= '+to2)\n",
    "boton.on_click(on_boton_click)\n",
    "brazo.on_click(on_brazo_click)\n",
    "abrazo.on_click(on_abrazo_click)\n",
    "\n",
    "\n",
    "widgets.VBox([b1,b3])"
   ]
  },
  {
   "attachments": {
    "brazo_geo.gif": {
     "image/gif": "[encoded data removed]"
    }
   },
   "cell_type": "markdown",
   "metadata": {},
   "source": [
    "## Geometria del brazo\n",
    "\n",
    "Se analiza la geometria del brazo\n",
    "![brazo_geo.gif](attachment:brazo_geo.gif)\n",
    "\n",
    "La ecuacion del movimiento seria:\n",
    "\n",
    "x=a.$\\cos$(ang1)+a.$\\sin$(ang2)\n",
    "\n",
    "y=a.$\\sin$(ang1)-a.$\\cos$(ang2)\n",
    "\n",
    "Se observa que la posicion del brazo depende de dos angulos ang1 y ang2. Los cuales corresponderian a los angulos de los dos servomotores. Pero es conveniente que la posicion de 90° del ang1 y ang2 sea con el brazo vertical. Entonces \n",
    "\n",
    "ang1=angs1-90\n",
    "\n",
    "ang2=angs2-90\n",
    "\n",
    "El sistema de ecuaciones queda:\n",
    "\n",
    "x=a.$\\sin$(angs1)+a.$\\cos$(angs2))\n",
    "\n",
    "y=a.$\\cos$(angs1)-a. $\\sin$(angs2))\n",
    "\n",
    "Jupyter notebook no tiene definido sin, cos por lo tanto debemos cargar la libreria numpy\n",
    "\n",
    "\n"
   ]
  },
  {
   "cell_type": "code",
   "execution_count": 11,
   "metadata": {},
   "outputs": [
    {
     "name": "stdout",
     "output_type": "stream",
     "text": [
      "x=204.90296270404437 y=54.906974740054636/n\n"
     ]
    }
   ],
   "source": [
    "import numpy as np\n",
    "\n",
    "o1=30\n",
    "o2=30\n",
    "x=150*(np.sin(o1/180*3.1415)+np.cos(o2/180*3.1415))\n",
    "y=150*(np.cos(o1/180*3.1415)-np.sin(o2/180*3.1415))\n",
    "dd='x='+str(x)+' y='+str(y)+'/n'\n",
    "print(dd)"
   ]
  },
  {
   "cell_type": "markdown",
   "metadata": {},
   "source": [
    "### Segundo programa\n",
    "\n",
    "Aqui se presenta un programa que tiene como entrada los angulos, calcula la posicion x e y donde se ubicara el brazo finalmente se comunica por el puerto serie con el microcontrolador y se ubica en la posicion indicada.\n"
   ]
  },
  {
   "cell_type": "code",
   "execution_count": 126,
   "metadata": {},
   "outputs": [
    {
     "data": {
      "application/vnd.jupyter.widget-view+json": {
       "model_id": "d086f0d2a7c64bd185dc00f6997779a3",
       "version_major": 2,
       "version_minor": 0
      },
      "text/plain": [
       "VBox(children=(HBox(children=(Label(value='Entrada:'), Text(value='90', description='Ang 1='), Text(value='90'…"
      ]
     },
     "metadata": {},
     "output_type": "display_data"
    }
   ],
   "source": [
    "# librerias necesarias para el programa\n",
    "\n",
    "from IPython.display import display, Markdown, clear_output\n",
    "import ipywidgets as widgets\n",
    "import serial\n",
    "import numpy as np\n",
    "\n",
    "tang1 = widgets.Text(value='90',description='Ang 1=', )\n",
    "tang2 = widgets.Text(value='90',description='Ang 2=', )\n",
    "boton = widgets.Button(description='Boton')\n",
    "brazo = widgets.Button(description='Brazo')\n",
    "abrazo = widgets.Button(description='Antebrazo')\n",
    "lab1=widgets.Label(value=\"Entrada:\")\n",
    "lab2=widgets.Label(value=\"Salida:\")\n",
    "out = widgets.Output()\n",
    "b1=widgets.HBox([lab1,tang1,tang2 ])\n",
    "b2=widgets.HBox([lab2,boton,out])\n",
    "b3=widgets.HBox([brazo,abrazo])\n",
    "def on_boton_click(_):\n",
    "      with out:\n",
    "          # Acciones\n",
    "          clear_output()\n",
    "          o1=float(tang1.value)\n",
    "          o2=float(tang2.value)\n",
    "          to1= 'o1'+'{:03d}'.format(int(tang1.value))\n",
    "          to2= 'o2'+'{:03d}'.format(int(tang1.value))\n",
    "          x=150*(np.sin(o1/180*3.1415-3.1415/2)+np.cos(3.1415-o2/180*3.1415))\n",
    "          y=150*(np.cos(o1/180*3.1415-3.1415/2)-np.sin(3.1415-o2/180*3.1415))\n",
    "          ssx=str(x)\n",
    "          ssy=str(y) \n",
    "         \n",
    "          print('x='+ssx+' y='+ssy+' o1='+to1+' o2='+to2)\n",
    "def on_brazo_click(_):\n",
    "      with out:\n",
    "          # Accione\n",
    "          clear_output()\n",
    "          to1= 'o1'+'{:03d}'.format(int(tang1.value))\n",
    "          ser = serial.Serial('COM11')\n",
    "          ser.write(bytearray(to1,'utf-8'))\n",
    "          ser,close()\n",
    "          print('o1= '+to1)\n",
    "def on_abrazo_click(_):\n",
    "      with out:\n",
    "          # Acciones\n",
    "          clear_output()\n",
    "          to2= 'o2'+'{:03d}'.format(int(tang2.value))\n",
    "          ser.write(bytearray(to2,'utf-8'))\n",
    "          print('o2= '+to2)\n",
    "boton.on_click(on_boton_click)\n",
    "brazo.on_click(on_brazo_click)\n",
    "abrazo.on_click(on_abrazo_click)\n",
    "\n",
    "\n",
    "widgets.VBox([b1,b2,b3])"
   ]
  },
  {
   "cell_type": "markdown",
   "metadata": {},
   "source": [
    "###  Calculo de Coordenadas del brazo\n",
    "\n",
    "El brazo debe poder ubicarse en una posicion determinada. Lo que significa que se debe resolver el sistema de ecuaciones mostrado, porque nuestras incognitas son los angulos que deseamos medir. Por esta razon utilizaremos la libreria optimize"
   ]
  },
  {
   "cell_type": "code",
   "execution_count": null,
   "metadata": {},
   "outputs": [],
   "source": [
    "import numpy as np\n",
    "from scipy.optimize import fsolve\n",
    "def coorde(z,x00,y00):\n",
    "    o1=z[0]\n",
    "    o2=z[1]\n",
    "    F=np.empty((2))\n",
    "    F[0]=150*(np.sin(o1/180*3.1415-3.1415/2)+np.cos(3.1415-o2/180*3.1415))-x00\n",
    "    F[1]=150*(np.cos(o1/180*3.1415-3.1415/2)-np.sin(3.1415-o2/180*3.1415))-y00\n",
    "    return F\n",
    "x00=0\n",
    "y00=0\n",
    "zGuess = np.array([1,1,1])\n",
    "z = fsolve(coorde,zGuess)\n",
    "print(z)\n"
   ]
  },
  {
   "cell_type": "code",
   "execution_count": 193,
   "metadata": {},
   "outputs": [
    {
     "name": "stdout",
     "output_type": "stream",
     "text": [
      "[91.91026951 91.9076151 ]\n"
     ]
    }
   ],
   "source": [
    "rg"
   ]
  },
  {
   "cell_type": "code",
   "execution_count": 2,
   "metadata": {},
   "outputs": [
    {
     "data": {
      "application/vnd.jupyter.widget-view+json": {
       "model_id": "685d11d7b310467c9fb3ef39ea5aaadb",
       "version_major": 2,
       "version_minor": 0
      },
      "text/plain": [
       "VBox(children=(HBox(children=(Label(value='Coordenadas:'), Text(value='0', description='x='), Text(value='0', …"
      ]
     },
     "metadata": {},
     "output_type": "display_data"
    }
   ],
   "source": [
    "# librerias necesarias para el programa\n",
    "\n",
    "from IPython.display import display, Markdown, clear_output\n",
    "import ipywidgets as widgets\n",
    "import serial\n",
    "import numpy as np\n",
    "from scipy.optimize import fsolve\n",
    "\n",
    "\n",
    "tx0 = widgets.Text(value='0',description='x=', )\n",
    "ty0 = widgets.Text(value='0',description='y=', )\n",
    "boton = widgets.Button(description='mover')\n",
    "lab1=widgets.Label(value=\"Coordenadas:\")\n",
    "lab2=widgets.Label(value=\"Angulos:\")\n",
    "lab3=widgets.Label(value=\"Coordenadas:\")\n",
    "lab4=widgets.Label(value=\"Coordenadas:\")\n",
    "out = widgets.Output()\n",
    "b1=widgets.HBox([lab1,tx0,ty0 ])\n",
    "b2=widgets.HBox([boton,out])\n",
    "b3=widgets.HBox([lab2,lab3,lab4])\n",
    "def coorde(z,x00,y00):\n",
    "    o1=z[0]\n",
    "    o2=z[1]\n",
    "    F=np.empty((2))\n",
    "    F[0]=150*(sin(o1/180*3.1415-3.1415/2)+cos(3.1415-o2/180*3.1415))-x00\n",
    "    F[1]=150*(cos(o1/180*3.1415-3.1415/2)-sin(3.1415-o2/180*3.1415))-y00\n",
    "    return F\n",
    "  \n",
    "def on_boton_click(_):\n",
    "      with out:\n",
    "          # Acciones\n",
    "          clear_output()\n",
    "          x00=float(tx0.value)\n",
    "          y00=float(ty0.value)\n",
    "          z = fsolve(coorde,[1,1],args=(x00,y00))\n",
    "          so1='o1'+'{:03d}'.format(int(z[0]+0.1))\n",
    "          so2='o2'+'{:03d}'.format(int(z[1]+0.1))\n",
    "          ser.write(bytearray(so1,'utf-8'))\n",
    "          ser.write(bytearray(so2,'utf-8'))\n",
    "          print('o1='+so1+' o2='+so2)\n",
    "          #print(z)\n",
    "boton.on_click(on_boton_click)\n",
    "widgets.VBox([b1,b2])"
   ]
  },
  {
   "cell_type": "code",
   "execution_count": null,
   "metadata": {},
   "outputs": [],
   "source": []
  }
 ],
 "metadata": {
  "kernelspec": {
   "display_name": "Python 3",
   "language": "python",
   "name": "python3"
  },
  "language_info": {
   "codemirror_mode": {
    "name": "ipython",
    "version": 3
   },
   "file_extension": ".py",
   "mimetype": "text/x-python",
   "name": "python",
   "nbconvert_exporter": "python",
   "pygments_lexer": "ipython3",
   "version": "3.7.6"
  }
 },
 "nbformat": 4,
 "nbformat_minor": 4
}
