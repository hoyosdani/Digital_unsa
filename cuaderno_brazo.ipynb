{
 "cells": [
  {
   "cell_type": "markdown",
   "metadata": {
    "slideshow": {
     "slide_type": "slide"
    }
   },
   "source": [
    "# BRAZO ROBOT\n",
    "\n",
    "### Resumen\n",
    "Para diseñar y o construir un brazo robot didactico tenemos que trabajar en varios aspectos que incluyen:\n",
    "\n",
    "1. Definición del problema\n",
    "2. Análisis cinemático.\n",
    "3. Análisis dinámico.\n",
    "4. Diseño mecánico\n",
    "5. Diseño electronico\n",
    "6. Programacion"
   ]
  },
  {
   "cell_type": "markdown",
   "metadata": {
    "slideshow": {
     "slide_type": "slide"
    }
   },
   "source": [
    "Se describira cada una de las partes del brazo didactico,\n",
    "1. Componentes mecanicos\n",
    "2. Motores\n",
    "3. Microcontroladores \n",
    "4. Firmware\n",
    "5. Software\n"
   ]
  },
  {
   "cell_type": "markdown",
   "metadata": {
    "slideshow": {
     "slide_type": "slide"
    }
   },
   "source": [
    "### 1 Componentes Mecanicos\n",
    "Las piezas mecanicas se construiran de carton. Para unir las partes se utiliza plasticola. "
   ]
  },
  {
   "cell_type": "markdown",
   "metadata": {
    "slideshow": {
     "slide_type": "slide"
    }
   },
   "source": [
    "### 2 Microcontrolador\n",
    "\n",
    "Se utilizara un Arduino Uno como microcontrolador para controlar el brazo, una PC para controlar y simular el sistema. Se utilizara el entorno Arduino para programar las placas y Jupyter Notebook para programar la PC.\n",
    "<img src=\"img/arduinouno.jpg\" alt=\"Imagen\"></img>\n",
    "\n",
    "\n",
    "\n"
   ]
  },
  {
   "cell_type": "markdown",
   "metadata": {
    "slideshow": {
     "slide_type": "slide"
    }
   },
   "source": [
    "### 3 Motores\n",
    "Los motores que se usaran son del tipo de servomotor.\n",
    "<img src=\"img/servomotor.jpg\"></img>\n",
    "\n"
   ]
  },
  {
   "cell_type": "markdown",
   "metadata": {
    "slideshow": {
     "slide_type": "slide"
    }
   },
   "source": [
    "### 1. Definición del problema\n",
    "\n",
    "Se diseñara y construira un brazo robotico de tres grados de libertad, del tipo articulado. El objetivo del mismo es didactico. Tendra tres articulaciones, Las articulaciones A1 y A2 permitiran ubicar al brazo en cualquier posicion del plano en que se encuentra el mismo. La articulacion A3 permite que siempre la mano este horizontal. Se podra ampliar el brazo de forma de agregar una pinza para sujetar objetos.\n",
    "\n",
    "Ambos motores se colocaran en paralelo enfrentados entre si, uno de los servomotores accionara el brazo, el otro  con una serie de palancas accionara el antebrazo. En la imagen se muestra el brazo.\n"
   ]
  },
  {
   "cell_type": "markdown",
   "metadata": {
    "slideshow": {
     "slide_type": "slide"
    }
   },
   "source": [
    "<img src=\"img/brazo00.gif\" height=\"400\" width=\"200\"></img>"
   ]
  },
  {
   "cell_type": "markdown",
   "metadata": {
    "slideshow": {
     "slide_type": "slide"
    }
   },
   "source": [
    "Para accionar el brazo se utilizaran dos servomotores del tipo  SG90 cuyas caracteristicas se muestran a continuación\n",
    "\n",
    "- Peso: 9 gramos\n",
    "- Dimensiones: 22.2 x 11.8 x 31 mm\n",
    "- Torque: 1.8 kg.cm\n",
    "- Velocidad: 0.1 s/60 grados\n",
    "- Alimentación: 4.8 V (~5V)\n",
    "- Temperatura de funcionamiento: 0 ºC – 55 ºC"
   ]
  },
  {
   "cell_type": "markdown",
   "metadata": {
    "slideshow": {
     "slide_type": "slide"
    }
   },
   "source": [
    "## 2.  Cinematica del brazo \n",
    "\n",
    "Este analisis se divide en dos partes\n",
    "Cinematica Directa: A partir de datos se obtiene las posiciones que ocupara el brazo\n",
    "Cinematica inversa: A partir de la posicion que se desea que ocupe el brazo se obtiene los datos iniciales"
   ]
  },
  {
   "cell_type": "markdown",
   "metadata": {
    "slideshow": {
     "slide_type": "slide"
    }
   },
   "source": [
    "### 2.1 Cinematica directa del brazo\n",
    "\n",
    "La cinematica directa de un robot es la determinación de la posición y orientación del extremo de del mismo con respecto a un sistema de referencia. Con este fin se realizaran las siguientes acciones.\n",
    "\n",
    "- Se analizara el sistema de ecuaciones de movimiento del brazo\n",
    "- Se estudiara la libreria matplotlib\n",
    "- Se realizara un programa para simular el movimiento\n"
   ]
  },
  {
   "cell_type": "markdown",
   "metadata": {
    "slideshow": {
     "slide_type": "slide"
    }
   },
   "source": [
    "### 2.1.1 Calculo de la matriz de tranformacion\n",
    "\n",
    " Con este fin se analiza la geometria del brazo robot, cuyo esquema se muestra en la figura.\n",
    " <img src=\"img/brazo_geo.gif\" alt=\"Imagen\" width=\"300\" height=\"300\">Brazo</img> "
   ]
  },
  {
   "cell_type": "markdown",
   "metadata": {
    "slideshow": {
     "slide_type": "slide"
    }
   },
   "source": [
    "### Descripcion\n",
    "El antebrazo esta dividido en dos segmentos uno de largo a y otro de largo b con la articulacion situada entre ambos segmentos.  El brazo tendra largo a. Se agregan dos palancas. Una de ellas tendra largo a y la otra tendra largo b se conectan segun se muestra en la figura Formando un paralepipedo. Esto permite que las ecuaciones de movimiento tengan relaciones trigonometricas simples. \n"
   ]
  },
  {
   "cell_type": "markdown",
   "metadata": {
    "slideshow": {
     "slide_type": "slide"
    }
   },
   "source": [
    "### Ecuaciones x1,y1\n",
    "\n",
    "Se Analizaran las ecuaciones comenzando por el punto(x1,y1) que corresponde a la segunda articulación A2 seria:\n",
    "\n",
    "<center><b><i> x1=a.$\\cos$(ang1) </b></i></center> \n",
    "<center><b><i> y1=a.$\\sin$(ang1) </b></i></center> "
   ]
  },
  {
   "cell_type": "markdown",
   "metadata": {
    "slideshow": {
     "slide_type": "fragment"
    }
   },
   "source": [
    "<img src=\"img/brazo_geo.gif\" alt=\"Imagen\" width=\"300\" height=\"300\">Brazo</img> "
   ]
  },
  {
   "cell_type": "markdown",
   "metadata": {
    "slideshow": {
     "slide_type": "slide"
    }
   },
   "source": [
    "### Ecuaciones x2,y2\n",
    "\n",
    "Finalmente el punto (x2,y2) tendria la siguiente ecuación:  \n",
    "\n",
    "<center><b><i>x2=a.$\\cos$(ang1)+a.$\\sin$(ang2)  </b></i></center>\n",
    "<center><b><i>y2=a.$\\sin$(ang1)-a.$\\cos$(ang2)  </b></i></center>\n",
    "\n"
   ]
  },
  {
   "cell_type": "markdown",
   "metadata": {
    "slideshow": {
     "slide_type": "slide"
    }
   },
   "source": [
    "Se observa que la posicion del brazo depende de dos angulos ang1 y ang2. Los cuales corresponderian a los angulos de los dos servomotores. Pero es conveniente que la posicion de 90° del ang1 y ang2 sea con el brazo vertical. Entonces \n",
    "\n",
    "<center><b><i>ang1=angs1-90 </b></i></center>\n",
    "\n",
    "<center><b><i>ang2=angs2-90 </b></i></center>\n",
    "\n"
   ]
  },
  {
   "cell_type": "markdown",
   "metadata": {
    "slideshow": {
     "slide_type": "slide"
    }
   },
   "source": [
    "### sistema de ecuaciones:\n",
    "\n",
    "<center><b><i>x=a.$\\sin$(angs1)+a.$\\cos$(angs2))  </b></i></center>\n",
    "\n",
    "<center><b><i>y=a.$\\cos$(angs1)-a. $\\sin$(angs2))  </b></i></center>\n",
    "\n"
   ]
  },
  {
   "cell_type": "markdown",
   "metadata": {
    "slideshow": {
     "slide_type": "slide"
    }
   },
   "source": [
    "### Optimizacion brazo\n",
    "Para obtener que el ultimo segmento del robot este siempre horizontal, se debe agregar un nuevo grupo de palancas y secciones de conexion que permitan cumplir con ese cometido. En la figura se muestra la nueva configuración.\n",
    "\n",
    "<img src=\"img/brazo_geo1.gif\" alt=\"Imagen\" width=\"300\" height=\"300\">Brazo</img> \n",
    "\n"
   ]
  },
  {
   "cell_type": "markdown",
   "metadata": {
    "slideshow": {
     "slide_type": "slide"
    }
   },
   "source": [
    " En amarillo se muestran dos palancas  y dos triangulos iguales  que se agregan al brazo. Los triangulos son rectangulos: Uno esta fijo a la base y el otro se coloca el la articulacion (x1,y1). Las palancas tienen el largo a. Se colocan formandos dos paralelogramos, como se muestra en la figura. El segmento d por propiedad de los paralelogramos siempre queda vertical. Lo que permite que el ultimo segmento este vertical o en el angulo que el problema lo requiera. Analizando geometricamente, se concluye que el sistema cambia agregando una componente en y y otra en x que tienen que ver con la traslacion del extremo\n",
    " \n",
    "<center><b><i>x=a.$\\sin$(angs1)+a.$\\cos$(angs2)+x0)  </b></i></center>\n",
    "\n",
    "<center><b><i>y=a.$\\cos$(angs1)-a. $\\sin$(angs2+y0))  </b></i></center>\n",
    " \n",
    "\n",
    "Dado que el sistema tiene pocos grados de libertad, el problema cinematico directo se encuentra resuelto. En el siguiente punto se analizara la libreria matplotlib\n"
   ]
  },
  {
   "cell_type": "markdown",
   "metadata": {
    "slideshow": {
     "slide_type": "slide"
    }
   },
   "source": [
    "## Simulacion del movimiento del brazo\n",
    "\n",
    "En esta seccion se describiran brevemente las librerias que se usaran para simular el movimiento\n",
    "\n",
    "| Libreria |  Funcion |\n",
    "|---       |---       |\n",
    "|Matplotlib| grafica en python|\n",
    "|numpy     | crea vectores, tiene funciones trigonometricas |\n",
    "|optimize  | Permite resolver sistemas de ecuaciones        |\n",
    "ipywidgets | Uso de Botones |"
   ]
  },
  {
   "cell_type": "markdown",
   "metadata": {
    "slideshow": {
     "slide_type": "slide"
    }
   },
   "source": [
    "####  2.1.2 Libreria Matplotlib\n",
    "\n",
    "Esta libreria tiene pyplot y path\n",
    "\n",
    "|libreria         | Accion |      |\n",
    "|---              |---     |---   |\n",
    "|matplotlib.pyplot| coleccion de funciones para graficar similar a matlab|\n",
    "|matplotlib.path  |con estas funciones se puede:| crear figuras    |\n",
    "|                 |                             | cambiar figuras  |\n",
    "|                 |                             |dibujar un area   |\n",
    "|                 |                             |dibujar lineas    |\n",
    "|                 |                             | rectangulos      |\n",
    "|                 |                             |esferas etc.      |\n",
    "\n"
   ]
  },
  {
   "cell_type": "markdown",
   "metadata": {
    "slideshow": {
     "slide_type": "slide"
    }
   },
   "source": [
    "### Ejemplo de programa"
   ]
  },
  {
   "cell_type": "code",
   "execution_count": 9,
   "metadata": {
    "slideshow": {
     "slide_type": "slide"
    }
   },
   "outputs": [
    {
     "data": {
      "image/png": "[encoded data removed]",
      "text/plain": [
       "<Figure size 432x288 with 1 Axes>"
      ]
     },
     "metadata": {
      "needs_background": "light"
     },
     "output_type": "display_data"
    }
   ],
   "source": [
    "import matplotlib.pyplot as plt\n",
    "plt.plot([1, 2, 3, 4])\n",
    "plt.ylabel('Eje Y')\n",
    "plt.xlabel('Eje X')\n",
    "\n",
    "plt.show()"
   ]
  },
  {
   "cell_type": "markdown",
   "metadata": {
    "slideshow": {
     "slide_type": "slide"
    }
   },
   "source": [
    "### Descripción el programa \n",
    "\n",
    "| nombre  |  sintaxis                          |        Accion                                          |\n",
    "| :---    | :---                               | :---                                                   |\n",
    "|pyplot   |*_import matplotlib.pyplot as plt_* |Carga las funciones pyplot con nombre plt en el programa.|  \n",
    "| plot    | *_plt.plot([1, 2, 3, 4])_*         |Grafica la secuencia 1,2,3,4  |\n",
    "| ylabel  |*_plt.ylabel('Eje Y')_*             | Escribe un letrero en el eye y  |\n",
    "|ylabel   |*_plt.xlabel('Eje X')_*             | Escribe un letrero en el eye x  |\n",
    "|show     |*_plt.show()_*                      | Muestra el resultado  |\n",
    "\n",
    "\n",
    "Se presenta un programa que muestra un rectangulo, circulo linea y poligono."
   ]
  },
  {
   "cell_type": "markdown",
   "metadata": {
    "slideshow": {
     "slide_type": "slide"
    }
   },
   "source": [
    "\n",
    "### Funciones importantes para realizar la simulacion \n",
    "\n",
    "| nombre    |    sintaxis      |   accion      |\n",
    "|:---       |:---              | :---          |\n",
    "|  figure   |fig = plt.figure()|crea una figura|\n",
    "| set_dpi   |fig.set_dpi(80)   |fija la resolucion|\n",
    "| set_size_inches|fig.set_size_inches(4, 4)| tamaño de la figura|\n",
    "| axes      |ax = plt.axes(xlim=(0, 40), ylim=(0, 40))| crea los  ejes de la imagen |\n",
    "|line       |linea = plt.Line2D((x1, x2), (y1, y2), lw=2.5)| Crea una linea|\n",
    "|  Poligon  |lin1 = plt.Polygon(point1, closed=None, fill=None, edgecolor='r', linewidth=2)| crea un poligono|\n",
    "|add_line   |ax.add_line(lin1)| Agrega lineas a una figura|\n",
    "|rectangle  |rec=Rectangle((x,y), ancho, largo, angulo,opciones)| Crea un rectangulo\n",
    "|add_path   | ax.add_patch(rex) | Agrega la forma a la imagen    |\n"
   ]
  },
  {
   "cell_type": "code",
   "execution_count": 11,
   "metadata": {
    "slideshow": {
     "slide_type": "slide"
    }
   },
   "outputs": [
    {
     "data": {
      "text/plain": [
       "<matplotlib.lines.Line2D at 0x1f2d1528310>"
      ]
     },
     "execution_count": 11,
     "metadata": {},
     "output_type": "execute_result"
    },
    {
     "data": {
      "image/png": "[encoded data removed]",
      "text/plain": [
       "<Figure size 320x320 with 1 Axes>"
      ]
     },
     "metadata": {
      "needs_background": "light"
     },
     "output_type": "display_data"
    }
   ],
   "source": [
    "from matplotlib import pyplot as plt\n",
    "from matplotlib import path\n",
    "fig = plt.figure()\n",
    "fig.set_dpi(80)\n",
    "fig.set_size_inches(4, 4)\n",
    "ax = plt.axes(xlim=(0, 10), ylim=(0, 10))\n",
    "circulo = plt.Circle((5, 5), 2, fc='blue')\n",
    "linea = plt.Line2D((1, 6),(3, 2), lw=4)\n",
    "rectangulo=plt.Rectangle((2,2),2,1,0,color=\"red\")\n",
    "ax.add_patch(circulo)\n",
    "ax.add_patch(rectangulo)\n",
    "ax.add_line(linea)"
   ]
  },
  {
   "cell_type": "markdown",
   "metadata": {
    "slideshow": {
     "slide_type": "slide"
    }
   },
   "source": [
    "### Libreria numpy \n",
    "\n",
    "Es una biblioteca de Python para trabajar con matrices y vectores.  El principal tipo de dato es el vector o matriz (arreglo o array). Permite trabajar con la semántica de matrices y ofrece muchas funciones útiles para el procesamiento de números. Esta libreria tiene definida las funciones seno y coseno. \n",
    "\n",
    "|Nombre \t|Sintaxis            |\tAcción|\n",
    "| :---      | :---               | :---  |\n",
    "| numpy     | import numpi as np |  carga la libreria numpy cada funcion debe comenzar con np. |\n",
    "| sin       | x=150*np.sin( ang) |  Función seno                                               |\n",
    "| cos       | y=150*np.cos(ang)  |  Función coseno                                             |\n",
    "|  pi       | a=np.pi            | Número pi                                                   |\n"
   ]
  },
  {
   "cell_type": "markdown",
   "metadata": {
    "slideshow": {
     "slide_type": "slide"
    }
   },
   "source": [
    "### Libreria optimize\n",
    "Permite resolver un sistema de ecuaciones\n",
    "\n",
    "|Nombre \t|Sintaxis              |\tAcción|\n",
    "| :---      | :---                 | :---  |\n",
    "|optimize  | from scipy.optimize import fsolve |carga la funcion folve de  optimize|\n",
    "| fsolve   | z=fsolve(coorde,[1,1],args=(x00,y00))| resuelve la ecuacion coorde|\n",
    "\n"
   ]
  },
  {
   "cell_type": "markdown",
   "metadata": {
    "slideshow": {
     "slide_type": "slide"
    }
   },
   "source": [
    "### Libreria ipywidget\n",
    "Es una biblioteca que permite agregar interactividad a Jupyter notebook.\n",
    "\n",
    "\n",
    "|Nombre      |Sintaxis                 |\tAcción|\n",
    "|:---        | :---                    | :---   |\n",
    "|ipywidgets  | import ipywidgets as wd | Carga la libreria ipywidgets cada funcion debe comenzar con wd. |\n",
    "| interact   | wd.interact( funcion,var1=(1,100),var2)=(1,100)|ejecuta en forma interactiva la funcion fun y sus variables var1 y var2 con valores entre 1 y 100 |\n"
   ]
  },
  {
   "cell_type": "markdown",
   "metadata": {
    "slideshow": {
     "slide_type": "slide"
    }
   },
   "source": [
    "### Simulación del movimiento\n",
    "En esta seccion se dibujara el brazo robot, se calculara la posición de los extremos del brazo. Se agregara interactividad."
   ]
  },
  {
   "cell_type": "markdown",
   "metadata": {
    "slideshow": {
     "slide_type": "slide"
    }
   },
   "source": [
    "### Dibujo del brazo 1\n",
    "El brazo tendra en principio dos segmentos como se muestra en la figura\n",
    "Se comenzara dibujando solos los segmentos del brazo. En el programa se muestra el mismo"
   ]
  },
  {
   "cell_type": "code",
   "execution_count": 4,
   "metadata": {
    "slideshow": {
     "slide_type": "slide"
    }
   },
   "outputs": [],
   "source": [
    "from matplotlib import pyplot as plt\n",
    "from matplotlib import path\n",
    "def dibujo():\n",
    "    fig = plt.figure()\n",
    "    fig.set_dpi(80)\n",
    "    fig.set_size_inches(4, 4)\n",
    "    ax = plt.axes(xlim=(0, 10), ylim=(0, 10))\n",
    "    linea1 = plt.Line2D((3, 5),(1 ,5), lw=4)\n",
    "    linea2 = plt.Line2D((5,8),(5 ,1), lw=4)\n",
    "    rectangulo=plt.Rectangle((2,0),2,1,0,color=\"red\")\n",
    "    ax.add_patch(rectangulo)\n",
    "    ax.add_line(linea1)\n",
    "    ax.add_line(linea2)"
   ]
  },
  {
   "cell_type": "code",
   "execution_count": 6,
   "metadata": {
    "slideshow": {
     "slide_type": "slide"
    }
   },
   "outputs": [
    {
     "data": {
      "image/png": "[encoded data removed]",
      "text/plain": [
       "<Figure size 320x320 with 1 Axes>"
      ]
     },
     "metadata": {
      "needs_background": "light"
     },
     "output_type": "display_data"
    }
   ],
   "source": [
    "dibujo()"
   ]
  },
  {
   "cell_type": "markdown",
   "metadata": {
    "slideshow": {
     "slide_type": "slide"
    }
   },
   "source": [
    "En la figura se muestra las cargas que debe soportar el motor del brazo fijo a la base roja.  Entonces se debera tratar de disminuir la carga sobre ese motor. Entonces se colocara el segundo motor sobre la base roja enfrentado al primero y  con un sistema de palanca se accionara el antebrazo.  \n",
    "\n"
   ]
  },
  {
   "cell_type": "markdown",
   "metadata": {
    "slideshow": {
     "slide_type": "slide"
    }
   },
   "source": [
    "#### 2.1.3 Simulacion del movimiento de un brazo robotico\n",
    "Se simulara en la PC las posiciones del brazo. Se utilizara la libreria numpy\n",
    "\n",
    "Se comenzara analizando el sistema sin la mano ni el sistema para mantenerla horizontal. Las ecuaciones ya deducidas son:\n",
    "  \n",
    "<center><b><i>x=a.$\\sin$(angs1)+a.$\\cos$(angs2))  </b></i></center>\n",
    "\n",
    "<center><b><i>y=a.$\\cos$(angs1)-a. $\\sin$(angs2))  </b></i></center>\n",
    "El programa se muestra en la siguiente seccion. Cambiando el valor de o1 y o2 se obtiene distintos puntos del extremo del brazo. Se supone que la distancia a es 150 mm\n"
   ]
  },
  {
   "cell_type": "code",
   "execution_count": 23,
   "metadata": {
    "slideshow": {
     "slide_type": "slide"
    }
   },
   "outputs": [
    {
     "name": "stdout",
     "output_type": "stream",
     "text": [
      "x=204.9038105676658 y=54.903810567665815\n",
      "\n"
     ]
    }
   ],
   "source": [
    "import numpy as np\n",
    "\n",
    "o1=30\n",
    "o2=30\n",
    "x=150*(np.sin(o1/180*np.pi)+np.cos(o2/180*np.pi))\n",
    "y=150*(np.cos(o1/180*np.pi)-np.sin(o2/180*np.pi))\n",
    "dd='x='+str(x)+' y='+str(y)+'\\n'\n",
    "print(dd)"
   ]
  },
  {
   "cell_type": "markdown",
   "metadata": {
    "slideshow": {
     "slide_type": "slide"
    }
   },
   "source": [
    "En el siguiente programa se simulara el movimiento del brazo robot utilizando la libreria matplot y numpy se debe modificar el valor de o1 y o2 para obtener las distintas posiciones del brazo.Se utilizan dos funciones. \n",
    "\n",
    "|Nombre      |sintaxis           |accion|\n",
    "|---         |---                |---   |\n",
    "|coordenadas |coordenadas(o1,o2) | Devuelve en el vector x e ylas posiciones de cada uno de los segmentos|\n",
    "|dibujo_brazo|dibujo_brazo(o1,o2)| Dibuja el brazo robot                                                 |"
   ]
  },
  {
   "cell_type": "markdown",
   "metadata": {
    "slideshow": {
     "slide_type": "-"
    }
   },
   "source": [
    "## Funcion coordenada"
   ]
  },
  {
   "cell_type": "code",
   "execution_count": 4,
   "metadata": {
    "slideshow": {
     "slide_type": "slide"
    }
   },
   "outputs": [],
   "source": [
    "import numpy as np\n",
    "def coordenadas(o1,o2):\n",
    "    a=15\n",
    "    b=5\n",
    "    d=7\n",
    "    o3=30\n",
    "    x=np.empty((6))\n",
    "    y=np.empty((6))\n",
    "    x[0]=8\n",
    "    y[0]=1\n",
    "    x[1]=x[0]+a*np.cos((180-o1)/180*np.pi)\n",
    "    y[1]=y[0]+a*np.sin((180-o1)/180*np.pi)\n",
    "\n",
    "    x[2]=x[1]+a*np.cos((180-o2)/180*np.pi)\n",
    "    y[2]=y[1]-a*np.sin((180-o2)/180*np.pi)\n",
    "\n",
    "    x[3]=x[1]-b*np.cos((180-o2)/180*np.pi)\n",
    "    y[3]=y[1]+b*np.sin((180-o2)/180*np.pi)\n",
    "\n",
    "    x[4]=x[0]-b*np.cos((180-o2)/180*np.pi)\n",
    "    y[4]=y[0]+b*np.sin((180-o2)/180*np.pi)\n",
    "\n",
    "    x[5]=x[0]-0.01\n",
    "    y[5]=y[0]\n",
    "\n",
    "    x6=x[0]-d*np.cos(o3/180*np.pi)\n",
    "    y6=y[0]-d*np.sin(o3/180*np.pi)\n",
    "    x7=x[1]-d*np.cos(o3/180*np.pi)\n",
    "    y7=y[1]+d*np.sin(o3/180*np.pi)\n",
    "\n",
    "    x8=x[1]\n",
    "    y8=y[1]+d*np.sin(o3/180*np.pi)\n",
    "\n",
    "    x9=x[2]\n",
    "    y9=y[2]+d*np.sin(o3/180*np.pi)\n",
    "\n",
    "    x10=x[2]+4\n",
    "    y10=y[2]\n",
    "    return(x,y)\n",
    "\n"
   ]
  },
  {
   "cell_type": "markdown",
   "metadata": {},
   "source": [
    "### Función dibujo_brazo"
   ]
  },
  {
   "cell_type": "code",
   "execution_count": 5,
   "metadata": {
    "slideshow": {
     "slide_type": "-"
    }
   },
   "outputs": [],
   "source": [
    "\n",
    "from matplotlib import pyplot as plt\n",
    "from matplotlib import path\n",
    "def dibujo_brazo(o1,o2):\n",
    "    fig = plt.figure()\n",
    "    fig.set_dpi(80)\n",
    "    fig.set_size_inches(6, 6)\n",
    "    ax = plt.axes(xlim=(0, 40), ylim=(-20, 20))\n",
    "    [x,y]=coordenadas(o1,o2)\n",
    "    point1 = [[x[0], y[0]], [x[1],y[1] ]]\n",
    "    point2 = [[x[2], y[2]], [x[3],y[3] ]]\n",
    "    point3 = [[x[3], y[3]], [x[4],y[4]], [x[5],y[5] ]]\n",
    "    lin1 = plt.Polygon(point1, closed=None, fill=None, edgecolor='b', linewidth=4)\n",
    "    lin2 = plt.Polygon(point2, closed=None, fill=None, edgecolor='g', linewidth=4)\n",
    "    lin3 = plt.Polygon(point3, closed=None, fill=None, edgecolor='black', linewidth=2)\n",
    "    rectangulo=plt.Rectangle((4,0),8,1,0,color=\"red\")\n",
    "    ax.add_line(lin1)\n",
    "    ax.add_line(lin2)\n",
    "    ax.add_line(lin3)\n",
    "    ax.add_patch(rectangulo)\n",
    "    return(x[2],y[2])"
   ]
  },
  {
   "cell_type": "code",
   "execution_count": 6,
   "metadata": {
    "slideshow": {
     "slide_type": "slide"
    }
   },
   "outputs": [
    {
     "data": {
      "text/plain": [
       "(23.000000000000004, 1.0)"
      ]
     },
     "execution_count": 6,
     "metadata": {},
     "output_type": "execute_result"
    },
    {
     "data": {
      "image/png": "[encoded data removed]",
      "text/plain": [
       "<Figure size 480x480 with 1 Axes>"
      ]
     },
     "metadata": {
      "needs_background": "light"
     },
     "output_type": "display_data"
    }
   ],
   "source": [
    "dibujo_brazo(120,120)"
   ]
  },
  {
   "cell_type": "markdown",
   "metadata": {
    "slideshow": {
     "slide_type": "slide"
    }
   },
   "source": [
    " Se utilizara la sentencia interact para poder modificar los angulos sin necesidad de modificar el programa. Se agrega la libreria ipywidgets que tiene la funcion interacts que permite modificar variables\n",
    "\n",
    "\n",
    "\n",
    "\n"
   ]
  },
  {
   "cell_type": "code",
   "execution_count": 7,
   "metadata": {
    "slideshow": {
     "slide_type": "slide"
    }
   },
   "outputs": [
    {
     "data": {
      "application/vnd.jupyter.widget-view+json": {
       "model_id": "7139c5b4c1ce4154a3a929586c833f93",
       "version_major": 2,
       "version_minor": 0
      },
      "text/plain": [
       "interactive(children=(IntSlider(value=135, description='o1', max=180, min=90), IntSlider(value=135, descriptio…"
      ]
     },
     "metadata": {},
     "output_type": "display_data"
    },
    {
     "data": {
      "text/plain": [
       "<function __main__.dibujo_brazo(o1, o2)>"
      ]
     },
     "execution_count": 7,
     "metadata": {},
     "output_type": "execute_result"
    }
   ],
   "source": [
    "from ipywidgets import interact, interactive, fixed, interact_manual\n",
    "import ipywidgets as wd\n",
    "\n",
    "interact (dibujo_brazo, o1=(90,180),o2=(90,180))"
   ]
  },
  {
   "cell_type": "markdown",
   "metadata": {
    "slideshow": {
     "slide_type": "slide"
    }
   },
   "source": [
    "###  2.2 Cinematica inversa\n",
    "\n",
    " Cinemática inversa es la técnica que permite determinar el movimiento de un robot para lograr que una parte del mismo se ubique en una posición concreta. "
   ]
  },
  {
   "cell_type": "markdown",
   "metadata": {
    "slideshow": {
     "slide_type": "slide"
    }
   },
   "source": [
    "El brazo robotico debe poder ubicar la mano en una posicion determinada. Se debe determinar los valores de los angulos o1=ang1, o2=ang2 en funcion de las posiciones x2 e y2 del extremo de la mano del robot. \n",
    "\n",
    "Matematicamente significa que se debe resolver el sistema de ecuaciones obtenido. \n",
    "<img src=\"img/brazo_geo1.gif\" alt=\"Imagen\" width=\"300\" height=\"300\">Brazo</img> "
   ]
  },
  {
   "cell_type": "markdown",
   "metadata": {},
   "source": [
    "La posicion de este punto esta descripto en las siguientes ecuaciones:\n",
    "\n",
    "|                                                         |\n",
    "|:---                                                     |\n",
    "| $ x=x0+a.cos(\\frac{180-o1}{180}.\\pi)+a.cos(\\frac{180-o2}{180}\\pi) $ |  \n",
    "| $ y=y0+a.sin(\\frac{180-o1}{180}.\\pi)-a.sin(\\frac{180-o2}{180}\\pi)$ |  \n"
   ]
  },
  {
   "cell_type": "markdown",
   "metadata": {
    "slideshow": {
     "slide_type": "slide"
    }
   },
   "source": [
    "\n",
    "Este sistema de ecuaciones se resolvera utiizando un metodo aproximado. En ese sentido se usa la libreria *__optimize__* para resolver las ecuaciones y la libreria *__numpy__* donde esta definida las funciones *__seno__* y *__coseno__* \n",
    "\n",
    "| Funcion     | libreria      |   sintaxis      | acciones                         |\n",
    "|:---         | :---          | :---            | :---                             |\n",
    "| seno        |  numpy        | _x=np.sin_      |  calcula el seno de una funcion  |\n",
    "| coseno      |  numpy        | _x=np.sin_      |  calcula el coseno de una funcion|\n",
    "| fsolve      | scipy.optimize| _z=fsolve(coorde,[1,1],args=(x00,y00))_| resuelve la ecuacion coorde|\n",
    "\n"
   ]
  },
  {
   "cell_type": "markdown",
   "metadata": {
    "slideshow": {
     "slide_type": "slide"
    }
   },
   "source": [
    "### Solución\n",
    "\n",
    "Se resuelve el sistema de ecuaciones, en una funcion en este caso *__coorde__* para lo cual se debe proponer una primera solución en este caso (0,0) y finalmente los valores x00 y y00. Modificando los mismos se obtiene los angulos que definen la posicion del brazo."
   ]
  },
  {
   "cell_type": "code",
   "execution_count": 7,
   "metadata": {
    "slideshow": {
     "slide_type": "slide"
    }
   },
   "outputs": [
    {
     "name": "stdout",
     "output_type": "stream",
     "text": [
      "[120. 120.]\n"
     ]
    }
   ],
   "source": [
    "import numpy as np\n",
    "from scipy.optimize import fsolve\n",
    "\n",
    "def coorde(z,x00,y00):\n",
    "    o1=z[0]\n",
    "    o2=z[1]\n",
    "    F=np.empty((2))\n",
    "    F[0]=150*(np.cos((180-o1)/180*np.pi)+np.cos((180-o2)/180*np.pi))-x00\n",
    "    F[1]=150*(np.sin((180-o1)/180*np.pi)-np.sin((180-o2)/180*np.pi))-y00\n",
    "    return F\n"
   ]
  },
  {
   "cell_type": "code",
   "execution_count": null,
   "metadata": {
    "slideshow": {
     "slide_type": "slide"
    }
   },
   "outputs": [],
   "source": [
    "x00=150.0\n",
    "y00=0.0\n",
    "z = fsolve(coorde,[1,1],args=(x00,y00))\n",
    "print(z)"
   ]
  },
  {
   "cell_type": "markdown",
   "metadata": {
    "slideshow": {
     "slide_type": "slide"
    }
   },
   "source": [
    "## 3. Dinamica del robot\n",
    "Esta sección estaa en construcción"
   ]
  },
  {
   "cell_type": "markdown",
   "metadata": {
    "slideshow": {
     "slide_type": "slide"
    }
   },
   "source": [
    "## 4. Diseño mecanicas del robot\n",
    "\n",
    "Para construir el brazo se utilizara como material carton, este material es muy liviano y se puede hacer rigido, para unir las piezas movibles se utiliza remaches pop, los cuales deben ser desarmados para utilizar los mismos como bujes. En la figura se muestra el brazo terminado. Se usa este material por su bajo precio lo que permite experimentar con distintas posibilidades.\n",
    "\n",
    "<img src=\"img/brazo_robot.jpg\" width=\"300\" height=\"300\" > </img>\n",
    "\n",
    "Para comenzar a armar el brazo se debe construir dos rectangulos de carton de 16 cm de largo y 1 cm de ancho. Los cuales deben tener dos orificios en el medio separados entre si 15 cm y un apoyo de carton de 5.5 x 3 cm  que debe tener la cabeza de un remache pop como se muestra en la figura.\n",
    "\n",
    "<img src=\"img/WhatsApp%20Image%202020-12-10%20at%205.34.09%20PM.jpeg\" width=\"300\" height=\"300\"></img>\n",
    "Se deben unir los dos rectangulos con el apoyo utilizando el remache como se muestra en la figura\n",
    "<img src=\"img/WhatsApp%20Image%202020-12-10%20at%205.42.31%20PM.jpeg\" width=\"300\" height=\"300\"></img>\n",
    "\n",
    "Se colocan separadores de carton\n",
    "<img src=\"img/WhatsApp%20Image%202020-12-10%20at%205.42.45%20PM.jpeg\"  width=\"300\" height=\"300\"></img>\n",
    "\n",
    "Se construye un rectangulo de 21 cm de largo y 1 cm de ancho con tres orificios alineados en el medio, uno a 0,5 cm el siguiente con un remache en el orifico ubicado a 15.5 cm y finalmente otro a 20 cm com se muestra en la figura.\n",
    "<img src=\"img/WhatsApp%20Image%202020-12-10%20at%205.44.07%20PM.jpeg\"  width=\"300\" height=\"300\"></img>\n",
    "\n",
    "Se conecta a las piezas anteriores como se muestraa en la figura\n",
    "<img src=\"img/WhatsApp%20Image%202020-12-10%20at%205.44.52%20PM.jpeg\"  width=\"300\" height=\"300\"></img>\n",
    "Se construye una base de 10 x 10 cm se realiza un agujero de 2cm por 3mm exactamente en el medio. Se coloca la pieza armada en la base como se muestra en la figura.\n",
    "<img src=\"img/WhatsApp%20Image%202020-12-10%20at%206.03.06%20PM.jpeg\" width=\"300\" height=\"300\"  width=\"300\" height=\"300\"></img>\n",
    "Finalmente el brazo queda asi\n",
    "<img src=\"img/WhatsApp%20Image%202020-12-10%20at%206.03.37%20PM.jpeg\" width=\"300\" height=\"300\"></img>\n",
    "Sobre la pieza que corresponde al brazo se pega con silicona el brazo del servomotor\n",
    "<img src=\"img/WhatsApp%20Image%202020-12-10%20at%206.30.21%20PM.jpeg\" width=\"300\" height=\"300\"></img>\n",
    "se deben realizar un rectangulo de 6cm de largo por uno de ancho con dos orificis centrados a 5 cm uno del otro. Otro rectangulo de 16cm x1 cm con dos orificios centrados separados entre si 15 cm. Se deben conectar entre si con el extremo libre del rectangulo de 20 cm. y colocar un brazo del servo al extremo libre del rectangulo de 5 cm.\n",
    "<img src=\"img/WhatsApp%20Image%202020-12-10%20at%206.59.04%20PM.jpeg\" width=\"300\" height=\"300\"></img>\n",
    "Se debe pegar los servos quedando el brazo robotico como la figura\n",
    "<img src=\"img/brazo_robot.jpg\" width=\"300\" height=\"300\"></img>  \n",
    "Las medidas de algunas piezas se muestran en la figura.\n",
    "<img src=\"img/robot_med.gif\" width=\"300\" height=\"300\"></img>\n"
   ]
  },
  {
   "cell_type": "markdown",
   "metadata": {
    "slideshow": {
     "slide_type": "skip"
    }
   },
   "source": [
    "### Fuerzas que intervinen en el brazo"
   ]
  },
  {
   "cell_type": "code",
   "execution_count": 16,
   "metadata": {
    "slideshow": {
     "slide_type": "skip"
    }
   },
   "outputs": [
    {
     "data": {
      "text/plain": [
       "<matplotlib.lines.Line2D at 0x1f2d16feac0>"
      ]
     },
     "execution_count": 16,
     "metadata": {},
     "output_type": "execute_result"
    },
    {
     "data": {
      "image/png": "[encoded data removed]",
      "text/plain": [
       "<Figure size 320x320 with 1 Axes>"
      ]
     },
     "metadata": {
      "needs_background": "light"
     },
     "output_type": "display_data"
    }
   ],
   "source": [
    "from matplotlib import pyplot as plt\n",
    "from matplotlib import path\n",
    "fig = plt.figure()\n",
    "fig.set_dpi(80)\n",
    "fig.set_size_inches(4, 4)\n",
    "ax = plt.axes(xlim=(0, 10), ylim=(0, 10))\n",
    "linea1 = plt.Line2D((3, 5),(1 ,5), lw=4)\n",
    "linea2 = plt.Line2D((5,8),(5 ,1), lw=4)\n",
    "flecha1= plt.Arrow(5,5,0,-1,width=1,color=\"black\")\n",
    "flecha2= plt.Arrow(8,1,0,-1,width=1,color=\"black\")\n",
    "flecha3= plt.Arrow(6.5,3,0,-0.5,width=1,color=\"black\")\n",
    "flecha4= plt.Arrow(4,3,0,-0.5,width=1,color=\"black\")\n",
    "\n",
    "\n",
    "rectangulo=plt.Rectangle((2,0),2,1,0,color=\"red\")\n",
    "ax.add_patch(rectangulo)\n",
    "ax.add_patch(flecha1)\n",
    "ax.add_patch(flecha2)\n",
    "ax.add_patch(flecha3)\n",
    "ax.add_patch(flecha4)\n",
    "ax.add_line(linea1)\n",
    "ax.add_line(linea2)"
   ]
  },
  {
   "cell_type": "markdown",
   "metadata": {
    "slideshow": {
     "slide_type": "slide"
    }
   },
   "source": [
    "### 5. Diseño y construcción de las partes electromecanicas y electronicas del brazo robot\n",
    "\n",
    "Se detallan los componentes necesarios para la cosntrucción del robot"
   ]
  },
  {
   "cell_type": "markdown",
   "metadata": {
    "slideshow": {
     "slide_type": "slide"
    }
   },
   "source": [
    "#### arduino uno \n",
    "\n",
    "<img src=\"img/arduinouno.jpg\" width=\"300\" height=\"300\" alt=\"Imagen\"></img>"
   ]
  },
  {
   "cell_type": "markdown",
   "metadata": {
    "slideshow": {
     "slide_type": "slide"
    }
   },
   "source": [
    "#### Protoboard   \n",
    "\n",
    "<img src=\"img/protoboard.jpg\" width=\"300\" height=\"300\" alt=\"Imagen\"></img>"
   ]
  },
  {
   "cell_type": "markdown",
   "metadata": {
    "slideshow": {
     "slide_type": "slide"
    }
   },
   "source": [
    "#### servo\n",
    "\n",
    "<img src=\"img/servomotor.jpg\" width=\"300\" height=\"300\" alt=\"Imagen\"></img>"
   ]
  },
  {
   "cell_type": "markdown",
   "metadata": {
    "slideshow": {
     "slide_type": "slide"
    }
   },
   "source": [
    "#### cables       \n",
    "\n",
    "<img src=\"img/cable_dupont.jpg\" width=\"300\" height=\"300\" alt=\"Imagen\"></img>"
   ]
  },
  {
   "cell_type": "markdown",
   "metadata": {},
   "source": [
    "Se deben conectar dos servomotores al arduino uno. Cada servo tiene tres cables, en general la distribucion de cables es la mostrada en la tabla.  \n",
    "\n",
    "|Color | Funcion |\n",
    "| :--- | :---    |\n",
    "|Rojo  |  vcc    |\n",
    "|Negro |  Gnd    |\n",
    "|Amarillo/| Control|\n",
    "|naranja  |        |\n"
   ]
  },
  {
   "cell_type": "markdown",
   "metadata": {
    "slideshow": {
     "slide_type": "slide"
    }
   },
   "source": [
    "Utilizando los cables dupont Se conectan las masas (gnd) de los servomotores a la linea azul del protoboard, los cables vcc a la linea roja. Alguno de los pines de masa (gnd) del arduino a la linea azul y los cables naranja segun la tabla.  \n",
    "\n",
    "|Servomotor | Pin     |\n",
    "| :---      | :---    |\n",
    "| Brazo     |   |0    |\n",
    "|Antebrazo  |   11    |"
   ]
  },
  {
   "cell_type": "markdown",
   "metadata": {
    "slideshow": {
     "slide_type": "slide"
    }
   },
   "source": [
    "<img src=\"img/brazo_elec.png\" width=\"300\" height=\"300\"></img>]"
   ]
  },
  {
   "cell_type": "markdown",
   "metadata": {
    "slideshow": {
     "slide_type": "slide"
    }
   },
   "source": [
    "\n",
    " En este video se muestran detalles del funcionamiento del servomotor\n",
    " \n",
    "[Servomotores](https://youtu.be/mk9UkQCeENc)"
   ]
  },
  {
   "cell_type": "markdown",
   "metadata": {
    "slideshow": {
     "slide_type": "slide"
    }
   },
   "source": [
    "La posicion de reposo de los servomotores es 90°  \n",
    "En las figuras se muestra el circuito construido.  \n",
    "\n",
    "|         |                    |\n",
    "|:---                | :---                         |\n",
    "|<img src=\"img/WhatsApp%20Image%202020-12-10%20at%207.08.04%20PM.jpeg\" width=\"300\" height=\"300\"></img>| <img src=\"img/WhatsApp%20Image%202020-12-10%20at%207.10.13%20PM.jpeg\" width=\"300\" height=\"300\"></img>|\n",
    "\n",
    "\n",
    "\n"
   ]
  },
  {
   "cell_type": "code",
   "execution_count": null,
   "metadata": {},
   "outputs": [],
   "source": []
  },
  {
   "cell_type": "markdown",
   "metadata": {
    "slideshow": {
     "slide_type": "slide"
    }
   },
   "source": [
    "## 6. Programacion\n",
    "La programación del robot en este caso tiene dos partes\n",
    "- Firmware: La programación del microcontrolador\n",
    "- Software: La programación del la PC\n",
    "\n",
    "El microcontrolador y la PC en este caso se comunican a traves del puerto serie. Lo que permitira posteriormente utilizar el puerto bluetooth. Se debe realizar un protocolo que permita comunicar ambas partes del robot. \n",
    "\n",
    "El protocolo propuesto seria\n",
    "\n",
    "|Identificador   |  Número    |   angulo  | accion |\n",
    "|:---            | :---       | :---      | :---   |\n",
    "|o               |   1        | 012       | ubicar al servomotor brazo en el angulo 12 grados|\n",
    "|                |   2        | 098       | ubicar al servomotor antebrazo en el angulo 98 grados|\n",
    "\n",
    "Se debe completar con zeros hasta conseguir las tres cifras por ejemplo 1 se debe poner 001\n"
   ]
  },
  {
   "cell_type": "markdown",
   "metadata": {
    "slideshow": {
     "slide_type": "slide"
    }
   },
   "source": [
    "### 6.1 Programacion del microcontrolador (firmware)\n",
    "\n",
    "El microcontrolador se encargara de controlar los servo motores, en este caso se utilizaran los puertos 10 y 11 como se indico en la seccion 5. y se comunicara con el PC a traves del puerto serie.\n"
   ]
  },
  {
   "cell_type": "markdown",
   "metadata": {
    "slideshow": {
     "slide_type": "slide"
    }
   },
   "source": [
    "\n",
    "#### 6.1.1 Programa para control de un servomotor\n",
    "\n",
    "En esta seccion presentamos un programa sencillo para controlar un servomotor.\n",
    "\n",
    "| Codigo          |            |\n",
    "|  :---           | :---       |\n",
    "|include Servo.h  |            |\n",
    "|Servo brazo;     |            |\n",
    "|void setup()     |            |\n",
    "|                 |{           |\n",
    "|                 |}           |\n",
    "|void loop() {    |            |\n",
    "|                 |int i; |\n",
    "|                 |brazo.attach(11);   //brazo esta conectado ala pata 11   |\n",
    "|                 |delay(10);    |\n",
    "|                 |brazo.write(50);   |\n",
    "|                 |delay(2000);  |\n",
    "|                 |brazo.write(90);  |\n",
    "|                 |delay(2000);   |\n",
    "|                 |while (1)  { |\n",
    "|                 | brazo.detach();  |\n",
    "|                 |}                 |\n",
    "|}                |                  |\n",
    "\n",
    "    \n",
    "Se comienza cargando la libreria servo con la sentencia **#include <Servo.h>**\n",
    "\n",
    "Luego se crea el objeto servo a partir del cual se utiliza el servomotor por el microcontrolador la sentencia es **Servo nombre_servo**\n",
    "\n",
    "Para informar a que pin del micrcontrolador se conecta e utiliza la sentencia attach donde se debe escribire el mumero de pin donde se conectara el servomotor  **nombre_servo.attach(numero)**\n",
    "\n",
    "Utilizando la sentencia write se ordena al servo el angulo en el cual se debe ubicar, la sentencia se muestra a continuacion\n",
    "**nombre_servo.write(90)**\n",
    "\n",
    "Finalmente la sentencia detach desconecta el servomotor **brazo.detach()**"
   ]
  },
  {
   "cell_type": "markdown",
   "metadata": {
    "slideshow": {
     "slide_type": "slide"
    }
   },
   "source": [
    "#### 6.1.2 Programa para controlar dos servomotores utilizando la  Puerto Serie\n",
    "\n",
    "Un Puerto Serie (también denominado Puerto Serial) es la interfaz (conexión física y funcional entre dos dispositivos o sistemas) que posibilita el envío de información digital y a su vez también permite recibirla. En este caso se conecta el puerto serie del microcontrolador con el puerto serie de la PC donde se encuentra nuestro programa. Se debe destacar que el arduino utiliza para conectarse con una PC el puerto USB  configurado como puerto serie.\n",
    "\n",
    "Se presenta un programa que permita controlar dos servomotores utilizando la puerta serie\n",
    "\n",
    "| codigo       |                               |    \n",
    "| :---         | :----          | \n",
    "|#include <Servo.h>|                               |\n",
    "| | |//libreria donde encuentra la clase  |                  \n",
    "|Servo brazo;  |                               |\n",
    "|Servo antebrazo;|                               | \n",
    "|int ang_brazo = 90;|      |                               |\n",
    "|int ang_antebrazo = 90;  |                               |\n",
    "|void setup() {|                               |\n",
    "|Serial.begin(9600);|\n",
    "|}               |                |\n",
    "|void loop() { |                |                |\n",
    "|int i;          |              | \n",
    "|char a;         |              |  \n",
    "|String cad;     |            | \n",
    "|char control[5];|                                            \n",
    "| int valor;     |                               \n",
    "|brazo.attach(10);|\n",
    "|//brazo esta conectado al pin 11  |                     \n",
    "|antebrazo.attach(11);|\n",
    "|//antebrazo esta conectado al pin 10  |                 \n",
    "|if (Serial.available() > 0){|\n",
    "|//Pregunta si hay datos en el buffer del puerto serie |                                 |\n",
    "|Serial.readBytes(control, 5); |\n",
    "|//lee 5 byte de la puerta serie en control |             |                              |\n",
    "|if (control[0] == 'o'){|                  |                | \n",
    "| Serial.print(control);|  \n",
    "|if (control[1] == '1') {|  \n",
    "|        cad = \"\";  |\n",
    "|cad = cad+control[2] + control[3] + control[4];|    \n",
    "|        valor = cad.toInt();// convierte el valor medido a entero|  \n",
    "|        brazo.write(valor);  //escribe en el servo  |\n",
    "|      }  |\n",
    "|      if (control[1] == '2') | \n",
    "|      {  |\n",
    "|        cad = \"\";|  \n",
    "|        cad = cad+control[2] + control[3] + control[4];|  \n",
    "|        valor = cad.toInt();  |\n",
    "|        antebrazo.write(valor);|  \n",
    "|      }  |\n",
    "|    }  |\n",
    "|  }  |\n",
    "|}  |\n"
   ]
  },
  {
   "cell_type": "markdown",
   "metadata": {
    "slideshow": {
     "slide_type": "slide"
    }
   },
   "source": [
    "### 6.2 Programacion de la PC\n",
    "\n"
   ]
  },
  {
   "cell_type": "markdown",
   "metadata": {
    "slideshow": {
     "slide_type": "slide"
    }
   },
   "source": [
    "#### 6.2.1 Puerta Serie en Jupyter notebook\n",
    "\n",
    "Se utiliza la libreria serial, se describen algunas funciones de la libreria.  \n",
    "\n",
    "| Funcion     |    sintaxis        | acciones                                    |\n",
    "|:---         |  :---               | :---                                       |\n",
    "| serial      | import serial as se | habilita las funciones del puerto serie    |              \n",
    "|Serial       | ser=se.Serial(COM1) |selecciona el puerto COM1 su nombre sera se |\n",
    "|close        |  ser.close()        | cierra la conexion serie                   |\n",
    "|write        |  ser.write(b'o1120')| Escribe en el puerto la palabra o11120     |\n",
    "|             |                     | se agrega la b para indicar que es un ascii|\n",
    "|read         | a=ser.read()        | Función que lee un caracter                |\n",
    "|             | a=ser.read(3)       | Función que lee tres caracteres            |\n",
    "|readline     | a=ser.readline()    | Función que lee una linea completa         |\n",
    "|flush        | ser.flush()         | Función que se utiliza para vaciar el buffer|\n",
    "|             |                     | del puerto serie                            |\n"
   ]
  },
  {
   "cell_type": "markdown",
   "metadata": {
    "slideshow": {
     "slide_type": "slide"
    }
   },
   "source": [
    "### Movimiento del Brazo robot\n",
    "\n",
    "Un programa de control a traves de la PC debe:\n",
    "1. Conectar el puerto serie\n",
    "2. Enviar las ordenes\n",
    "3. Desconectar el puerto serie\n",
    "\n",
    "#### Conectar el puerto serie"
   ]
  },
  {
   "cell_type": "code",
   "execution_count": 8,
   "metadata": {
    "slideshow": {
     "slide_type": "slide"
    }
   },
   "outputs": [
    {
     "ename": "SerialException",
     "evalue": "could not open port 'COM4': PermissionError(13, 'Acceso denegado.', None, 5)",
     "output_type": "error",
     "traceback": [
      "\u001b[1;31m---------------------------------------------------------------------------\u001b[0m",
      "\u001b[1;31mSerialException\u001b[0m                           Traceback (most recent call last)",
      "\u001b[1;32m<ipython-input-8-37daeb5c0dd0>\u001b[0m in \u001b[0;36m<module>\u001b[1;34m\u001b[0m\n\u001b[0;32m      1\u001b[0m \u001b[1;32mimport\u001b[0m \u001b[0mserial\u001b[0m \u001b[1;32mas\u001b[0m \u001b[0mse\u001b[0m\u001b[1;33m\u001b[0m\u001b[1;33m\u001b[0m\u001b[0m\n\u001b[1;32m----> 2\u001b[1;33m \u001b[0mser\u001b[0m\u001b[1;33m=\u001b[0m\u001b[0mse\u001b[0m\u001b[1;33m.\u001b[0m\u001b[0mSerial\u001b[0m\u001b[1;33m(\u001b[0m\u001b[1;34m'COM4'\u001b[0m\u001b[1;33m)\u001b[0m\u001b[1;33m\u001b[0m\u001b[1;33m\u001b[0m\u001b[0m\n\u001b[0m",
      "\u001b[1;32m~\\anaconda3\\lib\\site-packages\\serial\\serialwin32.py\u001b[0m in \u001b[0;36m__init__\u001b[1;34m(self, *args, **kwargs)\u001b[0m\n\u001b[0;32m     31\u001b[0m         \u001b[0mself\u001b[0m\u001b[1;33m.\u001b[0m\u001b[0m_overlapped_read\u001b[0m \u001b[1;33m=\u001b[0m \u001b[1;32mNone\u001b[0m\u001b[1;33m\u001b[0m\u001b[1;33m\u001b[0m\u001b[0m\n\u001b[0;32m     32\u001b[0m         \u001b[0mself\u001b[0m\u001b[1;33m.\u001b[0m\u001b[0m_overlapped_write\u001b[0m \u001b[1;33m=\u001b[0m \u001b[1;32mNone\u001b[0m\u001b[1;33m\u001b[0m\u001b[1;33m\u001b[0m\u001b[0m\n\u001b[1;32m---> 33\u001b[1;33m         \u001b[0msuper\u001b[0m\u001b[1;33m(\u001b[0m\u001b[0mSerial\u001b[0m\u001b[1;33m,\u001b[0m \u001b[0mself\u001b[0m\u001b[1;33m)\u001b[0m\u001b[1;33m.\u001b[0m\u001b[0m__init__\u001b[0m\u001b[1;33m(\u001b[0m\u001b[1;33m*\u001b[0m\u001b[0margs\u001b[0m\u001b[1;33m,\u001b[0m \u001b[1;33m**\u001b[0m\u001b[0mkwargs\u001b[0m\u001b[1;33m)\u001b[0m\u001b[1;33m\u001b[0m\u001b[1;33m\u001b[0m\u001b[0m\n\u001b[0m\u001b[0;32m     34\u001b[0m \u001b[1;33m\u001b[0m\u001b[0m\n\u001b[0;32m     35\u001b[0m     \u001b[1;32mdef\u001b[0m \u001b[0mopen\u001b[0m\u001b[1;33m(\u001b[0m\u001b[0mself\u001b[0m\u001b[1;33m)\u001b[0m\u001b[1;33m:\u001b[0m\u001b[1;33m\u001b[0m\u001b[1;33m\u001b[0m\u001b[0m\n",
      "\u001b[1;32m~\\anaconda3\\lib\\site-packages\\serial\\serialutil.py\u001b[0m in \u001b[0;36m__init__\u001b[1;34m(self, port, baudrate, bytesize, parity, stopbits, timeout, xonxoff, rtscts, write_timeout, dsrdtr, inter_byte_timeout, exclusive, **kwargs)\u001b[0m\n\u001b[0;32m    242\u001b[0m \u001b[1;33m\u001b[0m\u001b[0m\n\u001b[0;32m    243\u001b[0m         \u001b[1;32mif\u001b[0m \u001b[0mport\u001b[0m \u001b[1;32mis\u001b[0m \u001b[1;32mnot\u001b[0m \u001b[1;32mNone\u001b[0m\u001b[1;33m:\u001b[0m\u001b[1;33m\u001b[0m\u001b[1;33m\u001b[0m\u001b[0m\n\u001b[1;32m--> 244\u001b[1;33m             \u001b[0mself\u001b[0m\u001b[1;33m.\u001b[0m\u001b[0mopen\u001b[0m\u001b[1;33m(\u001b[0m\u001b[1;33m)\u001b[0m\u001b[1;33m\u001b[0m\u001b[1;33m\u001b[0m\u001b[0m\n\u001b[0m\u001b[0;32m    245\u001b[0m \u001b[1;33m\u001b[0m\u001b[0m\n\u001b[0;32m    246\u001b[0m     \u001b[1;31m#  -  -  -  -  -  -  -  -  -  -  -  -  -  -  -  -  -  -  -  -  -  -  -  -\u001b[0m\u001b[1;33m\u001b[0m\u001b[1;33m\u001b[0m\u001b[1;33m\u001b[0m\u001b[0m\n",
      "\u001b[1;32m~\\anaconda3\\lib\\site-packages\\serial\\serialwin32.py\u001b[0m in \u001b[0;36mopen\u001b[1;34m(self)\u001b[0m\n\u001b[0;32m     62\u001b[0m         \u001b[1;32mif\u001b[0m \u001b[0mself\u001b[0m\u001b[1;33m.\u001b[0m\u001b[0m_port_handle\u001b[0m \u001b[1;33m==\u001b[0m \u001b[0mwin32\u001b[0m\u001b[1;33m.\u001b[0m\u001b[0mINVALID_HANDLE_VALUE\u001b[0m\u001b[1;33m:\u001b[0m\u001b[1;33m\u001b[0m\u001b[1;33m\u001b[0m\u001b[0m\n\u001b[0;32m     63\u001b[0m             \u001b[0mself\u001b[0m\u001b[1;33m.\u001b[0m\u001b[0m_port_handle\u001b[0m \u001b[1;33m=\u001b[0m \u001b[1;32mNone\u001b[0m    \u001b[1;31m# 'cause __del__ is called anyway\u001b[0m\u001b[1;33m\u001b[0m\u001b[1;33m\u001b[0m\u001b[0m\n\u001b[1;32m---> 64\u001b[1;33m             \u001b[1;32mraise\u001b[0m \u001b[0mSerialException\u001b[0m\u001b[1;33m(\u001b[0m\u001b[1;34m\"could not open port {!r}: {!r}\"\u001b[0m\u001b[1;33m.\u001b[0m\u001b[0mformat\u001b[0m\u001b[1;33m(\u001b[0m\u001b[0mself\u001b[0m\u001b[1;33m.\u001b[0m\u001b[0mportstr\u001b[0m\u001b[1;33m,\u001b[0m \u001b[0mctypes\u001b[0m\u001b[1;33m.\u001b[0m\u001b[0mWinError\u001b[0m\u001b[1;33m(\u001b[0m\u001b[1;33m)\u001b[0m\u001b[1;33m)\u001b[0m\u001b[1;33m)\u001b[0m\u001b[1;33m\u001b[0m\u001b[1;33m\u001b[0m\u001b[0m\n\u001b[0m\u001b[0;32m     65\u001b[0m \u001b[1;33m\u001b[0m\u001b[0m\n\u001b[0;32m     66\u001b[0m         \u001b[1;32mtry\u001b[0m\u001b[1;33m:\u001b[0m\u001b[1;33m\u001b[0m\u001b[1;33m\u001b[0m\u001b[0m\n",
      "\u001b[1;31mSerialException\u001b[0m: could not open port 'COM4': PermissionError(13, 'Acceso denegado.', None, 5)"
     ]
    }
   ],
   "source": [
    "import serial as se\n",
    "ser=se.Serial('COM4')"
   ]
  },
  {
   "cell_type": "markdown",
   "metadata": {
    "slideshow": {
     "slide_type": "slide"
    }
   },
   "source": [
    "#### Enviar las ordenes"
   ]
  },
  {
   "cell_type": "code",
   "execution_count": 41,
   "metadata": {
    "slideshow": {
     "slide_type": "slide"
    }
   },
   "outputs": [
    {
     "data": {
      "text/plain": [
       "5"
      ]
     },
     "execution_count": 41,
     "metadata": {},
     "output_type": "execute_result"
    }
   ],
   "source": [
    "ser.write(b'o1090')\n",
    "ser.write(b'o2010')"
   ]
  },
  {
   "cell_type": "code",
   "execution_count": 63,
   "metadata": {},
   "outputs": [],
   "source": [
    "def mover_brazo (o1,o2,o3):\n",
    "    to1= 'o1'+'{:03d}'.format(int(o1))\n",
    "    ser.write(bytearray(to1,'utf-8'))\n",
    "    to2= 'o2'+'{:03d}'.format(int(o2))\n",
    "    print (to2)\n",
    "    ser.write(bytearray(to2,'utf-8'))\n",
    "    to3= 'o3'+'{:03d}'.format(int(o3))\n",
    "    print (to3)\n",
    "    ser.write(bytearray(to3,'utf-8'))"
   ]
  },
  {
   "cell_type": "code",
   "execution_count": 67,
   "metadata": {},
   "outputs": [
    {
     "name": "stdout",
     "output_type": "stream",
     "text": [
      "o2000\n",
      "o3100\n"
     ]
    }
   ],
   "source": [
    "mover_brazo(80,0,100)"
   ]
  },
  {
   "cell_type": "markdown",
   "metadata": {
    "slideshow": {
     "slide_type": "slide"
    }
   },
   "source": [
    "#### Desconectar el puerto"
   ]
  },
  {
   "cell_type": "code",
   "execution_count": 9,
   "metadata": {
    "slideshow": {
     "slide_type": "slide"
    }
   },
   "outputs": [],
   "source": [
    "ser.close()"
   ]
  },
  {
   "cell_type": "markdown",
   "metadata": {
    "slideshow": {
     "slide_type": "slide"
    }
   },
   "source": [
    "### Introduccion a la programacion por eventos en jupyter notebook\n",
    "\n",
    "Para realizar programacion por eventos se debe:\n",
    "\n",
    "1. Llamar la libreria ipywidgets\n",
    "2. Definir los botones\n",
    "3. Colocar un contenedor\n",
    "\n",
    "\n",
    "\n"
   ]
  },
  {
   "cell_type": "markdown",
   "metadata": {
    "slideshow": {
     "slide_type": "slide"
    }
   },
   "source": [
    "#### Llamar la libreria ipywidgets\n",
    "\n",
    "En esta libreria se encuentran implementada todas las funciones necesarias para la programacion por eventos. La sintaxis es la que se muestra a continuación.\n",
    "\n",
    "__import ipywidgets as ws__ "
   ]
  },
  {
   "cell_type": "markdown",
   "metadata": {},
   "source": [
    "Se dispone de dos tipos de controles: \n",
    "1. Botones \n",
    "2. Contenedores"
   ]
  },
  {
   "cell_type": "markdown",
   "metadata": {
    "slideshow": {
     "slide_type": "slide"
    }
   },
   "source": [
    "### Botones\n",
    "\n",
    "Permite realizar acciones \n",
    "\n",
    "| Botones  |Sintaxis| Función|\n",
    "|---       |---     |---     |\n",
    "| Texto    |tang1 = widgets.Text(value='90',description='Ang 1=', )| visualiza un texto\n",
    "| Letreros |lab1=widgets.Label(value=\"Entrada:\")| Presenta un letrero|\n",
    "|Ejecucion | brazo = widgets.Button(description='Brazo')| Ejecuta funciones predefinidas\n",
    "|Salida    | out    |Permite visualizar los resultados |\n",
    "\n"
   ]
  },
  {
   "cell_type": "markdown",
   "metadata": {
    "slideshow": {
     "slide_type": "slide"
    }
   },
   "source": [
    "### Contenedores\n",
    "\n",
    "Permite organizar los botones dentro de la pantalla\n",
    "\n",
    "|Botones|  Sintaxis |Funcion|\n",
    "|---    |---        |---    |\n",
    "|Horizontal|b1=widgets.HBox([lab1,tang1,tang2 ])| AAgrupa los botones uno despues del otro en forma horizontal|\n",
    "|Vertical|b2=widgets.VBox([lab1,tang1,tang2 ])| AAgrupa los botones uno despues del otro en forma vertical|"
   ]
  },
  {
   "cell_type": "markdown",
   "metadata": {
    "slideshow": {
     "slide_type": "slide"
    }
   },
   "source": [
    "### Ejemplo\n",
    "Se crea un letrero que tiene como valor entrada"
   ]
  },
  {
   "cell_type": "code",
   "execution_count": 35,
   "metadata": {
    "slideshow": {
     "slide_type": "slide"
    }
   },
   "outputs": [
    {
     "data": {
      "application/vnd.jupyter.widget-view+json": {
       "model_id": "05e25121b54a4e4b91d738be5840b0ee",
       "version_major": 2,
       "version_minor": 0
      },
      "text/plain": [
       "HBox(children=(Label(value='Entrada:'),))"
      ]
     },
     "metadata": {},
     "output_type": "display_data"
    }
   ],
   "source": [
    "lab1=widgets.Label(value=\"Entrada:\")\n",
    "widgets.HBox([lab1])"
   ]
  },
  {
   "cell_type": "markdown",
   "metadata": {
    "slideshow": {
     "slide_type": "slide"
    }
   },
   "source": [
    "### Botones ejecución\n",
    "\n",
    "Requieren realizar dos pasos extras:\n",
    "1. Definir la funcion que se ejecutara\n",
    "2. Vincular la funcion al boton de ejecución\n"
   ]
  },
  {
   "cell_type": "markdown",
   "metadata": {
    "slideshow": {
     "slide_type": "slide"
    }
   },
   "source": [
    "### Ejemplo de ejecución"
   ]
  },
  {
   "cell_type": "code",
   "execution_count": 1,
   "metadata": {
    "slideshow": {
     "slide_type": "slide"
    }
   },
   "outputs": [
    {
     "data": {
      "application/vnd.jupyter.widget-view+json": {
       "model_id": "77c8e415e2cb4a42a772dd9c31de0e98",
       "version_major": 2,
       "version_minor": 0
      },
      "text/plain": [
       "VBox(children=(Button(description='Prueba', style=ButtonStyle()), Output()))"
      ]
     },
     "metadata": {},
     "output_type": "display_data"
    }
   ],
   "source": [
    "import ipywidgets as widgets\n",
    "\n",
    "def funcion_prueba(_):\n",
    "      with out:\n",
    "          # Acciones\n",
    "          print ('hola')\n",
    "Boton1 = widgets.Button(description='Prueba')\n",
    "out = widgets.Output()\n",
    "Boton1.on_click(funcion_prueba)\n",
    "\n",
    "widgets.VBox([Boton1,out])"
   ]
  },
  {
   "cell_type": "code",
   "execution_count": 10,
   "metadata": {
    "slideshow": {
     "slide_type": "slide"
    }
   },
   "outputs": [
    {
     "data": {
      "application/vnd.jupyter.widget-view+json": {
       "model_id": "9083be66f7a64ccfbcc457af7cf0ad23",
       "version_major": 2,
       "version_minor": 0
      },
      "text/plain": [
       "VBox(children=(HBox(children=(Label(value='Entrada:'), Text(value='90', description='Ang 1='), Text(value='90'…"
      ]
     },
     "metadata": {},
     "output_type": "display_data"
    }
   ],
   "source": [
    "# librerias necesarias para el programa\n",
    "\n",
    "from IPython.display import display, Markdown, clear_output\n",
    "import ipywidgets as widgets\n",
    "import serial\n",
    "\n",
    "#  definicion de botones\n",
    "tang1 = widgets.Text(value='90',description='Ang 1=', )\n",
    "tang2 = widgets.Text(value='90',description='Ang 2=', )\n",
    "brazo = widgets.Button(description='Brazo')\n",
    "abrazo = widgets.Button(description='Antebrazo')\n",
    "lab1=widgets.Label(value=\"Entrada:\")\n",
    "lab2=widgets.Label(value=\"Salida:\")\n",
    "ser = serial.Serial('COM4')\n",
    "out = widgets.Output()\n",
    "# Contenedores\n",
    "b1=widgets.HBox([lab1,tang1,tang2 ])\n",
    "b3=widgets.HBox([brazo,abrazo, out])\n",
    "\n",
    "\n",
    "def on_brazo_click(_):\n",
    "      with out:\n",
    "          # Accione\n",
    "          clear_output()\n",
    "          to1= 'o1'+'{:03d}'.format(int(tang1.value))\n",
    "          \n",
    "          ser.write(bytearray(to1,'utf-8'))\n",
    "          \n",
    "       \n",
    "def on_abrazo_click(_):\n",
    "      with out:\n",
    "          # Accionesser = serial.Serial('COM11')\n",
    "       \n",
    "          to2= 'o2'+'{:03d}'.format(int(tang2.value))\n",
    "          ser.write(bytearray(to2,'utf-8'))\n",
    "         \n",
    "       \n",
    "\n",
    "brazo.on_click(on_brazo_click)\n",
    "abrazo.on_click(on_abrazo_click)\n",
    "\n",
    "\n",
    "widgets.VBox([b1,b3])"
   ]
  },
  {
   "cell_type": "markdown",
   "metadata": {
    "slideshow": {
     "slide_type": "slide"
    }
   },
   "source": [
    "<iframe src=192.168.1.30/cam.mjpeg  ></iframe>"
   ]
  },
  {
   "cell_type": "code",
   "execution_count": 4,
   "metadata": {
    "slideshow": {
     "slide_type": "slide"
    }
   },
   "outputs": [],
   "source": [
    "ser.close()"
   ]
  },
  {
   "cell_type": "markdown",
   "metadata": {},
   "source": [
    " #### 6.2.4 Programa que permite mover el brazo  y visualizar la simulación\n",
    "\n",
    "Combinando el programa mostrado en la sección 3.2.1 con el anterior se podra visualizar la simulacion y mover el brazo al mismo tiempo."
   ]
  },
  {
   "cell_type": "code",
   "execution_count": 31,
   "metadata": {},
   "outputs": [],
   "source": [
    "ser.close()"
   ]
  },
  {
   "cell_type": "code",
   "execution_count": 21,
   "metadata": {},
   "outputs": [
    {
     "data": {
      "application/vnd.jupyter.widget-view+json": {
       "model_id": "4e6c62530410465599269df56e442af3",
       "version_major": 2,
       "version_minor": 0
      },
      "text/plain": [
       "interactive(children=(IntSlider(value=90, description='o1', max=180), IntSlider(value=90, description='o2', ma…"
      ]
     },
     "metadata": {},
     "output_type": "display_data"
    }
   ],
   "source": [
    "# librerias necesarias para el programa\n",
    "\n",
    "from IPython.display import display, Markdown, clear_output\n",
    "from ipywidgets import interact\n",
    "import serial\n",
    "import numpy as np\n",
    "from matplotlib import pyplot as plt\n",
    "from matplotlib import path\n",
    "%matplotlib inline\n",
    "plt.ion()\n",
    "ser = serial.Serial('COM3')\n",
    "def coordenadas(o1,o2):\n",
    "    a=15\n",
    "    b=5\n",
    "    d=7\n",
    "    o3=30\n",
    "    x=np.empty((6))\n",
    "    y=np.empty((6))\n",
    "    x[0]=8\n",
    "    y[0]=1\n",
    "    x[1]=x[0]+a*np.cos((180-o1)/180*np.pi)\n",
    "    y[1]=y[0]+a*np.sin((180-o1)/180*np.pi)\n",
    "\n",
    "    x[2]=x[1]+a*np.cos((180-o2)/180*np.pi)\n",
    "    y[2]=y[1]-a*np.sin((180-o2)/180*np.pi)\n",
    "\n",
    "    x[3]=x[1]-b*np.cos((180-o2)/180*np.pi)\n",
    "    y[3]=y[1]+b*np.sin((180-o2)/180*np.pi)\n",
    "\n",
    "    x[4]=x[0]-b*np.cos((180-o2)/180*np.pi)\n",
    "    y[4]=y[0]+b*np.sin((180-o2)/180*np.pi)\n",
    "\n",
    "    x[5]=x[0]-0.01\n",
    "    y[5]=y[0]\n",
    "    return(x,y)\n",
    "@interact(o1=(0,180),o2=(0,180))\n",
    "def dibujo_brazo(o1,o2):\n",
    "    fig = plt.figure()\n",
    "    fig.set_dpi(80)\n",
    "    fig.set_size_inches(6, 6)\n",
    "    ax = plt.axes(xlim=(-20, 20), ylim=(0, 40))\n",
    "    [x,y]=coordenadas(o1,o2)\n",
    "    point1 = [[x[0], y[0]], [x[1],y[1] ]]\n",
    "    point2 = [[x[2], y[2]], [x[3],y[3] ]]\n",
    "    point3 = [[x[3], y[3]], [x[4],y[4]], [x[5],y[5] ]]\n",
    "    lin1 = plt.Polygon(point1, closed=None, fill=None, edgecolor='b', linewidth=4)\n",
    "    lin2 = plt.Polygon(point2, closed=None, fill=None, edgecolor='g', linewidth=4)\n",
    "    lin3 = plt.Polygon(point3, closed=None, fill=None, edgecolor='black', linewidth=2)\n",
    "    rectangulo=plt.Rectangle((4,0),8,1,0,color=\"red\")\n",
    "    to1= 'o1'+'{:03d}'.format(int(o1))\n",
    "    ser.write(bytearray(to1,'utf-8'))\n",
    "    to2= 'o2'+'{:03d}'.format(int(o2))                      \n",
    "    ser.write(bytearray(to2,'utf-8'))\n",
    "    ax.add_line(lin1)\n",
    "    ax.add_line(lin2)\n",
    "    ax.add_line(lin3)\n",
    "    ax.add_patch(rectangulo)\n",
    "    plt.show\n",
    "    return(x[2],y[2])\n"
   ]
  },
  {
   "cell_type": "code",
   "execution_count": 20,
   "metadata": {},
   "outputs": [],
   "source": [
    "ser.close()"
   ]
  },
  {
   "cell_type": "markdown",
   "metadata": {
    "slideshow": {
     "slide_type": "slide"
    }
   },
   "source": [
    "Le presentamos un video de como funciona el sistema.  \n",
    "<video src=\"img/brazo1.mp4\" width=640  height=640 controls >\n"
   ]
  },
  {
   "cell_type": "markdown",
   "metadata": {
    "slideshow": {
     "slide_type": "slide"
    }
   },
   "source": [
    "#### 6.2.5 Programa paraa mover a cordenadas xy el brazo\n",
    "Se presenta el programa que ubica el punto del robot en  x2,y2 en la posicion deseada. "
   ]
  },
  {
   "cell_type": "code",
   "execution_count": 11,
   "metadata": {
    "slideshow": {
     "slide_type": "slide"
    }
   },
   "outputs": [
    {
     "ename": "NameError",
     "evalue": "name 'serial' is not defined",
     "output_type": "error",
     "traceback": [
      "\u001b[1;31m---------------------------------------------------------------------------\u001b[0m",
      "\u001b[1;31mNameError\u001b[0m                                 Traceback (most recent call last)",
      "\u001b[1;32m<ipython-input-11-8a932a52bf78>\u001b[0m in \u001b[0;36m<module>\u001b[1;34m\u001b[0m\n\u001b[1;32m----> 1\u001b[1;33m \u001b[0mser\u001b[0m \u001b[1;33m=\u001b[0m \u001b[0mserial\u001b[0m\u001b[1;33m.\u001b[0m\u001b[0mSerial\u001b[0m\u001b[1;33m(\u001b[0m\u001b[1;34m'COM4'\u001b[0m\u001b[1;33m)\u001b[0m\u001b[1;33m\u001b[0m\u001b[1;33m\u001b[0m\u001b[0m\n\u001b[0m",
      "\u001b[1;31mNameError\u001b[0m: name 'serial' is not defined"
     ]
    }
   ],
   "source": [
    "ser = serial.Serial('COM4')"
   ]
  },
  {
   "cell_type": "code",
   "execution_count": 8,
   "metadata": {},
   "outputs": [
    {
     "data": {
      "application/vnd.jupyter.widget-view+json": {
       "model_id": "156da135691f450780d7eec318319567",
       "version_major": 2,
       "version_minor": 0
      },
      "text/plain": [
       "VBox(children=(HBox(children=(Label(value='Coordenadas:'), Text(value='0', description='x='), Text(value='0', …"
      ]
     },
     "metadata": {},
     "output_type": "display_data"
    }
   ],
   "source": [
    "# librerias necesarias para el programa\n",
    "\n",
    "from IPython.display import display, Markdown, clear_output\n",
    "import ipywidgets as widgets\n",
    "import serial\n",
    "import numpy as np\n",
    "ser = serial.Serial('COM3')\n",
    "from scipy.optimize import fsolve\n",
    "def coorde(z,x00,y00):\n",
    "    o1=z[0]\n",
    "    o2=z[1]\n",
    "    F=np.empty((2))\n",
    "    F[0]=150*(np.cos((180-o1)/180*np.pi)+np.cos((180-o2)/180*np.pi))-x00\n",
    "    F[1]=150*(np.sin((180-o1)/180*np.pi)-np.sin((180-o2)/180*np.pi))-y00\n",
    "    return F\n",
    "\n",
    "tx0 = widgets.Text(value='0',description='x=', )\n",
    "ty0 = widgets.Text(value='0',description='y=', )\n",
    "boton = widgets.Button(description='mover')\n",
    "lab1=widgets.Label(value=\"Coordenadas:\")\n",
    "lab2=widgets.Label(value=\"Angulos:\")\n",
    "lab3=widgets.Label(value=\"Coordenadas:\")\n",
    "lab4=widgets.Label(value=\"Coordenadas:\")\n",
    "out = widgets.Output()\n",
    "b1=widgets.HBox([lab1,tx0,ty0 ])\n",
    "b2=widgets.HBox([boton,out])\n",
    "b3=widgets.HBox([lab2,lab3,lab4])\n",
    "\n",
    "\n",
    "def on_boton_click(_):\n",
    "    with out:\n",
    "        clear_output()\n",
    "        x00=float(tx0.value)\n",
    "        y00=float(ty0.value)\n",
    "        z = fsolve(coorde,[1,1],args=(x00,y00))\n",
    "        so1='o1'+'{:03d}'.format(int(z[0]+0.1))\n",
    "        so2='o2'+'{:03d}'.format(int(z[1]+0.1))\n",
    "       ## ser.write(bytearray(so1,'utf-8'))\n",
    "       ## ser.write(bytearray(so2,'utf-8'))\n",
    "        print('o1='+so1+' o2='+so2)\n",
    "          #print(z)\n",
    "boton.on_click(on_boton_click)\n",
    "widgets.VBox([b1,b2])"
   ]
  },
  {
   "cell_type": "code",
   "execution_count": 22,
   "metadata": {},
   "outputs": [],
   "source": [
    "ser.close()"
   ]
  },
  {
   "cell_type": "markdown",
   "metadata": {},
   "source": [
    "#### 6.2.6 Programa para mover el brazo a la posicion xy deseada y su simulación simultanea"
   ]
  },
  {
   "cell_type": "code",
   "execution_count": 37,
   "metadata": {},
   "outputs": [
    {
     "data": {
      "application/vnd.jupyter.widget-view+json": {
       "model_id": "6539f8ad2f9145c0b36d0a6d7bcd6c31",
       "version_major": 2,
       "version_minor": 0
      },
      "text/plain": [
       "interactive(children=(IntSlider(value=100, description='x0', max=200), IntSlider(value=75, description='y0', m…"
      ]
     },
     "metadata": {},
     "output_type": "display_data"
    },
    {
     "data": {
      "image/png": "[encoded data removed]",
      "text/plain": [
       "<Figure size 480x480 with 1 Axes>"
      ]
     },
     "metadata": {
      "needs_background": "light"
     },
     "output_type": "display_data"
    }
   ],
   "source": [
    "# librerias necesarias para el programa\n",
    "from IPython.display import display, Markdown, clear_output\n",
    "from ipywidgets import interact\n",
    "import serial\n",
    "import numpy as np\n",
    "from matplotlib import pyplot as plt\n",
    "from matplotlib import path\n",
    "%matplotlib inline\n",
    "from scipy.optimize import fsolve\n",
    "def coorde(z,x00,y00):\n",
    "    o1=z[0]\n",
    "    o2=z[1]\n",
    "    F=np.empty((2))\n",
    "    F[0]=150*(np.cos((180-o1)/180*np.pi)+np.cos((180-o2)/180*np.pi))-x00\n",
    "    F[1]=150*(np.sin((180-o1)/180*np.pi)-np.sin((180-o2)/180*np.pi))-y00\n",
    "    return F\n",
    "\n",
    "def coordenadas(o1,o2):\n",
    "    a=15\n",
    "    b=5\n",
    "    d=7\n",
    "    o3=30\n",
    "    x=np.empty((6))\n",
    "    y=np.empty((6))\n",
    "    x[0]=8\n",
    "    y[0]=1\n",
    "    x[1]=x[0]+a*np.cos((180-o1)/180*np.pi)\n",
    "    y[1]=y[0]+a*np.sin((180-o1)/180*np.pi)\n",
    "\n",
    "    x[2]=x[1]+a*np.cos((180-o2)/180*np.pi)\n",
    "    y[2]=y[1]-a*np.sin((180-o2)/180*np.pi)\n",
    "\n",
    "    x[3]=x[1]-b*np.cos((180-o2)/180*np.pi)\n",
    "    y[3]=y[1]+b*np.sin((180-o2)/180*np.pi)\n",
    "\n",
    "    x[4]=x[0]-b*np.cos((180-o2)/180*np.pi)\n",
    "    y[4]=y[0]+b*np.sin((180-o2)/180*np.pi)\n",
    "\n",
    "    x[5]=x[0]-0.01\n",
    "    y[5]=y[0]\n",
    "    return(x,y)\n",
    "@interact(x0=(0,200),y0=(0,150))\n",
    "def dibujo_brazo(x0,y0):\n",
    "    fig = plt.figure()\n",
    "    fig.set_dpi(80)\n",
    "    fig.set_size_inches(6, 6)\n",
    "    ax = plt.axes(xlim=(0, 40), ylim=(0, 40))\n",
    "    z = fsolve(coorde,[1,1],args=(x0,y0))\n",
    "    o1=z[0]\n",
    "    o2=z[1]\n",
    "    [x,y]=coordenadas(o1,o2)\n",
    "    point1 = [[x[0], y[0]], [x[1],y[1] ]]\n",
    "    point2 = [[x[2], y[2]], [x[3],y[3] ]]\n",
    "    point3 = [[x[3], y[3]], [x[4],y[4]], [x[5],y[5] ]]\n",
    "    lin1 = plt.Polygon(point1, closed=None, fill=None, edgecolor='b', linewidth=4)\n",
    "    lin2 = plt.Polygon(point2, closed=None, fill=None, edgecolor='g', linewidth=4)\n",
    "    lin3 = plt.Polygon(point3, closed=None, fill=None, edgecolor='black', linewidth=2)\n",
    "    rectangulo=plt.Rectangle((4,0),8,1,0,color=\"red\")\n",
    "    to1= 'o1'+'{:03d}'.format(int(o1))\n",
    "    ser.write(bytearray(to1,'utf-8'))\n",
    "    to2= 'o2'+'{:03d}'.format(int(o2))                      \n",
    "    ser.write(bytearray(to2,'utf-8'))\n",
    "    ax.add_line(lin1)\n",
    "    ax.add_line(lin2)\n",
    "    ax.add_line(lin3)\n",
    "    ax.add_patch(rectangulo)\n",
    "    plt.show\n",
    "    \n"
   ]
  },
  {
   "cell_type": "markdown",
   "metadata": {},
   "source": [
    "### Mano del brazo\n",
    "\n",
    "Ahora debemos agregar al brazo una mano que permita tomar objetos. Con este fin se necesita que la mano este horizontal para que pueda tomar objetos de forma eficiente. Con este fin se debe agregar una serie de palancas.Se analizara la siguiente figura.\n",
    "\n",
    "<img src=\"img/brazo_geo1.gif\" alt=\"Imagen\" width=\"300\" height=\"300\">Brazo</img>\n",
    " En amarillo se muestran dos palancas  y dos triangulos iguales  que se agregan al brazo. Los triangulos son rectangulos: Uno esta fijo a la base y el otro se coloca el la articulacion (x1,y1). Las palancas tienen el largo a. Se colocan formandos dos paralelogramos, como se muestra en la figura. El segmento d por propiedad de los paralelogramos siempre queda vertical. "
   ]
  },
  {
   "cell_type": "code",
   "execution_count": 29,
   "metadata": {},
   "outputs": [
    {
     "ename": "SerialException",
     "evalue": "could not open port 'COM3': FileNotFoundError(2, 'El sistema no puede encontrar el archivo especificado.', None, 2)",
     "output_type": "error",
     "traceback": [
      "\u001b[1;31m---------------------------------------------------------------------------\u001b[0m",
      "\u001b[1;31mSerialException\u001b[0m                           Traceback (most recent call last)",
      "\u001b[1;32m<ipython-input-29-67f267b9138c>\u001b[0m in \u001b[0;36m<module>\u001b[1;34m\u001b[0m\n\u001b[0;32m      1\u001b[0m \u001b[1;32mimport\u001b[0m \u001b[0mserial\u001b[0m\u001b[1;33m\u001b[0m\u001b[1;33m\u001b[0m\u001b[0m\n\u001b[1;32m----> 2\u001b[1;33m \u001b[0mser\u001b[0m \u001b[1;33m=\u001b[0m \u001b[0mserial\u001b[0m\u001b[1;33m.\u001b[0m\u001b[0mSerial\u001b[0m\u001b[1;33m(\u001b[0m\u001b[1;34m'COM3'\u001b[0m\u001b[1;33m)\u001b[0m\u001b[1;33m\u001b[0m\u001b[1;33m\u001b[0m\u001b[0m\n\u001b[0m",
      "\u001b[1;32m~\\anaconda3\\lib\\site-packages\\serial\\serialwin32.py\u001b[0m in \u001b[0;36m__init__\u001b[1;34m(self, *args, **kwargs)\u001b[0m\n\u001b[0;32m     31\u001b[0m         \u001b[0mself\u001b[0m\u001b[1;33m.\u001b[0m\u001b[0m_overlapped_read\u001b[0m \u001b[1;33m=\u001b[0m \u001b[1;32mNone\u001b[0m\u001b[1;33m\u001b[0m\u001b[1;33m\u001b[0m\u001b[0m\n\u001b[0;32m     32\u001b[0m         \u001b[0mself\u001b[0m\u001b[1;33m.\u001b[0m\u001b[0m_overlapped_write\u001b[0m \u001b[1;33m=\u001b[0m \u001b[1;32mNone\u001b[0m\u001b[1;33m\u001b[0m\u001b[1;33m\u001b[0m\u001b[0m\n\u001b[1;32m---> 33\u001b[1;33m         \u001b[0msuper\u001b[0m\u001b[1;33m(\u001b[0m\u001b[0mSerial\u001b[0m\u001b[1;33m,\u001b[0m \u001b[0mself\u001b[0m\u001b[1;33m)\u001b[0m\u001b[1;33m.\u001b[0m\u001b[0m__init__\u001b[0m\u001b[1;33m(\u001b[0m\u001b[1;33m*\u001b[0m\u001b[0margs\u001b[0m\u001b[1;33m,\u001b[0m \u001b[1;33m**\u001b[0m\u001b[0mkwargs\u001b[0m\u001b[1;33m)\u001b[0m\u001b[1;33m\u001b[0m\u001b[1;33m\u001b[0m\u001b[0m\n\u001b[0m\u001b[0;32m     34\u001b[0m \u001b[1;33m\u001b[0m\u001b[0m\n\u001b[0;32m     35\u001b[0m     \u001b[1;32mdef\u001b[0m \u001b[0mopen\u001b[0m\u001b[1;33m(\u001b[0m\u001b[0mself\u001b[0m\u001b[1;33m)\u001b[0m\u001b[1;33m:\u001b[0m\u001b[1;33m\u001b[0m\u001b[1;33m\u001b[0m\u001b[0m\n",
      "\u001b[1;32m~\\anaconda3\\lib\\site-packages\\serial\\serialutil.py\u001b[0m in \u001b[0;36m__init__\u001b[1;34m(self, port, baudrate, bytesize, parity, stopbits, timeout, xonxoff, rtscts, write_timeout, dsrdtr, inter_byte_timeout, exclusive, **kwargs)\u001b[0m\n\u001b[0;32m    242\u001b[0m \u001b[1;33m\u001b[0m\u001b[0m\n\u001b[0;32m    243\u001b[0m         \u001b[1;32mif\u001b[0m \u001b[0mport\u001b[0m \u001b[1;32mis\u001b[0m \u001b[1;32mnot\u001b[0m \u001b[1;32mNone\u001b[0m\u001b[1;33m:\u001b[0m\u001b[1;33m\u001b[0m\u001b[1;33m\u001b[0m\u001b[0m\n\u001b[1;32m--> 244\u001b[1;33m             \u001b[0mself\u001b[0m\u001b[1;33m.\u001b[0m\u001b[0mopen\u001b[0m\u001b[1;33m(\u001b[0m\u001b[1;33m)\u001b[0m\u001b[1;33m\u001b[0m\u001b[1;33m\u001b[0m\u001b[0m\n\u001b[0m\u001b[0;32m    245\u001b[0m \u001b[1;33m\u001b[0m\u001b[0m\n\u001b[0;32m    246\u001b[0m     \u001b[1;31m#  -  -  -  -  -  -  -  -  -  -  -  -  -  -  -  -  -  -  -  -  -  -  -  -\u001b[0m\u001b[1;33m\u001b[0m\u001b[1;33m\u001b[0m\u001b[1;33m\u001b[0m\u001b[0m\n",
      "\u001b[1;32m~\\anaconda3\\lib\\site-packages\\serial\\serialwin32.py\u001b[0m in \u001b[0;36mopen\u001b[1;34m(self)\u001b[0m\n\u001b[0;32m     62\u001b[0m         \u001b[1;32mif\u001b[0m \u001b[0mself\u001b[0m\u001b[1;33m.\u001b[0m\u001b[0m_port_handle\u001b[0m \u001b[1;33m==\u001b[0m \u001b[0mwin32\u001b[0m\u001b[1;33m.\u001b[0m\u001b[0mINVALID_HANDLE_VALUE\u001b[0m\u001b[1;33m:\u001b[0m\u001b[1;33m\u001b[0m\u001b[1;33m\u001b[0m\u001b[0m\n\u001b[0;32m     63\u001b[0m             \u001b[0mself\u001b[0m\u001b[1;33m.\u001b[0m\u001b[0m_port_handle\u001b[0m \u001b[1;33m=\u001b[0m \u001b[1;32mNone\u001b[0m    \u001b[1;31m# 'cause __del__ is called anyway\u001b[0m\u001b[1;33m\u001b[0m\u001b[1;33m\u001b[0m\u001b[0m\n\u001b[1;32m---> 64\u001b[1;33m             \u001b[1;32mraise\u001b[0m \u001b[0mSerialException\u001b[0m\u001b[1;33m(\u001b[0m\u001b[1;34m\"could not open port {!r}: {!r}\"\u001b[0m\u001b[1;33m.\u001b[0m\u001b[0mformat\u001b[0m\u001b[1;33m(\u001b[0m\u001b[0mself\u001b[0m\u001b[1;33m.\u001b[0m\u001b[0mportstr\u001b[0m\u001b[1;33m,\u001b[0m \u001b[0mctypes\u001b[0m\u001b[1;33m.\u001b[0m\u001b[0mWinError\u001b[0m\u001b[1;33m(\u001b[0m\u001b[1;33m)\u001b[0m\u001b[1;33m)\u001b[0m\u001b[1;33m)\u001b[0m\u001b[1;33m\u001b[0m\u001b[1;33m\u001b[0m\u001b[0m\n\u001b[0m\u001b[0;32m     65\u001b[0m \u001b[1;33m\u001b[0m\u001b[0m\n\u001b[0;32m     66\u001b[0m         \u001b[1;32mtry\u001b[0m\u001b[1;33m:\u001b[0m\u001b[1;33m\u001b[0m\u001b[1;33m\u001b[0m\u001b[0m\n",
      "\u001b[1;31mSerialException\u001b[0m: could not open port 'COM3': FileNotFoundError(2, 'El sistema no puede encontrar el archivo especificado.', None, 2)"
     ]
    }
   ],
   "source": [
    "import serial\n",
    "ser = serial.Serial('COM3')"
   ]
  },
  {
   "cell_type": "code",
   "execution_count": 30,
   "metadata": {},
   "outputs": [],
   "source": [
    "ser.close()"
   ]
  },
  {
   "cell_type": "code",
   "execution_count": 7,
   "metadata": {},
   "outputs": [
    {
     "data": {
      "application/vnd.jupyter.widget-view+json": {
       "model_id": "7672c850917b49b1a92ca063fa280ec1",
       "version_major": 2,
       "version_minor": 0
      },
      "text/plain": [
       "interactive(children=(IntSlider(value=135, description='o1', max=180, min=90), IntSlider(value=135, descriptio…"
      ]
     },
     "metadata": {},
     "output_type": "display_data"
    }
   ],
   "source": [
    "import numpy as np\n",
    "from matplotlib import pyplot as plt\n",
    "from ipywidgets import interact\n",
    "def coordenadas(o1,o2):\n",
    "    a=15\n",
    "    b=5\n",
    "    d=7\n",
    "    o3=30\n",
    "    x=np.empty((11))\n",
    "    y=np.empty((11))\n",
    "    x[0]=8\n",
    "    y[0]=1\n",
    "    x[1]=x[0]+a*np.cos((180-o1)/180*np.pi)\n",
    "    y[1]=y[0]+a*np.sin((180-o1)/180*np.pi)\n",
    "\n",
    "    x[2]=x[1]+a*np.cos((180-o2)/180*np.pi)\n",
    "    y[2]=y[1]-a*np.sin((180-o2)/180*np.pi)\n",
    "\n",
    "    x[3]=x[1]-b*np.cos((180-o2)/180*np.pi)\n",
    "    y[3]=y[1]+b*np.sin((180-o2)/180*np.pi)\n",
    "\n",
    "    x[4]=x[0]-b*np.cos((180-o2)/180*np.pi)\n",
    "    y[4]=y[0]+b*np.sin((180-o2)/180*np.pi)\n",
    "\n",
    "    x[5]=x[0]-0.01\n",
    "    y[5]=y[0]\n",
    "\n",
    "    x[6]=x[0]-d*np.cos(o3/180*np.pi)\n",
    "    y[6]=y[0]+d*np.sin(o3/180*np.pi)\n",
    "    x[7]=x[1]-d*np.cos(o3/180*np.pi)\n",
    "    y[7]=y[1]+d*np.sin(o3/180*np.pi)\n",
    "\n",
    "    x[8]=x[1]\n",
    "    y[8]=y[1]+d*np.sin(o3/180*np.pi)\n",
    "\n",
    "    x[9]=x[2]\n",
    "    y[9]=y[2]+d*np.sin(o3/180*np.pi)\n",
    "\n",
    "    x[10]=x[2]+4\n",
    "    y[10]=y[2]\n",
    "    return(x,y)\n",
    "@interact(o1=(90,180),o2=(90,180))\n",
    "def dibujo_brazo(o1,o2):\n",
    "    fig = plt.figure()\n",
    "    fig.set_dpi(80)\n",
    "    fig.set_size_inches(8, 6)\n",
    "    ax = plt.axes(xlim=(0, 40), ylim=(0, 30))\n",
    "    [x,y]=coordenadas(o1,o2)\n",
    "    point1 = [[x[0], y[0]], [x[1],y[1]]]\n",
    "    point2 = [[x[2], y[2]], [x[3],y[3]]]\n",
    "    point3 = [[x[3], y[3]], [x[4],y[4]], [x[5],y[5]]]\n",
    "    point4 = [[x[0], y[0]], [x[6],y[6]],[x[7],y[7]], [x[1],y[1]]]\n",
    "    point5 = [[x[7], y[7]], [x[8],y[8]],[x[1],y[1]]]\n",
    "    point6 = [[x[8], y[8]], [x[9],y[9]],[x[2],y[2]],[x[10],y[10]]]          \n",
    "            \n",
    "    lin1 = plt.Polygon(point1, closed=None, fill=None, edgecolor='b', linewidth=4)\n",
    "    lin2 = plt.Polygon(point2, closed=None, fill=None, edgecolor='g', linewidth=4)\n",
    "    lin3 = plt.Polygon(point3, closed=None, fill=None, edgecolor='black', linewidth=2)\n",
    "    lin4 = plt.Polygon(point4, closed=None, fill=None, edgecolor='y', linewidth=2)\n",
    "    lin5 = plt.Polygon(point5, closed=None, fill=None, edgecolor='y', linewidth=2)\n",
    "    lin6 = plt.Polygon(point6, closed=None, fill=None, edgecolor='y', linewidth=2)                                     \n",
    "    rectangulo=plt.Rectangle((4,0),8,1,0,color=\"red\")\n",
    "    to1= 'o1'+'{:03d}'.format(int(o1))\n",
    "    ser.write(bytearray(to1,'utf-8'))\n",
    "    to2= 'o2'+'{:03d}'.format(int(o2))                      \n",
    "    ser.write(bytearray(to2,'utf-8'))\n",
    "    ax.add_line(lin1)\n",
    "    ax.add_line(lin2)\n",
    "    ax.add_line(lin3)\n",
    "    ax.add_line(lin4)\n",
    "    ax.add_line(lin5)\n",
    "    ax.add_line(lin6)\n",
    "    ax.add_patch(rectangulo)\n",
    "    return(x[2],y[2])\n"
   ]
  },
  {
   "cell_type": "markdown",
   "metadata": {
    "slideshow": {
     "slide_type": "slide"
    }
   },
   "source": [
    "## Conclusiones\n",
    "\n",
    "En este cuaderno se muestra la construccion de un brazo con dos grados de libertad.Se analizo la geometria del mismo. Se proponen los circuitos electronicos. El firmware necesario para que funcione y el software necesario para utilizarlo. Se calcula la posicion del punto y se analiza la posibilidad de adicionar una pinza en posicion horizontal.\n",
    "\n",
    "El brazo tiene algunos defectos que se tratara de mejorar. En este sentido se propone un rediseño del brazo mecanico.\n"
   ]
  },
  {
   "cell_type": "code",
   "execution_count": null,
   "metadata": {
    "slideshow": {
     "slide_type": "slide"
    }
   },
   "outputs": [],
   "source": []
  }
 ],
 "metadata": {
  "celltoolbar": "Slideshow",
  "kernelspec": {
   "display_name": "Python 3",
   "language": "python",
   "name": "python3"
  },
  "language_info": {
   "codemirror_mode": {
    "name": "ipython",
    "version": 3
   },
   "file_extension": ".py",
   "mimetype": "text/x-python",
   "name": "python",
   "nbconvert_exporter": "python",
   "pygments_lexer": "ipython3",
   "version": "3.8.8"
  }
 },
 "nbformat": 4,
 "nbformat_minor": 4
}
