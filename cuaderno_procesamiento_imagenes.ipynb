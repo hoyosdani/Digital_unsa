{
 "cells": [
  {
   "cell_type": "markdown",
   "id": "cordless-ottawa",
   "metadata": {},
   "source": [
    "# PROCESAMIENTO DIGITAL DE IMAGENES\n",
    "\n",
    "En este cuaderno se describira la libreria OPENCV que permite procesar imagenes. Se presentaran los siguientes temas\n",
    "\n",
    "- 1.- Leer imagenes y videos\n",
    "\n",
    "\n",
    "Para procear imagenes se debe utilizar la libreria opencv segun la siguiente sintaxis.  \n",
    "\n",
    "|Nombre \t|Sintaxis            |\tAcción|\n",
    "| :---      | :---               | :---  |\n",
    "| opencv     | import cv2 as cv |  carga la libreria opencv cada funcion debe comenzar con cv. |\n",
    "\n",
    "Se utilizara como referencia la siguiente imagen\n",
    "\n",
    "<img src=\"img/flores1.jpg\" alt=\"Imagen\" width=\"600\" height=\"600\"></img>\n",
    "\n",
    "y el siguiente video\n",
    "\n",
    "<video src=\"img/brazo1.mp4\" width=640  height=640 controls >\n",
    "    \n"
   ]
  },
  {
   "cell_type": "markdown",
   "id": "acting-mortgage",
   "metadata": {},
   "source": [
    "Las funciones que se utilizaran son:\n",
    "    \n",
    "|Nombre \t  |Sintaxis                                    |\tAcción                                                    |\n",
    "| :---        | :---                                       | :---                                                         |\n",
    "| imread      | img=cv.imread(nombre_archivo   )           |  lee la imagen en nombre_archivo:                            |\n",
    "| imshow      | cv.imshow(letrero,img)                     |  Visualiza la imagen img,                                    |\n",
    "|             |                                            |  el letrero de la imagen sera:'Flor'                         |\n",
    "|waitKey      | cv.waitKey(delay)                          |  Espera una tecla el tiempo correspondiente a delay          |\n",
    "|Video.Capture|mi_video=cv.VideoCapture(nombre_archivo)    | Permite visualizar un video                                  |\n",
    "|             |                                            |  el video para ser visualizado o procesado se encuentra      |\n",
    "|             |                                            |   en *__mi_video__*                                          |\n",
    "|             |                                            |  el video que se usara se carga desde *__nombre_archivo__*   | \n",
    "|             |                                            |Si se coloca un 0 en nombre archivo utiliza la *__webcam 0__* |\n",
    "|read         |  frame = mi_video.read()                   | Lee las imagenes cargadas en *__mi_video__*                  |\n",
    "\n",
    "\n",
    "\n",
    "### Programa para leer una imagen"
   ]
  },
  {
   "cell_type": "code",
   "execution_count": 4,
   "id": "appointed-small",
   "metadata": {},
   "outputs": [],
   "source": [
    "import cv2 as cv\n",
    "img=cv.imread('img/flores1.jpg')\n",
    "cv.imshow('Flor',img)\n",
    "cv.waitKey(0) \n",
    "cv.destroyAllWindows()"
   ]
  },
  {
   "cell_type": "markdown",
   "id": "seventh-salad",
   "metadata": {},
   "source": [
    "### Programa para leer un video\n"
   ]
  },
  {
   "cell_type": "code",
   "execution_count": 1,
   "id": "vocational-treasurer",
   "metadata": {
    "scrolled": true
   },
   "outputs": [],
   "source": [
    "import cv2 as cv\n",
    "mi_video=cv.VideoCapture('img/brazo1.mp4')\n",
    "while True:\n",
    "    isTrue, frame = mi_video.read()\n",
    "    cv.imshow('Video',frame) \n",
    "    if cv.waitKey(20) & 0xff== ord('d'):\n",
    "        break;\n",
    "mi_video.release()\n",
    "cv.destroyAllWindows()"
   ]
  },
  {
   "cell_type": "markdown",
   "id": "electrical-china",
   "metadata": {},
   "source": [
    "### Programa para visualizar de la camara"
   ]
  },
  {
   "cell_type": "code",
   "execution_count": 6,
   "id": "authorized-participant",
   "metadata": {},
   "outputs": [],
   "source": [
    "import cv2 as cv\n",
    "mi_video=cv.VideoCapture(1)\n",
    "while True:\n",
    "    isTrue, frame = mi_video.read()\n",
    "    cv.imshow('Video',frame) \n",
    "    if cv.waitKey(20) & 0xff== ord('d'):\n",
    "        break;\n",
    "mi_video.release()\n",
    "cv.destroyAllWindows()"
   ]
  },
  {
   "cell_type": "markdown",
   "id": "false-millennium",
   "metadata": {},
   "source": [
    "### Otro programa para leervideos\n",
    "\n"
   ]
  },
  {
   "cell_type": "code",
   "execution_count": 1,
   "id": "falling-charter",
   "metadata": {},
   "outputs": [],
   "source": [
    "%matplotlib inline\n",
    "\n",
    "import cv2\n",
    "import matplotlib.pyplot as plt\n",
    "from IPython import display \n",
    "import signal\n",
    "import sys"
   ]
  },
  {
   "cell_type": "code",
   "execution_count": null,
   "id": "tracked-makeup",
   "metadata": {},
   "outputs": [],
   "source": [
    "def signal_handler(signal, frame):\n",
    "    # KeyboardInterrupt detected, exiting\n",
    "    global is_interrupted\n",
    "    is_interrupted = True"
   ]
  },
  {
   "cell_type": "code",
   "execution_count": null,
   "id": "environmental-overhead",
   "metadata": {},
   "outputs": [],
   "source": [
    "vc = cv2.VideoCapture(0)\n",
    "\n",
    "plt.ion()\n",
    "\n",
    "if vc.isOpened(): # try to get the first frame\n",
    "    is_capturing, frame = vc.read()\n",
    "    frame = cv2.cvtColor(frame, cv2.COLOR_BGR2RGB)    # makes the blues image look real colored\n",
    "    webcam_preview = plt.imshow(frame)    \n",
    "else:\n",
    "    is_capturing = False\n",
    "\n",
    "signal.signal(signal.SIGINT, signal_handler)\n",
    "is_interrupted = False\n",
    "while is_capturing:\n",
    "    is_capturing, frame = vc.read()\n",
    "    frame = cv2.cvtColor(frame, cv2.COLOR_BGR2RGB)    # makes the blues image look real colored\n",
    "    webcam_preview.set_data(frame)\n",
    "    plt.draw()   \n",
    "\n",
    "    try:    # Avoids a NotImplementedError caused by `plt.pause`\n",
    "        plt.pause(0.05)\n",
    "    except Exception:\n",
    "        pass\n",
    "    if is_interrupted:\n",
    "        vc.release()\n",
    "        break"
   ]
  },
  {
   "cell_type": "markdown",
   "id": "available-richmond",
   "metadata": {},
   "source": [
    "### Cambio de Escala y resolucion de imagenes o videos\n",
    "\n",
    "\n",
    "Las funciones que se utilizaran son:\n",
    "    \n",
    "|Nombre \t  |Sintaxis                                    |\tAcción                                                    |\n",
    "| :---        | :---                                       | :---                                                         |\n",
    "| ancho       | ancho=frame.shape[1]                       |  Ancho de la imagen  *__frame__*: es la imagen               |\n",
    "|largo        | largo=frame.shape[0]                       |  Largo de la imagen  *__frame__*: es la imagen               |\n",
    "| resize      | img1=cv.resize(img, dimensiones,interpolacion) | Funcion para cambiar escala de una imagen                |\n",
    "|             |                                            |   img:                imagen                               |\n",
    "|             |                                            | dimensiones:   dimensiones de la imagen  |\n",
    "|             |                                            | interpolacion: modos de interpolar imagenes             |       |             |                                            |INTER_NEAREST: con la cercania                           |\n",
    "|             |                                            |INTER_LINEAR: lineal                                     |\n",
    "|             |                                            |INTER_AREA: area                                       |\n",
    "|             |                                            |INTER_CUBIC:  cubica                                      |\n",
    "|             |                                            |"
   ]
  },
  {
   "cell_type": "code",
   "execution_count": null,
   "id": "meaning-reputation",
   "metadata": {},
   "outputs": [],
   "source": [
    "import cv2 as cv\n",
    "img=cv.imread('img/flores1.jpg')\n",
    "escala=0.5\n",
    "cv.imshow('Flor',img)\n",
    "ancho=int(img.shape[1]*0.5)\n",
    "largo=int(img.shape[0]*0.5)\n",
    "dimension=(ancho,largo)\n",
    "img1=cv.resize(img,dimension,cv.INTER_LINEAR)\n",
    "cv.imshow('Flor chica', img1)\n",
    "cv.waitKey(0) \n",
    "cv.destroyAllWindows()"
   ]
  },
  {
   "cell_type": "code",
   "execution_count": null,
   "id": "periodic-nursery",
   "metadata": {},
   "outputs": [],
   "source": [
    "import cv2 as cv\n",
    "mi_video=cv.VideoCapture('img/brazo1.mp4')\n",
    "while True:\n",
    "    isTrue, img = mi_video.read()\n",
    "    cv.imshow('Video',img) \n",
    "    ancho=int(img.shape[1]*0.75)\n",
    "    largo=int(img.shape[0]*0.75)\n",
    "    dimension=(ancho,largo)\n",
    "    img1=cv.resize(img,dimension,cv.INTER_LINEAR)\n",
    "    cv.imshow('Video chico',img1) \n",
    "    if cv.waitKey(20) & 0xff== ord('d'):\n",
    "        break;\n",
    "mi_video.release()\n",
    "\n",
    "cv.destroyAllWindows()"
   ]
  },
  {
   "cell_type": "markdown",
   "id": "developing-honduras",
   "metadata": {},
   "source": [
    "### Dibujar formas y Textos\n",
    "\n",
    "Una imagen es una matriz de tres dimensiones. Donde el ancho de la matriz es el ancho de la imagen el largo de la matriz es el largo de laimagen., la tercera dimension siempre es tres y cada una de las submatrices representa los colores siendo la primera es la imagen roja, la segunda es la imagen  verde y la tercera es la imagen azul.\n",
    "\n",
    "Existen un numero de funciones que permite dibujar formas y textos\n",
    "\n",
    "|Nombre \t  |Sintaxis                            |\tAcción             |  Opciones                |\n",
    "| :---        | :---                               | :---                  |:---                      |\n",
    "|rectangulo    |cv.rectangle(img,pei,pef,col,an   ) | Dibuja un rectangulo  |img: imagen        |\n",
    "|             |                                    |                       |pei= punto inicial __(100,100)__           |     \n",
    "|             |                                    |                       |pef= punto final __(100,100)__             |\n",
    "|             |                                    |                       |col= color __(0,255,100)__             |\n",
    "|             |                                    |                       |an= anchode la linea __2__             |\n",
    "|circulo      |cv.circle(img,pc,r,col,an )         | Dibuja un circulo     |img: imagen        |\n",
    "|             |                                    |                       |pc= punto del centro __(100,100)__      |  \n",
    "|             |                                    |                       |r: radio  __50__             |\n",
    "|             |                                    |                       |col= color __(0,255,100)__             |\n",
    "|             |                                    |                       |an= anchode la linea __2__             |\n",
    "|linea        |cv.line(img,pei,pef,col,an   )      | Dibuja una linea      |img: imagen        |\n",
    "|             |                                    |                       |pei= punto inicial __(100,100)__       |     \n",
    "|             |                                    |                       |pef= punto final __(100,100)__         |\n",
    "|             |                                    |                       |col= color __(0,255,100)__             |\n",
    "|             |                                    |                       |an= anchode la linea __2__             |\n",
    "|texto        |cv.putText(img,txt,pi,f,col,an,a   ) | Dibuja un texto     |imagen: imagen        |\n",
    "|             |                                    |                       |txt= texto __'Hola'__           |     \n",
    "|             |                                    |                       |pi= punto inicial __(100,100)__           |     \n",
    "|             |                                    |                   |f= tipo de letra __cv.FONT_HERSHEY_COMPLEX__   |\n",
    "|             |                                    |                       |col= color __(0,255,100)__             |\n",
    "|             |                                    |                       |an= anchode la linea __2__             |\n",
    "|             |                                    |                       |a=tipo de linea __,cv.LINE_AA__             |"
   ]
  },
  {
   "cell_type": "code",
   "execution_count": 3,
   "id": "textile-innocent",
   "metadata": {},
   "outputs": [],
   "source": [
    "import cv2 as cv\n",
    "import numpy as np\n",
    "imagen=np.zeros((500,500,3), dtype='uint8')\n",
    "imagen[200:300,100:200]=0,255,0\n",
    "cv.rectangle(imagen,(2,2),(52,52),(255,0,0),thickness=5)\n",
    "cv.circle(imagen,(300,300),50,(0,0,255),thickness=1)\n",
    "cv.line(imagen,(0,0),(500,300),(0,0,255),thickness=8)\n",
    "cv.putText(imagen,'Hola Che',(300,50),cv.FONT_HERSHEY_COMPLEX,1,(255,255,0),2,cv.LINE_AA)\n",
    "cv.imshow('Formas q',imagen)\n",
    "cv.waitKey(0)  \n",
    "cv.destroyAllWindows()"
   ]
  },
  {
   "cell_type": "markdown",
   "id": "subject-personal",
   "metadata": {},
   "source": [
    "\n",
    "### Transformación de Imagenes\n",
    "\n",
    "Las transformaciones que se pueden expresar como un multiplicacion de matrices seguida de una suma de un vector se denomina afin y permite rotar, cambiar de escala y trasladar la imagen\n",
    "\n",
    "La matriz de rotacion se puede representar por una matriz cuadrada de la forma:  \n",
    "$$\\begin{bmatrix}a_{11} & a_{12}\\\\\n",
    "a_{21} & a_{22}\n",
    "\\end{bmatrix}$$\n",
    "mientras que la traslacion se representa por el vector:\n",
    "\n",
    "$$\\begin{bmatrix}b_{0}\\\\\n",
    "b_{1}\n",
    "\\end{bmatrix}$$\n",
    "Siendo la matriz:\n",
    "\n",
    "$$M=\\begin{bmatrix}a_{11} & a_{12}& b_{0}\\\\\n",
    "a_{21} & a_{22} & b_{1}\n",
    "\\end{bmatrix}$$\n",
    "\n",
    "La que permite realizar todas las transformaciones:\n",
    "El vector de entrada seria:\n",
    "$$\\begin{bmatrix}x\\\\\n",
    "y \\\\\n",
    "1\n",
    "\\end{bmatrix}$$\n",
    "\n"
   ]
  },
  {
   "cell_type": "markdown",
   "id": "wired-alarm",
   "metadata": {},
   "source": [
    "Las matrices serian:  \n",
    "\n",
    " Traslacion        \n",
    "$$M=\\begin{bmatrix}1 & 0 & x_{deseado}\\\\\n",
    "0 & 1 & y_{deseado}\n",
    "\\end{bmatrix}$$\n",
    " Escala \n",
    " $$M=\\begin{bmatrix}e_{x} & 0 & 0\\\\\n",
    "0 & e_{y} & 0\n",
    "\\end{bmatrix}$$ \n",
    "Rotacion \n",
    "$$M=\\begin{bmatrix}cos( \\alpha) & seno( \\alpha) & 0\\\\\n",
    "-seno (\\alpha) & cos( \\alpha) & 0\n",
    "\\end{bmatrix}$$ \n",
    "\n",
    "Las funciones de opencv que realizan esa transformacion son:  \n",
    "\n",
    "|Nombre \t  |Sintaxis                            |\tAcción             |  Opciones                |\n",
    "| :---        | :---                               | :---                  |:---                      |\n",
    "|Tranformacion afin    |cv.warpAffine(img,mat_Trans,dimensiones) | transforma una imagen segun   |img: imagen        |\n",
    "|                      |                             | una matriz afin               |mat_Trans: matriz tranformacion|\n",
    "|                      |                             |                               |dimensiones: dimensiones de la imagen|\n",
    "| Matriz rotacion      |rt=cv.getRotationMatrix2D(pr,ang1.a)     | Matriz que rota la imagen     | pr: punto rotacion |\n",
    "|                      |                                         |                               | ang: angulo de rotacion |\n",
    "|                      |                                         |                               | a:                      |\n",
    "|  voltear             |cv.flip(img,0)                           | Rota 180 grados la imagen     | img: imagen             |\n",
    "|                      |                                         |                               |"
   ]
  },
  {
   "cell_type": "code",
   "execution_count": 1,
   "id": "primary-milwaukee",
   "metadata": {},
   "outputs": [],
   "source": [
    "import cv2 as cv\n",
    "import numpy as np\n",
    "mat_Trans=np.float32([[1,0,10],[0,1,20]])\n",
    "img=cv.imread('img/flores1.jpg')\n",
    "dimensiones=(img.shape[1],img.shape[0])\n",
    "(alto,ancho)=img.shape[:2]\n",
    "\n",
    "cv.imshow('Flor',img)\n",
    "\n",
    "\n",
    "img1=cv.warpAffine(img,mat_Trans,dimensiones)\n",
    "cv.imshow('Flor tranformada',img1)\n",
    "punto_rotacion=(alto//2, ancho//2)\n",
    "rotmat=cv.getRotationMatrix2D(punto_rotacion,45.0,1.0)\n",
    "img2=cv.warpAffine(img,rotmat,dimensiones)\n",
    "cv.imshow('Flor rotada',img2)\n",
    "img3=cv.flip(img,0)\n",
    "cv.imshow('Flor volteda',img3)\n",
    "cv.waitKey(0)  \n",
    "cv.destroyAllWindows()"
   ]
  },
  {
   "cell_type": "code",
   "execution_count": null,
   "id": "stretch-royal",
   "metadata": {},
   "outputs": [],
   "source": []
  },
  {
   "cell_type": "code",
   "execution_count": 9,
   "id": "closing-attachment",
   "metadata": {},
   "outputs": [
    {
     "name": "stdout",
     "output_type": "stream",
     "text": [
      "[[  0.70710678   0.70710678 -62.80613255]\n",
      " [ -0.70710678   0.70710678 106.372583  ]]\n"
     ]
    }
   ],
   "source": [
    "print(  rotmat )\n"
   ]
  },
  {
   "cell_type": "markdown",
   "id": "metropolitan-corner",
   "metadata": {},
   "source": [
    "### Funciones \n",
    "\n",
    "#### Canny\n",
    "Es un algoritmo de detección de bordes  utiliza un filtro basado en la primera derivada de una gaussiana. \n",
    "\n",
    "$$B=1/159.\\begin{bmatrix}2 & 4 & 5 & 4 &2 \\\\\n",
    "4 &  9 & 12 &  9 & 4 \\\\\n",
    "5 & 12 & 15 & 12 & 5 \\\\\n",
    "4 &  9 & 12 &  9 & 4 \\\\\n",
    "2 &  4 &  5 &  4 & 2 \n",
    "\\end{bmatrix}.A $$\n",
    "\n",
    "Blur gausiana:\n",
    "\n",
    "Implica realizar una convolucion con la formula\n",
    "\n",
    "$$\\frac{1}{\\sqrt{2\\pi.\\sigma^2}}.e^\\frac{(x^2+y^2)}{2\\sigma^2}$$\n",
    "\n",
    "Dilate\n",
    "Este filtro amplia y realza las zonas oscuras de la capa activa o selección.\n",
    "\n",
    "Para cada píxel de la imagen, alinea el valor del píxel (luminosidad) con el valor más bajo (el más oscuro) de los 8 circundantes (matriz 3x3). Así se añade un píxel oscuro en las áreas oscuras. Un píxel aislado en un fondo más claro se cambiará por un gran “píxel”, compuesto por 9 píxeles, y eso creará ruido en la imagen.\n",
    "Erode\n",
    "Este filtro ensancha y realza las zonas claras de la capa activa o selección.\n",
    "\n",
    "Para cada píxel de la imagen, alinea el valor del píxel (luminosidad) con el valor más alto (el más claro) de los 8 píxeles circundantes (matriz 3x3). Así se añade un píxel claro sobre áreas claras. Se borrará un píxel aislado en un fondo más claro. Un área clara más grande se dilatará en un píxel en todas las direcciones.\n",
    "\n"
   ]
  },
  {
   "cell_type": "markdown",
   "id": "instrumental-audit",
   "metadata": {},
   "source": [
    "import cv2 as cv\n",
    "img=cv.imread('img/flores1.jpg')\n",
    "gris=cv.cvtColor(img,cv.COLOR_BGR2GRAY)\n",
    "cv.imshow('Flor gris', gris)\n",
    "blur=cv.GaussianBlur(img,(7,7),cv.BORDER_DEFAULT)\n",
    "cv.imshow('Flor blur', blur) \n",
    "canny=cv.Canny(blur,125,175)\n",
    "cv.imshow('Flor canny', canny)\n",
    "dilate=cv.dilate(canny,(3,3),iterations=3)\n",
    "cv.imshow('Flor dilate', dilate)\n",
    "erode=cv.erode(dilate,(3,3),iterations=3)\n",
    "cv.imshow('Flor erode', erode)\n",
    "\n",
    "cropped=img[50:150,50:150]\n",
    "cv.imshow('Flor cortada', cropped)\n",
    "cv.waitKey(0)  \n",
    "cv.destroyAllWindows()"
   ]
  },
  {
   "cell_type": "markdown",
   "id": "explicit-trade",
   "metadata": {},
   "source": [
    "La detección de contorno es parte de un proceso de aislamiento (segmentation), que consiste en la identificación de objetos dentro de una imagen.\n",
    "\n",
    "Como es usual, hay varias posibles definiciones de un contorno, siendo cada una aplicable en distintas circunstancias. Una de las más comunes y generales definiciones es el contorno de paso ideal, ilustrado en la figura 1.3. en este ejemplo de una dimensión, el contorno es simplemente un cambio en el nivel de gris que ocurre en una ubicación especifica. Cuanto mayor es el cambio de nivel, más fácil resulta detectar el contorno, pero en el caso ideal cualquier cambio de nivel puede ser visto fácilmente."
   ]
  },
  {
   "cell_type": "code",
   "execution_count": 2,
   "id": "healthy-truck",
   "metadata": {},
   "outputs": [],
   "source": [
    "import cv2 as cv\n",
    "img=cv.imread('img/flores1.jpg')\n",
    "gris=cv.cvtColor(img,cv.COLOR_BGR2GRAY)\n",
    "cv.imshow('Flor gris', gris)\n",
    "canny=cv.Canny(gris,125,175)\n",
    "cv.imshow('Flor canny', canny)\n",
    "contorno,h,g =cv.findContours(canny,cv.RETR_LIST,cv.CHAIN_APPROX_NONE)\n",
    "cv.imshow('Flor contorno', contorno)\n",
    "cv.waitKey(0)  \n",
    "cv.destroyAllWindows()"
   ]
  },
  {
   "cell_type": "code",
   "execution_count": 1,
   "id": "based-metro",
   "metadata": {},
   "outputs": [
    {
     "ename": "error",
     "evalue": "OpenCV(3.4.1) C:\\Miniconda3\\conda-bld\\opencv-suite_1533128839831\\work\\modules\\highgui\\src\\window.cpp:356: error: (-215) size.width>0 && size.height>0 in function cv::imshow\n",
     "output_type": "error",
     "traceback": [
      "\u001b[1;31m---------------------------------------------------------------------------\u001b[0m",
      "\u001b[1;31merror\u001b[0m                                     Traceback (most recent call last)",
      "\u001b[1;32m<ipython-input-1-50756d996222>\u001b[0m in \u001b[0;36m<module>\u001b[1;34m\u001b[0m\n\u001b[0;32m      7\u001b[0m \u001b[1;32mwhile\u001b[0m \u001b[1;32mTrue\u001b[0m\u001b[1;33m:\u001b[0m\u001b[1;33m\u001b[0m\u001b[1;33m\u001b[0m\u001b[0m\n\u001b[0;32m      8\u001b[0m     \u001b[0misTrue\u001b[0m\u001b[1;33m,\u001b[0m \u001b[0mframe\u001b[0m \u001b[1;33m=\u001b[0m \u001b[0mmi_video\u001b[0m\u001b[1;33m.\u001b[0m\u001b[0mread\u001b[0m\u001b[1;33m(\u001b[0m\u001b[1;33m)\u001b[0m\u001b[1;33m\u001b[0m\u001b[1;33m\u001b[0m\u001b[0m\n\u001b[1;32m----> 9\u001b[1;33m     \u001b[0mcv\u001b[0m\u001b[1;33m.\u001b[0m\u001b[0mimshow\u001b[0m\u001b[1;33m(\u001b[0m\u001b[1;34m'Video'\u001b[0m\u001b[1;33m,\u001b[0m\u001b[0mframe\u001b[0m\u001b[1;33m)\u001b[0m\u001b[1;33m\u001b[0m\u001b[1;33m\u001b[0m\u001b[0m\n\u001b[0m\u001b[0;32m     10\u001b[0m     \u001b[1;32mif\u001b[0m \u001b[0mcv\u001b[0m\u001b[1;33m.\u001b[0m\u001b[0mwaitKey\u001b[0m\u001b[1;33m(\u001b[0m\u001b[1;36m20\u001b[0m\u001b[1;33m)\u001b[0m \u001b[1;33m&\u001b[0m \u001b[1;36m0xff\u001b[0m\u001b[1;33m==\u001b[0m \u001b[0mord\u001b[0m\u001b[1;33m(\u001b[0m\u001b[1;34m'd'\u001b[0m\u001b[1;33m)\u001b[0m\u001b[1;33m:\u001b[0m\u001b[1;33m\u001b[0m\u001b[1;33m\u001b[0m\u001b[0m\n\u001b[0;32m     11\u001b[0m         \u001b[1;32mbreak\u001b[0m\u001b[1;33m;\u001b[0m\u001b[1;33m\u001b[0m\u001b[1;33m\u001b[0m\u001b[0m\n",
      "\u001b[1;31merror\u001b[0m: OpenCV(3.4.1) C:\\Miniconda3\\conda-bld\\opencv-suite_1533128839831\\work\\modules\\highgui\\src\\window.cpp:356: error: (-215) size.width>0 && size.height>0 in function cv::imshow\n"
     ]
    }
   ],
   "source": [
    "import cv2 as cv\n",
    "import urllib.request as ur\n",
    "import numpy as np\n",
    "\n",
    "mi_video=cv.VideoCapture(\"http://192.168.1.30/cam-hi.jpg\")\n",
    "\n",
    "while True:\n",
    "    isTrue, frame = mi_video.read()\n",
    "    cv.imshow('Video',frame) \n",
    "    if cv.waitKey(20) & 0xff== ord('d'):\n",
    "        break;\n",
    "mi_video.release()\n",
    "cv.destroyAllWindows()"
   ]
  },
  {
   "cell_type": "code",
   "execution_count": 4,
   "id": "noted-listening",
   "metadata": {},
   "outputs": [
    {
     "ename": "error",
     "evalue": "OpenCV(3.4.1) C:\\Miniconda3\\conda-bld\\opencv-suite_1533128839831\\work\\modules\\highgui\\src\\window.cpp:356: error: (-215) size.width>0 && size.height>0 in function cv::imshow\n",
     "output_type": "error",
     "traceback": [
      "\u001b[1;31m---------------------------------------------------------------------------\u001b[0m",
      "\u001b[1;31merror\u001b[0m                                     Traceback (most recent call last)",
      "\u001b[1;32m<ipython-input-4-810126df2b32>\u001b[0m in \u001b[0;36m<module>\u001b[1;34m\u001b[0m\n\u001b[0;32m      1\u001b[0m \u001b[1;32mimport\u001b[0m \u001b[0mcv2\u001b[0m \u001b[1;32mas\u001b[0m \u001b[0mcv\u001b[0m\u001b[1;33m\u001b[0m\u001b[1;33m\u001b[0m\u001b[0m\n\u001b[0;32m      2\u001b[0m \u001b[0mimg\u001b[0m\u001b[1;33m=\u001b[0m\u001b[0mcv\u001b[0m\u001b[1;33m.\u001b[0m\u001b[0mimread\u001b[0m\u001b[1;33m(\u001b[0m\u001b[1;34m'http://192.168.1.30/cam-hi.jpg'\u001b[0m\u001b[1;33m)\u001b[0m\u001b[1;33m\u001b[0m\u001b[1;33m\u001b[0m\u001b[0m\n\u001b[1;32m----> 3\u001b[1;33m \u001b[0mcv\u001b[0m\u001b[1;33m.\u001b[0m\u001b[0mimshow\u001b[0m\u001b[1;33m(\u001b[0m\u001b[1;34m'Flor'\u001b[0m\u001b[1;33m,\u001b[0m\u001b[0mimg\u001b[0m\u001b[1;33m)\u001b[0m\u001b[1;33m\u001b[0m\u001b[1;33m\u001b[0m\u001b[0m\n\u001b[0m\u001b[0;32m      4\u001b[0m \u001b[0mcv\u001b[0m\u001b[1;33m.\u001b[0m\u001b[0mwaitKey\u001b[0m\u001b[1;33m(\u001b[0m\u001b[1;36m0\u001b[0m\u001b[1;33m)\u001b[0m\u001b[1;33m\u001b[0m\u001b[1;33m\u001b[0m\u001b[0m\n\u001b[0;32m      5\u001b[0m \u001b[0mcv\u001b[0m\u001b[1;33m.\u001b[0m\u001b[0mdestroyAllWindows\u001b[0m\u001b[1;33m(\u001b[0m\u001b[1;33m)\u001b[0m\u001b[1;33m\u001b[0m\u001b[1;33m\u001b[0m\u001b[0m\n",
      "\u001b[1;31merror\u001b[0m: OpenCV(3.4.1) C:\\Miniconda3\\conda-bld\\opencv-suite_1533128839831\\work\\modules\\highgui\\src\\window.cpp:356: error: (-215) size.width>0 && size.height>0 in function cv::imshow\n"
     ]
    }
   ],
   "source": [
    "import cv2 as cv\n",
    "imgr=\n",
    "img=cv.imread('http://192.168.1.30/cam-hi.jpg')\n",
    "cv.imshow('Flor',img)\n",
    "cv.waitKey(0) \n",
    "cv.destroyAllWindows()"
   ]
  },
  {
   "cell_type": "code",
   "execution_count": 1,
   "id": "hired-challenge",
   "metadata": {},
   "outputs": [
    {
     "ename": "URLError",
     "evalue": "<urlopen error [WinError 10060] Se produjo un error durante el intento de conexión ya que la parte conectada no respondió adecuadamente tras un periodo de tiempo, o bien se produjo un error en la conexión establecida ya que el host conectado no ha podido responder>",
     "output_type": "error",
     "traceback": [
      "\u001b[1;31m---------------------------------------------------------------------------\u001b[0m",
      "\u001b[1;31mTimeoutError\u001b[0m                              Traceback (most recent call last)",
      "\u001b[1;32m~\\anaconda3\\lib\\urllib\\request.py\u001b[0m in \u001b[0;36mdo_open\u001b[1;34m(self, http_class, req, **http_conn_args)\u001b[0m\n\u001b[0;32m   1349\u001b[0m                 h.request(req.get_method(), req.selector, req.data, headers,\n\u001b[1;32m-> 1350\u001b[1;33m                           encode_chunked=req.has_header('Transfer-encoding'))\n\u001b[0m\u001b[0;32m   1351\u001b[0m             \u001b[1;32mexcept\u001b[0m \u001b[0mOSError\u001b[0m \u001b[1;32mas\u001b[0m \u001b[0merr\u001b[0m\u001b[1;33m:\u001b[0m \u001b[1;31m# timeout error\u001b[0m\u001b[1;33m\u001b[0m\u001b[1;33m\u001b[0m\u001b[0m\n",
      "\u001b[1;32m~\\anaconda3\\lib\\http\\client.py\u001b[0m in \u001b[0;36mrequest\u001b[1;34m(self, method, url, body, headers, encode_chunked)\u001b[0m\n\u001b[0;32m   1276\u001b[0m         \u001b[1;34m\"\"\"Send a complete request to the server.\"\"\"\u001b[0m\u001b[1;33m\u001b[0m\u001b[1;33m\u001b[0m\u001b[0m\n\u001b[1;32m-> 1277\u001b[1;33m         \u001b[0mself\u001b[0m\u001b[1;33m.\u001b[0m\u001b[0m_send_request\u001b[0m\u001b[1;33m(\u001b[0m\u001b[0mmethod\u001b[0m\u001b[1;33m,\u001b[0m \u001b[0murl\u001b[0m\u001b[1;33m,\u001b[0m \u001b[0mbody\u001b[0m\u001b[1;33m,\u001b[0m \u001b[0mheaders\u001b[0m\u001b[1;33m,\u001b[0m \u001b[0mencode_chunked\u001b[0m\u001b[1;33m)\u001b[0m\u001b[1;33m\u001b[0m\u001b[1;33m\u001b[0m\u001b[0m\n\u001b[0m\u001b[0;32m   1278\u001b[0m \u001b[1;33m\u001b[0m\u001b[0m\n",
      "\u001b[1;32m~\\anaconda3\\lib\\http\\client.py\u001b[0m in \u001b[0;36m_send_request\u001b[1;34m(self, method, url, body, headers, encode_chunked)\u001b[0m\n\u001b[0;32m   1322\u001b[0m             \u001b[0mbody\u001b[0m \u001b[1;33m=\u001b[0m \u001b[0m_encode\u001b[0m\u001b[1;33m(\u001b[0m\u001b[0mbody\u001b[0m\u001b[1;33m,\u001b[0m \u001b[1;34m'body'\u001b[0m\u001b[1;33m)\u001b[0m\u001b[1;33m\u001b[0m\u001b[1;33m\u001b[0m\u001b[0m\n\u001b[1;32m-> 1323\u001b[1;33m         \u001b[0mself\u001b[0m\u001b[1;33m.\u001b[0m\u001b[0mendheaders\u001b[0m\u001b[1;33m(\u001b[0m\u001b[0mbody\u001b[0m\u001b[1;33m,\u001b[0m \u001b[0mencode_chunked\u001b[0m\u001b[1;33m=\u001b[0m\u001b[0mencode_chunked\u001b[0m\u001b[1;33m)\u001b[0m\u001b[1;33m\u001b[0m\u001b[1;33m\u001b[0m\u001b[0m\n\u001b[0m\u001b[0;32m   1324\u001b[0m \u001b[1;33m\u001b[0m\u001b[0m\n",
      "\u001b[1;32m~\\anaconda3\\lib\\http\\client.py\u001b[0m in \u001b[0;36mendheaders\u001b[1;34m(self, message_body, encode_chunked)\u001b[0m\n\u001b[0;32m   1271\u001b[0m             \u001b[1;32mraise\u001b[0m \u001b[0mCannotSendHeader\u001b[0m\u001b[1;33m(\u001b[0m\u001b[1;33m)\u001b[0m\u001b[1;33m\u001b[0m\u001b[1;33m\u001b[0m\u001b[0m\n\u001b[1;32m-> 1272\u001b[1;33m         \u001b[0mself\u001b[0m\u001b[1;33m.\u001b[0m\u001b[0m_send_output\u001b[0m\u001b[1;33m(\u001b[0m\u001b[0mmessage_body\u001b[0m\u001b[1;33m,\u001b[0m \u001b[0mencode_chunked\u001b[0m\u001b[1;33m=\u001b[0m\u001b[0mencode_chunked\u001b[0m\u001b[1;33m)\u001b[0m\u001b[1;33m\u001b[0m\u001b[1;33m\u001b[0m\u001b[0m\n\u001b[0m\u001b[0;32m   1273\u001b[0m \u001b[1;33m\u001b[0m\u001b[0m\n",
      "\u001b[1;32m~\\anaconda3\\lib\\http\\client.py\u001b[0m in \u001b[0;36m_send_output\u001b[1;34m(self, message_body, encode_chunked)\u001b[0m\n\u001b[0;32m   1031\u001b[0m         \u001b[1;32mdel\u001b[0m \u001b[0mself\u001b[0m\u001b[1;33m.\u001b[0m\u001b[0m_buffer\u001b[0m\u001b[1;33m[\u001b[0m\u001b[1;33m:\u001b[0m\u001b[1;33m]\u001b[0m\u001b[1;33m\u001b[0m\u001b[1;33m\u001b[0m\u001b[0m\n\u001b[1;32m-> 1032\u001b[1;33m         \u001b[0mself\u001b[0m\u001b[1;33m.\u001b[0m\u001b[0msend\u001b[0m\u001b[1;33m(\u001b[0m\u001b[0mmsg\u001b[0m\u001b[1;33m)\u001b[0m\u001b[1;33m\u001b[0m\u001b[1;33m\u001b[0m\u001b[0m\n\u001b[0m\u001b[0;32m   1033\u001b[0m \u001b[1;33m\u001b[0m\u001b[0m\n",
      "\u001b[1;32m~\\anaconda3\\lib\\http\\client.py\u001b[0m in \u001b[0;36msend\u001b[1;34m(self, data)\u001b[0m\n\u001b[0;32m    971\u001b[0m             \u001b[1;32mif\u001b[0m \u001b[0mself\u001b[0m\u001b[1;33m.\u001b[0m\u001b[0mauto_open\u001b[0m\u001b[1;33m:\u001b[0m\u001b[1;33m\u001b[0m\u001b[1;33m\u001b[0m\u001b[0m\n\u001b[1;32m--> 972\u001b[1;33m                 \u001b[0mself\u001b[0m\u001b[1;33m.\u001b[0m\u001b[0mconnect\u001b[0m\u001b[1;33m(\u001b[0m\u001b[1;33m)\u001b[0m\u001b[1;33m\u001b[0m\u001b[1;33m\u001b[0m\u001b[0m\n\u001b[0m\u001b[0;32m    973\u001b[0m             \u001b[1;32melse\u001b[0m\u001b[1;33m:\u001b[0m\u001b[1;33m\u001b[0m\u001b[1;33m\u001b[0m\u001b[0m\n",
      "\u001b[1;32m~\\anaconda3\\lib\\http\\client.py\u001b[0m in \u001b[0;36mconnect\u001b[1;34m(self)\u001b[0m\n\u001b[0;32m    943\u001b[0m         self.sock = self._create_connection(\n\u001b[1;32m--> 944\u001b[1;33m             (self.host,self.port), self.timeout, self.source_address)\n\u001b[0m\u001b[0;32m    945\u001b[0m         \u001b[0mself\u001b[0m\u001b[1;33m.\u001b[0m\u001b[0msock\u001b[0m\u001b[1;33m.\u001b[0m\u001b[0msetsockopt\u001b[0m\u001b[1;33m(\u001b[0m\u001b[0msocket\u001b[0m\u001b[1;33m.\u001b[0m\u001b[0mIPPROTO_TCP\u001b[0m\u001b[1;33m,\u001b[0m \u001b[0msocket\u001b[0m\u001b[1;33m.\u001b[0m\u001b[0mTCP_NODELAY\u001b[0m\u001b[1;33m,\u001b[0m \u001b[1;36m1\u001b[0m\u001b[1;33m)\u001b[0m\u001b[1;33m\u001b[0m\u001b[1;33m\u001b[0m\u001b[0m\n",
      "\u001b[1;32m~\\anaconda3\\lib\\socket.py\u001b[0m in \u001b[0;36mcreate_connection\u001b[1;34m(address, timeout, source_address)\u001b[0m\n\u001b[0;32m    727\u001b[0m         \u001b[1;32mtry\u001b[0m\u001b[1;33m:\u001b[0m\u001b[1;33m\u001b[0m\u001b[1;33m\u001b[0m\u001b[0m\n\u001b[1;32m--> 728\u001b[1;33m             \u001b[1;32mraise\u001b[0m \u001b[0merr\u001b[0m\u001b[1;33m\u001b[0m\u001b[1;33m\u001b[0m\u001b[0m\n\u001b[0m\u001b[0;32m    729\u001b[0m         \u001b[1;32mfinally\u001b[0m\u001b[1;33m:\u001b[0m\u001b[1;33m\u001b[0m\u001b[1;33m\u001b[0m\u001b[0m\n",
      "\u001b[1;32m~\\anaconda3\\lib\\socket.py\u001b[0m in \u001b[0;36mcreate_connection\u001b[1;34m(address, timeout, source_address)\u001b[0m\n\u001b[0;32m    715\u001b[0m                 \u001b[0msock\u001b[0m\u001b[1;33m.\u001b[0m\u001b[0mbind\u001b[0m\u001b[1;33m(\u001b[0m\u001b[0msource_address\u001b[0m\u001b[1;33m)\u001b[0m\u001b[1;33m\u001b[0m\u001b[1;33m\u001b[0m\u001b[0m\n\u001b[1;32m--> 716\u001b[1;33m             \u001b[0msock\u001b[0m\u001b[1;33m.\u001b[0m\u001b[0mconnect\u001b[0m\u001b[1;33m(\u001b[0m\u001b[0msa\u001b[0m\u001b[1;33m)\u001b[0m\u001b[1;33m\u001b[0m\u001b[1;33m\u001b[0m\u001b[0m\n\u001b[0m\u001b[0;32m    717\u001b[0m             \u001b[1;31m# Break explicitly a reference cycle\u001b[0m\u001b[1;33m\u001b[0m\u001b[1;33m\u001b[0m\u001b[1;33m\u001b[0m\u001b[0m\n",
      "\u001b[1;31mTimeoutError\u001b[0m: [WinError 10060] Se produjo un error durante el intento de conexión ya que la parte conectada no respondió adecuadamente tras un periodo de tiempo, o bien se produjo un error en la conexión establecida ya que el host conectado no ha podido responder",
      "\nDuring handling of the above exception, another exception occurred:\n",
      "\u001b[1;31mURLError\u001b[0m                                  Traceback (most recent call last)",
      "\u001b[1;32m<ipython-input-1-ea09e64e17f3>\u001b[0m in \u001b[0;36m<module>\u001b[1;34m\u001b[0m\n\u001b[0;32m      6\u001b[0m \u001b[0mcv\u001b[0m\u001b[1;33m.\u001b[0m\u001b[0mnamedWindow\u001b[0m\u001b[1;33m(\u001b[0m\u001b[1;34m'Hola'\u001b[0m\u001b[1;33m,\u001b[0m\u001b[0mcv\u001b[0m\u001b[1;33m.\u001b[0m\u001b[0mWINDOW_AUTOSIZE\u001b[0m\u001b[1;33m)\u001b[0m\u001b[1;33m\u001b[0m\u001b[1;33m\u001b[0m\u001b[0m\n\u001b[0;32m      7\u001b[0m \u001b[1;32mwhile\u001b[0m \u001b[1;33m(\u001b[0m\u001b[1;36m1\u001b[0m\u001b[1;33m)\u001b[0m\u001b[1;33m:\u001b[0m\u001b[1;33m\u001b[0m\u001b[1;33m\u001b[0m\u001b[0m\n\u001b[1;32m----> 8\u001b[1;33m     \u001b[0mimgR\u001b[0m\u001b[1;33m=\u001b[0m\u001b[0murllib\u001b[0m\u001b[1;33m.\u001b[0m\u001b[0mrequest\u001b[0m\u001b[1;33m.\u001b[0m\u001b[0murlopen\u001b[0m\u001b[1;33m(\u001b[0m\u001b[0murl\u001b[0m\u001b[1;33m)\u001b[0m\u001b[1;33m\u001b[0m\u001b[1;33m\u001b[0m\u001b[0m\n\u001b[0m\u001b[0;32m      9\u001b[0m     \u001b[0mimgNp\u001b[0m\u001b[1;33m=\u001b[0m\u001b[0mnp\u001b[0m\u001b[1;33m.\u001b[0m\u001b[0marray\u001b[0m\u001b[1;33m(\u001b[0m\u001b[0mbytearray\u001b[0m\u001b[1;33m(\u001b[0m\u001b[0mimgR\u001b[0m\u001b[1;33m.\u001b[0m\u001b[0mread\u001b[0m\u001b[1;33m(\u001b[0m\u001b[1;33m)\u001b[0m\u001b[1;33m)\u001b[0m\u001b[1;33m,\u001b[0m\u001b[0mdtype\u001b[0m\u001b[1;33m=\u001b[0m\u001b[0mnp\u001b[0m\u001b[1;33m.\u001b[0m\u001b[0muint8\u001b[0m\u001b[1;33m)\u001b[0m\u001b[1;33m\u001b[0m\u001b[1;33m\u001b[0m\u001b[0m\n\u001b[0;32m     10\u001b[0m     \u001b[0mimg\u001b[0m\u001b[1;33m=\u001b[0m\u001b[0mcv\u001b[0m\u001b[1;33m.\u001b[0m\u001b[0mimdecode\u001b[0m\u001b[1;33m(\u001b[0m\u001b[0mimgNp\u001b[0m\u001b[1;33m,\u001b[0m\u001b[1;33m-\u001b[0m\u001b[1;36m1\u001b[0m\u001b[1;33m)\u001b[0m\u001b[1;33m\u001b[0m\u001b[1;33m\u001b[0m\u001b[0m\n",
      "\u001b[1;32m~\\anaconda3\\lib\\urllib\\request.py\u001b[0m in \u001b[0;36murlopen\u001b[1;34m(url, data, timeout, cafile, capath, cadefault, context)\u001b[0m\n\u001b[0;32m    220\u001b[0m     \u001b[1;32melse\u001b[0m\u001b[1;33m:\u001b[0m\u001b[1;33m\u001b[0m\u001b[1;33m\u001b[0m\u001b[0m\n\u001b[0;32m    221\u001b[0m         \u001b[0mopener\u001b[0m \u001b[1;33m=\u001b[0m \u001b[0m_opener\u001b[0m\u001b[1;33m\u001b[0m\u001b[1;33m\u001b[0m\u001b[0m\n\u001b[1;32m--> 222\u001b[1;33m     \u001b[1;32mreturn\u001b[0m \u001b[0mopener\u001b[0m\u001b[1;33m.\u001b[0m\u001b[0mopen\u001b[0m\u001b[1;33m(\u001b[0m\u001b[0murl\u001b[0m\u001b[1;33m,\u001b[0m \u001b[0mdata\u001b[0m\u001b[1;33m,\u001b[0m \u001b[0mtimeout\u001b[0m\u001b[1;33m)\u001b[0m\u001b[1;33m\u001b[0m\u001b[1;33m\u001b[0m\u001b[0m\n\u001b[0m\u001b[0;32m    223\u001b[0m \u001b[1;33m\u001b[0m\u001b[0m\n\u001b[0;32m    224\u001b[0m \u001b[1;32mdef\u001b[0m \u001b[0minstall_opener\u001b[0m\u001b[1;33m(\u001b[0m\u001b[0mopener\u001b[0m\u001b[1;33m)\u001b[0m\u001b[1;33m:\u001b[0m\u001b[1;33m\u001b[0m\u001b[1;33m\u001b[0m\u001b[0m\n",
      "\u001b[1;32m~\\anaconda3\\lib\\urllib\\request.py\u001b[0m in \u001b[0;36mopen\u001b[1;34m(self, fullurl, data, timeout)\u001b[0m\n\u001b[0;32m    523\u001b[0m             \u001b[0mreq\u001b[0m \u001b[1;33m=\u001b[0m \u001b[0mmeth\u001b[0m\u001b[1;33m(\u001b[0m\u001b[0mreq\u001b[0m\u001b[1;33m)\u001b[0m\u001b[1;33m\u001b[0m\u001b[1;33m\u001b[0m\u001b[0m\n\u001b[0;32m    524\u001b[0m \u001b[1;33m\u001b[0m\u001b[0m\n\u001b[1;32m--> 525\u001b[1;33m         \u001b[0mresponse\u001b[0m \u001b[1;33m=\u001b[0m \u001b[0mself\u001b[0m\u001b[1;33m.\u001b[0m\u001b[0m_open\u001b[0m\u001b[1;33m(\u001b[0m\u001b[0mreq\u001b[0m\u001b[1;33m,\u001b[0m \u001b[0mdata\u001b[0m\u001b[1;33m)\u001b[0m\u001b[1;33m\u001b[0m\u001b[1;33m\u001b[0m\u001b[0m\n\u001b[0m\u001b[0;32m    526\u001b[0m \u001b[1;33m\u001b[0m\u001b[0m\n\u001b[0;32m    527\u001b[0m         \u001b[1;31m# post-process response\u001b[0m\u001b[1;33m\u001b[0m\u001b[1;33m\u001b[0m\u001b[1;33m\u001b[0m\u001b[0m\n",
      "\u001b[1;32m~\\anaconda3\\lib\\urllib\\request.py\u001b[0m in \u001b[0;36m_open\u001b[1;34m(self, req, data)\u001b[0m\n\u001b[0;32m    541\u001b[0m         \u001b[0mprotocol\u001b[0m \u001b[1;33m=\u001b[0m \u001b[0mreq\u001b[0m\u001b[1;33m.\u001b[0m\u001b[0mtype\u001b[0m\u001b[1;33m\u001b[0m\u001b[1;33m\u001b[0m\u001b[0m\n\u001b[0;32m    542\u001b[0m         result = self._call_chain(self.handle_open, protocol, protocol +\n\u001b[1;32m--> 543\u001b[1;33m                                   '_open', req)\n\u001b[0m\u001b[0;32m    544\u001b[0m         \u001b[1;32mif\u001b[0m \u001b[0mresult\u001b[0m\u001b[1;33m:\u001b[0m\u001b[1;33m\u001b[0m\u001b[1;33m\u001b[0m\u001b[0m\n\u001b[0;32m    545\u001b[0m             \u001b[1;32mreturn\u001b[0m \u001b[0mresult\u001b[0m\u001b[1;33m\u001b[0m\u001b[1;33m\u001b[0m\u001b[0m\n",
      "\u001b[1;32m~\\anaconda3\\lib\\urllib\\request.py\u001b[0m in \u001b[0;36m_call_chain\u001b[1;34m(self, chain, kind, meth_name, *args)\u001b[0m\n\u001b[0;32m    501\u001b[0m         \u001b[1;32mfor\u001b[0m \u001b[0mhandler\u001b[0m \u001b[1;32min\u001b[0m \u001b[0mhandlers\u001b[0m\u001b[1;33m:\u001b[0m\u001b[1;33m\u001b[0m\u001b[1;33m\u001b[0m\u001b[0m\n\u001b[0;32m    502\u001b[0m             \u001b[0mfunc\u001b[0m \u001b[1;33m=\u001b[0m \u001b[0mgetattr\u001b[0m\u001b[1;33m(\u001b[0m\u001b[0mhandler\u001b[0m\u001b[1;33m,\u001b[0m \u001b[0mmeth_name\u001b[0m\u001b[1;33m)\u001b[0m\u001b[1;33m\u001b[0m\u001b[1;33m\u001b[0m\u001b[0m\n\u001b[1;32m--> 503\u001b[1;33m             \u001b[0mresult\u001b[0m \u001b[1;33m=\u001b[0m \u001b[0mfunc\u001b[0m\u001b[1;33m(\u001b[0m\u001b[1;33m*\u001b[0m\u001b[0margs\u001b[0m\u001b[1;33m)\u001b[0m\u001b[1;33m\u001b[0m\u001b[1;33m\u001b[0m\u001b[0m\n\u001b[0m\u001b[0;32m    504\u001b[0m             \u001b[1;32mif\u001b[0m \u001b[0mresult\u001b[0m \u001b[1;32mis\u001b[0m \u001b[1;32mnot\u001b[0m \u001b[1;32mNone\u001b[0m\u001b[1;33m:\u001b[0m\u001b[1;33m\u001b[0m\u001b[1;33m\u001b[0m\u001b[0m\n\u001b[0;32m    505\u001b[0m                 \u001b[1;32mreturn\u001b[0m \u001b[0mresult\u001b[0m\u001b[1;33m\u001b[0m\u001b[1;33m\u001b[0m\u001b[0m\n",
      "\u001b[1;32m~\\anaconda3\\lib\\urllib\\request.py\u001b[0m in \u001b[0;36mhttp_open\u001b[1;34m(self, req)\u001b[0m\n\u001b[0;32m   1376\u001b[0m \u001b[1;33m\u001b[0m\u001b[0m\n\u001b[0;32m   1377\u001b[0m     \u001b[1;32mdef\u001b[0m \u001b[0mhttp_open\u001b[0m\u001b[1;33m(\u001b[0m\u001b[0mself\u001b[0m\u001b[1;33m,\u001b[0m \u001b[0mreq\u001b[0m\u001b[1;33m)\u001b[0m\u001b[1;33m:\u001b[0m\u001b[1;33m\u001b[0m\u001b[1;33m\u001b[0m\u001b[0m\n\u001b[1;32m-> 1378\u001b[1;33m         \u001b[1;32mreturn\u001b[0m \u001b[0mself\u001b[0m\u001b[1;33m.\u001b[0m\u001b[0mdo_open\u001b[0m\u001b[1;33m(\u001b[0m\u001b[0mhttp\u001b[0m\u001b[1;33m.\u001b[0m\u001b[0mclient\u001b[0m\u001b[1;33m.\u001b[0m\u001b[0mHTTPConnection\u001b[0m\u001b[1;33m,\u001b[0m \u001b[0mreq\u001b[0m\u001b[1;33m)\u001b[0m\u001b[1;33m\u001b[0m\u001b[1;33m\u001b[0m\u001b[0m\n\u001b[0m\u001b[0;32m   1379\u001b[0m \u001b[1;33m\u001b[0m\u001b[0m\n\u001b[0;32m   1380\u001b[0m     \u001b[0mhttp_request\u001b[0m \u001b[1;33m=\u001b[0m \u001b[0mAbstractHTTPHandler\u001b[0m\u001b[1;33m.\u001b[0m\u001b[0mdo_request_\u001b[0m\u001b[1;33m\u001b[0m\u001b[1;33m\u001b[0m\u001b[0m\n",
      "\u001b[1;32m~\\anaconda3\\lib\\urllib\\request.py\u001b[0m in \u001b[0;36mdo_open\u001b[1;34m(self, http_class, req, **http_conn_args)\u001b[0m\n\u001b[0;32m   1350\u001b[0m                           encode_chunked=req.has_header('Transfer-encoding'))\n\u001b[0;32m   1351\u001b[0m             \u001b[1;32mexcept\u001b[0m \u001b[0mOSError\u001b[0m \u001b[1;32mas\u001b[0m \u001b[0merr\u001b[0m\u001b[1;33m:\u001b[0m \u001b[1;31m# timeout error\u001b[0m\u001b[1;33m\u001b[0m\u001b[1;33m\u001b[0m\u001b[0m\n\u001b[1;32m-> 1352\u001b[1;33m                 \u001b[1;32mraise\u001b[0m \u001b[0mURLError\u001b[0m\u001b[1;33m(\u001b[0m\u001b[0merr\u001b[0m\u001b[1;33m)\u001b[0m\u001b[1;33m\u001b[0m\u001b[1;33m\u001b[0m\u001b[0m\n\u001b[0m\u001b[0;32m   1353\u001b[0m             \u001b[0mr\u001b[0m \u001b[1;33m=\u001b[0m \u001b[0mh\u001b[0m\u001b[1;33m.\u001b[0m\u001b[0mgetresponse\u001b[0m\u001b[1;33m(\u001b[0m\u001b[1;33m)\u001b[0m\u001b[1;33m\u001b[0m\u001b[1;33m\u001b[0m\u001b[0m\n\u001b[0;32m   1354\u001b[0m         \u001b[1;32mexcept\u001b[0m\u001b[1;33m:\u001b[0m\u001b[1;33m\u001b[0m\u001b[1;33m\u001b[0m\u001b[0m\n",
      "\u001b[1;31mURLError\u001b[0m: <urlopen error [WinError 10060] Se produjo un error durante el intento de conexión ya que la parte conectada no respondió adecuadamente tras un periodo de tiempo, o bien se produjo un error en la conexión establecida ya que el host conectado no ha podido responder>"
     ]
    }
   ],
   "source": [
    "import cv2 as cv\n",
    "import urllib.request \n",
    "import numpy as np\n",
    "\n",
    "url=\"http://192.168.1.30/cam-hi.jpg\"\n",
    "cv.namedWindow('Hola',cv.WINDOW_AUTOSIZE)\n",
    "while (1):\n",
    "    imgR=urllib.request.urlopen(url)\n",
    "    imgNp=np.array(bytearray(imgR.read()),dtype=np.uint8)\n",
    "    img=cv.imdecode(imgNp,-1)\n",
    "    cv.imshow('Hola',img)     \n",
    "    tecla=cv.waitKey(5)& 0xFF\n",
    "    if tecla ==27:\n",
    "        break\n",
    "cv.destroyAllWindows()"
   ]
  },
  {
   "cell_type": "markdown",
   "id": "confidential-energy",
   "metadata": {},
   "source": [
    "http://192.168.1.30/cam-hi.jpg"
   ]
  },
  {
   "cell_type": "code",
   "execution_count": 5,
   "id": "hawaiian-likelihood",
   "metadata": {},
   "outputs": [],
   "source": [
    "import urllib.request \n",
    "url=\"http://192.168.1.30/cam-hi.jpg\"\n",
    "imgR=urllib.request.urlopen(url)\n"
   ]
  },
  {
   "cell_type": "code",
   "execution_count": 6,
   "id": "shaped-glasgow",
   "metadata": {},
   "outputs": [
    {
     "name": "stdout",
     "output_type": "stream",
     "text": [
      "http://192.168.1.30/cam-hi.jpg\n"
     ]
    }
   ],
   "source": [
    "print(url)\n"
   ]
  },
  {
   "cell_type": "code",
   "execution_count": null,
   "id": "global-healing",
   "metadata": {},
   "outputs": [],
   "source": []
  }
 ],
 "metadata": {
  "kernelspec": {
   "display_name": "Python 3",
   "language": "python",
   "name": "python3"
  },
  "language_info": {
   "codemirror_mode": {
    "name": "ipython",
    "version": 3
   },
   "file_extension": ".py",
   "mimetype": "text/x-python",
   "name": "python",
   "nbconvert_exporter": "python",
   "pygments_lexer": "ipython3",
   "version": "3.8.8"
  }
 },
 "nbformat": 4,
 "nbformat_minor": 5
}
