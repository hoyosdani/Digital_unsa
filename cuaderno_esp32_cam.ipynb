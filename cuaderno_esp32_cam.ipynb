{
 "cells": [
  {
   "cell_type": "markdown",
   "id": "going-essence",
   "metadata": {},
   "source": [
    "# ESP32-CAM\n",
    "\n",
    "El módulo ESP32-CAM es un microcontrolador avanzado de 32 bit , un módulo WiFi, bluetooth, una  cámara de vídeo incorporada y ranura micro SD incorporada. \n",
    "   - Procesador dual core Xtensa® LX6 de 32 bitsWiFi 802.11b/g/n + Bluetooth 4.2 con BLE. Soporta carga de imagen por WiFi.\n",
    "   - Conexiones: UART, SPI, I2C, y PWM. Tiene 9 pines GPIO.\n",
    "   - Frecuencia de reloj: hasta 160Mhz.\n",
    "   - Memoria: 520KB de SRAM +  4MB de PSRAM + SD slot para tarjetas\n",
    "   - Extras: tiene múltiples modos de reposo, firmware actualizable por OTA, y LED para uso de memoria flash built-in.\n",
    "   - Cámara: soporta cámaras OV2640 que pueden venir en el pack o comprarse independientemente. Este tipo de cámaras tienen:\n",
    "        - 2 MP en su sensor\n",
    "        - Tamaño de arreglo UXGA de 1622×1200 px\n",
    "        - Formato de salida YUV422, YUV420, RGB565, RGB555 y compresión de datos de 8-bit.\n",
    "        - Puede transferir imagen entre 15 y 60 FPS.\n",
    "   - Bluetooth 4.2 2.4 Ghz; BT 2.0 y 4.0 BLE\n",
    "   - 36 GPIO pins.\n",
    "   - 16 x Analog-to-Digital Converter (ADC) de 12 bits de resolución y se pueden programar con límite de entrada a 1V, 2 V y 4V\n",
    "   - 2 x Digital to Analog converter DAC de 8 bits.\n",
    "   - Pueden definirse hasta 16 canales de PWM.\n",
    "   - 2 x UART o puertas serie\n",
    "   - 2 x I2C channels y 4 x SPI channels.      \n",
    "        \n",
    " <img src=\"img/esp32-CAM-pinout-new.png\" alt=\"Imagen\"></img>\n",
    " \n",
    " ESP32 cam dibujo"
   ]
  },
  {
   "cell_type": "markdown",
   "id": "73c3bf0a",
   "metadata": {},
   "source": [
    "<img src=\"img/esp-32-esquema.webp\" alt=\"Imagen\"></img>\n",
    "Esp32 cam esquema general"
   ]
  },
  {
   "cell_type": "markdown",
   "id": "f4728cda",
   "metadata": {},
   "source": [
    "## Preparar Arduino IDE para programar un ESP32\n",
    "\n",
    "### Adicionar las URLs para placas ESP32\n",
    "\n",
    "- Ejecutar Arduino IDE y hacer clic en “Archivo>Preferencias”.\n",
    "\n",
    "- En la ventana de preferencias es necesario hacer clic en el botón “Gestor de tarjetas adicionales”.\n",
    "- En la ventana se pegan la siguiente URLs: https://dl.espressif.com/dl/package_esp32_index.json Una vez agregadas las URLs es necesario hacer clic en el botón “OK” de la ventana. Esto devuelve a la ventana de preferencias, donde también tienes que hacer clic en el botón “OK”. \n",
    "<img src=\"img/esp32-software.png\" alt=\"Imagen\"></img>\n",
    "\n",
    "Para instalar el soporte para ESP32 y las placas de desarrollo hay que ir a \n",
    "\n",
    "#### “Herramientas>Placas>Gestor de Tarjetas”.\n",
    "\n",
    "<img src=\"img/esp32_tarjetas.png\" alt=\"Imagen\"></img>\n",
    "\n",
    "Colocar esp32 apretar ENTER "
   ]
  },
  {
   "cell_type": "markdown",
   "id": "eee1c361",
   "metadata": {},
   "source": [
    "## PROGRAMAR ESP32-CAM\n",
    "\n",
    "El ESP32 CAM no tiene puerto USB, literalmente no cabe, para comunicarnos (desde nuestro ordenador) con el ESP32 CAM tenemos que utilizar un adaptador FTDI. En este caso se utilizara CP2202. Es un conversor serie a usb que utiliza el chip set CP1202. Se debe instalar el driver del chip. \n",
    "\n"
   ]
  },
  {
   "cell_type": "markdown",
   "id": "sexual-dispute",
   "metadata": {},
   "source": [
    "\n",
    "<img src=\"img/cp2102.jpg\" alt=\"Imagen\"></img>\n",
    "Se muestra eldiagrama del CP1202\n",
    "\n",
    "Caracteristicas:\n",
    "   - chipset CP2102.\n",
    "   - Especificacion USB 2.0\n",
    "   - Standard USB tipo A \n",
    "   - 6pins para 3.3V, RST, TXD, RXD, GND & 5V.\n",
    "   - Baud rates: 300 bps to 1.5 Mbps.\n",
    "   - Byte receive buffer; 640 byte transmit buffer.\n",
    "   - Hardware or X-On/X-Off handshaking supported.\n",
    "   - Event character support Line break transmission.\n",
    "   - USB suspend states supported via SUSPEND pins.\n",
    "   - Rango de Temperatura: -40 to +85.\n",
    "   - Tamaño: 42mm X 15mm.\n",
    "   - Peso: 4g  \n",
    "   Este es el grabador que compre\n",
    "   "
   ]
  },
  {
   "cell_type": "markdown",
   "id": "committed-sally",
   "metadata": {},
   "source": [
    "Como conectar esp32 con cp2002\n",
    "<img src=\"img/esp32cam-cp2102.jpg\" alt=\"Imagen\"></img>"
   ]
  },
  {
   "cell_type": "markdown",
   "id": "8fa70de9",
   "metadata": {},
   "source": [
    "## Paso 1.\n",
    "\n",
    "Selecciona la tarjeta Ai Thinker ESP 32 en tu IDE Arduino\n",
    "<img src=\"img/esp32cam-tarjeta2.png\" alt=\"Imagen\"></img>\n",
    "\n",
    "## Paso 2. Cargar el ejemplo CamaraWebServer\n",
    "\n",
    "Se debe cambiar dos partes del código para adecuarlo a tu entorno.\n",
    "\n",
    "#### El modelo ESP32 CAM a utilizar.\n",
    "// Select camera model\n",
    "// #define CAMERA_MODEL_WROVER_KIT // Has PSRAM\n",
    "//#define CAMERA_MODEL_ESP_EYE // Has PSRAM\n",
    "//#define CAMERA_MODEL_M5STACK_PSRAM // Has PSRAM\n",
    "//#define CAMERA_MODEL_M5STACK_V2_PSRAM // M5Camera version B Has PSRAM\n",
    "//#define CAMERA_MODEL_M5STACK_WIDE // Has PSRAM\n",
    "//#define CAMERA_MODEL_M5STACK_ESP32CAM // No PSRAM\n",
    "#define CAMERA_MODEL_AI_THINKER // Has PSRAM\n",
    "//#define CAMERA_MODEL_TTGO_T_JOURNAL // No PSRAM\n",
    "\n",
    "\n",
    "#### La configuración WiFi: el SSID y la clave.\n",
    "\n",
    "const char* ssid = \"redwifi\";\n",
    "const char* password = \"xxxx\";\n",
    "\n",
    "\n",
    "### Paso 3. Elige el puerto de comunicaciones\n",
    "\n",
    "Elegir el puerto USB donde se conecto el dispositivo.\n",
    "En Windows el puerto será COMx\n",
    "\n"
   ]
  },
  {
   "cell_type": "markdown",
   "id": "killing-soccer",
   "metadata": {},
   "source": [
    "## SERVO \n",
    "\n",
    "Para conectar un servo se debe usar la libreria ESP32Servo\n",
    "\n",
    "Instalar la libreria ESP32Servo Library  \n",
    "\n",
    "\n",
    "|      |                                                    |              |\n",
    "|---   |---                                                 |---                                 |\n",
    "|      |virtual ~ESP32PWM ()                            |Constructor                         |\n",
    "|      |void detachPin ( pin)                            | Desconecta las funciones del servo |\n",
    "|      |void attachPin ( pin,  freq,  resolution_bits=10)| conecta las funciones servo al pin|\n",
    "|      |                                                 | pin entero 8 bit|\n",
    "|      |                                                 | freq doble|\n",
    "|      |                                                 |resolution uint8|\n",
    "|      |bool attached ()                                 |Conecta el servo                  |\n",
    "|      |void write (uint32_t duty)                       |Escribe el angulo |\n",
    " \n",
    "void \twriteScaled (float duty)\n",
    " \n",
    "double \twriteTone (double freq)\n",
    " \n",
    "double \twriteNote (note_t note, uint8_t octave)\n",
    " \n",
    "void \tadjustFrequency (double freq, float dutyScaled=-1)\n",
    " \n",
    "uint32_t \tread ()\n",
    " \n",
    "double \treadFreq ()\n",
    " \n",
    "float \tgetDutyScaled ()\n",
    " \n",
    "int \tgetTimer ()\n",
    " \n",
    "int \tgetChannel ()\n",
    " \n",
    "int \tgetPin ()\n"
   ]
  },
  {
   "cell_type": "code",
   "execution_count": null,
   "id": "58b35b8a",
   "metadata": {},
   "outputs": [],
   "source": []
  },
  {
   "cell_type": "markdown",
   "id": "be8c0a90",
   "metadata": {},
   "source": [
    "### Consumo ESP32 Alimentado por Batería\n",
    "\n",
    "Algunos valores de consumo de energía determinados del chip ESP32:\n",
    "\n",
    "|Modo ESP32|\tConsumo| \n",
    "|---       |---        | \n",
    "|“Deepsleep”|\t7 µA| \n",
    "|“Lightsleep”|\t1 mA| \n",
    "|Normal (240 MHz)|\t50 mA| \n",
    "|Reloj del procesador reducido (3 MHz)|\t3,8 mA| \n",
    "|Funcionamiento WiFi|\t80-180 mA|\n",
    "\n",
    "Se midio estos valores con el módulo ESP32-WROOM, pero también se alcanzo con la tarjeta ECO Power en funcionamiento con batería. Sin embargo, la mayoría de las tarjetas ESP32 no se acercan a este bajo consumo de energía. Por lo general, las tarjetas ESP32 necesitan alrededor de 20 mA a pesar del modo “deepsleep”. Los factores importantes para el consumo de energía son los circuitos adicionales en la tarjeta, la implementación de la fuente de alimentación USB y la implementación de la operación por batería. Con las tarjetas ESP32 regulares.\n"
   ]
  },
  {
   "cell_type": "markdown",
   "id": "b7952a89",
   "metadata": {},
   "source": [
    "### Elección de las pilas o baterías recargables adecuadas\n",
    "\n",
    "El ESP32 funciona siempre entre 2,55 y 3,6 voltios. Las extensiones externas, como una pantalla u otros componentes, a menudo requieren al menos 3,3 voltios. \n",
    "\n",
    "1. Banco de energia\n",
    "2. NI- MH o pila standar\n",
    "3. Pilas de litio\n",
    "4. Pilas de LiFePO4\n",
    "5. Baterias recargables polímero de litio\n"
   ]
  },
  {
   "cell_type": "markdown",
   "id": "375d0aac",
   "metadata": {},
   "source": [
    "### Banco de energia\n",
    "\n",
    "Esta es la peor opción. Tal banco de energía utiliza internamente una batería de litio de 3,7 V, luego transforma este voltaje a 5 voltios con pérdida y un ESP32 conectado utiliza un LDO (low drop-out voltage regulator) que reduce el voltaje de 5 a 3,3 voltios. "
   ]
  },
  {
   "cell_type": "markdown",
   "id": "7ba86544",
   "metadata": {},
   "source": [
    "### Ni-MH o pilas estándar (2 x 1,5 V)\n",
    "\n",
    "El funcionamiento directo con dos baterías de Ni-MH no funciona, ya que una sola batería suministra aproximadamente 1,2 voltios, es decir, 2,4 voltios con dos baterías. Esto es demasiado poco para los 2,55 voltios requeridos, que el ESP32 necesita por lo menos. Tres baterías de Ni-MH conectadas en serie tampoco son una opción, ya que el voltaje máximo de 3,6 V para el ESP32 se supera con las baterías llenas.\n",
    "\n",
    "Con pilas normales (excepto de litio) esto no funciona durante mucho tiempo, porque el voltaje mínimo del ESP32 de 2,55 V no se alcanza después de un cierto tiempo de funcionamiento y la batería sigue estando al 70 % de su capacidad total. Además, el ESP32 en WiFi necesita impulsos de 400 mA a corto plazo: la tensión de las pilas normales se desploma y el ESP32 se reinicia."
   ]
  },
  {
   "cell_type": "markdown",
   "id": "f1d3fa14",
   "metadata": {},
   "source": [
    "### Pilas de litio\n",
    "\n",
    "Ya sean dos baterías de litio de 1,5 V en serie o una CR123 de 3 V: todo funciona perfectamente con baterías de litio. Estos mantienen un voltaje de 3 V bastante constante, a menos de 2,7 voltios se utiliza más del 90 % de la capacidad de una batería de litio, a 2,55 voltios está prácticamente vacía. Las baterías de litio también proporcionan los altos requerimientos de energía a corto plazo de la operación WiFi sin ningún problema. Por ejemplo, un Varta CR123 (3 V, 1700 mAh) puede utilizarse en modo de reposo durante más de 5 años, dependiendo, por supuesto, de la frecuencia con la que el ESP32 se despierta y tiene que hacer algo, o de la duración y frecuencia con la que se utiliza WiFi o Bluetooth.\n"
   ]
  },
  {
   "cell_type": "markdown",
   "id": "5e5a08e0",
   "metadata": {},
   "source": [
    "### Pilas de LiFePO4\n",
    "\n",
    "Las modernas pilas LiFePO4 también funcionan de forma excelente, pero proporcionan aproximadamente un 70 % menos de energía que una pila de litio del mismo tamaño. Sin embargo, las baterías LiFePO4 se pueden recargar o sustituir por una batería cargada. Las baterías LiFePO4 también ofrecen un alto rendimiento sin problemas para el funcionamiento WiFi, pero no tienen la desventaja de las baterías de polímero de litio, que pueden incendiarse si se utilizan de forma incorrecta o si la calidad es deficiente."
   ]
  },
  {
   "cell_type": "markdown",
   "id": "96ba830c",
   "metadata": {},
   "source": [
    "### Baterias recargables polímero de litio o de litio\n",
    "\n",
    "Claro que pueden utilizarse las baterías LiPo o de litio porque proporcionan suficiente energía para el ESP32. Sin embargo, la tensión de 3,7 a 4,2 V es demasiado alta para el ESP32, dependiendo del estado de carga, por lo que debe reducirse. Esto tiene la desventaja de que una gran parte de la energía se utiliza permanentemente para reducir la tensión a 3,3 V. Los controladores LDO simples requieren aproximadamente 2000 veces más energía para el modo de reposo que el ESP32 en el modo de sueño profundo (“deepsleep”), cada segundo, las 24 horas del día, los 365 días del año. Incluso los mejores controladores necesitan mucha potencia.\n"
   ]
  },
  {
   "cell_type": "markdown",
   "id": "61e840be",
   "metadata": {},
   "source": [
    "\n",
    "\n",
    "### Resumen\n",
    "La mejor opcion es la bateria de litio\n"
   ]
  },
  {
   "cell_type": "markdown",
   "id": "3a404482",
   "metadata": {},
   "source": [
    "### Bateria litio BL-5C\n",
    "<img src=\"img/bl-5c.jpg\" alt=\"Imagen\"></img>\n"
   ]
  },
  {
   "cell_type": "markdown",
   "id": "7f939238",
   "metadata": {},
   "source": [
    "### Caracteristicas\n",
    "\n",
    "|Característica| Valor |\n",
    "|---           |---    |\n",
    "|Voltaje       | 3.7 V        |\n",
    "|Capacidad     |950-1200 mAh  |\n",
    "|Tipo          |Ion de litio  |\n",
    "|Altura        |53 mm         |\n",
    "|Ancho         |43 mm         |\n",
    "|Profundidad   |3 mm          |\n",
    "|Número de ciclos de carga / descarga| ~1000 |\n",
    "|Peso          |23 gr         |\n",
    "\n"
   ]
  },
  {
   "cell_type": "markdown",
   "id": "9ee68eef",
   "metadata": {},
   "source": [
    "## Cargador de baterias de litio"
   ]
  },
  {
   "cell_type": "markdown",
   "id": "fd131cfe",
   "metadata": {},
   "source": [
    "<img src=\"img/tp4056.jpg\" alt=\"Imagen\"></img>"
   ]
  },
  {
   "cell_type": "markdown",
   "id": "e149746c",
   "metadata": {},
   "source": [
    "El TP4056 es un chip encapsulado en formato SOP-8 que es capaz de gestionar la carga de una batería. Es decir, adecua la entrada de energía para el estándar de 1A de la mayoría de baterías de litio que se usan en la industria electrónica, y también es capaz de controlar la temperatura.\n",
    "\n",
    "Caracteristicas importante del módulo TP4056:\n",
    "\n",
    "1. El puerto miniUSB para alimentar la batería\n",
    "2. Dos LEDs de Carga y de Completado avisan  cuándo la batería está cargándose o cuándo ha terminado el proceso.\n",
    "3. B+ y B- son los bornes de salida que irán conectados a los bornes de la batería que necesitas cargar.\n",
    "4. OUT+ y OUT- son los bornes para la carga.\n"
   ]
  },
  {
   "cell_type": "markdown",
   "id": "4496f23b",
   "metadata": {},
   "source": [
    "# PROCESAMIENTO DIGITAL DE IMAGENES\n",
    "\n",
    "Se describira la libreria OPENCV que permite procesar imagenes. Se presentaran los siguientes temas\n",
    "\n",
    "- 1.- Leer imagenes y videos\n",
    "\n",
    "\n",
    "Para procesar imagenes se debe utilizar la libreria opencv segun la siguiente sintaxis.  \n",
    "\n",
    "|Nombre \t|Sintaxis            |\tAcción|\n",
    "| :---      | :---               | :---  |\n",
    "| opencv     | import cv2 as cv |  carga la libreria opencv cada funcion debe comenzar con cv. |"
   ]
  },
  {
   "cell_type": "markdown",
   "id": "0bb61252",
   "metadata": {},
   "source": [
    "Las funciones que se utilizaran son:\n",
    "    \n",
    "|Nombre \t  |Sintaxis                                    |\tAcción                                                    |\n",
    "| :---        | :---                                       | :---                                                         |\n",
    "| imread      | img=cv.imread(nombre_archivo   )           |  lee la imagen en nombre_archivo:                            |\n",
    "| imshow      | cv.imshow(letrero,img)                     |  Visualiza la imagen img,                                    |\n",
    "|             |                                            |  el letrero de la imagen sera:'Flor'                         |\n",
    "|waitKey      | cv.waitKey(delay)                          |  Espera una tecla el tiempo correspondiente a delay          |\n",
    "|Video.Capture|mi_video=cv.VideoCapture(nombre_archivo)    | Permite visualizar un video                                  |\n",
    "|             |                                            |  el video para ser visualizado o procesado se encuentra      |\n",
    "|             |                                            |   en *__mi_video__*                                          |\n",
    "|             |                                            |  el video que se usara se carga desde *__nombre_archivo__*   | \n",
    "|             |                                            |Si se coloca un 0 en nombre archivo utiliza la *__webcam 0__* |\n",
    "|read         |  frame = mi_video.read()                   | Lee las imagenes cargadas en *__mi_video__*                  |\n"
   ]
  },
  {
   "cell_type": "markdown",
   "id": "40723c0b",
   "metadata": {},
   "source": [
    "### Programa para leer una imagen\n",
    "\n",
    "Espera que se aprete una tecla para salir del programa"
   ]
  },
  {
   "cell_type": "code",
   "execution_count": 2,
   "id": "f08591e4",
   "metadata": {},
   "outputs": [],
   "source": [
    "import cv2 as cv\n",
    "img=cv.imread('img/flores1.jpg')\n",
    "cv.imshow('Flor',img)\n",
    "cv.waitKey(0) \n",
    "cv.destroyAllWindows()"
   ]
  },
  {
   "cell_type": "markdown",
   "id": "268f30a5",
   "metadata": {},
   "source": [
    "### Programa para ver un video \n",
    "Espera hasta que se apreta la tecla d"
   ]
  },
  {
   "cell_type": "code",
   "execution_count": 3,
   "id": "9c8d1d79",
   "metadata": {},
   "outputs": [
    {
     "ename": "error",
     "evalue": "OpenCV(4.5.4-dev) D:\\a\\opencv-python\\opencv-python\\opencv\\modules\\imgproc\\src\\color.cpp:182: error: (-215:Assertion failed) !_src.empty() in function 'cv::cvtColor'\n",
     "output_type": "error",
     "traceback": [
      "\u001b[1;31m---------------------------------------------------------------------------\u001b[0m",
      "\u001b[1;31merror\u001b[0m                                     Traceback (most recent call last)",
      "\u001b[1;32m<ipython-input-3-b201e645b9b8>\u001b[0m in \u001b[0;36m<module>\u001b[1;34m\u001b[0m\n\u001b[0;32m      3\u001b[0m \u001b[1;32mwhile\u001b[0m \u001b[1;32mTrue\u001b[0m\u001b[1;33m:\u001b[0m\u001b[1;33m\u001b[0m\u001b[1;33m\u001b[0m\u001b[0m\n\u001b[0;32m      4\u001b[0m     \u001b[0misTrue\u001b[0m\u001b[1;33m,\u001b[0m \u001b[0mframe\u001b[0m \u001b[1;33m=\u001b[0m \u001b[0mmi_video\u001b[0m\u001b[1;33m.\u001b[0m\u001b[0mread\u001b[0m\u001b[1;33m(\u001b[0m\u001b[1;33m)\u001b[0m\u001b[1;33m\u001b[0m\u001b[1;33m\u001b[0m\u001b[0m\n\u001b[1;32m----> 5\u001b[1;33m     \u001b[0mcv\u001b[0m\u001b[1;33m.\u001b[0m\u001b[0mimshow\u001b[0m\u001b[1;33m(\u001b[0m\u001b[1;34m'Video'\u001b[0m\u001b[1;33m,\u001b[0m\u001b[0mframe\u001b[0m\u001b[1;33m)\u001b[0m\u001b[1;33m\u001b[0m\u001b[1;33m\u001b[0m\u001b[0m\n\u001b[0m\u001b[0;32m      6\u001b[0m     \u001b[1;32mif\u001b[0m \u001b[0mcv\u001b[0m\u001b[1;33m.\u001b[0m\u001b[0mwaitKey\u001b[0m\u001b[1;33m(\u001b[0m\u001b[1;36m20\u001b[0m\u001b[1;33m)\u001b[0m \u001b[1;33m&\u001b[0m \u001b[1;36m0xff\u001b[0m\u001b[1;33m==\u001b[0m \u001b[0mord\u001b[0m\u001b[1;33m(\u001b[0m\u001b[1;34m'd'\u001b[0m\u001b[1;33m)\u001b[0m\u001b[1;33m:\u001b[0m\u001b[1;33m\u001b[0m\u001b[1;33m\u001b[0m\u001b[0m\n\u001b[0;32m      7\u001b[0m         \u001b[1;32mbreak\u001b[0m\u001b[1;33m;\u001b[0m\u001b[1;33m\u001b[0m\u001b[1;33m\u001b[0m\u001b[0m\n",
      "\u001b[1;31merror\u001b[0m: OpenCV(4.5.4-dev) D:\\a\\opencv-python\\opencv-python\\opencv\\modules\\imgproc\\src\\color.cpp:182: error: (-215:Assertion failed) !_src.empty() in function 'cv::cvtColor'\n"
     ]
    }
   ],
   "source": [
    "import cv2 as cv\n",
    "mi_video=cv.VideoCapture(0\n",
    "                        )\n",
    "while True:\n",
    "    isTrue, frame = mi_video.read()\n",
    "    cv.imshow('Video',frame) \n",
    "    if cv.waitKey(20) & 0xff== ord('d'):\n",
    "        break;\n",
    "mi_video.release()\n",
    "cv.destroyAllWindows()"
   ]
  },
  {
   "cell_type": "code",
   "execution_count": null,
   "id": "e76137d0",
   "metadata": {},
   "outputs": [],
   "source": []
  }
 ],
 "metadata": {
  "kernelspec": {
   "display_name": "Python 3",
   "language": "python",
   "name": "python3"
  },
  "language_info": {
   "codemirror_mode": {
    "name": "ipython",
    "version": 3
   },
   "file_extension": ".py",
   "mimetype": "text/x-python",
   "name": "python",
   "nbconvert_exporter": "python",
   "pygments_lexer": "ipython3",
   "version": "3.8.8"
  }
 },
 "nbformat": 4,
 "nbformat_minor": 5
}
