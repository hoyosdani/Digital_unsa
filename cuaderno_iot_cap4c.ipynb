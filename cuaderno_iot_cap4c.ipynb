{
 "cells": [
  {
   "cell_type": "markdown",
   "metadata": {},
   "source": [
    "### 4.4.- Control de flujo\n",
    "\n",
    "#### if:\n",
    "La sentencia if se usa para elegir el bloque de instrucciones que se ejecutara las cuales deberan estar encerradas entre llaves.\n",
    "```\n",
    "if( a>b)    \n",
    "    {   \n",
    "    sentencias_a;   \n",
    "    }  \n",
    "else   \n",
    "    {   \n",
    "sentencias_b;   \n",
    "    }\n",
    "```"
   ]
  },
  {
   "cell_type": "markdown",
   "metadata": {},
   "source": [
    "#### for:\n",
    "La sentencia for se usa para repetir un bloque de declaraciones encerradas en llaves un número específico de veces. Un contador de incremento se usa a menudo para incrementar y terminar el bucle. Hay tres partes separadas por punto y coma (;), en la cabecera del bucle.```\n",
    "\n",
    "```\n",
    "for(i=0; i<200; i++)  \n",
    "{  \n",
    "  sentencias;  \n",
    "} \n",
    "```"
   ]
  },
  {
   "cell_type": "markdown",
   "metadata": {},
   "source": [
    "#### while:\n",
    "El bucle while se repetirá continuamente, e infinitamente, hasta que la expresión dentro del paréntesis se vuelva falsa. Algo debe cambiar la variable testeada, o el bucle while nunca saldrá. Esto podría estar en tu código, como por ejemplo una variable incrementada, o una condición externa, como un sensor de comprobación. \n",
    "\n",
    "```\n",
    "while(a<200)  \n",
    "{  \n",
    "  a++;  \n",
    "}  \n",
    "```"
   ]
  },
  {
   "cell_type": "markdown",
   "metadata": {},
   "source": [
    "#### do. . . while: \n",
    "\n",
    "El bucle do. . . while es un bucle que trabaja de la misma forma que el bucle while, con la excepción de que la condición es testeada al nal del bucle, por lo que el bucle do. . . while siempre se ejecutará al menos una vez.  \n",
    "```\n",
    "do  \n",
    "{\n",
    "sentencias;  \n",
    "}while(a < 200); \n",
    "```\n"
   ]
  }
 ],
 "metadata": {
  "kernelspec": {
   "display_name": "Python 3",
   "language": "python",
   "name": "python3"
  },
  "language_info": {
   "codemirror_mode": {
    "name": "ipython",
    "version": 3
   },
   "file_extension": ".py",
   "mimetype": "text/x-python",
   "name": "python",
   "nbconvert_exporter": "python",
   "pygments_lexer": "ipython3",
   "version": "3.8.8"
  }
 },
 "nbformat": 4,
 "nbformat_minor": 2
}
