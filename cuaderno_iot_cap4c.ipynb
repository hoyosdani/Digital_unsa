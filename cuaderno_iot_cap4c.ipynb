{
 "cells": [
  {
   "cell_type": "markdown",
   "metadata": {},
   "source": [
    "### 4.4.- Control de flujo\n",
    "\n",
    "#### if:\n",
    "La sentencia if se usa para elegir el bloque de instrucciones que se ejecutara las cuales deberan estar encerradas entre llaves.\n",
    "```\n",
    "if( a>b)    \n",
    "    {   \n",
    "    sentencias_a;   \n",
    "    }  \n",
    "else   \n",
    "    {   \n",
    "sentencias_b;   \n",
    "    }\n",
    "```"
   ]
  },
  {
   "cell_type": "markdown",
   "metadata": {},
   "source": [
    "#### for:\n",
    "La sentencia for se usa para repetir un bloque de declaraciones encerradas en llaves un número específico de veces. Un contador de incremento se usa a menudo para incrementar y terminar el bucle. Hay tres partes separadas por punto y coma (;), en la cabecera del bucle.```\n",
    "\n",
    "```\n",
    "for(i=0; i<200; i++)  \n",
    "{  \n",
    "  sentencias;  \n",
    "} \n",
    "```"
   ]
  },
  {
   "cell_type": "markdown",
   "metadata": {},
   "source": [
    "#### while:\n",
    "El bucle while se repetirá continuamente, e infinitamente, hasta que la expresión dentro del paréntesis se vuelva falsa. Algo debe cambiar la variable testeada, o el bucle while nunca saldrá. Esto podría estar en tu código, como por ejemplo una variable incrementada, o una condición externa, como un sensor de comprobación. \n",
    "\n",
    "```\n",
    "while(a<200)  \n",
    "{  \n",
    "  a++;  \n",
    "}  \n",
    "```"
   ]
  },
  {
   "cell_type": "markdown",
   "metadata": {},
   "source": [
    "#### do. . . while: \n",
    "\n",
    "El bucle do. . . while es un bucle que trabaja de la misma forma que el bucle while, con la excepción de que la condición es testeada al nal del bucle, por lo que el bucle do. . . while siempre se ejecutará al menos una vez.  \n",
    "```\n",
    "do  \n",
    "{\n",
    "sentencias;  \n",
    "}while(a < 200); \n",
    "```\n"
   ]
  },
  {
   "cell_type": "markdown",
   "metadata": {},
   "source": [
    "### 4.5.- Resumen de funciones de entrada salida\n",
    " \n",
    "#### pinMode(pin, mode): \n",
    "Se usa en void setup() para configurar un pin específico para que se comporte o como INPUT o como OUTPUT.  \n",
    "\t\tpintMode(pin, OUTPUT); //ajusta 'pin' como salida  \n",
    "Los pines digitales de Arduino están ajustados a INPUT por defecto, por lo que no necesitan ser declarados explícitamente como entradas con pinMode(). Los pines configurados como INPUT se dice que están e un estado de alta impedancia. Hay también convenientes resistencias de pull-up de 20 KOhm, integradas en el chip ATmega que pueden ser accedidas por software. A estas resistencias pull-up integradas se accede de la siguiente manera.  \n",
    "\n",
    "```\n",
    "pinMode(pin, INPUT); //ajusta \"pin\" como entrada  \n",
    "digitalWrite(pin, HIGH); //activa la resistencia de pull-up  \n",
    "```\n",
    "        \n",
    "Las resistencias de pull-up se usarían normalmente para conectar entradas como interruptores. Los pines configurados como OUTPUT se dice que están en un estado de baja impedancia y pueden proporcionar 40 mA a otros dispositivos/circuitos.  \n",
    "\n",
    "Nota: Cortocircuitos en los pines de Arduino o corriente excesiva pueden dañar o destruir el pin de salida, o dañar el chip ATmega. A menudo es una buena idea conectar un pin OUTPUT a un dispositivo externo en serie con una resistencia de 470 Ohm o 1 KOhm.  \n"
   ]
  },
  {
   "cell_type": "markdown",
   "metadata": {},
   "source": [
    "#### digitalRead(pin):\n",
    "Lee el valor desde un pin digital con el resultado HIGH o LOW. El pin puede ser una variable o una constante (0 - 13).    \n",
    "```\n",
    "valor= digitalRead(13); //ajusta \"valor\" al pin de entrada \n",
    "```\n",
    "#### digitalWrite(pin, valor): \n",
    "Devuelve el nivel lógico HIGH o LOW a (activa o desactiva) un pin digital especificado. El pin puede ser especificado como una variable o constante (0 – 13).  \n",
    "\n",
    "```\n",
    "digitalWrite(pin, HIGH); //ajusta \"pin\" a HIGH \n",
    "```\n",
    "\n",
    "#### delay(ms):\n",
    "\n",
    "Pausa tu programa por la cantidad de tiempo especicada en milisegundos, donde 1000 es igual a 1 segundo.  \n",
    "\n",
    "``` \n",
    "delay(1000); //espera por un segundo\n",
    "```\n",
    "\n",
    "#### millis()\n",
    "Devuelve el número de milisegundos desde que la placa Arduino empezó a ejecutar el programa actual como un valor long sin signo.    \n",
    "\n",
    "```\n",
    "valor = millis(); //ajusta \"valor\" igual a millis()  \n",
    "```\n",
    "\n",
    "Nota: Este número se desbordará (resetear de nuevo a cero), después de aproximadamente 9 horas.\n",
    "\n",
    "  "
   ]
  },
  {
   "cell_type": "markdown",
   "metadata": {},
   "source": [
    "#### Ejemplo\n",
    "\n",
    "Se desea que el led 13 del arduino parpadee este prendido un segundo y se apague. con este fin se utilizaa\n",
    "\n",
    "pinMode: Para configurar como salida el puerto\n",
    "digitalWrite: Para prender o pagar el led\n",
    "delay: Para generar los retardos\n",
    "\n",
    "Abrir el programa unoardusim ya descripto\n",
    "\n",
    "apretar la pestaña \"Editar/examinar\"  \n",
    "Copiar el siguente codigo  \n",
    "```\n",
    "void setup()  \n",
    "{  \n",
    "\tpinMode(13,OUTPUT);  \n",
    "}  \n",
    "  \n",
    "void loop()  \n",
    "{  \n",
    "\tdigitalWrite(13,HIGH);  \n",
    "\tdelay(1000);  \n",
    "\tdigitalWrite(13,LOW);  \n",
    "\tdelay(1000);  \n",
    "} \n",
    "```\n",
    "\n",
    "Compilar apretando la pestaña \"Compilar\"\n",
    "\n",
    "Ejecutar el programa\n",
    "\n"
   ]
  },
  {
   "cell_type": "code",
   "execution_count": null,
   "metadata": {},
   "outputs": [],
   "source": []
  }
 ],
 "metadata": {
  "kernelspec": {
   "display_name": "Python 3",
   "language": "python",
   "name": "python3"
  },
  "language_info": {
   "codemirror_mode": {
    "name": "ipython",
    "version": 3
   },
   "file_extension": ".py",
   "mimetype": "text/x-python",
   "name": "python",
   "nbconvert_exporter": "python",
   "pygments_lexer": "ipython3",
   "version": "3.8.8"
  }
 },
 "nbformat": 4,
 "nbformat_minor": 2
}
