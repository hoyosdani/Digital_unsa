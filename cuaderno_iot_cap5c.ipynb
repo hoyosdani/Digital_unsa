{
 "cells": [
  {
   "cell_type": "markdown",
   "id": "80d3485b",
   "metadata": {},
   "source": []
  },
  {
   "cell_type": "markdown",
   "id": "43011225",
   "metadata": {},
   "source": [
    "#### Servomotor controlado por pagina WEB usando ESP8266 \n",
    "\n",
    "Se utiliza el circuito de la figura\n",
    "<img src=\"img/nodemcu_servo.png\" alt=\"Imagen\"></img>\n",
    "El programa tiene los siguientes archivos:\n",
    "\n",
    "- config.h\n",
    "- actuador.hpp\n",
    "- WIFI.hpp\n",
    "- server.hpp\n",
    "- archivo principal\n"
   ]
  },
  {
   "cell_type": "markdown",
   "id": "08bdcada",
   "metadata": {},
   "source": [
    "##### config.h"
   ]
  },
  {
   "cell_type": "markdown",
   "id": "b156596a",
   "metadata": {},
   "source": [
    "```\n",
    "const char Mi_pagina[] PROGMEM = R\"=====(\n",
    "<!DOCTYPE html>  <html> \n",
    "<head><meta name=\\\"viewport\\\" content=\\\"width=device-width, initial-scale=1.0, user-scalable=no\\\">\n",
    "<title>CONTROL DE servomotor</title>\n",
    "</head>\n",
    "\n",
    "<body>  \n",
    "<h1>Servomotor </h1><br>\n",
    "\n",
    "<form method=\"post\" action=\"/angulo\">\n",
    "Angulo:\n",
    "<input type=\"text\" name=\"angul\" size=\"20\">\n",
    "<br>\n",
    "<input type=\"submit\" value=\"enviar\">\n",
    "</form>\n",
    "\n",
    "</body>\n",
    "</html>\n",
    ")=====\";\n",
    "\n",
    "const char* ssid=\"########\";\n",
    "const char* password=\"********\";\n",
    "```"
   ]
  },
  {
   "cell_type": "markdown",
   "id": "00968aba",
   "metadata": {},
   "source": [
    "##### actuador.hpp\n",
    "\n",
    "Crea el objeto servo y la funcion iniciarServo que configura el servomotor"
   ]
  },
  {
   "cell_type": "markdown",
   "id": "3ff282b1",
   "metadata": {},
   "source": [
    "```\n",
    "Servo uno;\n",
    "\n",
    "void iniciarServo()\n",
    "{\n",
    "  pinMode(D1, OUTPUT);\n",
    "  uno.attach(D1);\n",
    "}\n",
    "```"
   ]
  },
  {
   "cell_type": "code",
   "execution_count": null,
   "id": "9e833d7f",
   "metadata": {},
   "outputs": [],
   "source": [
    "#### wifi.hpp\n",
    "\n",
    "Configura y conecta la red wifi\n"
   ]
  },
  {
   "cell_type": "markdown",
   "id": "33168239",
   "metadata": {},
   "source": [
    "```\n",
    "void configuracion_wifi_STA()\n",
    "{\n",
    "  WiFi.begin(ssid, password);\n",
    "  Serial.println(\" \");\n",
    "  Serial.println(\"Conectando\");\n",
    "  while (WiFi.status() != WL_CONNECTED)\n",
    "  {\n",
    "    delay(500);\n",
    "    Serial.print(\".\");\n",
    "  }\n",
    "  Serial.println();\n",
    "  Serial.print(\"Conectado, dirección IP: \");\n",
    "  Serial.println(WiFi.localIP());\n",
    "}\n",
    "\n",
    "void configuracion_wifi_AP()\n",
    "{\n",
    "  WiFi.mode(WIFI_AP);  \n",
    "  while(!WiFi.softAP(ssid, password))  \n",
    "  {  \n",
    "   Serial.println(\".\");  \n",
    "    delay(100);  \n",
    "  }  \n",
    "  Serial.print(\"Iniciado AP \");  \n",
    "  Serial.println(ssid);  \n",
    "  Serial.print(\"IP address:\\t\");  \n",
    "  Serial.println(WiFi.softAPIP());  \n",
    "}\n",
    "```\n"
   ]
  },
  {
   "cell_type": "code",
   "execution_count": null,
   "id": "de956193",
   "metadata": {},
   "outputs": [],
   "source": [
    "#### server.hpp\n",
    "\n",
    "Configura, inicia y controla el servidor Web, las funciones son:\n",
    "- controlRaiz: Carga la pagina principal\n",
    "- controlAngulo Controla el servomotor desde la pagina\n",
    "- iniciarServidor:  Contorla la pagina con sus distintas funciones\n"
   ]
  },
  {
   "cell_type": "markdown",
   "id": "4f257a8f",
   "metadata": {},
   "source": [
    "```\n",
    "ESP8266WebServer server(80); //Server on port 80\n",
    "\n",
    "void controlRaiz() {\n",
    "  int i;\n",
    "  Serial.println(\"Pagina original \");\n",
    "  String s = Mi_pagina; //Read HTML contents\n",
    "  server.send(200, \"text/html\", s); //Send web page\n",
    "}\n",
    "\n",
    "void controlAngulo() {\n",
    "  String a;\n",
    "  int valor;\n",
    "  a=server.arg(\"angul\");\n",
    "  valor=a.toInt();\n",
    "  uno.write(valor);\n",
    "  Serial.println(server.arg(\"angul\"));\n",
    "  Serial.println(valor);\n",
    "  String s = Mi_pagina; //Read HTML contents\n",
    "  delay(200);\n",
    "  server.send(200, \"text/html\", s); //Send web page\n",
    "}\n",
    "void iniciarServidor()\n",
    "{\n",
    "  server.on(\"/\", controlRaiz);\n",
    "  server.on(\"/angulo\", controlAngulo);\n",
    "  server.begin();\n",
    "}\n",
    "```"
   ]
  },
  {
   "cell_type": "markdown",
   "id": "161a09a3",
   "metadata": {},
   "source": [
    "#### Archivo principal\n",
    "\n",
    "Carga todas las librerias e inicializa el dispositivo, inicializa wifi y el servidorweb"
   ]
  },
  {
   "cell_type": "markdown",
   "id": "355e0fd7",
   "metadata": {},
   "source": [
    "```\n",
    "void setup()  \n",
    "{   \n",
    "Serial.begin(115200);  \n",
    "pinMode(LED_BUILTIN,OUTPUT);\n",
    "Serial.println(\"Hola\");\n",
    "iniciarServo();  \n",
    "configuracion_wifi_STA();  \n",
    "iniciar_servidor();\n",
    "}  \n",
    "\n",
    "void loop() {\n",
    "  server.handleClient();\n",
    "  }\n",
    "```"
   ]
  },
  {
   "cell_type": "markdown",
   "id": "575f7234",
   "metadata": {},
   "source": [
    "### Servidor NPT\n",
    "\n",
    "El Protocolo de Tiempo por Red o Network Time Protocol (NTP) es un protocolo de Internet utilizado para sincronizar los relojes internos de sistemas informáticos (tales como computadoras personales o servidores corporativos). La sincronización esporádica del reloj interno de las computadoras (por ejemplo, dos veces por semana) evita desfasajes en el tiempo local de las mismas. Dichos desfasajes de tiempo pueden ocasionar serios inconvenientes durante el intercambio de datos con otros sistemas.\n",
    "#### Libreria\n",
    "Se puede incluir este servicio utilizando la libreria NTPClient.h\n",
    "\n",
    "Para incluir la librería se precede de la siguiente manera:\n",
    "\n",
    "En el IDE Arduino, ir a > Libreria > Administrar bibliotecas. Se abre el Gestor de Bibliotecas. Se Busca NTPClient y aparece una de Fabrice Weinber. Instalar\n",
    "#### Uso\n",
    "\n",
    "Se crea un objeto ntpUDP de la clase WiFiUDP\n",
    "``` WiFiUDP ntpUDP; ```\n",
    "\n",
    "Se crea un objeto tiempo de la clase NTPClient: el cual es el encargado de suministrar la hora.\n",
    "\n",
    "```NTPClient tiempo(ntpUDP, \"pool.ntp.org\", utcOffsetInSeconds); ```\n",
    "\n",
    "Se inicializa el objeto tiempo en la funcion *setup()*\n",
    "\n",
    "``` tiempo.begin() ``` \n",
    "\n",
    "#### Funciones\n",
    "\n",
    "|Nombre |\tsintaxis |\tFuncion|\n",
    "|---    |---         |---      |\n",
    "|NTPClient |\tNTPClient tiempo(ntpUDP, \"pool.ntp.org\", utcOffsetInSeconds); |\tcrea un objeto tiempo de la clase NTPClient|\n",
    "| begin |\ttiempo.begin() |\tInicializa el objeto tiempo|\n",
    "|update |\ttiempo.update()| \tmira la hora en Internet|\n",
    "|getDay |\tdia_sem[tiempo.getDay()] |\tMuestra el dia de la semana|\n",
    "|getHour| \ttiempo.getHour() |\tPresenta la hora|\n",
    "|getMinutes| \ttiempo.getMinutes() |\tPresenta los minutos|\n",
    "|getSecond| \ttiempo.getSecond ()| \tPresenta los segundos|\n",
    "|getFormattedTime| \ttiempo.getFormattedTime() |\tPresenta todos los datos|\n"
   ]
  },
  {
   "cell_type": "markdown",
   "id": "c5a09910",
   "metadata": {},
   "source": [
    "#### Ejemplo\n",
    "\n",
    "```\n",
    "#include <NTPClient.h>  \n",
    "#include <WiFiUdp.h>  \n",
    "\n",
    "const char *ssid     = \"red\";  \n",
    "const char *password = \"password\";  \n",
    "\n",
    "const long utcOffsetInSeconds = 10800;  \n",
    "\n",
    "char daysOfTheWeek[7][12] = {\"Domingo\", \"Lunes\", \"Martes\", \"Miercoles\", \"Jueves\", \"Viernes\", \"Sabado\"};  \n",
    "\n",
    "// Define NTP Client to get time  \n",
    "WiFiUDP ntpUDP;  \n",
    "NTPClient timeClient(ntpUDP, \"pool.ntp.org\", utcOffsetInSeconds);  \n",
    "\n",
    "void setup(){  \n",
    "  Serial.begin(115200);  \n",
    "  timeClient.begin();  \n",
    "}\n",
    "\n",
    "void loop() {  \n",
    "  timeClient.update();  \n",
    "\n",
    "  Serial.print(daysOfTheWeek[timeClient.getDay()]);  \n",
    "  Serial.print(\", \");  \n",
    "  Serial.print(timeClient.getHours());  \n",
    "  Serial.print(\":\");  \n",
    "  Serial.print(timeClient.getMinutes());  \n",
    "  Serial.print(\":\");  \n",
    "  Serial.println(timeClient.getSeconds());  \n",
    "  //Serial.println(timeClient.getFormattedTime());  \n",
    "\n",
    "  delay(1000);  \n",
    "}\n",
    "```"
   ]
  },
  {
   "cell_type": "code",
   "execution_count": null,
   "id": "2093b7dc",
   "metadata": {},
   "outputs": [],
   "source": [
    "SPIFF\n",
    "\n"
   ]
  }
 ],
 "metadata": {
  "kernelspec": {
   "display_name": "Python 3",
   "language": "python",
   "name": "python3"
  },
  "language_info": {
   "codemirror_mode": {
    "name": "ipython",
    "version": 3
   },
   "file_extension": ".py",
   "mimetype": "text/x-python",
   "name": "python",
   "nbconvert_exporter": "python",
   "pygments_lexer": "ipython3",
   "version": "3.8.8"
  }
 },
 "nbformat": 4,
 "nbformat_minor": 5
}
