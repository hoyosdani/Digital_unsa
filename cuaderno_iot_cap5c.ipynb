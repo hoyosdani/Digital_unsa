{
 "cells": [
  {
   "cell_type": "markdown",
   "id": "299554db",
   "metadata": {},
   "source": []
  },
  {
   "cell_type": "markdown",
   "id": "6d3cde5e",
   "metadata": {},
   "source": [
    "### ESP8266 como access point\n",
    "\n",
    "\n",
    "El modo AP permite crear una red wifi desde el esp8266. Para realizar el mismo se utilizan dos funciones \n",
    "\n",
    "- WiFi.mode(WIFI_AP)     configura el esp8266 para que funcione como access point \n",
    "- WiFi.softAP(…)Genera una red WiFi, que devuelve true si la red WiFi se ha creado correctamente y false en caso contrario.\n",
    "\n",
    "\n",
    "Un programa simple que crea una red WIFI seria:"
   ]
  },
  {
   "cell_type": "markdown",
   "id": "c10941f7",
   "metadata": {},
   "source": [
    "```\n",
    "#include <ESP8266WiFi.h>        // Include the Wi-Fi library  \n",
    "  \n",
    "// Configuración de la WiFi generada  \n",
    "const char *ssid = \"ssid\";  \n",
    "const char *password = \"password\";  \n",
    "  \n",
    "void setup() {  \n",
    "  Serial.begin(115200);  \n",
    "  delay(10);  \n",
    "    \n",
    "  WiFi.mode(WIFI_AP);  \n",
    "  while(!WiFi.softAP(ssid, password))  \n",
    "  {  \n",
    "   Serial.println(\".\");  \n",
    "    delay(100);  \n",
    "  }  \n",
    "    \n",
    "  Serial.print(\"Iniciado AP \");  \n",
    "  Serial.println(ssid);  \n",
    "  Serial.print(\"IP address:\\t\");  \n",
    "  Serial.println(WiFi.softAPIP());  \n",
    "  \n",
    "}  \n",
    "\n",
    "void loop() { }\n",
    "\n",
    "```"
   ]
  },
  {
   "cell_type": "markdown",
   "id": "c0b6e7be",
   "metadata": {},
   "source": [
    "#### ESP8266 como access point y webserver\n",
    "\n",
    "Este programa permite crear una red wifi desde el ESP8266 y que tambien actue como webserver. Utiliza los siguientes archivos.\n",
    "- config.h\n",
    "- wifi.hpp\n",
    "- server.hpp\n",
    "- archivo principal"
   ]
  },
  {
   "cell_type": "markdown",
   "id": "73e6c445",
   "metadata": {},
   "source": [
    "##### config.h\n",
    "\n",
    "En este arcchivo se presentA una pagina web que controla un led."
   ]
  },
  {
   "cell_type": "markdown",
   "id": "83bf6a6b",
   "metadata": {},
   "source": [
    "```\n",
    "//---------------------------------------------------------------\n",
    "// Texto en HTML\n",
    "\n",
    "const char MAIN_page[] PROGMEM = R\"=====(  \n",
    "<!DOCTYPE html>  \n",
    "<html>  \n",
    "<body>  \n",
    "<center>  \n",
    "<h1>Programa para prender/apagar un LED </h1><br>\n",
    "Apretar para <a href=\"ledP\">Prender LED</a><br>\n",
    "Apretar para <a href=\"ledA\">Apagar LED</a><br>\n",
    "<hr>\n",
    "</center>\n",
    "\n",
    "</body>\n",
    "</html>\n",
    ")=====\";\n",
    "\n",
    "const char* ssid=\"######\";\n",
    "const char* password=\"******\";\n",
    " \n",
    "```"
   ]
  },
  {
   "cell_type": "markdown",
   "id": "0d6474b1",
   "metadata": {},
   "source": [
    "#### wifi.hpp\n",
    "Se configura el esp8266 como access point, se utiliza para generar una red wifi con el esp8266"
   ]
  },
  {
   "cell_type": "markdown",
   "id": "33074099",
   "metadata": {},
   "source": [
    "```\n",
    "//Declarar un objeto de la clase ESP8266WebServer  \n",
    "\n",
    "ESP8266WebServer server(80); //Server on port 80  \n",
    "\n",
    "// Inicializa la red wifi como access point\n",
    "\n",
    "inicializaWifi_AP()\n",
    "{\n",
    " WiFi.mode(WIFI_AP);\n",
    "   while(!WiFi.softAP(\"labelec\",\"nada\"))\n",
    "  {\n",
    "   Serial.print(\".\");\n",
    "    delay(100);\n",
    "  }\n",
    "\n",
    "  IPAddress myIP = WiFi.softAPIP();\n",
    "  Serial.print(\"AP IP address: \");\n",
    "  Serial.println(myIP); \n",
    "  Serial.println(\"\");  \n",
    "}\n",
    "```"
   ]
  },
  {
   "cell_type": "markdown",
   "id": "bc086423",
   "metadata": {},
   "source": [
    "#### server.hpp\n",
    "\n",
    "En la libreria se encuentran las funciones que realizan la vinculacion entre la pagina web y los actuadores y sensores\n",
    "las funciones que se encuentran son:\n",
    "\n",
    "- controlRaiz: Carga la pagina cuando alguna persona intenta conectarse a la misma\n",
    "- prender: Enciende el led de la placa\n",
    "- apagar: apaga el led de la placa\n",
    "- iniciarServidor: Funcion que ante el pedido que se realiza por la pagina Web distribuye las ordenes en las distintas funciones\n"
   ]
  },
  {
   "cell_type": "markdown",
   "id": "0bedcb7e",
   "metadata": {},
   "source": [
    "```\n",
    "// inicializa el servidor web\n",
    "\n",
    "void controRaiz() {  \n",
    " Serial.println(\"Pagina original \");  \n",
    " String s = MAIN_page; //Read HTML contents  \n",
    " server.send(200, \"text/html\", s); //Send web page  \n",
    "}  \n",
    "\n",
    "void prender() {   \n",
    " Serial.println(\"LED prendido\");  \n",
    " digitalWrite(LED,LOW); //LED is connected in reverse  \n",
    " server.send(200, \"text/html\", \"El LED esta prendido\");  \n",
    "}  \n",
    "\n",
    "void apagar() {   \n",
    " Serial.println(\"LED apagado\");  \n",
    " digitalWrite(LED,HIGH); //LED off  \n",
    " server.send(200, \"text/html\", \"El LED esta apagado\");   \n",
    "}  \n",
    "\n",
    "\n",
    "iniciarServidor() {\n",
    "\n",
    "server.on(\"/\", controlRaiz);\n",
    "server.on(\"/Prender\", prender); //Rutina mueve el brazo\n",
    "server.on(\"/Apagar\", apagar); //Rutina mueve el brazo\n",
    "server.begin();  \n",
    "}\n",
    "\n",
    "\n",
    "```"
   ]
  },
  {
   "cell_type": "markdown",
   "id": "bc96f98e",
   "metadata": {},
   "source": [
    "#### Archivo principal"
   ]
  },
  {
   "cell_type": "markdown",
   "id": "cae5d11d",
   "metadata": {},
   "source": [
    "```\n",
    "#include <ESP8266WiFi.h>  \n",
    "#include <WiFiClient.h>  \n",
    "#include <ESP8266WebServer.h> \n",
    "#include \"config.h\"\n",
    "#include \"WIFI.hpp\"\n",
    "#include \"server.hpp\"\n",
    "\n",
    "//==============================================================  \n",
    "//                  SETUP  \n",
    "//==============================================================  \n",
    "void setup(void){  \n",
    "  Serial.begin(115200);  \n",
    "  inicializaWifi_AP();\n",
    "  inicializaServidorWeb();\n",
    "\n",
    "  //Configuro el pin LED como salida  \n",
    "  pinMode(LED,OUTPUT);   \n",
    "  //Apaga el LED  \n",
    "  digitalWrite(LED,HIGH);  \n",
    "  // Carga las rutinas que se utilizaran por el servidor WEB\n",
    " \n",
    "  Serial.println(\"HTTP server started\");  \n",
    "}  \n",
    "//==============================================================  \n",
    "//                     LOOP  \n",
    "//==============================================================  \n",
    "void loop(void){  \n",
    "  server.handleClient();          //Handle clien  t requests\n",
    "}\n",
    "```"
   ]
  },
  {
   "cell_type": "markdown",
   "id": "c817eac3",
   "metadata": {},
   "source": [
    "#### Servomotor controlado por pagina WEB usando ESP8266 \n",
    "\n",
    "Se utiliza el circuito de la figura\n",
    "<img src=\"img/nodemcu_servo.png\" alt=\"Imagen\"></img>\n",
    "El programa tiene los siguientes archivos:\n",
    "\n",
    "- config.h\n",
    "- actuador.hpp\n",
    "- WIFI.hpp\n",
    "- server.hpp\n",
    "- archivo principal\n"
   ]
  },
  {
   "cell_type": "markdown",
   "id": "2094077a",
   "metadata": {},
   "source": [
    "##### config.h"
   ]
  },
  {
   "cell_type": "markdown",
   "id": "0d3eda73",
   "metadata": {},
   "source": [
    "```\n",
    "const char Mi_pagina[] PROGMEM = R\"=====(\n",
    "<!DOCTYPE html>  <html> \n",
    "<head><meta name=\\\"viewport\\\" content=\\\"width=device-width, initial-scale=1.0, user-scalable=no\\\">\n",
    "<title>CONTROL DE servomotor</title>\n",
    "</head>\n",
    "\n",
    "<body>  \n",
    "<h1>Servomotor </h1><br>\n",
    "\n",
    "<form method=\"post\" action=\"/angulo\">\n",
    "Angulo:\n",
    "<input type=\"text\" name=\"angul\" size=\"20\">\n",
    "<br>\n",
    "<input type=\"submit\" value=\"enviar\">\n",
    "</form>\n",
    "\n",
    "</body>\n",
    "</html>\n",
    ")=====\";\n",
    "\n",
    "const char* ssid=\"########\";\n",
    "const char* password=\"********\";\n",
    "```"
   ]
  },
  {
   "cell_type": "markdown",
   "id": "2945036c",
   "metadata": {},
   "source": [
    "##### actuador.hpp\n",
    "\n",
    "Crea el objeto servo y la funcion iniciarServo que configura el servomotor"
   ]
  },
  {
   "cell_type": "markdown",
   "id": "9d4c7c49",
   "metadata": {},
   "source": [
    "```\n",
    "Servo uno;\n",
    "\n",
    "void iniciarServo()\n",
    "{\n",
    "  pinMode(D1, OUTPUT);\n",
    "  uno.attach(D1);\n",
    "}\n",
    "```"
   ]
  },
  {
   "cell_type": "code",
   "execution_count": null,
   "id": "98dfae8b",
   "metadata": {},
   "outputs": [],
   "source": [
    "#### wifi.hpp\n",
    "\n",
    "Configura y conecta la red wifi\n"
   ]
  },
  {
   "cell_type": "markdown",
   "id": "1e216cea",
   "metadata": {},
   "source": [
    "```\n",
    "void configuracion_wifi_STA()\n",
    "{\n",
    "  WiFi.begin(ssid, password);\n",
    "  Serial.println(\" \");\n",
    "  Serial.println(\"Conectando\");\n",
    "  while (WiFi.status() != WL_CONNECTED)\n",
    "  {\n",
    "    delay(500);\n",
    "    Serial.print(\".\");\n",
    "  }\n",
    "  Serial.println();\n",
    "  Serial.print(\"Conectado, dirección IP: \");\n",
    "  Serial.println(WiFi.localIP());\n",
    "}\n",
    "\n",
    "void configuracion_wifi_AP()\n",
    "{\n",
    "  WiFi.mode(WIFI_AP);  \n",
    "  while(!WiFi.softAP(ssid, password))  \n",
    "  {  \n",
    "   Serial.println(\".\");  \n",
    "    delay(100);  \n",
    "  }  \n",
    "  Serial.print(\"Iniciado AP \");  \n",
    "  Serial.println(ssid);  \n",
    "  Serial.print(\"IP address:\\t\");  \n",
    "  Serial.println(WiFi.softAPIP());  \n",
    "}\n",
    "```\n"
   ]
  },
  {
   "cell_type": "code",
   "execution_count": null,
   "id": "97c56028",
   "metadata": {},
   "outputs": [],
   "source": [
    "#### server.hpp\n",
    "\n",
    "Configura, inicia y controla el servidor Web, las funciones son:\n",
    "- controlRaiz: Carga la pagina principal\n",
    "- controlAngulo Controla el servomotor desde la pagina\n",
    "- iniciarServidor:  Contorla la pagina con sus distintas funciones\n"
   ]
  },
  {
   "cell_type": "markdown",
   "id": "55328ff8",
   "metadata": {},
   "source": [
    "```\n",
    "ESP8266WebServer server(80); //Server on port 80\n",
    "\n",
    "void controlRaiz() {\n",
    "  int i;\n",
    "  Serial.println(\"Pagina original \");\n",
    "  String s = Mi_pagina; //Read HTML contents\n",
    "  server.send(200, \"text/html\", s); //Send web page\n",
    "}\n",
    "\n",
    "void controlAngulo() {\n",
    "  String a;\n",
    "  int valor;\n",
    "  a=server.arg(\"angul\");\n",
    "  valor=a.toInt();\n",
    "  uno.write(valor);\n",
    "  Serial.println(server.arg(\"angul\"));\n",
    "  Serial.println(valor);\n",
    "  String s = Mi_pagina; //Read HTML contents\n",
    "  delay(200);\n",
    "  server.send(200, \"text/html\", s); //Send web page\n",
    "}\n",
    "void iniciarServidor()\n",
    "{\n",
    "  server.on(\"/\", controlRaiz);\n",
    "  server.on(\"/angulo\", controlAngulo);\n",
    "  server.begin();\n",
    "}\n",
    "```"
   ]
  },
  {
   "cell_type": "markdown",
   "id": "b1e3997a",
   "metadata": {},
   "source": [
    "#### Archivo principal\n",
    "\n",
    "Carga todas las librerias e inicializa el dispositivo, inicializa wifi y el servidorweb"
   ]
  },
  {
   "cell_type": "markdown",
   "id": "e3371d21",
   "metadata": {},
   "source": [
    "```\n",
    "void setup()  \n",
    "{   \n",
    "Serial.begin(115200);  \n",
    "pinMode(LED_BUILTIN,OUTPUT);\n",
    "Serial.println(\"Hola\");\n",
    "iniciarServo();  \n",
    "configuracion_wifi_STA();  \n",
    "iniciar_servidor();\n",
    "}  \n",
    "\n",
    "void loop() {\n",
    "  server.handleClient();\n",
    "  }\n",
    "```"
   ]
  },
  {
   "cell_type": "markdown",
   "id": "c1e054a2",
   "metadata": {},
   "source": [
    "### Medidor de distancia desde pagina WEB\n",
    "\n",
    "Se utiliza un esp8266  como WEB server y un sensor HC-sr04 basado en ultrasonido para medir distancia y conectarlo a la red. El circuito se muestra en la figura.\n",
    "\n",
    "<img src=\"img/nodemcu_ultrasonido_bb.jpg\" alt=\"Imagen\"></img>\n",
    "\n",
    "El programa tiene los siguientes archivos:\n",
    "\n",
    "- config.h\n",
    "- sensor.hpp\n",
    "- WIFI.hpp\n",
    "- server.hpp\n",
    "- archivo principal\n",
    "\n"
   ]
  },
  {
   "cell_type": "code",
   "execution_count": null,
   "id": "6d3d806c",
   "metadata": {},
   "outputs": [],
   "source": []
  },
  {
   "cell_type": "markdown",
   "id": "b6635cd0",
   "metadata": {},
   "source": [
    "#### config.h\n",
    "\n",
    "En este archivo se encuentra una parte de la pagina WEB y las claves para ingresar a la red WIFI\n",
    "\n"
   ]
  },
  {
   "cell_type": "markdown",
   "id": "c4f30087",
   "metadata": {},
   "source": [
    "```\n",
    "const char Mi_pagina[] PROGMEM = R\"=====(\n",
    "<!DOCTYPE html>  <html> \n",
    "<head><meta name=\\\"viewport\\\" content=\\\"width=device-width, initial-scale=1.0, user-scalable=no\\\">\n",
    "<title>Medidor de distancia</title>\n",
    "</head>\n",
    "\n",
    "<body>  \n",
    "<h1>Medidor de distancia </h1><br>\n",
    "\n",
    ")=====\";\n",
    "\n",
    "\n",
    "String s2=\" </body> </html>\";\n",
    "\n",
    "const char* ssid=\"######\";\n",
    "const char* password=\"******\";\n"
   ]
  },
  {
   "cell_type": "markdown",
   "id": "9bcda21e",
   "metadata": {},
   "source": [
    "#### sensor.hpp\n",
    "\n",
    "Archivo donde se encuentran las funciones que permiten utilizar y controlar el medidor de distancia. Las funciones son:\n",
    " - IniciarUltrasonido(): Inicializa el sensor\n",
    " - medirDistancia(): mide la distancia de un objeto al sensor"
   ]
  },
  {
   "cell_type": "markdown",
   "id": "3de109f9",
   "metadata": {},
   "source": [
    "```\n",
    "long distancia;  \n",
    "long tiempo;  \n",
    "\n",
    "void iniciarUltrasonido() {\n",
    "pinMode(D6,OUTPUT);  /* Trigger */\n",
    "pinMode(D5,INPUT);   /* Eco     */\n",
    "  \n",
    "}\n",
    "\n",
    "void medir_distancia(){  \n",
    "  digitalWrite(D6,LOW); /* Por cuestión de estabilización del sensor*/  \n",
    "  delayMicroseconds(5);  \n",
    "  digitalWrite(D6, HIGH); /* envío del pulso ultrasónico*/  \n",
    "  delayMicroseconds(10);  \n",
    "  tiempo=pulseIn(D5, HIGH);  \n",
    "  distancia= int(0.017*tiempo); /*fórmula para calcular la distancia obteniendo un valor entero*/  \n",
    "  /*Monitorización en centímetros por el monitor serial*/  \n",
    "  Serial.print(\"Distancia :\");  \n",
    "  Serial.print(distancia);  \n",
    "  Serial.println(\" cm\");  \n",
    "} \n",
    "```"
   ]
  },
  {
   "cell_type": "markdown",
   "id": "d627968f",
   "metadata": {},
   "source": [
    "#### WIFI.hpp\n",
    "No cambia con respecto a los descriptos mas arriba"
   ]
  },
  {
   "cell_type": "markdown",
   "id": "0769fc8f",
   "metadata": {},
   "source": [
    "```\n",
    "void configuracion_wifi_STA()\n",
    "{\n",
    "  WiFi.begin(ssid, password);\n",
    "  Serial.println(\" \");\n",
    "  Serial.println(\"Conectando\");\n",
    "  while (WiFi.status() != WL_CONNECTED)\n",
    "  {\n",
    "    delay(500);\n",
    "    Serial.print(\".\");\n",
    "  }\n",
    "  Serial.println();\n",
    "  Serial.print(\"Conectado, dirección IP: \");\n",
    "  Serial.println(WiFi.localIP());\n",
    "}\n",
    "\n",
    "void configuracion_wifi_AP()\n",
    "{\n",
    "  WiFi.mode(WIFI_AP);  \n",
    "  while(!WiFi.softAP(ssid, password))  \n",
    "  {  \n",
    "   Serial.println(\".\");  \n",
    "    delay(100);  \n",
    "  }  \n",
    "  Serial.print(\"Iniciado AP \");  \n",
    "  Serial.println(ssid);  \n",
    "  Serial.print(\"IP address:\\t\");  \n",
    "  Serial.println(WiFi.softAPIP());  \n",
    "}\n",
    "```"
   ]
  },
  {
   "cell_type": "markdown",
   "id": "47e02830",
   "metadata": {},
   "source": [
    "### server.hpp"
   ]
  },
  {
   "cell_type": "markdown",
   "id": "ae9a48d7",
   "metadata": {},
   "source": [
    "```\n",
    "void controlRaiz() {\n",
    "  int i;\n",
    "  Serial.println(\"Pagina original \");\n",
    "  String s1 = Mi_pagina; //Read HTML contents\n",
    "  String s3 = \"<br> La medida es=\"+ String(distancia);\n",
    "  String s=s1+s3+s2;\n",
    "  server.send(200, \"text/html\", s); //Send web page\n",
    "}\n",
    "\n",
    "void controlLetrero() {\n",
    "  Serial.println(server.arg(\"nombre\"));\n",
    "  String s1 = Mi_pagina; //Read HTML contents\n",
    "  String s3 = \"La medida es=\";\n",
    "  String s4 = String(distancia);\n",
    "  \n",
    "   String s=s1+s3+s4+s2;\n",
    "  delay(200);\n",
    "  server.send(200, \"text/html\", s); //Send web page\n",
    "}\n",
    "void iniciar_servidor()\n",
    "{\n",
    "  server.on(\"/\", controlRaiz);\n",
    "  server.begin();\n",
    "}\n",
    "```"
   ]
  },
  {
   "cell_type": "markdown",
   "id": "25358792",
   "metadata": {},
   "source": [
    "#### archivo principal\n",
    "Se cargan las librerias y se inicializa los dispositivos"
   ]
  },
  {
   "cell_type": "markdown",
   "id": "bf86cf54",
   "metadata": {},
   "source": [
    "```\n",
    "#include \"config.h\"\n",
    "#include <ESP8266WiFi.h>  \n",
    "#include <ESP8266WebServer.h>\n",
    "#include \"sensor.hpp\"\n",
    "#include \"actuador.hpp\"\n",
    "#include \"WIFI.hpp\"\n",
    "#include \"server.hpp\"\n",
    "\n",
    "void setup()  \n",
    "{   \n",
    "Serial.begin(115200);  \n",
    "pinMode(LED_BUILTIN,OUTPUT);\n",
    "Serial.println(\"Hola\");\n",
    "iniciarServo();  \n",
    "iniciarUltrasonido();\n",
    "configuracion_wifi_STA();  \n",
    "iniciar_servidor();\n",
    "}  \n",
    "```\n"
   ]
  }
 ],
 "metadata": {
  "kernelspec": {
   "display_name": "Python 3",
   "language": "python",
   "name": "python3"
  },
  "language_info": {
   "codemirror_mode": {
    "name": "ipython",
    "version": 3
   },
   "file_extension": ".py",
   "mimetype": "text/x-python",
   "name": "python",
   "nbconvert_exporter": "python",
   "pygments_lexer": "ipython3",
   "version": "3.8.8"
  }
 },
 "nbformat": 4,
 "nbformat_minor": 5
}
