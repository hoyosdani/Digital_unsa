{
 "cells": [
  {
   "cell_type": "markdown",
   "id": "a9cb35e4",
   "metadata": {},
   "source": [
    "## 5.- ESP8266\n",
    "<a name= \"ESP8266\"></a>"
   ]
  },
  {
   "cell_type": "markdown",
   "id": "36ce58a7",
   "metadata": {},
   "source": [
    " ### 5.1.- Introducción \n",
    "\n",
    "El ESP8266 es un SOC (sistema en chip)  de bajo costo que se utiliza como core de distintas placas, que se pueden programar en el entorno arduino. Un sistema en chip describe la tendencia cada vez más frecuente de usar tecnologías de fabricación que integran todos o gran parte de los módulos que componen un computador o cualquier otro sistema informático o electrónico en un único circuito integrado o chip. El cual tiene:  \n",
    "\n",
    " - Microcontrolador  \n",
    " - Wi-Fi  \n"
   ]
  }
 ],
 "metadata": {
  "kernelspec": {
   "display_name": "Python 3",
   "language": "python",
   "name": "python3"
  },
  "language_info": {
   "codemirror_mode": {
    "name": "ipython",
    "version": 3
   },
   "file_extension": ".py",
   "mimetype": "text/x-python",
   "name": "python",
   "nbconvert_exporter": "python",
   "pygments_lexer": "ipython3",
   "version": "3.8.8"
  }
 },
 "nbformat": 4,
 "nbformat_minor": 5
}
