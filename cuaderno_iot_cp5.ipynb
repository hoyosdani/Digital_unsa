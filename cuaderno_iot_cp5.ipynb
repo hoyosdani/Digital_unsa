{
 "cells": [
  {
   "cell_type": "markdown",
   "id": "436a0267",
   "metadata": {},
   "source": [
    "## 5.- ESP8266\n",
    "<a name= \"ESP8266\"></a>"
   ]
  },
  {
   "cell_type": "markdown",
   "id": "d8ce3d4c",
   "metadata": {},
   "source": [
    " ### 5.1.- Introducción \n",
    "\n",
    "El ESP8266 es un SOC (sistema en chip)  de bajo costo que se utiliza como core de distintas placas, que se pueden programar en el entorno arduino. Un sistema en chip describe la tendencia cada vez más frecuente de usar tecnologías de fabricación que integran todos o gran parte de los módulos que componen un computador o cualquier otro sistema informático o electrónico en un único circuito integrado o chip. El cual tiene:  \n",
    "\n",
    " - Microcontrolador  \n",
    " - Wi-Fi  \n",
    "<img src= \"img/ESP8266EX-Diagrama_bloque.png\" alt=\"Imagen\"></img>"
   ]
  },
  {
   "cell_type": "markdown",
   "id": "06b3b7b3",
   "metadata": {},
   "source": [
    "### 5.2.- Microprocesador  \n",
    "\n",
    "El ESP8266 utiliza un CPU RISC de 32 bits fabricada por Tensilica dentro del modelo Xtensa LX106.   \n",
    "- Frecuencia 80 MHz\n",
    "- Caché de instrucciones de 64 KB \n",
    "- Cache  de datos de 96 KB,\n",
    "- Capacidad externa de memoria QSPI que puede llegar hasta los 16 MB, \n",
    "- soporte IEEE 802.11 b/g/n , TR switch, balun, LNA, soporte para WEP y WPA/WPA2.\n",
    "- 16 pines GPIO\n",
    "- UART, \n",
    "- SPI\n",
    "- I2C\n",
    "- I2S\n",
    "- Conversor AD 10 bits"
   ]
  },
  {
   "cell_type": "markdown",
   "id": "ae66576e",
   "metadata": {},
   "source": [
    " #### Tarjetas que usan ESP8266:  \n",
    " \n",
    " El esp8266 debe estar acompañado de una memoria flash QSPI de 512 KB a 4 MB. Lo que permite construir distintas tarjetas con distintas especificaciones:\n",
    "- Tamaño de memoria\n",
    "- Sistema de archivo\n",
    "- Entradas Salidas\n",
    "- Redes \n",
    "\n",
    "A continuación se describe algunas de ellas.\n",
    "\n",
    "|Tarjeta        |\ttamaño chip flash[ bytes] |Tamaño sistem. fich [bytes]|\n",
    "|---            |---                          |---                        |\n",
    "|Modulo generico| \t512k                      |64k, 128k                  |\n",
    "|Modulo generico| \t1M \t                      |64k, 128k, 256k, 512k      |\n",
    "|Modulo generico| \t2M                        |\t1M                        |\n",
    "|Modulo generico|\t4M \t                      |1M, 2M, 3M                 |\n",
    "|Adafruit HUZZAH|\t4M \t                      |1M, 2M, 3M                 |\n",
    "|ESPresso Lite 1.0| \t4M |\t1M, 2M, 3M|\n",
    "|ESPresso Lite 2.0| \t4M |\t1M, 2M, 3M|\n",
    "|NodeMCU 0.9| \t4M| \t1M, 2M, 3M|\n",
    "|NodeMCU 1.0| \t4M| \t1M, 2M, 3M|\n",
    "|Olimex MOD-WIFI-ESP8266(-DEV)| \t2M |\t1M|\n",
    "|SparkFun Thing| \t512k |\t64k|\n",
    "|SweetPea ESP-210| \t4M |\t1M, 2M, 3M |\n",
    "|WeMos D1 & D1 mini| \t4M |\t1M, 2M, 3M |\n",
    "|ESPDuino| \t4M |\t1M, 2M, 3M |\n",
    "|WiFiduino| \t4M |\t1M, 2M, 3M|\n"
   ]
  },
  {
   "cell_type": "markdown",
   "id": "dda95a1f",
   "metadata": {},
   "source": [
    "### 5.3.- Instalar Plugin del ESP8266 para Arduino\n",
    "\n",
    "Se debe configurar el IDE arduino\n",
    "\n",
    "archivo>Preferencias y en la casilla  “Gestor de URLs Adicionales de Tarjetas” agregar:\n",
    "\n",
    "http://arduino.esp8266.com/stable/package_esp8266com_index.json\n",
    "\n",
    "<img src=\"img/esp8266_plugins_1.png\" alt=\"Imagen\"></img>\n",
    "\n",
    "Seguidamente desde Herramientas>placa: … >Gestor de Tarjetas\n",
    "\n",
    "se busca en la lista  “esp8266 by ESP8266 Community“, se selecciona e instala\n",
    "\n",
    "<img src=\"img/esp8266_plugins_2.png\" alt=\"Imagen\"></img>"
   ]
  },
  {
   "cell_type": "markdown",
   "id": "c1457a90",
   "metadata": {},
   "source": [
    "### 5.4.- Programas\n",
    "\n",
    "#### Programa para prender y apagar un led\n",
    "\n",
    "Sobre el entorno arduino. Se debe crear un nuevo proyecto que se denominara \"iot01\"\n",
    "Se usara:\n",
    "\n",
    "Archivo -> Nuevo \n",
    "\n",
    "Archivo -> Salvar\n",
    "\n",
    "en la pantalla que aparece se coloca iot01. En la figura se muestra el proceso completo.\n",
    "\n",
    "<img src=\"img/iot01.png\" alt=\"Imagen\"></img>\n",
    "\n",
    "Se debe copiar el siguiente codigo \n",
    "\n",
    "void setup() {\n",
    "  \n",
    "pinMode(ED_BUILTIN,OUTPUT);\n",
    "}\n",
    "\n",
    "void loop() {\n",
    "\n",
    "digitalWrite(BUILTIN_LED, LOW);\n",
    "delay(1000);\n",
    "digitalWrite(BUILTIN_LED, HIGH);\n",
    "delay(1000);\n",
    "}\n",
    "\n",
    "Se utiliza la palabra definida LED_BUILTIN, para designar el led que existe en la placa."
   ]
  },
  {
   "cell_type": "markdown",
   "id": "0888ff1c",
   "metadata": {},
   "source": [
    "Programa:"
   ]
  },
  {
   "cell_type": "code",
   "execution_count": null,
   "id": "f845fdd2",
   "metadata": {},
   "outputs": [],
   "source": [
    "<img src=\"img/iot02.png\" alt=\"Imagen\"></img>\n",
    "\n",
    "\n",
    "Se compila el programa apretando el boton marcado en la figura.  \n",
    "\n",
    "<img src=\"img/iot03.png\" alt=\"Imagen\"></img>\n",
    "\n",
    "Una vez que aparece la palabra compilado, este programa puede ser subido a la placa.\n"
   ]
  }
 ],
 "metadata": {
  "kernelspec": {
   "display_name": "Python 3",
   "language": "python",
   "name": "python3"
  },
  "language_info": {
   "codemirror_mode": {
    "name": "ipython",
    "version": 3
   },
   "file_extension": ".py",
   "mimetype": "text/x-python",
   "name": "python",
   "nbconvert_exporter": "python",
   "pygments_lexer": "ipython3",
   "version": "3.8.8"
  }
 },
 "nbformat": 4,
 "nbformat_minor": 5
}
