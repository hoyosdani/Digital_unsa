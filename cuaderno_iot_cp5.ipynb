{
 "cells": [
  {
   "cell_type": "markdown",
   "id": "e9e195a0",
   "metadata": {},
   "source": [
    "## 5.- ESP8266\n",
    "<a name= \"ESP8266\"></a>"
   ]
  },
  {
   "cell_type": "markdown",
   "id": "020a328d",
   "metadata": {},
   "source": [
    " ### 5.1.- Introducción \n",
    "\n",
    "El ESP8266 es un SOC (sistema en chip)  de bajo costo que se utiliza como core de distintas placas, que se pueden programar en el entorno arduino. Un sistema en chip describe la tendencia cada vez más frecuente de usar tecnologías de fabricación que integran todos o gran parte de los módulos que componen un computador o cualquier otro sistema informático o electrónico en un único circuito integrado o chip. El cual tiene:  \n",
    "\n",
    " - Microcontrolador  \n",
    " - Wi-Fi  \n",
    "<img src= \"img/ESP8266EX-Diagrama_bloque.png\" alt=\"Imagen\"></img>"
   ]
  },
  {
   "cell_type": "markdown",
   "id": "7632670e",
   "metadata": {},
   "source": [
    "### 5.2.- Microprocesador  \n",
    "\n",
    "El ESP8266 utiliza un CPU RISC de 32 bits fabricada por Tensilica dentro del modelo Xtensa LX106.   \n",
    "- Frecuencia 80 MHz\n",
    "- Caché de instrucciones de 64 KB \n",
    "- Cache  de datos de 96 KB,\n",
    "- Capacidad externa de memoria QSPI que puede llegar hasta los 16 MB, \n",
    "- soporte IEEE 802.11 b/g/n , TR switch, balun, LNA, soporte para WEP y WPA/WPA2.\n",
    "- 16 pines GPIO\n",
    "- UART, \n",
    "- SPI\n",
    "- I2C\n",
    "- I2S\n",
    "- Conversor AD 10 bits"
   ]
  }
 ],
 "metadata": {
  "kernelspec": {
   "display_name": "Python 3",
   "language": "python",
   "name": "python3"
  },
  "language_info": {
   "codemirror_mode": {
    "name": "ipython",
    "version": 3
   },
   "file_extension": ".py",
   "mimetype": "text/x-python",
   "name": "python",
   "nbconvert_exporter": "python",
   "pygments_lexer": "ipython3",
   "version": "3.8.8"
  }
 },
 "nbformat": 4,
 "nbformat_minor": 5
}
