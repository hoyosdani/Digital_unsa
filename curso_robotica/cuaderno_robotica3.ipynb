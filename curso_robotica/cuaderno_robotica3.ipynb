{
 "cells": [
  {
   "cell_type": "markdown",
   "id": "dfcb7558-46de-4fe6-b163-c8b8f7430694",
   "metadata": {},
   "source": [
    "## 5.- Webserver con ESP8266\n",
    "En este capitulo se describira como controlar salidas tales como: Motores, Led, servomotores, etc. Entradas tales como: Sensores de temperatura, humedad, distancia, etc. Para cumplir con este fin se programara al ESP8266 como un servidor que permita realizar las acciones. Este programa se denominara webserver.\n",
    "\n",
    "El programa para el ESP8266 debe:\n",
    "- Conectarse a Internet.\n",
    "- Controlar la salidad.\n",
    "- Programar un webserver que realice las acciones.\n",
    "\n",
    "Para conectar el ESP8266 a una red WIFI se debe utilizar la libreria  ESP8266Wifi y para construir el webServer la libreria ESP8266WebServer, para acceder a la memoria FLASH se utilizara PROGMEN"
   ]
  },
  {
   "cell_type": "markdown",
   "id": "162115e3-d780-4b27-beea-e7ccd784690a",
   "metadata": {},
   "source": [
    "\n",
    "Para poder realizar un codigo de programa reusable y facilmente modificable. Se recomienda crear tres archivos.\n",
    "\n",
    "- internet0.ino: Donde se encuentra el programa principal.\n",
    "- config.h: Donde se encuentran todas las constantes del programa.\n",
    "- wifi.hpp: Donde se encuentran las funciones que se utizan para trabajae en Internet.\n",
    "\n"
   ]
  },
  {
   "cell_type": "markdown",
   "id": "69f8d568-d8bb-4888-b876-24c839c2c3f7",
   "metadata": {},
   "source": [
    "Se comienza abriendo el IDE arduino. Aparece la siguiente imagen que se muestra en la figura 1\n",
    "\n",
    "<center><img src=\"img/wifi0.jpg\" alt=\"Entorno Arduino\"></img></center>\n",
    "<center>Figura 1: IDE Arduino</center>\n"
   ]
  },
  {
   "cell_type": "markdown",
   "id": "e35d671d-723e-41ca-a309-00f1207a545d",
   "metadata": {},
   "source": [
    "En la pestaña Archivo  -> se debe seleccionar Guardar como se muestra en la figura 2. Colocando en nombre internet0. Se creo el directorio internet0 y el archivo internet0.ino\n",
    "    \n",
    "<center><img src=\"img/wifi1.jpg\" alt=\"Entorno Arduino\"></img></center>\n",
    "<center>Figura 2: IDE Arduino Guardar archivo</center>"
   ]
  },
  {
   "cell_type": "markdown",
   "id": "7d27b074-715e-4b5c-a475-1c6f6a0fac06",
   "metadata": {},
   "source": [
    "Como se muestra en la figura 3 se realiza un click del raton en los tres puntos señalado por la flecha roja. \n",
    "<center><img src=\"img/wifi2.jpg\" alt=\"Entorno Arduino\"></img></center>\n",
    "<center>Figura 3: IDE Arduino Guardar archivo</center>"
   ]
  },
  {
   "cell_type": "markdown",
   "id": "9d925c43-4ebf-4bd2-9371-e8f9eec79092",
   "metadata": {},
   "source": [
    "Aparece el menu nueva pestaña y se puede crear el archivo config.h y el archivo wifi.hpp ccomo se muestra en la figura 4\n",
    "<center><img src=\"img/wifi3.jpg\" alt=\"Entorno Arduino\"></img></center>\n",
    "<center>Figura 4: IDE Arduino </center>"
   ]
  },
  {
   "cell_type": "markdown",
   "id": "a752095e-9c1f-4720-8ef5-1a5a6c3da5cc",
   "metadata": {},
   "source": [
    "En la figura 4 see muestra como queda el eentorno.\n",
    "<center><img src=\"img/wifi4.jpg\" alt=\"Entorno Arduino\"></img></center>\n",
    "<center>Figura 5: IDE Arduino archivso</center>"
   ]
  },
  {
   "cell_type": "markdown",
   "id": "47840fbf-2bec-4059-8f5c-d115232303dc",
   "metadata": {},
   "source": []
  }
 ],
 "metadata": {
  "kernelspec": {
   "display_name": "Python 3 (ipykernel)",
   "language": "python",
   "name": "python3"
  },
  "language_info": {
   "codemirror_mode": {
    "name": "ipython",
    "version": 3
   },
   "file_extension": ".py",
   "mimetype": "text/x-python",
   "name": "python",
   "nbconvert_exporter": "python",
   "pygments_lexer": "ipython3",
   "version": "3.12.3"
  }
 },
 "nbformat": 4,
 "nbformat_minor": 5
}
