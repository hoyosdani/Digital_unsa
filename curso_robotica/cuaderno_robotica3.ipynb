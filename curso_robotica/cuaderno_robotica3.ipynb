{
 "cells": [
  {
   "cell_type": "markdown",
   "id": "29b3351c-c060-4247-b038-56bd6bf452bd",
   "metadata": {},
   "source": []
  },
  {
   "cell_type": "markdown",
   "id": "dfcb7558-46de-4fe6-b163-c8b8f7430694",
   "metadata": {},
   "source": [
    "## 5.- Webserver con ESP8266\n",
    "En este capitulo se describira como controlar salidas tales como: Motores, Led, servomotores, etc. Entradas tales como: Sensores de temperatura, humedad, distancia, etc. Para cumplir con este fin se programara al ESP8266 como un servidor que permita realizar las acciones. Este programa se denominara webserver.\n",
    "\n",
    "El programa para el ESP8266 debe:\n",
    "- Conectarse a Internet.\n",
    "- Controlar la salidad.\n",
    "- Programar un webserver que realice las acciones.\n",
    "\n",
    "Para conectar el ESP8266 a una red WIFI se debe utilizar la libreria  ESP8266Wifi y para construir el webServer la libreria ESP8266WebServer, para acceder a la memoria FLASH se utilizara PROGMEN"
   ]
  },
  {
   "cell_type": "markdown",
   "id": "23a11066-0dfa-487a-934d-c59b402f98cb",
   "metadata": {
    "jp-MarkdownHeadingCollapsed": true
   },
   "source": []
  },
  {
   "cell_type": "markdown",
   "id": "ab911d64-3692-42e5-b594-28ed6e8dfd21",
   "metadata": {},
   "source": [
    "### 5.2- Codigo de prueba ESP8266WiFi\n",
    "\n",
    "Se presenta el codigo de un programa que permite conectar un ESP8266 a una red. Se utiliza las funciones descriptas en la seccion anterior.\n",
    "```\n",
    "#include <ESP8266WiFi.h>  \n",
    "void setup()  \n",
    "{ Serial.begin(115200);  \n",
    "Serial.println();  \n",
    "WiFi.begin(\"nombre-red\", \"contraseña-red\");  \n",
    "Serial.print(\"Conectando\");  \n",
    "while (WiFi.status() != WL_CONNECTED)  \n",
    "{  \n",
    "delay(500);  \n",
    "Serial.print(\".\");  \n",
    "}  \n",
    "Serial.println();  \n",
    "Serial.print(\"Conectado, dirección IP: \");  \n",
    "Serial.println(WiFi.localIP());  \n",
    "}  \n",
    "\n",
    "void loop() {}\n",
    "``` "
   ]
  },
  {
   "cell_type": "markdown",
   "id": "162115e3-d780-4b27-beea-e7ccd784690a",
   "metadata": {},
   "source": [
    "\n",
    "Para poder realizar un codigo de programa reusable y facilmente modificable. Se recomienda crear tres archivos.\n",
    "\n",
    "- internet0.ino: Donde se encuentra el programa principal.\n",
    "- config.h: Donde se encuentran todas las constantes del programa.\n",
    "- wifi.hpp: Donde se encuentran las funciones que se utizan para trabajae en Internet.\n",
    "\n"
   ]
  },
  {
   "cell_type": "markdown",
   "id": "bd2b1427-a83a-4c21-a980-3742ab10951c",
   "metadata": {},
   "source": [
    "Se debe colocar en config.h el siguiente codigo\n",
    "```\n",
    "const char* red_WIFI = \"nombre_red\";\n",
    "const char* clave = \"clave\";\n",
    "```\n",
    "\n",
    "En wifi.hpp se debe escribir el siguiente codigo\n",
    "```\n",
    "void conectarWIFI() {\n",
    "  WiFi.begin(red_WIFI, clave);\n",
    "  Serial.print(\"Conectando\");\n",
    "  while (WiFi.status() != WL_CONNECTED) {\n",
    "    delay(500);\n",
    "    Serial.print(\".\");\n",
    "  }\n",
    "  Serial.println();\n",
    "  Serial.print(\"Conectado, dirección IP: \");\n",
    "  Serial.println(WiFi.localIP());\n",
    "}\n",
    "```\n",
    "\n",
    "En internet0.ino se debe escribir el siguiente codigo.\n",
    "\n",
    "```\n",
    "#include <ESP8266WiFi.h>\n",
    "#include \"config.h\"\n",
    "#include \"wifi.hpp\"\n",
    "void setup()  \n",
    "{\n",
    "Serial.begin(115200);  \n",
    "conectar_WIFI();\n",
    "}  \n",
    "\n",
    "void loop() {}\n",
    "``` \n",
    "Se debe compilar y cargar el programa en el esp8266. Cuando se ejecuta, aparece en la consola, la dirección de IP, donde se conecto el dispositivo.\n"
   ]
  }
 ],
 "metadata": {
  "kernelspec": {
   "display_name": "Python 3 (ipykernel)",
   "language": "python",
   "name": "python3"
  },
  "language_info": {
   "codemirror_mode": {
    "name": "ipython",
    "version": 3
   },
   "file_extension": ".py",
   "mimetype": "text/x-python",
   "name": "python",
   "nbconvert_exporter": "python",
   "pygments_lexer": "ipython3",
   "version": "3.12.3"
  }
 },
 "nbformat": 4,
 "nbformat_minor": 5
}
