{
 "cells": [
  {
   "cell_type": "markdown",
   "id": "dfcb7558-46de-4fe6-b163-c8b8f7430694",
   "metadata": {},
   "source": [
    "## 5.- Webserver con ESP8266\n",
    "En este capitulo se describira como controlar salidas tales como: Motores, Led, servomotores, etc. Entradas tales como: Sensores de temperatura, humedad, distancia, etc. Para cumplir con este fin se programara al ESP8266 como un servidor que permita realizar las acciones. Este programa se denominara webserver.\n",
    "\n",
    "El programa para el ESP8266 debe:\n",
    "- Conectarse a Internet.\n",
    "- Controlar la salidad.\n",
    "- Programar un webserver que realice las acciones.\n",
    "\n",
    "Para conectar el ESP8266 a una red WIFI se debe utilizar la libreria  ESP8266Wifi y para construir el webServer la libreria ESP8266WebServer, para acceder a la memoria FLASH se utilizara PROGMEN"
   ]
  },
  {
   "cell_type": "markdown",
   "id": "23a11066-0dfa-487a-934d-c59b402f98cb",
   "metadata": {
    "jp-MarkdownHeadingCollapsed": true
   },
   "source": []
  },
  {
   "cell_type": "markdown",
   "id": "162115e3-d780-4b27-beea-e7ccd784690a",
   "metadata": {},
   "source": [
    "\n",
    "Para poder realizar un codigo de programa reusable y facilmente modificable. Se recomienda crear tres archivos.\n",
    "\n",
    "- internet0.ino: Donde se encuentra el programa principal.\n",
    "- config.h: Donde se encuentran todas las constantes del programa.\n",
    "- wifi.hpp: Donde se encuentran las funciones que se utizan para trabajae en Internet.\n",
    "\n"
   ]
  }
 ],
 "metadata": {
  "kernelspec": {
   "display_name": "Python 3 (ipykernel)",
   "language": "python",
   "name": "python3"
  },
  "language_info": {
   "codemirror_mode": {
    "name": "ipython",
    "version": 3
   },
   "file_extension": ".py",
   "mimetype": "text/x-python",
   "name": "python",
   "nbconvert_exporter": "python",
   "pygments_lexer": "ipython3",
   "version": "3.12.3"
  }
 },
 "nbformat": 4,
 "nbformat_minor": 5
}
