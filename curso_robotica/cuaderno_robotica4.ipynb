{
 "cells": [
  {
   "cell_type": "markdown",
   "id": "94055749-a95e-4de2-843f-cfe5aeac3b22",
   "metadata": {},
   "source": [
    "## 5.3.- Servidor WEB\n",
    "\n",
    "En esta seccion se describira como implemetar un servidor web en el SOC ESP8266 que permita, en este caso prender o apagar un led. Se utilizara una libreria especialmente desarrollada con este fin.\n",
    "### 5.3.1 Librería ESP8266WebServer\n",
    " \n",
    "Un servidor web es una computadora que almacena los archivos que componen un sitio web (ej.  documentos HTML , imágenes, hojas de estilos CSS y archivo JavaScript) y los entrega a otro dispositivo que le solicita un servicio. Se desarrollo para el ESP8266 una libreria que permite implementar un servidor web. Se denomina libreria esp8266WebServer. Los metodos que se utilizan se muestran a continuacion.   \n"
   ]
  },
  {
   "cell_type": "markdown",
   "id": "35b42f4e-4890-4583-a23a-4314dd035d93",
   "metadata": {},
   "source": [
    "| Metodo          | Sintaxis                   |  Funcion      |\n",
    "|---              |---                         |---            |\n",
    "|ESP8266WebServer |ESP8266WebServer server(80) | Crea el objeto server |\n",
    "|begin            | server.begin()             | Inicializa el servidor|\n",
    "|close            | server.close()             | Apaga el servidor     |\n",
    "|stop             | server.stop()              | Apaga el servidor     |\n",
    "| on              | server.on(\"/\", FuncionM);  |  indicamos una función que emitira una respuesta del servidor cuando un navegador solicita la URL |\n",
    "|addHandler       | server. addHandler();      |              |\n",
    "| onNotFound      | server.onNotFound();       |              |\n",
    "| onFileUpload    | server.onFileUpload();     |              |\n",
    "| send            | server.send(code,tipo_contenido,contenido)| Envia las respuestas solicitadas|\n",
    "|                 |                                           |code:200, 404 |\n",
    "|                 |                                           |tipo_contenido:\"text/plain\",\"image/png\"|\n",
    "|                 |                                           |contenido: Debe ser una cadena de caracteres |\n",
    "|streamFile       |server.streamFile(file, GetContentType(path));| Permite cargar una pagina completa |\n",
    "|handleClient     |server.handleClient();      |  Maneja las conexiones entrantes|\n"
   ]
  },
  {
   "cell_type": "code",
   "execution_count": null,
   "id": "ed549c66-9e5b-4fc5-9f09-85076e76edd7",
   "metadata": {},
   "outputs": [],
   "source": []
  }
 ],
 "metadata": {
  "kernelspec": {
   "display_name": "Python 3 (ipykernel)",
   "language": "python",
   "name": "python3"
  },
  "language_info": {
   "codemirror_mode": {
    "name": "ipython",
    "version": 3
   },
   "file_extension": ".py",
   "mimetype": "text/x-python",
   "name": "python",
   "nbconvert_exporter": "python",
   "pygments_lexer": "ipython3",
   "version": "3.12.3"
  }
 },
 "nbformat": 4,
 "nbformat_minor": 5
}
