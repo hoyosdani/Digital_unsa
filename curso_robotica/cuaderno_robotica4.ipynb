{
 "cells": [
  {
   "cell_type": "markdown",
   "id": "94055749-a95e-4de2-843f-cfe5aeac3b22",
   "metadata": {},
   "source": [
    "## 5.3.- Servidor WEB\n",
    "\n",
    "En esta seccion se describira como implemetar un servidor web en el SOC ESP8266 que permita, en este caso prender o apagar un led. Se utilizara una libreria especialmente desarrollada con este fin.\n",
    "### 5.3.1 Librería ESP8266WebServer\n",
    " \n",
    "Un servidor web es una computadora que almacena los archivos que componen un sitio web (ej.  documentos HTML , imágenes, hojas de estilos CSS y archivo JavaScript) y los entrega a otro dispositivo que le solicita un servicio. Se desarrollo para el ESP8266 una libreria que permite implementar un servidor web. Se denomina libreria esp8266WebServer. Los metodos que se utilizan se muestran a continuacion\n"
   ]
  },
  {
   "cell_type": "markdown",
   "id": "c9e5fb38-c239-452a-b2b2-46548deb3c0a",
   "metadata": {},
   "source": []
  },
  {
   "cell_type": "markdown",
   "id": "bf627dfb-e3bf-48fc-a162-760257d3ea9d",
   "metadata": {},
   "source": [
    "\n"
   ]
  }
 ],
 "metadata": {
  "kernelspec": {
   "display_name": "Python 3 (ipykernel)",
   "language": "python",
   "name": "python3"
  },
  "language_info": {
   "codemirror_mode": {
    "name": "ipython",
    "version": 3
   },
   "file_extension": ".py",
   "mimetype": "text/x-python",
   "name": "python",
   "nbconvert_exporter": "python",
   "pygments_lexer": "ipython3",
   "version": "3.12.3"
  }
 },
 "nbformat": 4,
 "nbformat_minor": 5
}
