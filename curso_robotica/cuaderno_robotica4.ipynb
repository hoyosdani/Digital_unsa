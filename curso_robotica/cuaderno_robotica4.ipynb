{
 "cells": [
  {
   "cell_type": "markdown",
   "id": "94055749-a95e-4de2-843f-cfe5aeac3b22",
   "metadata": {},
   "source": [
    "## 5.3.- Servidor WEB\n",
    "\n",
    "En esta seccion se describira como implemetar un servidor web en el SOC ESP8266 que permita, en este caso prender o apagar un led. Se utilizara una libreria especialmente desarrollada con este fin.\n",
    "### 5.3.1 Librería ESP8266WebServer\n",
    " \n",
    "Un servidor web es una computadora que almacena los archivos que componen un sitio web (ej.  documentos HTML , imágenes, hojas de estilos CSS y archivo JavaScript) y los entrega a otro dispositivo que le solicita un servicio. Se desarrollo para el ESP8266 una libreria que permite implementar un servidor web. Se denomina libreria esp8266WebServer. Los metodos que se utilizan se muestran a continuacion\n",
    "\n",
    "| Metodo          | Sintaxis                   |  Funcion      |\n",
    "|---              |---                         |---            |\n",
    "|ESP8266WebServer |ESP8266WebServer server(80) | Crea el objeto server |\n",
    "|begin            | server.begin()             | Inicializa el servidor|\n",
    "|close            | server.close()             | Apaga el servidor     |\n",
    "|stop             | server.stop()              | Apaga el servidor     |\n",
    "| on              | server.on(\"/\", FuncionM);  | Indica una función que emitira una respuesta del servidor cuando un navegador solicita la URL |\n",
    "|addHandler       | server. addHandler();      |              |\n",
    "| onNotFound      | server.onNotFound();       |              |\n",
    "| onFileUpload    | server.onFileUpload();     |              |\n",
    "| send            | server.send(code,tipo_contenido,contenido)| Envia las respuestas solicitadas code:200, 404 tipo_contenido:\"text/plain\",\"image/png\"|\n",
    "|streamFile      |server.streamFile(file, GetContentType(path));| Permite cargar una pagina completa |\n",
    "|handleClient     |server.handleClient();      |  Maneja las conexiones entrantes|\n"
   ]
  },
  {
   "cell_type": "markdown",
   "id": "69b48747-9670-4d22-aca5-c2d865f587c9",
   "metadata": {},
   "source": [
    "### 5.3.2 PROGMEM\n",
    "\n",
    "Permite cargar informacion en la memoria flash. Despues se puede pasar a la RAM cuando hace falta. Es una característica Arduino AVR que ha sido portada a ESP8266 para asegurar la compatibilidad con las librerías existentes en Arduino, así como para ahorrar RAM. La sintaxis seria:\n",
    "\n",
    "``` const char MAIN_page[] PROGMEM = R\"=====( pagina web )======\" ```\n"
   ]
  },
  {
   "cell_type": "markdown",
   "id": "bf627dfb-e3bf-48fc-a162-760257d3ea9d",
   "metadata": {},
   "source": [
    "### 5.3.3 Programa Webserver\n",
    "Este programa debe prender o apagar el led que se encuentra en la placa desde una pagina WEB. Este sistema puede ser controlado desde un telefono celular. Se utiliza el microcontrolador esp8266 que se conecta a la red WIFI y crea un webserver. Utliza la memoria RAM para guardar la pagina WEB.\n",
    "\n",
    "Se crea un nuevo programa en el IDE de arduino denominado internet1.ino y los archivos config.h y wifi.hpp se copian en el nuevo directorio.\n"
   ]
  },
  {
   "cell_type": "markdown",
   "id": "847d6085-44eb-48eb-8b6a-03424652698a",
   "metadata": {},
   "source": [
    "#### Archivo config.h \n",
    "\n",
    "En el archivo config.h se escribe la pagina WEB que se muestra mas abajo\n",
    "\n",
    "   \n",
    "<!DOCTYPE html>  \n",
    "<html>  \n",
    "<body>  \n",
    "<center>\n",
    "<h1> CURSO DE ROBOTICA EDUCATIVA</h1>\n",
    "<h1>Programa para prender/apagar un LED </h1><br> <br>\n",
    "Apretar para <a href=\"ledOn\" >Prender LED </a><br>\n",
    "Apretar para <a href=\"ledOff\">Apagar LED</a><br>\n",
    "<hr>\n",
    "</center>\n",
    "\n",
    "</body>\n",
    "</html>   \n",
    "El archivo config.h queda asi:      \n",
    "\n",
    "```\n",
    "const char* red_WIFI     = \"nombre_red\";\n",
    "const char* clave = \"clave\";\n",
    "\n",
    "const char MAIN_page[] PROGMEM = R\"=====(  \n",
    "<!DOCTYPE html>  \n",
    "<html>  \n",
    "<body>  \n",
    "<center>\n",
    "<h1> CURSO DE ROBOTICA EDUCATIVA</h1>\n",
    "<h1>Programa para prender/apagar un LED </h1><br> <br>\n",
    "Apretar para <a href=\"ledOn\" ><button>Prender </button>LED</a><br>\n",
    "Apretar para <a href=\"ledOff\"><button>Apagar LED</button></a><br>\n",
    "<hr>\n",
    "</center>\n",
    "\n",
    "</body>\n",
    "</html>\n",
    ")=====\";\n",
    "```"
   ]
  },
  {
   "cell_type": "markdown",
   "id": "b410d7d1-453a-4b21-a4ea-2dd593d130b4",
   "metadata": {},
   "source": [
    "#### Archivo wifi.hpp\n",
    "\n",
    "En esp8266 para configurar y controlar un webserver se usan las siguientes funciones.   \n",
    "   \n",
    "|  Funcion        |   Sintaxis                   |Acciones                   |   \n",
    "|---              |---                           |---                        |   \n",
    "|ESP8266WebServer |  ESP8266WebServer server(80) |Crea el objeto server. |     \n",
    "| begin           |  server.begin()              |Inicia el servidor web, especificando el puerto (generalmente el 80). |   \n",
    "| on              |  server.on(/ledOn,funcion    |Permiten definir rutas (URI) y las funciones que se ejecutarán cuando se acceda a esas rutas. |   \n",
    "|handleClient     |  server.handleClient()       | Escucha las conexiones entrantes y gestiona las solicitudes. |   \n",
    "|send             |server.send( 200,s)           |Se utilizan para enviar respuestas al cliente, incluyendo código HTML en el string s y OK con 200.  |   \n",
    "En el archivo wifi.hpp se agregan tienen que estar las siguientes funciones:\n",
    "- iniciar_server()\n",
    "- controlRaiz()\n",
    "- prender()\n",
    "- apagar()\n",
    "  "
   ]
  },
  {
   "cell_type": "markdown",
   "id": "576fcea6-4bb8-48cb-ab6a-847d35803d85",
   "metadata": {},
   "source": [
    " ##### Funcion iniciar_server   \n",
    " Esta funcion es la encargada de enviar la informacion a la pagina web cuando es solicitada, asocia la ruta de la URL raíz (\"/\") con una función llamada controlRaiz. Cuando un cliente (por ejemplo, un navegador web) solicita la página principal del servidor (la dirección IP del ESP8266), la función controlRaiz se ejecutará para manejar esa solicitud\n",
    "\n",
    "```\n",
    "void iniciarServer() {\n",
    "\n",
    "  server.on(\"/\", controlRaiz);\n",
    "  server.on(\"/Prender\", prender);  //Rutina mueve el brazo\n",
    "  server.on(\"/Apagar\", apagar);    //Rutina mueve el brazo\n",
    "  server.begin();\n",
    "}\n",
    "\n",
    "```"
   ]
  },
  {
   "cell_type": "markdown",
   "id": "215c29a3-e373-4a3e-ad7e-b61a137d70df",
   "metadata": {},
   "source": [
    "\n",
    "##### Funcion controlRaiz \n",
    "\n",
    "En este programa carga la pagina web que se encuentra en la memoria RAM y esta definida en el archivo config.h. Se muestra el codigo de la funcion.   \n",
    "```\n",
    "void controlRaiz() {  \n",
    " Serial.println(\"Pagina original \");  \n",
    " String s = MAIN_page; //Read HTML contents  \n",
    " server.send(200, \"text/html\", s); //Send web page  \n",
    "}\n",
    "```"
   ]
  },
  {
   "cell_type": "markdown",
   "id": "95196b0f-f90b-4607-a698-4e2bcb1da0c8",
   "metadata": {},
   "source": [
    "##### Funcion prender \n",
    "Esta funcion prende el LED que se encuentra dentro de la placa esp8266.\n",
    "```  \n",
    "void prender() {   \n",
    " Serial.println(\"LED prendido\");  \n",
    " digitalWrite(BUILTIN_LED,LOW); //LED is connected in reverse  \n",
    " server.send(200, \"text/html\", \"El LED esta prendido\");  \n",
    "}\n",
    "```"
   ]
  },
  {
   "cell_type": "markdown",
   "id": "1e7d1336-9ceb-45e5-9107-8f6edbe990f9",
   "metadata": {},
   "source": [
    "#####  Funcion apagar \n",
    "Funcion apaga el LED que se encuentra dentro de la placa esp8266.\n",
    "```\n",
    "void apagar() {   \n",
    " Serial.println(\"LED apagado\");  \n",
    " digitalWrite(BUILTIN_LED,HIGH); //LED off  \n",
    " server.send(200, \"text/html\", \"El LED esta apagado\");   \n",
    "}  \n",
    "```"
   ]
  }
 ],
 "metadata": {
  "kernelspec": {
   "display_name": "Python 3 (ipykernel)",
   "language": "python",
   "name": "python3"
  },
  "language_info": {
   "codemirror_mode": {
    "name": "ipython",
    "version": 3
   },
   "file_extension": ".py",
   "mimetype": "text/x-python",
   "name": "python",
   "nbconvert_exporter": "python",
   "pygments_lexer": "ipython3",
   "version": "3.12.3"
  }
 },
 "nbformat": 4,
 "nbformat_minor": 5
}
