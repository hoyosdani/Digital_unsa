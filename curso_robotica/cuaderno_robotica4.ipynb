{
 "cells": [
  {
   "cell_type": "markdown",
   "id": "94055749-a95e-4de2-843f-cfe5aeac3b22",
   "metadata": {},
   "source": [
    "## 5.3.- Servidor WEB\n",
    "\n",
    "En esta seccion se describira como implemetar un servidor web en el SOC ESP8266 que permita, en este caso prender o apagar un led. Se utilizara una libreria especialmente desarrollada con este fin.\n",
    "### 5.3.1 Librería ESP8266WebServer\n",
    " \n",
    "Un servidor web es una computadora que almacena los archivos que componen un sitio web (ej.  documentos HTML , imágenes, hojas de estilos CSS y archivo JavaScript) y los entrega a otro dispositivo que le solicita un servicio. Se desarrollo para el ESP8266 una libreria que permite implementar un servidor web. Se denomina libreria esp8266WebServer. Los metodos que se utilizan se muestran a continuacion\n"
   ]
  },
  {
   "cell_type": "markdown",
   "id": "c9e5fb38-c239-452a-b2b2-46548deb3c0a",
   "metadata": {},
   "source": [
    "\n",
    "| Metodo          | Sintaxis                   |  Funcion      |\n",
    "|---              |---                         |---            |\n",
    "|ESP8266WebServer |ESP8266WebServer server(80) | Crea el objeto server |\n",
    "|begin            | server.begin()             | Inicializa el servidor|\n",
    "|close            | server.close()             | Apaga el servidor     |\n",
    "|stop             | server.stop()              | Apaga el servidor     |\n",
    "| on              | server.on(\"/\", FuncionM);  | Indica una función que emitira una respuesta del servidor cuando un navegador solicita la URL |\n",
    "|addHandler       | server. addHandler();      |              |\n",
    "| onNotFound      | server.onNotFound();       |              |\n",
    "| onFileUpload    | server.onFileUpload();     |              |\n",
    "| send            | server.send(code,tipo_contenido,contenido)| Envia las respuestas solicitadas code:200, 404 tipo_contenido:\"text/plain\",\"image/png\"|\n",
    "|streamFile      |server.streamFile(file, GetContentType(path));| Permite cargar una pagina completa |\n",
    "|handleClient     |server.handleClient();      |  Maneja las conexiones entrantes|\n"
   ]
  },
  {
   "cell_type": "markdown",
   "id": "69b48747-9670-4d22-aca5-c2d865f587c9",
   "metadata": {},
   "source": [
    "### 5.3.2 PROGMEM\n",
    "\n",
    "Permite cargar informacion en la memoria flash. Despues se puede pasar a la RAM cuando hace falta. Es una característica Arduino AVR que ha sido portada a ESP8266 para asegurar la compatibilidad con las librerías existentes en Arduino, así como para ahorrar RAM. La sintaxis seria:\n",
    "\n",
    "``` const char MAIN_page[] PROGMEM = R\"=====( pagina web )======\" ```\n"
   ]
  },
  {
   "cell_type": "markdown",
   "id": "bf627dfb-e3bf-48fc-a162-760257d3ea9d",
   "metadata": {},
   "source": [
    "### 5.3.3 Programa Webserver\n",
    "Este programa debe prender o apagar el led que se encuentra en la placa desde una pagina WEB. Este sistema puede ser controlado desde un telefono celular. Se utiliza el microcontrolador esp8266 que se conecta a la red WIFI y crea un webserver. Utliza la memoria RAM para guardar la pagina WEB.\n",
    "\n",
    "Se crea un nuevo programa en el IDE de arduino denominado internet1.ino y los archivos config.h y wifi.hpp se copian en el nuevo directorio.\n"
   ]
  }
 ],
 "metadata": {
  "kernelspec": {
   "display_name": "Python 3 (ipykernel)",
   "language": "python",
   "name": "python3"
  },
  "language_info": {
   "codemirror_mode": {
    "name": "ipython",
    "version": 3
   },
   "file_extension": ".py",
   "mimetype": "text/x-python",
   "name": "python",
   "nbconvert_exporter": "python",
   "pygments_lexer": "ipython3",
   "version": "3.12.3"
  }
 },
 "nbformat": 4,
 "nbformat_minor": 5
}
