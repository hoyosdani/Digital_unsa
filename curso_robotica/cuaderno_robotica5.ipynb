{
 "cells": [
  {
   "cell_type": "markdown",
   "id": "cba327a5-82e0-428b-b701-cea0d160d5f5",
   "metadata": {},
   "source": [
    "## 6.- Sensores interfases y actuadores\n",
    "\n",
    "En este capitulo se describiran y se enseñara a programar en el SOC ESP8266, los sensores y actuadores que se utilizaran en el curso.\n",
    "\n",
    "- DHT11\n",
    "- Servomotor\n",
    "- motorDC\n",
    "\n",
    "### 6.1.- Sensor de temperatura y humedad DHT11\n",
    "\n",
    "\n",
    "El DHT11 es un sensor digital de temperatura y humedad  de tipo resistivo, para conectarse con un microconntrolador usa una interfaz digital del tipo  **1 wire**. Que consiste en recibir y enviar datos usando un solo puerto. La distancia a la que puede estar el sensor del microcontrolador es de hasta 100 metros.   \n",
    "<center>\n",
    "<img src=\"img/dht11.webp\" alt=\"Imagen\"></img>  \n",
    "\n",
    "    Figura1: Sensor DHT11 </center>\n",
    "\n",
    "Especificaciones  \n",
    "    • Alimentacion: 3.3 ~ 5.5V DC   \n",
    "    • Salida: Señal digital single-bus    \n",
    "    • rango: Humedad 20-90% RH, Temperatura 0 ~ 50 ℃   \n",
    "    • Exactitud: Humedad + -5% RH, temperatura + -2 ℃   \n",
    "    • Resolucion: Humedad 1% RH, temperatura 1 ℃  \n",
    "    • Estabilidad: <± 1% RH / Year  \n",
    "\n",
    "Esquema \n",
    "\n",
    "|Pin sensor| Pin arduino|\n",
    "|---       |---         |\n",
    "|(S)       |  8         |\n",
    "| (-)      | GND        |\n",
    "|(Medio)   |  +5        |\n",
    "\n",
    "\n"
   ]
  },
  {
   "cell_type": "markdown",
   "id": "e89dd472-0126-4d2f-abe0-c97ede160c09",
   "metadata": {},
   "source": [
    "Este sensor tiene una libreria denominada **DHT11.h**. La cual debe ser instalada.\n",
    "Abre el IDE de Arduino.   \n",
    "Ir a \"Sketch\" > \"Incluir librería\"(include library > \"Gestionar bibliotecas...\"(manage library).  \n",
    "Busca \"DHT sensor library\" hacer clic en \"Instalar\". \n"
   ]
  },
  {
   "cell_type": "markdown",
   "id": "4f725e6c-e215-4554-a2a4-b81198f1e7ff",
   "metadata": {},
   "source": [
    "### 6.2.- Programacion\n",
    "Una vez instalada se recomienda crear en el proyecto dos archivos.\n",
    "- sensorDHT.h\n",
    "- sensorDHT.hpp"
   ]
  },
  {
   "cell_type": "markdown",
   "id": "f7d3a1bd-8906-4a40-8bd1-1b71ad5c4614",
   "metadata": {},
   "source": [
    "####  sensorDHT.h\n",
    "En este archivo se debe colocar las distintas definiciones y librerias utilizadas}\n",
    "```\n",
    "#include <DHT.h>\n",
    "#define DHTPIN D3    \n",
    "#define DHTTYPE    DHT11       // DHT 11\n",
    "float Temperatura;\n",
    "float Humedad;\n",
    "```\n",
    "En este codigo se define en que puerto se conectara el sensor **DHTPIN**. Se debe conectar siguiendo el esquema de la figura.\n",
    "\n",
    "\n",
    "<center><img src=\"img/nodemcu_dht11.png\" alt=\"Imagen\"></img>  </center>\n",
    "<center>Figura2: Sistema DHT11 con ESP8266.  </center>\n",
    "\n",
    "Se define el tipo de sensor de **DHTTYPE**\n"
   ]
  },
  {
   "cell_type": "markdown",
   "id": "ab9ae8be-3766-48cc-8543-16fc747958f4",
   "metadata": {},
   "source": [
    "#### sensorDHT.hpp\n",
    "```\n",
    "void medida\n",
    " {\n",
    " Temperatura = dht.readTemperature();         // Leemos la temperatura\n",
    " Humedad = dht.readHumidity();               // Leemos la humedad\n",
    "}\n",
    "```\n",
    "\n",
    "Esta funcion se debe incorporar a la función **loop()** y realiza continuamente la medida de temperatura y humedad en el SOC ESP8266"
   ]
  }
 ],
 "metadata": {
  "kernelspec": {
   "display_name": "Python 3 (ipykernel)",
   "language": "python",
   "name": "python3"
  },
  "language_info": {
   "codemirror_mode": {
    "name": "ipython",
    "version": 3
   },
   "file_extension": ".py",
   "mimetype": "text/x-python",
   "name": "python",
   "nbconvert_exporter": "python",
   "pygments_lexer": "ipython3",
   "version": "3.12.3"
  }
 },
 "nbformat": 4,
 "nbformat_minor": 5
}
