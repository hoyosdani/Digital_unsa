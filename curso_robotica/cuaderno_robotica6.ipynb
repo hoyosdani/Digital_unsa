{
 "cells": [
  {
   "cell_type": "markdown",
   "id": "4d1177b8-f6c4-4d03-b3c6-6ae70c0b1edf",
   "metadata": {
    "jp-MarkdownHeadingCollapsed": true
   },
   "source": [
    "### 6.3.- Motores.\n",
    "\n",
    "En robotica educativa se utilizan tres tipos de motores:\n",
    "\n",
    "- Motor de Corriente continua: Se puede controlar la velocidad de giro y tiene un par motor elevado.\n",
    "- Motor Paso a Paso: Se puede controlar velocidad de giro y posicion del motor. Tiene un par motor medio.\n",
    "- Servomotor: Se puede controlar la posicion del motor y tiene un par motor bajo.\n",
    "\n",
    "Cada uno de estos motores requiere una programacion y o interfaz distinta. en estee curso se describiran dos"
   ]
  },
  {
   "cell_type": "markdown",
   "id": "7a660ccd-d35c-426b-97b3-a8c1db39029d",
   "metadata": {},
   "source": [
    "### 6.3.1.- Servomotores\n",
    "\n",
    "Un servomotor es un tipo de motor que permite controlar la posición de su eje, gracias a un sistema de control de bucle cerrado con retroalimentación. Este sistema combina un motor de corriente continua con un sensor lo que  permite al servomotor moverse a una posición determinada y mantenerse en ella. En la figura 3 se muestra un servomotor tipo RC para hobbista y mas abajo la \n",
    "<center><img src=\"img/servomotor.jpg\" alt=\"Imagen\"></img></center>\n",
    "<center>Figura 3:Servomotor</center>\n",
    "\n",
    "|Pin sensor| Pin ESP8266|\n",
    "|---       |---         |\n",
    "| marron   |  GND       |\n",
    "| rojo     |  +5V       |\n",
    "| naranja  |   9        |\n",
    "\n",
    "El servomotor tipo hobbista tiene un microcontrolador que espera una señal PWM, que espera recibir un pulso de trabajo entre 1 ms y 2 ms y con un periodo de 20 ms (50 Hz).en donde 1ms representa -90 grados y 2ms los 90 grados.\n"
   ]
  },
  {
   "cell_type": "markdown",
   "id": "cfd845f7-76af-493b-b719-47523a5443a0",
   "metadata": {},
   "source": [
    "Los desarrolladores de arduino crearon una libreria denominada Servo que permite coontrolar los servomotores del tipo hobbista **RC** que se usa en robotica educativa. Los megodos y funciones de la libreria son:\n",
    "| Sentencia | Sintaxis                 | Funcion                                                                        |\n",
    "|---        |---                       |---                                                                             |\n",
    "|servo      |Servo.servo               | Crea el objeto servo que permite utilizar todos los metodos de la clase  |\n",
    "|attach     |servo.attach(pin)         | Configura al servomotor para que funcione usando el puerto pin |\n",
    "|           |servo.attach(pin,min,max) | se utiliza min para el ancho del pulso en microsegundos de 0 grados y max para ancho de pulso de 180 grados |\n",
    "|write            |servo.write(ang)          | metodo para ordenar colocar al servo en un angulo determinado |\n",
    "|writemicrosecond |servo.writemicrosecond(ang)| Escribe el ancho del pulso en microsegundos |\n",
    "|read       |servo.read()              | Lee el angulo donde esta ubicado el servomotor|\n",
    "|dettach    |servo.dettach(pin)           | Desconecta el objeto servo del pin |\n",
    "|"
   ]
  },
  {
   "cell_type": "markdown",
   "id": "bbe42c3c-d2cc-4906-9e1c-0f9fcd5e3c79",
   "metadata": {},
   "source": [
    "### 6.3.2.- Programa \n",
    "Se deben crear dos archivos\n",
    "- miservo.h: Donde se guarda los datos de configuración\n",
    "- miservo.hpp: Donde se realizan las acciones sobre el servo\n",
    "#### miservo.h\n",
    "Se debe crear el objeto servo en este archivo\n",
    "```\n",
    "#include <Servo.h>\n",
    "Servo miservo;\n",
    "```\n",
    "#### miservo.hpp\n",
    "En la función **configurarServo** se configura el servo o los servos que se utilizaran en el sistema. Se debe armar el hardware del sistema como se muestra en la figura 4.\n",
    "<center><img src=\"img/nodemcu_servo.png\" alt=\"Imagen\"></img></>\n",
    "<center>Figura 4: Circuito servo con nodemCU </center>\n",
    "\n",
    "```\n",
    "configurarServo()\n",
    "    { \n",
    "    miservo.attach(9); // attaches the servo on pin 9 to the servo objec\n",
    "    }\n",
    "``` \n",
    "Se incluyen las funciones que controlan el movimiento del servo utilizando en general la funcion **miservo.wryte(ang)**    \n"
   ]
  },
  {
   "cell_type": "markdown",
   "id": "590ddd5c-987c-4881-8b00-12792d270014",
   "metadata": {},
   "source": [
    "### 6.3.3.- Control de motores L9110\n",
    "\n",
    "En esta parte se controlaran con el SOC ESP8266 motores de Corriente Continua, en la figura 5 se muestra el motor que se utilizara para el curso. Estos motores tienen un torque (momento) alto y la velocidad de rotacion de los mismos depende de la tensión que se le suministre. \n",
    "\n",
    "<center><img src=\"img/motor.jpg\" alt=\"Imagen\"></img>  </center> \n",
    "\n",
    "<center>Figura 5: Motor de corriente continua   </center>\n",
    "\n",
    "Se utiliza para controlar los motores de C.C. la tecnica de modulación por ancho de pulso. Un SOC esp8266 no puede suministrar la corriente necesaria para controlar un motor de C.C. por eso se debe utilizar una interfaz. En se caso se utilizara un KIT L9110. \n",
    "\n",
    "Este Kit utiliza el chip L9110s qu se muestra en la figura 6. El cual es un puente H mosfet que trabaja entre 2,5v y 12v (se recomienda de 5 a 12 voltios) y con un amperaje de 800mA. \n",
    "\n",
    "<center><img src=\"img/l9110.png\" alt=\"Imagen\"></img>    </center>\n",
    "\n",
    "<center>    Figura 6: Circuito integrado  L9110 </center>\n",
    "\n",
    "\n",
    "El Kit tiene dos integrados L9910s lo que permite controlar con este dispositivo dos motores de corriente continua o un motor paso a paso. Las dimensiones del mismo es de 3.1 cm x 2.2 cm x 1.2 cm y un peso de 7 g. Se muestra en la figura 7.\n",
    "\n",
    "<center><img src=\"img/l9110.jpg\" alt=\"Imagen\"></img> </center>\n",
    "\n",
    "<center>Figura 7: Kit L9110 </center>\n",
    "\n",
    "En la Figura 8 se muestra el circuito formado por dos motores un driver L9110 y un SOC ESP8266.\n",
    "\n",
    "<center><img src=\"img/esp8266_l9110_bb.jpg\" alt=\"Imagen\"></img</center>\n",
    "\n",
    "<center>Figura 8: Conexion al SOC ESP8266</center>"
   ]
  },
  {
   "cell_type": "code",
   "execution_count": null,
   "id": "875080c9-b6c0-44ac-850c-8d99f3ac76e7",
   "metadata": {},
   "outputs": [],
   "source": []
  }
 ],
 "metadata": {
  "kernelspec": {
   "display_name": "Python 3 (ipykernel)",
   "language": "python",
   "name": "python3"
  },
  "language_info": {
   "codemirror_mode": {
    "name": "ipython",
    "version": 3
   },
   "file_extension": ".py",
   "mimetype": "text/x-python",
   "name": "python",
   "nbconvert_exporter": "python",
   "pygments_lexer": "ipython3",
   "version": "3.12.3"
  }
 },
 "nbformat": 4,
 "nbformat_minor": 5
}
