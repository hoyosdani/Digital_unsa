{
 "cells": [
  {
   "cell_type": "markdown",
   "id": "76ada630-e311-4e2d-b72a-1dd40a98b074",
   "metadata": {},
   "source": [
    "## 5.- Webserver con ESP8266\n",
    "En este capitulo se describira como controlar salidas tales como: Motores, Led, servomotores, etc. Entradas tales como: Sensores de temperatura, humedad, distancia, etc. Para cumplir con este fin se programara al ESP8266 como un servidor que permita realizar las acciones. Este programa se denominara webserver.\n",
    "\n",
    "El programa para el ESP8266 debe:\n",
    "- Conectarse a Internet.\n",
    "- Controlar la salidad.\n",
    "- Programar un webserver que realice las acciones.\n",
    "\n",
    "Para conectar el ESP8266 a una red WIFI se debe utilizar la libreria  ESP8266Wifi y para construir el webServer la libreria ESP8266WebServer, para acceder a la memoria FLASH se utilizara PROGMEN"
   ]
  },
  {
   "cell_type": "code",
   "execution_count": null,
   "id": "4ebc46b0-4179-442e-ab34-c2402e9966ed",
   "metadata": {},
   "outputs": [],
   "source": []
  }
 ],
 "metadata": {
  "kernelspec": {
   "display_name": "Python 3 (ipykernel)",
   "language": "python",
   "name": "python3"
  },
  "language_info": {
   "codemirror_mode": {
    "name": "ipython",
    "version": 3
   },
   "file_extension": ".py",
   "mimetype": "text/x-python",
   "name": "python",
   "nbconvert_exporter": "python",
   "pygments_lexer": "ipython3",
   "version": "3.12.3"
  }
 },
 "nbformat": 4,
 "nbformat_minor": 5
}
