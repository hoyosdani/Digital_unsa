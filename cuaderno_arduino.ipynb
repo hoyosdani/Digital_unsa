{
 "cells": [
  {
   "cell_type": "markdown",
   "id": "84d51784",
   "metadata": {},
   "source": [
    "# ARDUINO SOFTWARE"
   ]
  },
  {
   "cell_type": "markdown",
   "id": "220218a4",
   "metadata": {},
   "source": [
    "El entorno de desarrollo se muestra en la figura 1, esta es la primer pantalla que se utiliza en Arduino,en la misma se puede observar las dos rutinas principales del entorno.\n",
    "<img src=\"img/arduino00.png\" alt=\"Imagen\"></img>\n",
    "\n",
    "Figura 1: Entorno de desarrollo para Arduino"
   ]
  },
  {
   "cell_type": "markdown",
   "id": "02ff7519",
   "metadata": {},
   "source": [
    "## Funciones\n",
    "\n",
    "Una función es un bloque de código que tiene un nombre y un grupo de declaraciones que se ejecutan cuando se llama a la misma. Podemos hacer uso de funciones integradas como void setup() y void loop() o escribir nuevas.\n"
   ]
  },
  {
   "cell_type": "markdown",
   "id": "719bf26a",
   "metadata": {},
   "source": [
    "## Estructura  \n",
    "La estructura básica del lenguaje de programación Arduino es bastante simple y se organiza en al menos dos partes o funciones que encierran bloques de declaraciones.  \n",
    "\t\tvoid setup()  \n",
    "\t\t\t{  \n",
    "\t\t\t}  \n",
    "\t\tvoid loop()  \n",
    "\t\t\t{  \n",
    "\t\t\t}  \n",
    "\n",
    "Ambas funciones son requeridas para que el programa funcione."
   ]
  },
  {
   "cell_type": "markdown",
   "id": "2f71a589",
   "metadata": {},
   "source": [
    "### Setup():\n",
    "\n",
    "La función setup debería contener la declaración de cualquier variable al comienzo del programa. Es la primera función a ejecutar en el programa, es ejecutada una vez y es usada para asignar pinMode o inicializar las comunicaciones serie.\n",
    "\n",
    "### Loop(): \n",
    "\n",
    "La función loop se ejecuta a continuación e incluye el código que se ejecuta contínuamente leyendo entradas, activando salidas, etc. Esta función es el núcleo de todos los programas Arduino y hace la mayor parte del trabajo.\n"
   ]
  },
  {
   "cell_type": "markdown",
   "id": "b21b6a30",
   "metadata": {},
   "source": [
    "\n",
    "## RESUMEN DE C\n",
    "Esta parte del apunte fue tomada de Guía de Usuario de Arduino de Rafael Enríquez Herrador  "
   ]
  },
  {
   "cell_type": "markdown",
   "id": "fadc77e0",
   "metadata": {},
   "source": [
    "### FUNCIONES\n",
    "\n",
    "Una función es un bloque de código que tiene un nombre y un grupo de declaraciones que se ejecutan cuando se llama a la función. Podemos hacer uso de funciones integradas como void setup() y void loop() o escribir nuevas.\n",
    "Las funciones se escriben para ejecutar tareas repetitivas. En primer lugar se declara el tipo de la función, que será el valor retornado por la función (int, void...). A continuación del tipo, se declara el nombre de la función y, entre paréntesis, los parámetros que se pasan a la función.  \n",
    "type Nombrefuncion(parameters)  \n",
    "{  \n",
    "}  "
   ]
  },
  {
   "cell_type": "markdown",
   "id": "95d6230b",
   "metadata": {},
   "source": [
    "### Llaves {}\n",
    "Las llaves definen el comienzo y el final de bloques de función y bloques de declaraciones como void loop() y sentencias for e if. Las llaves deben estar balanceadas (a una llave de apertura {debe seguirle una llave de cierre }). Las llaves no balanceadas provocan errores de compilación.  \n",
    "void loop()  \n",
    "\t{  \n",
    "\tsentencias;  \n",
    "\t}  "
   ]
  },
  {
   "cell_type": "markdown",
   "id": "32de7f11",
   "metadata": {},
   "source": [
    "### Punto y coma ;\n",
    "\n",
    "Un punto y coma debe usarse al final de cada declaración y separa los elementos del programa. También se usa para separar los elementos en un bucle for.  \n",
    "int x = 13;  \n",
    "Nota: Olvidar un punto y coma al final de una declaración producirá un error de compilación.  "
   ]
  },
  {
   "cell_type": "markdown",
   "id": "34c7b45f",
   "metadata": {},
   "source": [
    "### Bloques de comentarios /*...*/\n",
    "Los bloques de comentarios, o comentarios multilínea, son áreas de texto ignoradas por el programa y se usan para grandes descripciones de código o comentarios que ayudan a otras personas a entender partes del programa. Empiezan con /* y terminan con */ y pueden abarcar múltiples líneas.\n",
    "\n",
    "### Comentarios de línea //\n",
    "Comentarios de una línea empiezan con // y terminan con la siguiente línea de código. Como el bloque de comentarios, son ignorados por el programa y no toman espacio en memoria.\n",
    "\t\t// este es un comentario de una línea"
   ]
  },
  {
   "cell_type": "markdown",
   "id": "61fb8851",
   "metadata": {},
   "source": [
    "### VARIABLES\n",
    "Una variable es una forma de llamar y almacenar un valor numérico para usarse después por el programa. Como su nombre indica, las variables son números que pueden cambiarse continuamente al contrario que las constantes, cuyo valor nunca cambia. Una variable necesita ser declarada y, opcionalmente, asignada al valor que necesita para ser almacenada.\n",
    "\n",
    "### TIPOS DE DATOS\n",
    "#### byte: \n",
    "Byte almacena un valor numérico de 8 bits sin puntos decimales. Tienen un rango de 0 a 255.  \n",
    "\tbyte a = 180;  \n",
    "#### int:  \n",
    "Enteros son los tipos de datos primarios para almacenamiento de números sin puntos decimales y almacenan un valor de 16 bits con un rango de -32,768 a 32,767.  \n",
    "int a = 1500;  \n",
    "#### long:  \n",
    "Tipo de datos de tamaño extendido para enteros largos, sin puntos decimales, almacenados enun v alor de 32 bits con un rango de -2,146,483,648 a 2,147,483,647.  \n",
    "\tlong a = 90000;  \n",
    "#### float: \n",
    "Un tipo de datos para números en punto otante, o números que tienen un punto decimal. Los números en punto flotante tienen mayor resolución que los enteros y se almacenan como valor de 32 bits con un rango de -3.4028235E+38 a 3.4028235E+38.  \n",
    "\tfloat a = 3.14;  \n",
    "#### char: \n",
    "Un tipo de datos para presentar codigos ASCII simbolos y letras   \n",
    "\tchar a='c';  \n",
    "#### arrays: \n",
    "Un array es una colección de valores que son accedidos con un índice numérico. Cualquier valor en el array debe llamarse escribiendo el nombre del array y el índice numérico del valor. Los arrays están indexados a cero, con el primer valor en el array comenzando con el índice número 0. Un array necesita ser declarado y opcionalmente asignarle valores antes de que puedan ser usados.\n",
    "int a[] = {1, 2, 3...};\n"
   ]
  },
  {
   "cell_type": "markdown",
   "id": "95e0859c",
   "metadata": {},
   "source": [
    "### MANEJO DE CARACTERES\n",
    "String: Se trata de una clase que permite usar y manipular cadenas de texto de una forma más sencilla que los strings. Puedes concatenar, añadir, buscar, etc… usando los métodos/funciones que ofrece esta clase. Los Strings tienen un uso intensivo de memoria, pero son muy útiles.Tener en cuenta que al no ser un tipo de dato propiamente dicho sino una clase, tienes unas funciones asociadas (métodos), operadores y unas propiedades. "
   ]
  },
  {
   "cell_type": "markdown",
   "id": "dbd3e9d2",
   "metadata": {},
   "source": [
    "#### ARITMÉTICA\n",
    "Los operadores aritméticos incluyen suma, resta, multiplicación y división. Retorna la suma, diferencia, producto o cociente (respectivamente) de dos operandos.\n",
    "y = y+3;\n",
    "x = x-7;\n",
    "i = j*6;\n",
    "r = r/5;\n"
   ]
  },
  {
   "cell_type": "markdown",
   "id": "f83bf955",
   "metadata": {},
   "source": [
    "#### ASIGNACIONES COMPUESTAS\n",
    "Las asignaciones compuestas combinan una operación aritmética con una asignación de variable. Estas son muy frecuentemente encontradas en bucles for. Las asignaciones compuestas más comunes incluyen:\n",
    "\t\tx++; //lo mismo que x = x+1  \n",
    "\t\tx--; //lo mismo que x = x-1  \n",
    "\t\tx += y; //lo mismo que x = x+y  \n",
    "\t\tx -= y; //lo mismo que x = x-y  \n",
    "\t\tx *= y; //lo mismo que x = x*y  \n",
    "\t\tx /= y; //lo mismo que x = x/y  "
   ]
  },
  {
   "cell_type": "markdown",
   "id": "58bee255",
   "metadata": {},
   "source": [
    "#### OPERADORES DE COMPARACIÓN  \n",
    "Las comparaciones de una variable o constante con otra se usan a menudo en declaraciones if para comprobar si un condición específica es cierta.  \n",
    "\t\tx == y; //x es igual a y  \n",
    "\t\tx != y; //x no es igual a y  \n",
    "\t\tx < y; //x es menor que y  \n",
    "\t\tx > y; //x es mayor que y  \n",
    "\t\tx <= y; //x es menor o igual que y  \n",
    "\t\tx >= y; //x es mayor o igual que y  "
   ]
  },
  {
   "cell_type": "markdown",
   "id": "bb74e173",
   "metadata": {},
   "source": [
    "      \n",
    "#### OPERADORES LÓGICOS  \n",
    "Los operadores lógicos son normalmente una forma de comparar dos expresiones y devuelve TRUE o FALSE dependiendo del operador. Hay tres operadores lógicos, AND, OR y NOT, que se usan a menudo en declaraciones if.  \n",
    "##### AND lógico: \n",
    "verdadero sólo si las dos expresiones son ciertas\n",
    "\t\tif(x>0 && x<5)  \n",
    "##### OR lógico: \n",
    "verdadero si al menos una expresión es cierta.\n",
    "\t\tif(x>0 || y>0)\n",
    "##### NOT lógico: \n",
    "verdadero sólo si la expresión es falsa  \n",
    "\t\tif(!(x>0))  \n"
   ]
  },
  {
   "cell_type": "markdown",
   "id": "ee736884",
   "metadata": {},
   "source": [
    "### CONSTANTES\n",
    "El lenguaje Arduino tiene unos cuantos valores predefinidos que se llaman constantes. Se usan para hacer los programas más legibles. Las constantes se clasifican en grupos.  \n",
    "#### TRUE/FALSE: \n",
    "Estas son constantes Booleanas que definen niveles lógicos. FALSE se define como 0 (cero) mientras TRUE es 1 o un valor distinto de 0.  \n",
    "\t\tif(b == TRUE)  \n",
    "\t\t\t{  \n",
    "\t\t\tsentencias;  \n",
    "\t\t\t}  \n",
    "#### HIGH/LOW: \n",
    "Estas constantes definen los niveles de pin como HIGH o LOW y se usan cuando se leen o se escriben los pines digitales. HIGH esta definido como el nivel 1 lógico, ON ó 5 V, mientras que LOW es el nivel lógico 0, OFF ó 0 V.  \n",
    "digitalWrite(13, HIGH);  \n",
    "\n",
    "#### INPUT/OUTPUT:\n",
    "Constantes usadas con la función pinMode() para definir el modo de un pin digital como INPUT u OUTPUT.  \n",
    "\t\tpinMode(13, OUTPUT);  "
   ]
  },
  {
   "cell_type": "markdown",
   "id": "68e755e7",
   "metadata": {},
   "source": [
    "### CONTROL DE FLUJO\n",
    "\n",
    "#### if: \n",
    "Las sentencias if comprueban si cierta condición ha sido alcanzada y ejecutan todas las sentencias dentro de las llaves si la declaración es cierta. Si es falsa el programa ignora la sentencia.  \n",
    "\t\tif(a==0)  \n",
    "\t\t\t{  \n",
    "\t\t\tsentencias;  \n",
    "\t\t\t}  \n",
    "if. . . else: permite tomar decisiones esto - o esto.  \n",
    "\tif(a == HIGH)  \n",
    "\t\t{  \n",
    "\t\thacerA;  \n",
    "\t\t}  \n",
    "\telse  \n",
    "\t\t{  \n",
    "\t\thacerB;  \n",
    "\t\t}  \n",
    "#### for:\n",
    "La sentencia for se usa para repetir un bloque de declaraciones encerradas en llaves un número específico de veces. Un contador de incremento se usa a menudo para incrementar y terminar el bucle. Hay tres partes separadas por punto y coma (;), en la cabecera del bucle.  \n",
    "\t\tfor(i=0; i<200; i++)  \n",
    "\t\t\t{  \n",
    "\t\t\tsentencias;  \n",
    "\t\t\t}  \n",
    "#### while:\n",
    "El bucle while se repetirá continuamente, e infinitamente, hasta que la expresión dentro del paréntesis se vuelva falsa. Algo debe cambiar la variable testeada, o el bucle while nunca saldrá. Esto podría estar en tu código, como por ejemplo una variable incrementada, o una condición externa, como un sensor de comprobación.  \n",
    "\t\twhile(a<200)  \n",
    "\t\t\t{  \n",
    "\t\t\ta++;  \n",
    "\t\t\t}  \n",
    "#### do. . . while: \n",
    "\n",
    "El bucle do. . . while es un bucle que trabaja de la misma forma que el bucle while, con la excepción de que la condición es testeada al nal del bucle, por lo que el bucle do. . . while siempre se ejecutará al menos una vez.  \n",
    "\t\tdo  \n",
    "\t\t\t{  \n",
    "\t\t\tsentencias;  \n",
    "\t\t\t}while(a < 200);  "
   ]
  },
  {
   "cell_type": "markdown",
   "id": "9bcd2aa5",
   "metadata": {},
   "source": [
    "### RESUMEN DE FUNCIONES PRINCIPALES DE ENTRADA SALIDA\n"
   ]
  },
  {
   "cell_type": "markdown",
   "id": "a3cffaa2",
   "metadata": {},
   "source": [
    "#### pinMode(pin, mode): \n",
    "Se usa en void setup() para configurar un pin específico para que se comporte o como INPUT o como OUTPUT.  \n",
    "\t\tpintMode(pin, OUTPUT); //ajusta 'pin' como salida  \n",
    "Los pines digitales de Arduino están ajustados a INPUT por defecto, por lo que no necesitan ser declarados explícitamente como entradas con pinMode(). Los pines configurados como INPUT se dice que están e un estado de alta impedancia. Hay también convenientes resistencias de pull-up de 20 KOhm, integradas en el chip ATmega que pueden ser accedidas por software. A estas resistencias pull-up integradas se accede de la siguiente manera.  \n",
    "\t\tpinMode(pin, INPUT); //ajusta 'pin' como entrada  \n",
    "\t\tdigitalWrite(pin, HIGH); //activa la resistencia de pull-up  \n",
    "Las resistencias de pull-up se usarían normalmente para conectar entradas como interruptores. Los pines configurados como OUTPUT se dice que están en un estado de baja impedancia y pueden proporcionar 40 mA a otros dispositivos/circuitos.  \n",
    "Nota: Cortocircuitos en los pines de Arduino o corriente excesiva pueden dañar o destruir el pin de salida, o dañar el chip ATmega. A menudo es una buena idea conectar un pin OUTPUT a un dispositivo externo en serie con una resistencia de 470 Ohm o 1 KOhm.  \n"
   ]
  },
  {
   "cell_type": "markdown",
   "id": "5043e304",
   "metadata": {},
   "source": [
    "#### digitalRead(pin):\n",
    "Lee el valor desde un pin digital con el resultado HIGH o LOW. El pin puede ser una variable o una constante (0 - 13).  \n",
    "\tvalor= digitalRead(13); //ajusta 'valor' igual al pin de entrada  \n",
    "    \n"
   ]
  },
  {
   "cell_type": "markdown",
   "id": "661829e1",
   "metadata": {},
   "source": [
    "#### digitalWrite(pin, valor): \n",
    "Devuelve el nivel lógico HIGH o LOW a (activa o desactiva) un pin digital especificado. El pin puede ser especificado como una variable o constante (0 – 13).  \n",
    "\t\tdigitalWrite(pin, HIGH); //ajusta 'pin' a HIGH  "
   ]
  },
  {
   "cell_type": "markdown",
   "id": "ea69d020",
   "metadata": {},
   "source": [
    "#### analogRead(pin):\n",
    "Lee el valor desde un pin analógico con una resolución de 10 bits. Esta función sólo trabaja en los pines analógicos (0 - 5). Los valores enteros devueltos están en el rango de 0 a 1023.\n",
    "\t\tvalor= analogRead(pin); //ajusta 'value' igual a 'pin'\n",
    "Nota: Los pines analógicos al contrario que los digitales, no necesitan ser declarados al principio como INPUT u OUTPUT.\n"
   ]
  },
  {
   "cell_type": "markdown",
   "id": "017d48e7",
   "metadata": {},
   "source": [
    "#### analogWrite(pin, value):\n",
    "Escribe un valor pseudo analógico usando modulación por ancho de pulso (a un pin de salida marcado como PWM. En los Arduinos más nuevos con el chip ATmega168, esta función trabaja en los pines 3, 5, 6, 9, 10 y 11. Los Arduinos más antiguos con un ATmega8 sólo soporta los pines 9, 10 y 11. El valor puede ser especificado como una variable o constante con un valor de 0 a 255.  \n",
    "\t\tanalogWrite(pin, valor); //escribe 'valor' al 'pin' analogico  "
   ]
  },
  {
   "cell_type": "markdown",
   "id": "3d2ff8ef",
   "metadata": {},
   "source": [
    "#### delay(ms):\n",
    "Pausa tu programa por la cantidad de tiempo especicada en milisegundos, donde 1000 es igual a 1 segundo.  \n",
    "\t\tdelay(1000); //espera por un segundo  \n"
   ]
  },
  {
   "cell_type": "markdown",
   "id": "e16d12f1",
   "metadata": {},
   "source": [
    "millis(): Devuelve el número de milisegundos desde que la placa Arduino empezó a ejecutar el programa actual como un valor long sin signo.  \n",
    "\t\tvalue = millis(); //ajusta 'value' igual a millis()  \n",
    "Nota: Este número se desbordará (resetear de nuevo a cero), después de aproximadamente 9 horas.\n",
    "\n"
   ]
  },
  {
   "cell_type": "markdown",
   "id": "e8ad9aa6",
   "metadata": {},
   "source": [
    "#### Serial.begin(rate):\n",
    "Abre el puerto serie y asigna la tasa de baudios para la transmisión de datos serie. La típica tasa de baudios para comunicarse con el ordenador es 9600 aunque otras velocidades están soportadas.\n",
    "\n",
    "void setup()  \n",
    "\t{\t\t  \n",
    "Serial.begin(9600); //abre el puerto serie//ajusta la tasa de datos a 9600 bps  \n",
    "\t}  \n",
    "Nota: Cuando se usa la comunicación serie, los pines digitales 0 (Rx) y 1 (Tx) no pueden ser usados al mismo tiempo.  \n",
    "\n"
   ]
  },
  {
   "cell_type": "markdown",
   "id": "bb0ecf46",
   "metadata": {},
   "source": [
    "#### Serial.println(data):\n",
    "Imprime datos al puerto serie, seguido de un retorno de carro y avance de línea automáticos. Este comando toma la misma forma que Serial.print(), pero es más fácil para leer datos en el Serial.  \n",
    "\t\t\tSerial.println(analogValue); //envia el valor de 'analogValue'  \n"
   ]
  },
  {
   "cell_type": "markdown",
   "id": "30fd009e",
   "metadata": {},
   "source": [
    "#### pulseIn(): \n",
    "Lee un pulso en un pin. Si el valor es(HIGH) la rutina espera que el pin se ponga a alto y luego mide hasta que baje. La medida es en microsegundos."
   ]
  },
  {
   "cell_type": "markdown",
   "id": "adf12a5e",
   "metadata": {},
   "source": [
    "### INTERRUPCIONES\n",
    "Una interrupción es un recurso del cual disponen la mayoría de los procesadores y microcontroladores en el mercado hoy en día.Permiten cambiar la continuidad de ejecución de un program, para atender una necesidad, ya sea externa o interna.\n",
    "Como ejemplo, un botón de RESET puede ser visto como una fuente de interrupción que de manera asíncrona detiene todos los procesos y reinicia el sistema por completo. Incluso, dependiendo del sistema, lo puede llevar a un estado inicial.\n",
    "Las interrupciones se manejan de distintas formas según el procesador, fabricante, desarrollador, etc. Hablando a nivel de microcontroladores, la mayoría tienen algo en común, y es como atienden dicha interrupción. Al recibirse una señal de interrupción, se abre la brecha en la continuidad del programa en ejecución, y se recurre a un registro llamado “Handler”, el cuál, dependiendo del microcontrolador, contendrá el código de ejecución para atender la interrupción, o contendrá una dirección donde se encontrará dicho código. (http://wikitronica.labc.usb.ve)  \n",
    "En el entorno Arduino se dispone de las interrupciones mostradas en la tabla para los distintos modelos de arduino  \n",
    "\n",
    "| placa  | int.0 | int.1 |int.2 |int.3| int.4 |int.5 |\n",
    "|---     |---    |---    |--    |---  |---    |---   |\n",
    "|uno     |  2    |  3    |      |     |       |      |\n",
    "|leonardo|  3    |  2    |  0   | 1   | 7     |      |\n",
    "| mega   |  2    |  3    |  21  | 20  | 19    | 18   |\n",
    "\n",
    "Se debe manejar las siguientes funciones\n",
    "\n",
    "#### attachInterrupt:\n",
    "Llamado de interrupción, se debe colocar en setup inicializa la interrupción\n",
    "\n",
    "Formato: attachInterrupt(interrupt, ISR, mode)  \n",
    "\t\t\t\tInterrupt: número de interrupción  \n",
    "\t\t\t\tISR: función que se ejecutara al producirse la interrupción  \n",
    "\t\t\t\tmode: forma del evento que dispara la interrupción  \n",
    "\n",
    "Interrupciones\n",
    "\n",
    "|Tipo  | Acción |\n",
    "|---   |---     |\n",
    "|LOW   | Se dispara cuando el pin esta en bajo |\n",
    "|CHANGE| Se dispara cuando el pin cambia       |\n",
    "|RISING| Se dispara cuando el pin pasa de bajo a alto (flanco positivo)|\n",
    "|FALL  | Se dispara cuando el pin pasa de alto a bajo (flanco negativo)\t|\n",
    "|HIGH  | Se dispara cuando el pin esta en alto\t|\t\n",
    "\n",
    "#### DetachInterrupt: \n",
    "\n",
    "Anula la interrupcion que se esta realizando.  \n",
    "\n",
    "Formato:   \t\t\t\t\n",
    "detachInterrupt(interrupt)  \n",
    "\n",
    "#### Interrupt: \n",
    "numero de interrupcion\n",
    "\n",
    "Formato Interrupts();\n",
    "#### noInterrupts:\n",
    "Inhabilita las interrupciones  \n",
    "Formato noInterrupts();  \n",
    "\n"
   ]
  },
  {
   "cell_type": "markdown",
   "id": "ccc0fdc8",
   "metadata": {},
   "source": [
    "### Ejemplo de uso interrupciones  \n",
    "\n",
    "void setup  \n",
    "{  \n",
    "\n",
    "attachInterrupt(0, mifuncion1, FALLING);  \n",
    "attachInterrupt(1, mifuncion2, FALLING);  \n",
    "}  \n",
    "\n",
    "mifuncion1()  \n",
    "{  \n",
    "DetachInterrupt(1)  \n",
    "attachInterrupt(1, mifuncion2, FALLING);  \n",
    "}  \n",
    "\n",
    "mifuncion2()  \n",
    "{  \n",
    "}  \n"
   ]
  },
  {
   "cell_type": "code",
   "execution_count": null,
   "id": "7e656e66",
   "metadata": {},
   "outputs": [],
   "source": []
  }
 ],
 "metadata": {
  "kernelspec": {
   "display_name": "Python 3",
   "language": "python",
   "name": "python3"
  },
  "language_info": {
   "codemirror_mode": {
    "name": "ipython",
    "version": 3
   },
   "file_extension": ".py",
   "mimetype": "text/x-python",
   "name": "python",
   "nbconvert_exporter": "python",
   "pygments_lexer": "ipython3",
   "version": "3.8.8"
  }
 },
 "nbformat": 4,
 "nbformat_minor": 5
}
