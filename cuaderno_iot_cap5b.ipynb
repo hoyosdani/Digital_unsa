{
 "cells": [
  {
   "cell_type": "markdown",
   "id": "f3681883",
   "metadata": {},
   "source": [
    "### Servidor Web : recepcion de parametros\n",
    "\n",
    "#### Formularios HTML\n",
    "\n",
    "Para enviar datos desde una pagina Web se debe utilizar un formulario (FORM). El mismo permite que el visitante al sitio cargue datos y sean enviados al servidor. Es el medio ideal para registrar comentarios del visitante sobre el sitio, solicitar productos, sacar turnos etc. \n",
    "\n",
    "El envio de datos se realiza de dos formas posibles: \n",
    "- POST: Lleva los datos de forma \"visible\" al cliente (navegador web). El medio de envío es la URL. Los datos los puede ver cualquiera.  \n",
    "- GET: Consiste en datos \"ocultos\" (porque el cliente no los ve) enviados por un formulario cuyo método de envío es post. Es adecuado para formularios. Los datos no son visibles. \n",
    "\n",
    "Sintaxis basica:\n",
    "```\n",
    "<form method=\"POST\">\n",
    "    <!--La entrada de cualquier tipo y áreas de texto entra aquí-->\n",
    "</form>\n",
    "```\n",
    "Atributos de form:\n",
    "\n",
    "- method: define la forma de tranferencia de la información\n",
    "- action: nombre de la referencia que se conecta con el programa\n"
   ]
  },
  {
   "cell_type": "markdown",
   "id": "3b156826",
   "metadata": {},
   "source": [
    "#### INPUT\n",
    "Este elemento define cuadros de texto, botónes para subir los datos al servidor,cuadros para el ingreso de una clave y botones para borrar el contenido de todos los controles del formulario.\n",
    "\n",
    "Atributos mas comunes de INPUT:\n",
    "\n",
    "- text\n",
    "- checkbox\n",
    "- textarea\n",
    "- radio\n",
    "- select\n",
    "- button\n",
    "- submit\n",
    "\n"
   ]
  },
  {
   "cell_type": "markdown",
   "id": "9b9ba382",
   "metadata": {},
   "source": [
    "##### text\n",
    "\n",
    "Este tipo de input toma un valor de \"text\", por lo que crea una sola línea de entrada de texto."
   ]
  },
  {
   "cell_type": "markdown",
   "id": "70eb2b83",
   "metadata": {},
   "source": [
    "```\n",
    "<html>\n",
    "<head>\n",
    "<title>Prueba de formulario</title>\n",
    "</head>\n",
    "<body>\n",
    "<form method=\"post\" action=\"/entrada\">\n",
    "Ingrese su nombre: \n",
    "<input type=\"text\" name=\"nombre\" size=\"20\">\n",
    "<br>\n",
    "Ingrese su clave: \n",
    "<input type=\"password\" name=\"clave\" size=\"12\">\n",
    "<br>\n",
    "<input type=\"submit\" value=\"enviar\">\n",
    "<input type=\"reset\" value=\"borrar\">\n",
    "</form>\n",
    "</body>\n",
    "</html>\n",
    "```\n"
   ]
  },
  {
   "cell_type": "markdown",
   "id": "a9076c7f",
   "metadata": {},
   "source": [
    "##### checkbox\n",
    "\n",
    "El elemento checkbox es un control que se puede insertar en un formulario. Un checkbox es una casilla de selección que puede tomar dos valores (seleccionado/no seleccionado) \n"
   ]
  },
  {
   "cell_type": "markdown",
   "id": "a46617db",
   "metadata": {},
   "source": [
    "```\n",
    "<html>\n",
    "<head>\n",
    "<title>Prueba de formulario</title>\n",
    "</head>\n",
    "<body>\n",
    "<form method=\"post\" action=\"/check\">\n",
    "Ingrese su nombre:\n",
    "<input type=\"text\" name=\"nombre\" size=\"30\"><br>\n",
    "Seleccione las opciones:\n",
    "<br>\n",
    "<input type=\"checkbox\" name=\"uno\">1<br>\n",
    "<input type=\"checkbox\" name=\"dos\">2<br>\n",
    "\n",
    "<input type=\"checkbox\" name=\"tres\" value=\"paso\">1<br>\n",
    "<input type=\"checkbox\" name=\"tres\" value=\"npaso\">2<br>\n",
    "\n",
    "<input type=\"submit\" value=\"Enviar\">\n",
    "</form>\n",
    "</body>\n",
    "</html>\n",
    "```"
   ]
  },
  {
   "cell_type": "markdown",
   "id": "054ab4c3",
   "metadata": {},
   "source": [
    "##### textarea\n",
    "\n",
    "El elemento de tipo  permite ingresar varias líneas de texto, a diferencia del cuadro de texto que solo ingressa una(input/text). Es muy utilizado cuando queremos ingresar un comentario de una longitud de caracteres  grande.\n"
   ]
  },
  {
   "cell_type": "markdown",
   "id": "e656d7f5",
   "metadata": {},
   "source": [
    "```\n",
    "<html>\n",
    "<head>\n",
    "<title>Prueba de formulario</title>\n",
    "</head>\n",
    "<body>\n",
    "<form method=\"post\" action=\"/entrada\">\n",
    "Ingrese su nombre:\n",
    "<input type=\"textarea\" name=\"nombre\" size=\"20\">\n",
    "<br>\n",
    "<input type=\"submit\" value=\"enviar\">\n",
    "</form>\n",
    "</body>\n",
    "</html>\n",
    "```"
   ]
  },
  {
   "cell_type": "markdown",
   "id": "11655277",
   "metadata": {},
   "source": [
    "#### radio\n",
    "\n",
    "El elemento radio sirve para seleccionar un conjunto de opciones. Para definir controles de tipo radio también utilizamos el elemento input inicializando la propiedad type con el valor \"radio\"\n"
   ]
  },
  {
   "cell_type": "markdown",
   "id": "946127b2",
   "metadata": {},
   "source": [
    "```\n",
    "<html>\n",
    "<head>\n",
    "<title>Prueba de formulario</title>\n",
    "</head>\n",
    "<body>\n",
    "<form method=\"post\" action=\"/poem\">\n",
    "\n",
    "Ingrese su nombre:\n",
    "<input type=\"text\" name=\"nombre\" size=\"30\"><br>\n",
    "Seleccione el máximo nivel de estudios que tiene:\n",
    "<br>\n",
    "<input type=\"radio\" name=\"estudios\" value=\"1\">Sin estudios<br>\n",
    "<input type=\"radio\" name=\"estudios\" value=\"2\">Primario<br>\n",
    "<input type=\"radio\" name=\"estudios\" value=\"3\">Secundario<br>\n",
    "<input type=\"radio\" name=\"estudios\" value=\"4\">Universitario<br>\n",
    "<input type=\"submit\" value=\"Enviar\">\n",
    "</form>\n",
    "</body>\n",
    "</html>\n",
    "```"
   ]
  },
  {
   "cell_type": "markdown",
   "id": "3b96b874",
   "metadata": {},
   "source": [
    "##### select\n",
    "\n",
    "El elemento select es un cuadro de selección. Este elemento HTML nos permite seleccionar una opción entre un conjunto. Veremos en el concepto próximo que según como la configuramos podemos seleccionar varias opciones.\n"
   ]
  },
  {
   "cell_type": "markdown",
   "id": "07f80c47",
   "metadata": {},
   "source": [
    "\n",
    "```\n",
    "<html>\n",
    "<head>\n",
    "<title>Prueba de formulario</title>\n",
    "</head>\n",
    "<body>\n",
    "\n",
    "<form method=\"post\" action=\"/poem\">\n",
    "Ingrese su nombre:\n",
    "<input type=\"text\" name=\"nombre\" size=\"30\"><br>\n",
    "Seleccione su pais:\n",
    "<select name=\"pais\">\n",
    "<option value=\"1\">Argentina</option>\n",
    "<option value=\"2\">España</option>\n",
    "<option value=\"3\">México</option>\n",
    "<option value=\"4\">Guatemala</option>\n",
    "</select>\n",
    "<br>\n",
    "<input type=\"submit\" value=\"Enviar\">\n",
    "</form>\n",
    "</body>\n",
    "</html> \n",
    "```"
   ]
  },
  {
   "cell_type": "markdown",
   "id": "1400e406",
   "metadata": {},
   "source": [
    "##### button\n",
    "\n",
    "El elemento button es un control visual que se puede utilizar para realizar acciones. Entre otras las ventanjas de este elemento es que podemos agregar imágenes dentro del botón.\n"
   ]
  },
  {
   "cell_type": "code",
   "execution_count": null,
   "id": "e8a48adb",
   "metadata": {},
   "outputs": [],
   "source": [
    "```\n",
    "<html>\n",
    "<head>\n",
    "<title>Prueba de formulario</title>\n",
    "</head>\n",
    "<body>\n",
    " <button type=\"submit\" value=\"Submit\">Enviar</button>\n",
    "</body>\n",
    "</html>\n",
    "```"
   ]
  },
  {
   "cell_type": "markdown",
   "id": "1ce2be97",
   "metadata": {},
   "source": [
    "##### submit\n",
    "\n",
    "El elemento submit envía los datos del formulario al programa definido por el atributo action."
   ]
  },
  {
   "cell_type": "markdown",
   "id": "d9ff274c",
   "metadata": {},
   "source": [
    "```\n",
    "<html>\n",
    "<head>\n",
    "<title>Prueba de formulario</title>\n",
    "</head>\n",
    "<body>\n",
    "<form method=\"post\" action=\"/entrada\">\n",
    "Ingrese su nombre:\n",
    "<input type=\"text\" name=\"nombre\" size=\"20\">\n",
    "<br>\n",
    "<input type=\"submit\" value=\"enviar\">\n",
    "</form>\n",
    "</body>\n",
    "</html>\n",
    "```"
   ]
  },
  {
   "cell_type": "markdown",
   "id": "2f6557b1",
   "metadata": {},
   "source": [
    "#### Ejemplo de uso input en html\n",
    "\n",
    "En este programa se controla un servomotor utilizando una pagina web. Se modificara el programa anterior. Se utilizaran cuatros archivos\n",
    "- actuador.hpp: archivo donde se encuentran las funciones que configuran y controlan al servomotor\n",
    "- wifi.hpp: Configura y realiza la conexion con intenet a trvez de la red wifi\n",
    "\n",
    "Agregando una nueva libreria que se denominara actuador.hpp.\n",
    "\n"
   ]
  },
  {
   "cell_type": "markdown",
   "id": "dc34721a",
   "metadata": {},
   "source": [
    "##### actuador.hpp\n",
    "\n",
    "En esta libreria se configura el servo utilizando el objeto uno y  la funcion iniciarServo que configura el servomotor\n"
   ]
  },
  {
   "cell_type": "markdown",
   "id": "28304c5b",
   "metadata": {},
   "source": [
    "```\n",
    "#include <Servo.h>\n",
    "\n",
    "Servo uno; // objeto uno\n",
    "\n",
    "void iniciarServo()\n",
    "{\n",
    "  pinMode(D1, OUTPUT);\n",
    "  uno.attach(D1);\n",
    "}\n",
    "\n",
    "void moverServo(int angulo)\n",
    "{\n",
    "  uno.write(angulo);\n",
    "    \n",
    "}\n",
    "```\n"
   ]
  },
  {
   "cell_type": "markdown",
   "id": "4e04e509",
   "metadata": {},
   "source": [
    "##### wifi.hpp\n",
    "No se modifica el programa anterior"
   ]
  },
  {
   "cell_type": "code",
   "execution_count": null,
   "id": "e1090a41",
   "metadata": {},
   "outputs": [],
   "source": [
    "\n",
    "\n",
    "```\n",
    "void configuracion_wifi_STA()\n",
    "{\n",
    "  WiFi.begin(ssid, password);\n",
    "  Serial.println(\" \");\n",
    "  Serial.println(\"Conectando\");\n",
    "  while (WiFi.status() != WL_CONNECTED)\n",
    "  {\n",
    "    delay(500);\n",
    "    Serial.print(\".\");\n",
    "  }\n",
    "  Serial.println();\n",
    "  Serial.print(\"Conectado, dirección IP: \");\n",
    "  Serial.println(WiFi.localIP());\n",
    "}\n",
    "\n",
    "```"
   ]
  },
  {
   "cell_type": "markdown",
   "id": "c43d1ed6",
   "metadata": {},
   "source": [
    "#### server.hpp\n",
    "\n",
    "En la libreria se encuentran las funciones que realizan la vinculacion entre la pagina web y los actuadores y sensores\n",
    "las funciones que se encuentran son:\n",
    "\n",
    "- controlRaiz: Carga la pagina cuando alguna persona intenta conectarse a la misma\n",
    "- prender: Enciende el led de la placa\n",
    "- apagar: apaga el led de la placa\n",
    "- controlAngulo: Recibe de la pagina el angulo donde se debe posicionar el servomotor\n",
    "- iniciarServidor: Funcion que ante el pedido que se realiza por la pagina Web distribuye las ordenes en las distintas funciones\n"
   ]
  },
  {
   "cell_type": "markdown",
   "id": "1b02a0bc",
   "metadata": {},
   "source": [
    "```\n",
    "ESP8266WebServer server(80); //Server on port 80\n",
    "\n",
    "void controlRaiz() {\n",
    "  int i;\n",
    "  Serial.println(\"Pagina original \");\n",
    "  String s = Mi_pagina; //Read HTML contents\n",
    "  server.send(200, \"text/html\", s); //Send web page\n",
    "}\n",
    "\n",
    "void prender() {\n",
    "  String s = Mi_pagina; //Read HTML contents\n",
    "  digitalWrite(LED_BUILTIN, LOW);\n",
    "  Serial.println(\"Hola\");\n",
    "  delay(200);\n",
    "  server.send(200, \"text/html\", s); //Send web page\n",
    "}\n",
    "void apagar() {\n",
    "  String s = Mi_pagina; //Read HTML contents\n",
    "  digitalWrite(LED_BUILTIN, HIGH);\n",
    "  Serial.println(\"Chau\");\n",
    "  delay(200);\n",
    "  server.send(200, \"text/html\", s); //Send web page\n",
    "}\n",
    "void controlAngulo() {\n",
    "  String a;\n",
    "  int valor;\n",
    "  a=server.arg(\"angul\");\n",
    "  valor=a.toInt();\n",
    "  uno.write(valor);\n",
    "  Serial.println(server.arg(\"angul\"));\n",
    "  Serial.println(valor);\n",
    "  String s = Mi_pagina; //Read HTML contents\n",
    "  delay(200);\n",
    "  server.send(200, \"text/html\", s); //Send web page\n",
    "}\n",
    "\n",
    "void iniciarServidor()\n",
    "{\n",
    "  server.on(\"/\", controlRaiz);\n",
    "  server.on(\"/angulo\", controlAngulo);\n",
    "  server.on(\"/Prender\", prender); //Rutina mueve el brazo\n",
    "  server.on(\"/Apagar\", apagar); //Rutina mueve el brazo\n",
    "  server.begin();\n",
    "}\n",
    "```"
   ]
  },
  {
   "cell_type": "markdown",
   "id": "f4ff823b",
   "metadata": {},
   "source": [
    "#### config.h\n",
    "\n",
    "En este archivo de encabezado se encuentra:\n",
    "- El nombre de la red wifi ssid\n",
    "- La clave de la red wifi\n",
    "- La pagina Web que se cargara en la memoria de programa"
   ]
  },
  {
   "cell_type": "markdown",
   "id": "fca3568c",
   "metadata": {},
   "source": [
    "``` \n",
    "const char Mi_pagina[] PROGMEM = R\"=====(\n",
    "<!DOCTYPE html>  <html> \n",
    "<head><meta name=\\\"viewport\\\" content=\\\"width=device-width, initial-scale=1.0, user-scalable=no\\\">\n",
    "<title>CONTROL DE LED</title>\n",
    "</head>\n",
    "\n",
    "<body>  \n",
    "<h1>Led </h1><br>\n",
    "<center>\n",
    "<a href=\"/Prender\" class=\"button\">Prender</a></td>\n",
    "<a href=\"/Apagar\" class=\"button\">Apagar</a></td>\n",
    "<hr>\n",
    "</center>\n",
    "<form method=\"post\" action=\"/angulo\">\n",
    "Angulo:\n",
    "<input type=\"text\" name=\"angul\" size=\"20\">\n",
    "\n",
    "<input type=\"submit\" value=\"enviar\">\n",
    "</form>\n",
    "<hr>\n",
    "</body>\n",
    "</html>\n",
    ")=====\";\n",
    "\n",
    "const char* ssid=\"######\";\n",
    "const char* password=\"******\";\n",
    "```"
   ]
  },
  {
   "cell_type": "markdown",
   "id": "5ba0dd4d",
   "metadata": {},
   "source": [
    "#### Archivo principal\n",
    "\n",
    "En el archivo principal se encuentra los llamados a las distintas librerias que se utilizan en el programa. Se inicializa los distintos dispositivos"
   ]
  },
  {
   "cell_type": "code",
   "execution_count": null,
   "id": "6ca8ad38",
   "metadata": {},
   "outputs": [],
   "source": []
  },
  {
   "cell_type": "markdown",
   "id": "bb96a4d7",
   "metadata": {},
   "source": [
    "```\n",
    "#include <ESP8266WiFi.h>  \n",
    "#include <ESP8266WebServer.h>\n",
    "#include \"config.h\"\n",
    "#include \"actuador.hpp\"\n",
    "#include \"WIFI.hpp\"\n",
    "#include \"server.hpp\"\n",
    "\n",
    "void setup()  \n",
    "{   \n",
    "Serial.begin(115200);  \n",
    "pinMode(LED_BUILTIN,OUTPUT);\n",
    "Serial.println(\"Hola\");\n",
    "iniciarServo();  \n",
    "configuracion_wifi_STA();  \n",
    "iniciar_servidor();\n",
    "}  \n",
    "\n",
    "void loop() {\n",
    "  server.handleClient();\n",
    "  }\n",
    "  ```"
   ]
  }
 ],
 "metadata": {
  "kernelspec": {
   "display_name": "Python 3",
   "language": "python",
   "name": "python3"
  },
  "language_info": {
   "codemirror_mode": {
    "name": "ipython",
    "version": 3
   },
   "file_extension": ".py",
   "mimetype": "text/x-python",
   "name": "python",
   "nbconvert_exporter": "python",
   "pygments_lexer": "ipython3",
   "version": "3.8.8"
  }
 },
 "nbformat": 4,
 "nbformat_minor": 5
}
